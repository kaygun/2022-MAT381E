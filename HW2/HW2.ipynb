{
 "cells": [
  {
   "cell_type": "markdown",
   "id": "5089791f",
   "metadata": {},
   "source": [
    "# HW2\n",
    "\n",
    "## Question #1\n",
    "\n",
    "For this question, we are going to use a data set of [the top grossing movies between 2007 and 2011](https://gist.githubusercontent.com/tiangechen/b68782efa49a16edaf07dc2cdaa855ea/raw/0c794a9717f18b094eabab2cd6a6b9a226903577/movies.csv).\n",
    "\n",
    "1. Ingest the data as a pandas data frame.\n",
    "\n",
    "2. Inspect the data and explain what it contains.\n",
    "\n",
    "3. Count how many top grossing movies each studio made between 2007 and 2011, and visualize it as a bar chart.\n",
    "\n",
    "4. Convert your bar chart above into a pie chart.\n",
    "\n",
    "5. Make a cross-tabulation of Genres against the Year, and observe that the data contains errors. Correct the errors using 'replace' method then cross-tabulate again.\n",
    "\n",
    "6. Draw a 'heat-map' of the corrected cross-tabulation you got above."
   ]
  },
  {
   "cell_type": "code",
   "execution_count": null,
   "id": "64b102ee",
   "metadata": {},
   "outputs": [],
   "source": []
  },
  {
   "cell_type": "markdown",
   "id": "910a0192",
   "metadata": {},
   "source": [
    "## Question #2\n",
    "\n",
    "For this question, we are going to use the [Open Flight Data](https://openflights.org/data.html#route).\n",
    "\n",
    "1. Find the link for the data from the link I gave above. Ingest it as a pandas data frame.\n",
    "\n",
    "2. Inspect it and explain what it contains.\n",
    "\n",
    "3. Construct a data frame that contains 3 columns: source airport, target airport and the number of flights from source to target.\n",
    "\n",
    "4. Filter the data frame and select only the routes that has 10 or more flights between them.\n",
    "\n",
    "5. Construct a network using the `networkx` library that I used in our last lecture using the data frame you constructed in the previous step.\n",
    "\n",
    "6. Visualize the network."
   ]
  },
  {
   "cell_type": "code",
   "execution_count": null,
   "id": "d6e61d3e",
   "metadata": {},
   "outputs": [],
   "source": []
  },
  {
   "cell_type": "markdown",
   "id": "fc902ab6",
   "metadata": {},
   "source": [
    "## Question #3\n",
    "\n",
    "For this question we are going to use the [NBA Data](https://sports-statistics.com/sports-data/nba-basketball-datasets-csv-files/) that I have shown you in our last lecture.\n",
    "\n",
    "1. Ingest the 2019 data as a pandas data frame.\n",
    "\n",
    "2. Inspect it and explain what it contains.\n",
    "\n",
    "3. Write a function that takes two arguments: the NBA data frame and a 'game type' argument which can be 'regular' or 'playoff'. The function must return another pandas data frame of list of players, the number of asists, blocks and rebounds for each player. Evaluate your function on both regular games, and then on playoff games.\n",
    "\n",
    "4. Write another function that takes two argumentas as before: the NBA data frame and the game type. The function must return the list of teams and the number of wins during the regular season or the play offs as a data frame. Visualize the returned data frame as a bar chart for both regular games, and then on playoff games."
   ]
  },
  {
   "cell_type": "code",
   "execution_count": null,
   "id": "cedc0e9e",
   "metadata": {},
   "outputs": [],
   "source": []
  }
 ],
 "metadata": {
  "kernelspec": {
   "display_name": "Python 3 (ipykernel)",
   "language": "python",
   "name": "python3"
  },
  "language_info": {
   "codemirror_mode": {
    "name": "ipython",
    "version": 3
   },
   "file_extension": ".py",
   "mimetype": "text/x-python",
   "name": "python",
   "nbconvert_exporter": "python",
   "pygments_lexer": "ipython3",
   "version": "3.10.3"
  }
 },
 "nbformat": 4,
 "nbformat_minor": 5
}
