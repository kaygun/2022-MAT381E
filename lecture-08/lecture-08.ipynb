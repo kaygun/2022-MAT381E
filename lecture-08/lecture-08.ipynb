{
 "cells": [
  {
   "cell_type": "code",
   "execution_count": 1,
   "id": "d08eef04",
   "metadata": {},
   "outputs": [],
   "source": [
    "import numpy as np\n",
    "import pandas as pd\n",
    "import requests\n",
    "import regex as re\n",
    "\n",
    "from nltk.corpus import stopwords\n",
    "from xmltodict import parse\n",
    "from bs4 import BeautifulSoup\n",
    "\n",
    "from sklearn.feature_extraction.text import CountVectorizer\n",
    "from sklearn.decomposition import PCA"
   ]
  },
  {
   "cell_type": "markdown",
   "id": "80799f9d",
   "metadata": {},
   "source": [
    "# Working with Unstructured Data (Part II)\n",
    "\n",
    "## Working with text: Automatic Summarization\n",
    "\n",
    "Today, I am going to show you how to work with text. The particular problem I am going to work on is [*summarization*](https://en.wikipedia.org/wiki/Automatic_summarization).\n",
    "\n",
    "For this task, we need texts of moderate size: not too long, or not too short. News articles are perfect for this purpose. I am going to use several sources. \n",
    "\n",
    "* For English texts I am going to use the [Guardian Newspaper](https://www.theguardian.com/international),\n",
    "* For Turkish texts I am going to use [Milliyet](https://www.milliyet.com.tr/)\n",
    "* For French texts I am going to use [Le Monde](https://www.lemonde.fr/)\n",
    "\n",
    "We are going to pull articles on a specific subject using a service called [RSS Feed](https://en.wikipedia.org/wiki/RSS). Each of these newspapers have their own RSS feeds.\n",
    "\n",
    "## Web Scraping\n",
    "\n",
    "\n",
    "### RSS Feeds\n",
    "\n",
    "Let us start with the Guardian: Guardian's RSS feed has a [predictable pattern](https://www.theguardian.com/help/feeds). For example here are some interesting subjects:\n",
    "\n",
    "1. Economy: https://www.theguardian.com/economy/rss\n",
    "2. Technology: https://www.theguardian.com/technology/rss\n",
    "3. Film: https://www.theguardian.com/film/rss\n",
    "4. NBA: https://www.theguardian.com/sport/nba/rss\n",
    "5. Fashion: https://www.theguardian.com/fashion/rss\n",
    "\n",
    "Each RSS feed is an XML file. We are going to parse it and extract the bits we are interested in:"
   ]
  },
  {
   "cell_type": "code",
   "execution_count": 2,
   "id": "40e813ca",
   "metadata": {},
   "outputs": [],
   "source": [
    "with requests.get('https://www.theguardian.com/film/rss') as link:\n",
    "    raw = parse(link.text)"
   ]
  },
  {
   "cell_type": "markdown",
   "id": "77cf17a2",
   "metadata": {},
   "source": [
    "I am going to write a function that retrieves the important part of an RSS feed from Guardian:"
   ]
  },
  {
   "cell_type": "code",
   "execution_count": 3,
   "id": "eb39c61e",
   "metadata": {
    "scrolled": true
   },
   "outputs": [],
   "source": [
    "nal = raw['rss']['channel']['item']"
   ]
  },
  {
   "cell_type": "markdown",
   "id": "a644a66f",
   "metadata": {},
   "source": [
    "Now that we can list news articles from a specific subject, let us look at one:\n"
   ]
  },
  {
   "cell_type": "code",
   "execution_count": 4,
   "id": "75ec456b",
   "metadata": {
    "scrolled": true
   },
   "outputs": [],
   "source": [
    "def getSubjectGuardian(subject):\n",
    "    with requests.get(f'https://www.theguardian.com/{subject}/rss') as link:\n",
    "        raw = parse(link.text)\n",
    "    return raw['rss']['channel']['item']"
   ]
  },
  {
   "cell_type": "code",
   "execution_count": 5,
   "id": "e3c10f11",
   "metadata": {},
   "outputs": [],
   "source": [
    "nba = getSubjectGuardian('sport/nba')\n",
    "film = getSubjectGuardian('film')\n",
    "fashion = getSubjectGuardian('fashion')"
   ]
  },
  {
   "cell_type": "markdown",
   "id": "7c198008",
   "metadata": {},
   "source": [
    "### Text Scraping and Beautiful Soup\n",
    "\n",
    "The page is written in the markup language [HTML](https://en.wikipedia.org/wiki/HTML) which is a specific form of XML even though HTML is older than XML. In order to parse HTML files to extract the bits we are interested in we are going to use a [text scraper](https://en.wikipedia.org/wiki/Data_scraping) called [Beautiful Soup](https://www.crummy.com/software/BeautifulSoup/bs4/doc/)."
   ]
  },
  {
   "cell_type": "code",
   "execution_count": 6,
   "id": "666f5fa1",
   "metadata": {
    "scrolled": true
   },
   "outputs": [
    {
     "data": {
      "text/plain": [
       "'https://www.theguardian.com/sport/2022/apr/07/lebron-james-lakers-nba-basketball'"
      ]
     },
     "execution_count": 6,
     "metadata": {},
     "output_type": "execute_result"
    }
   ],
   "source": [
    "nba[0]['link']"
   ]
  },
  {
   "cell_type": "markdown",
   "id": "cbde59af",
   "metadata": {},
   "source": [
    "In an HTML document, paragraphs are put between '&lt;p&gt;' and '&lt;/p&gt;'. So, we are going to find and extract those bits only."
   ]
  },
  {
   "cell_type": "code",
   "execution_count": 7,
   "id": "39c6d94d",
   "metadata": {
    "scrolled": true
   },
   "outputs": [
    {
     "name": "stdout",
     "output_type": "stream",
     "text": [
      "<!DOCTYPE html>\n",
      "\n",
      "<html false=\"\" lang=\"en\">\n",
      "<head>\n",
      "<!--\n",
      "\n",
      "We are hiring, ever thought about joining us?\n",
      "https://workforus.theguardian.com/careers/product-engineering/\n",
      "\n",
      "\n",
      "                                    GGGGGGGGG\n",
      "                           GGGGGGGGGGGGGGGGGGGGGGGGGG\n",
      "                       GGGGGGGGGGGGGGGGGGGGGGGGGGGGGGGGGGG\n",
      "                    GGGGGGGGGGGGGGGGG      GG   GGGGGGGGGGGGG\n",
      "                  GGGGGGGGGGGG        GGGGGGGGG      GGGGGGGGGG\n",
      "                GGGGGGGGGGG         GGGGGGGGGGGGG       GGGGGGGGG\n",
      "              GGGGGGGGGG          GGGGGGGGGGGGGGGGG     GGGGGGGGGGG\n",
      "             GGGGGGGGG           GGGGGGGGGGGGGGGGGGG    GGGGGGGGGGGG\n",
      "            GGGGGGGGG           GGGGGGGGGGGGGGGGGGGGGG  GGGGGGGGGGGGG\n",
      "           GGGGGGGGG            GGGGGGGGGGGGGGGGGGGGGGGGGGGGGGGGGGGGGG\n",
      "           GGGGGGGG             GGGGGGGGGGGGGGGGGGGGGGGGGGGGGGGGGGGGGG\n",
      "          GGGGGGGG              GGGGGGGGGGGGGGGGGGGGGGGGGGGGGGGGGGGGGGG\n",
      "          GGGGGGGG              GGGGGGGGGGGGGGGGGGGGGGGGGGGGGGGGGGGGGGG\n",
      "          GGGGGGGG              GGGGGGGGGGGG              GGGGGGGGGGGGG\n",
      "           GGGGGGG              GGGGGGGGGGGGG           GGGGGGGGGGGGGG\n",
      "           GGGGGGGG             GGGGGGGGGGGGG           GGGGGGGGGGGGGG\n",
      "            GGGGGGGG            GGGGGGGGGGGGG           GGGGGGGGGGGGG\n",
      "             GGGGGGGG            GGGGGGGGGGGG           GGGGGGGGGGGG\n",
      "              GGGGGGGGG           GGGGGGGGGGG           GGGGGGGGGGG\n",
      "                GGGGGGGGGG         GGGGGGGGGG           GGGGGGGGG\n",
      "                  GGGGGGGGGGG        GGGGGGGG        GGGGGGGGGG\n",
      "                    GGGGGGGGGGGGGG      GGGGG  GGGGGGGGGGGGGG\n",
      "                       GGGGGGGGGGGGGGGGGGGGGGGGGGGGGGGGGGG\n",
      "                            GGGGGGGGGGGGGGGGGGGGGGGGG\n",
      "                                    GGGGGGGGG\n",
      "\n",
      "\n",
      "         GGGGG    GGG     GGG\n",
      "        G     G  G   G   G   G     G   G  GGGGGG    GG    GGGGG    GGGG\n",
      "              G G     G G     G     G G   G        G  G   G    G  G\n",
      "         GGGGG  G     G G     G      G    GGGGG   G    G  G    G   GGGG\n",
      "        G       G     G G     G      G    G       GGGGGG  GGGGG        G\n",
      "        G        G   G   G   G       G    G       G    G  G   G   G    G\n",
      "        GGGGGGG   GGG     GGG        G    GGGGGG  G    G  G    G   GGGG\n",
      "\n",
      "--->\n",
      "<title>LeBron James owns plenty of blame in his personal annus horribilis | LeBron James | The Guardian</title>\n",
      "<meta content=\"The Los Angeles Lakers’ season is effectively over and their shadow general manager has played his part in their downfall\" name=\"description\"/>\n",
      "<meta charset=\"utf-8\"/>\n",
      "<meta content=\"width=device-width,minimum-scale=1,initial-scale=1\" name=\"viewport\"/>\n",
      "<meta content=\"#052962\" name=\"theme-color\">\n",
      "<link href=\"https://static.guim.co.uk/images/favicon-32x32.ico\" rel=\"icon\"/>\n",
      "<link href=\"https://assets.guim.co.uk/\" rel=\"preconnect\"/>\n",
      "<link href=\"https://i.guim.co.uk\" rel=\"preconnect\"/>\n",
      "<link href=\"https://j.ophan.co.uk\" rel=\"preconnect\"/>\n",
      "<link href=\"https://ophan.theguardian.com\" rel=\"preconnect\"/>\n",
      "<link href=\"https://sourcepoint.theguardian.com\" rel=\"preconnect\"/>\n",
      "<link href=\"https://assets.guim.co.uk/\" rel=\"dns-prefetch\"/>\n",
      "<link href=\"https://i.guim.co.uk\" rel=\"dns-prefetch\"/>\n",
      "<link href=\"https://j.ophan.co.uk\" rel=\"dns-prefetch\"/>\n",
      "<link href=\"https://ophan.theguardian.com\" rel=\"dns-prefetch\"/>\n",
      "<link href=\"https://api.nextgen.guardianapps.co.uk\" rel=\"dns-prefetch\"/>\n",
      "<link href=\"https://hits-secure.theguardian.com\" rel=\"dns-prefetch\"/>\n",
      "<link href=\"https://interactive.guim.co.uk\" rel=\"dns-prefetch\"/>\n",
      "<link href=\"https://phar.gu-web.net\" rel=\"dns-prefetch\"/>\n",
      "<link href=\"https://static.theguardian.com\" rel=\"dns-prefetch\"/>\n",
      "<link href=\"https://support.theguardian.com\" rel=\"dns-prefetch\"/>\n",
      "<script type=\"application/ld+json\">\n",
      "                    [{\"@type\":\"NewsArticle\",\"@context\":\"https://schema.org\",\"@id\":\"https://amp.theguardian.com/sport/2022/apr/07/lebron-james-lakers-nba-basketball\",\"publisher\":{\"@type\":\"Organization\",\"@context\":\"https://schema.org\",\"@id\":\"https://www.theguardian.com#publisher\",\"name\":\"The Guardian\",\"url\":\"https://www.theguardian.com/\",\"logo\":{\"@type\":\"ImageObject\",\"url\":\"https://uploads.guim.co.uk/2018/01/31/TheGuardian_AMP.png\",\"width\":190,\"height\":60},\"sameAs\":[\"https://www.facebook.com/theguardian\",\"https://twitter.com/guardian\",\"https://www.youtube.com/user/TheGuardian\"]},\"isAccessibleForFree\":true,\"isPartOf\":{\"@type\":[\"CreativeWork\",\"Product\"],\"name\":\"The Guardian\",\"productID\":\"theguardian.com:basic\"},\"image\":[\"https://i.guim.co.uk/img/media/6bb6e131d7afcec287e6ab1b080ce3616064175c/0_118_4310_2587/master/4310.jpg?width=1200&height=630&quality=85&auto=format&fit=crop&overlay-align=bottom%2Cleft&overlay-width=100p&overlay-base64=L2ltZy9zdGF0aWMvb3ZlcmxheXMvdGctZGVmYXVsdC5wbmc&enable=upscale&s=3ed541af9fab55f9a63f1bfc6138ac81\",\"https://i.guim.co.uk/img/media/6bb6e131d7afcec287e6ab1b080ce3616064175c/0_118_4310_2587/master/4310.jpg?width=1200&height=1200&quality=85&auto=format&fit=crop&s=741aaa9d7b6ec3158f580d85e83e3eb6\",\"https://i.guim.co.uk/img/media/6bb6e131d7afcec287e6ab1b080ce3616064175c/0_118_4310_2587/master/4310.jpg?width=1200&height=900&quality=85&auto=format&fit=crop&s=578d16d26d8e3a944b2e322ec3c8b573\",\"https://i.guim.co.uk/img/media/6bb6e131d7afcec287e6ab1b080ce3616064175c/0_118_4310_2587/master/4310.jpg?width=1200&quality=85&auto=format&fit=max&s=8ecd25bf2d90a56c2c007e8e17f713d1\"],\"author\":[{\"@type\":\"Person\",\"name\":\"Andrew Lawrence\",\"sameAs\":\"https://www.theguardian.com/profile/andrew-lawrence\"}],\"datePublished\":\"2022-04-07T08:00:07.000Z\",\"headline\":\"LeBron James owns plenty of blame in his personal annus horribilis\",\"dateModified\":\"2022-04-07T08:51:19.000Z\",\"mainEntityOfPage\":\"https://www.theguardian.com/sport/2022/apr/07/lebron-james-lakers-nba-basketball\"},{\"@type\":\"WebPage\",\"@context\":\"https://schema.org\",\"@id\":\"https://www.theguardian.com/sport/2022/apr/07/lebron-james-lakers-nba-basketball\",\"potentialAction\":{\"@type\":\"ViewAction\",\"target\":\"android-app://com.guardian/https/www.theguardian.com/sport/2022/apr/07/lebron-james-lakers-nba-basketball\"}}]\n",
      "                </script>\n",
      "<!-- TODO make this conditional when we support more content types -->\n",
      "<link href=\"https://amp.theguardian.com/sport/2022/apr/07/lebron-james-lakers-nba-basketball\" rel=\"amphtml\"/>\n",
      "<link as=\"font\" crossorigin=\"\" href=\"https://assets.guim.co.uk/static/frontend/fonts/guardian-headline/noalts-not-hinted/GHGuardianHeadline-Medium.woff2\" rel=\"preload\"/>\n",
      "<link as=\"font\" crossorigin=\"\" href=\"https://assets.guim.co.uk/static/frontend/fonts/guardian-headline/noalts-not-hinted/GHGuardianHeadline-MediumItalic.woff2\" rel=\"preload\"/>\n",
      "<link as=\"font\" crossorigin=\"\" href=\"https://assets.guim.co.uk/static/frontend/fonts/guardian-headline/noalts-not-hinted/GHGuardianHeadline-Bold.woff2\" rel=\"preload\"/>\n",
      "<link as=\"font\" crossorigin=\"\" href=\"https://assets.guim.co.uk/static/frontend/fonts/guardian-textegyptian/noalts-not-hinted/GuardianTextEgyptian-Regular.woff2\" rel=\"preload\"/>\n",
      "<link as=\"font\" crossorigin=\"\" href=\"https://assets.guim.co.uk/static/frontend/fonts/guardian-textegyptian/noalts-not-hinted/GuardianTextEgyptian-Bold.woff2\" rel=\"preload\"/>\n",
      "<link as=\"font\" crossorigin=\"\" href=\"https://assets.guim.co.uk/static/frontend/fonts/guardian-textsans/noalts-not-hinted/GuardianTextSans-Regular.woff2\" rel=\"preload\"/>\n",
      "<link as=\"font\" crossorigin=\"\" href=\"https://assets.guim.co.uk/static/frontend/fonts/guardian-textsans/noalts-not-hinted/GuardianTextSans-Bold.woff2\" rel=\"preload\"/>\n",
      "<meta content=\"https://www.theguardian.com/sport/2022/apr/07/lebron-james-lakers-nba-basketball\" property=\"og:url\">\n",
      "<meta content=\"https://www.theguardian.com/profile/andrew-lawrence\" property=\"article:author\"/>\n",
      "<meta content=\"720\" property=\"og:image:height\"/>\n",
      "<meta content=\"The Los Angeles Lakers’ season is effectively over and their shadow general manager has played his part in their downfall\" property=\"og:description\"/>\n",
      "<meta content=\"1200\" property=\"og:image:width\"/>\n",
      "<meta content=\"https://i.guim.co.uk/img/media/6bb6e131d7afcec287e6ab1b080ce3616064175c/0_118_4310_2587/master/4310.jpg?width=1200&amp;height=630&amp;quality=85&amp;auto=format&amp;fit=crop&amp;overlay-align=bottom%2Cleft&amp;overlay-width=100p&amp;overlay-base64=L2ltZy9zdGF0aWMvb3ZlcmxheXMvdGctZGVmYXVsdC5wbmc&amp;enable=upscale&amp;s=3ed541af9fab55f9a63f1bfc6138ac81\" property=\"og:image\"/>\n",
      "<meta content=\"gnmguardian://sport/2022/apr/07/lebron-james-lakers-nba-basketball?contenttype=Article&amp;source=applinks\" property=\"al:ios:url\"/>\n",
      "<meta content=\"https://www.facebook.com/theguardian\" property=\"article:publisher\"/>\n",
      "<meta content=\"article\" property=\"og:type\"/>\n",
      "<meta content=\"409128287\" property=\"al:ios:app_store_id\"/>\n",
      "<meta content=\"Sport\" property=\"article:section\"/>\n",
      "<meta content=\"2022-04-07T08:00:07.000Z\" property=\"article:published_time\"/>\n",
      "<meta content=\"LeBron James owns plenty of blame in his personal annus horribilis\" property=\"og:title\"/>\n",
      "<meta content=\"180444840287\" property=\"fb:app_id\"/>\n",
      "<meta content=\"LeBron James,Los Angeles Lakers,NBA,Basketball,US sports,Sport\" property=\"article:tag\"/>\n",
      "<meta content=\"The Guardian\" property=\"al:ios:app_name\"/>\n",
      "<meta content=\"the Guardian\" property=\"og:site_name\"/>\n",
      "<meta content=\"2022-04-07T08:51:19.000Z\" property=\"article:modified_time\"/>\n",
      "<meta content=\"on\" name=\"twitter:dnt\"/>\n",
      "<meta content=\"409128287\" name=\"twitter:app:id:iphone\">\n",
      "<meta content=\"The Guardian\" name=\"twitter:app:name:googleplay\"/>\n",
      "<meta content=\"The Guardian\" name=\"twitter:app:name:ipad\"/>\n",
      "<meta content=\"https://i.guim.co.uk/img/media/6bb6e131d7afcec287e6ab1b080ce3616064175c/0_118_4310_2587/master/4310.jpg?width=1200&amp;height=630&amp;quality=85&amp;auto=format&amp;fit=crop&amp;overlay-align=bottom%2Cleft&amp;overlay-width=100p&amp;overlay-base64=L2ltZy9zdGF0aWMvb3ZlcmxheXMvdGctZGVmYXVsdC5wbmc&amp;s=abe9a8a7ee514fee7727ac65ecc7215a\" name=\"twitter:image\"/>\n",
      "<meta content=\"@guardian\" name=\"twitter:site\"/>\n",
      "<meta content=\"gnmguardian://sport/2022/apr/07/lebron-james-lakers-nba-basketball?contenttype=Article&amp;source=twitter\" name=\"twitter:app:url:ipad\"/>\n",
      "<meta content=\"summary_large_image\" name=\"twitter:card\"/>\n",
      "<meta content=\"The Guardian\" name=\"twitter:app:name:iphone\"/>\n",
      "<meta content=\"@by_drew\" name=\"twitter:creator\"/>\n",
      "<meta content=\"409128287\" name=\"twitter:app:id:ipad\"/>\n",
      "<meta content=\"com.guardian\" name=\"twitter:app:id:googleplay\"/>\n",
      "<meta content=\"guardian://www.theguardian.com/sport/2022/apr/07/lebron-james-lakers-nba-basketball\" name=\"twitter:app:url:googleplay\"/>\n",
      "<meta content=\"gnmguardian://sport/2022/apr/07/lebron-james-lakers-nba-basketball?contenttype=Article&amp;source=twitter\" name=\"twitter:app:url:iphone\"/>\n",
      "<!--  This tag enables pages to be featured in Google Discover as large previews\n",
      "                    See: https://developers.google.com/search/docs/advanced/mobile/google-discover?hl=en&visit_id=637424198370039526-3805703503&rd=1 -->\n",
      "<meta content=\"max-image-preview:large\" name=\"robots\"/>\n",
      "<script>\n",
      "                    window.guardian = {\"config\":{\"isDotcomRendering\":true,\"isDev\":false,\"stage\":\"PROD\",\"frontendAssetsFullURL\":\"https://assets.guim.co.uk/\",\"page\":{\"avatarApiUrl\":\"https://avatar.theguardian.com\",\"references\":[],\"isProd\":true,\"shortUrlId\":\"/p/y7yx4\",\"switches\":{\"anniversaryHeaderSvg\":true,\"prebidAppnexusUkRow\":true,\"commercialMetrics\":true,\"prebidTrustx\":true,\"scAdFreeBanner\":false,\"prebidPermutiveAudience\":true,\"compareVariantDecision\":false,\"enableSentryReporting\":true,\"lazyLoadContainers\":true,\"adFreeStrictExpiryEnforcement\":false,\"liveblogRendering\":true,\"remarketing\":true,\"fetchNonRefreshableLineItems\":true,\"abCommercialGptLazyLoad\":true,\"registerWithPhone\":false,\"targeting\":true,\"remoteHeader\":true,\"extendedMostPopularFronts\":true,\"slotBodyEnd\":true,\"prebidImproveDigitalSkins\":true,\"emailInlineInFooter\":true,\"showNewPrivacyWordingOnEmailSignupEmbeds\":true,\"facebookTrackingPixel\":true,\"iasAdTargeting\":true,\"extendedMostPopular\":true,\"ampContentAbTesting\":true,\"prebidAnalytics\":true,\"prebidCriteo\":true,\"puzzlesBanner\":true,\"abSpacefinderOkrMegaTest\":true,\"imrWorldwide\":true,\"acast\":true,\"twitterUwt\":true,\"prebidAppnexusInvcode\":true,\"a9HeaderBidding\":true,\"prebidAppnexus\":true,\"enableDiscussionSwitch\":true,\"standaloneCommercialBundle\":true,\"prebidXaxis\":true,\"stickyVideos\":true,\"interactiveFullHeaderSwitch\":true,\"discussionAllPageSize\":true,\"prebidUserSync\":true,\"audioOnwardJourneySwitch\":true,\"mobileStickyPrebid\":true,\"externalVideoEmbeds\":true,\"simpleReach\":true,\"carrotTrafficDriver\":true,\"sentinelLogger\":true,\"geoMostPopular\":true,\"weAreHiring\":true,\"relatedContent\":true,\"thirdPartyEmbedTracking\":true,\"prebidOzone\":true,\"ampAmazon\":true,\"abCommercialLazyLoadMargin\":true,\"prebidAdYouLike\":true,\"mostViewedFronts\":true,\"abSignInGateMainControl\":true,\"ampPrebid\":true,\"googleSearch\":true,\"brazeSwitch\":true,\"consentManagement\":true,\"commercial\":true,\"redplanetForAus\":true,\"prebidSonobi\":true,\"idProfileNavigation\":true,\"confiantAdVerification\":true,\"discussionAllowAnonymousRecommendsSwitch\":false,\"scrollDepth\":true,\"permutive\":true,\"comscore\":true,\"webFonts\":true,\"prebidImproveDigital\":true,\"ophan\":true,\"crosswordSvgThumbnails\":true,\"prebidTriplelift\":true,\"weather\":true,\"commercialOutbrainNewids\":true,\"abSignInGateMainVariant\":true,\"abAdblockAsk\":true,\"prebidPubmatic\":true,\"serverShareCounts\":false,\"autoRefresh\":true,\"enhanceTweets\":true,\"prebidIndexExchange\":true,\"prebidOpenx\":true,\"prebidHeaderBidding\":true,\"idCookieRefresh\":true,\"sharingComments\":true,\"discussionPageSize\":true,\"smartAppBanner\":false,\"boostGaUserTimingFidelity\":false,\"historyTags\":true,\"mobileStickyLeaderboard\":true,\"surveys\":true,\"remoteBanner\":true,\"emailSignupRecaptcha\":true,\"prebidSmart\":true,\"inizio\":true},\"hasYouTubeAtom\":false,\"inBodyInternalLinkCount\":3,\"keywordIds\":\"sport/lebron-james,sport/los-angeles-lakers,sport/nba,sport/basketball,sport/us-sport,sport/sport\",\"blogIds\":\"\",\"sharedAdTargeting\":{\"ct\":\"article\",\"co\":[\"andrew-lawrence\"],\"url\":\"/sport/2022/apr/07/lebron-james-lakers-nba-basketball\",\"su\":[\"0\"],\"edition\":\"int\",\"tn\":[\"features\"],\"p\":\"ng\",\"k\":[\"lebron-james\",\"nba\",\"sport\",\"basketball\",\"us-sport\",\"los-angeles-lakers\"],\"sh\":\"https://www.theguardian.com/p/y7yx4\"},\"beaconUrl\":\"//phar.gu-web.net\",\"campaigns\":[],\"calloutsUrl\":\"https://callouts.code.dev-guardianapis.com/formstack-campaign/submit\",\"requiresMembershipAccess\":false,\"hasMultipleVideosInPage\":false,\"onwardWebSocket\":\"ws://api.nextgen.guardianapps.co.uk/recently-published\",\"a9PublisherId\":\"3722\",\"pbIndexSites\":[{\"bp\":\"D\",\"id\":208218},{\"bp\":\"M\",\"id\":213492},{\"bp\":\"T\",\"id\":215427}],\"toneIds\":\"tone/features\",\"dcrSentryDsn\":\"https://1937ab71c8804b2b8438178dfdd6468f@sentry.io/1377847\",\"idWebAppUrl\":\"https://oauth.theguardian.com\",\"discussionApiUrl\":\"https://discussion.theguardian.com/discussion-api\",\"sentryPublicApiKey\":\"344003a8d11c41d8800fbad8383fdc50\",\"omnitureAccount\":\"guardiangu-network\",\"contributorBio\":\"\",\"pageCode\":\"11313382\",\"pillar\":\"Sport\",\"commercialBundleUrl\":\"https://assets.guim.co.uk/javascripts/commercial/e3224c5dc187bdfee81b/graun.standalone.commercial.js\",\"discussionApiClientHeader\":\"nextgen\",\"membershipUrl\":\"https://membership.theguardian.com\",\"cardStyle\":\"feature\",\"shouldHideReaderRevenue\":false,\"sentryHost\":\"app.getsentry.com/35463\",\"shouldHideAdverts\":false,\"membershipAccess\":\"\",\"isPreview\":false,\"googletagJsUrl\":\"//securepubads.g.doubleclick.net/tag/js/gpt.js\",\"supportUrl\":\"https://support.theguardian.com\",\"hasShowcaseMainElement\":false,\"isColumn\":false,\"isPaidContent\":false,\"sectionName\":\"Sport\",\"mobileAppsAdUnitRoot\":\"beta-guardian-app\",\"dfpAdUnitRoot\":\"theguardian.com\",\"headline\":\"LeBron James owns plenty of blame in his personal annus horribilis\",\"commentable\":true,\"idApiUrl\":\"https://idapi.theguardian.com\",\"showRelatedContent\":true,\"commissioningDesks\":\"us-sport\",\"inBodyExternalLinkCount\":5,\"adUnit\":\"/59666047/theguardian.com/sport/article/ng\",\"stripePublicToken\":\"pk_live_2O6zPMHXNs2AGea4bAmq5R7Z\",\"googleRecaptchaSiteKey\":\"6LdzlmsdAAAAALFH63cBVagSFPuuHXQ9OfpIDdMc\",\"videoDuration\":0,\"stage\":\"PROD\",\"idOAuthUrl\":\"https://oauth.theguardian.com\",\"isSensitive\":false,\"isDev\":false,\"thirdPartyAppsAccount\":\"guardiangu-thirdpartyapps\",\"richLink\":\"\",\"avatarImagesUrl\":\"https://avatar.guim.co.uk\",\"trackingNames\":\"US Sport\",\"fbAppId\":\"180444840287\",\"externalEmbedHost\":\"https://embed.theguardian.com\",\"ajaxUrl\":\"https://api.nextgen.guardianapps.co.uk\",\"keywords\":\"LeBron James,Los Angeles Lakers,NBA,Basketball,US sports,Sport\",\"revisionNumber\":\"DEV\",\"blogs\":\"\",\"section\":\"sport\",\"hasInlineMerchandise\":false,\"locationapiurl\":\"/weatherapi/locations?query=\",\"buildNumber\":\"42697\",\"isPhotoEssay\":false,\"ampIframeUrl\":\"https://assets.guim.co.uk/data/vendor/8aef390c60b12c2d4425870583ed8245/amp-iframe.html\",\"userAttributesApiUrl\":\"https://members-data-api.theguardian.com/user-attributes\",\"isLive\":false,\"publication\":\"theguardian.com\",\"host\":\"https://www.theguardian.com\",\"brazeApiKey\":\"7f28c639-8bda-48ff-a3f6-24345abfc07c\",\"contentType\":\"Article\",\"facebookIaAdUnitRoot\":\"facebook-instant-articles\",\"ophanEmbedJsUrl\":\"//j.ophan.co.uk/ophan.embed\",\"idUrl\":\"https://profile.theguardian.com\",\"thumbnail\":\"https://i.guim.co.uk/img/media/6bb6e131d7afcec287e6ab1b080ce3616064175c/0_118_4310_2587/500.jpg?quality=85&auto=format&fit=max&s=2d2dfeab953ebc4c53fd3436b796b587\",\"isFront\":false,\"wordCount\":917,\"author\":\"Andrew Lawrence\",\"dfpAccountId\":\"59666047\",\"nonKeywordTagIds\":\"type/article,tone/features,profile/andrew-lawrence,tracking/commissioningdesk/us-sport\",\"pageId\":\"sport/2022/apr/07/lebron-james-lakers-nba-basketball\",\"forecastsapiurl\":\"/weatherapi/forecast\",\"assetsPath\":\"https://assets.guim.co.uk/\",\"lightboxImages\":{\"id\":\"sport/2022/apr/07/lebron-james-lakers-nba-basketball\",\"headline\":\"LeBron James owns plenty of blame in his personal annus horribilis\",\"shouldHideAdverts\":false,\"standfirst\":\"<p>The Los Angeles Lakers’ season is effectively over and their shadow general manager has played his part in their downfall</p>\",\"images\":[{\"caption\":\"LeBron James won the title with the Lakers in 2020 but the team has declined since. \",\"credit\":\"Photograph: Chuck Cook/USA Today Sports\",\"displayCredit\":true,\"src\":\"https://i.guim.co.uk/img/media/6bb6e131d7afcec287e6ab1b080ce3616064175c/0_118_4310_2587/master/4310.jpg?width=700&quality=85&auto=format&fit=max&s=8e66b0cc34eea753a69d858703f4b550\",\"srcsets\":\"https://i.guim.co.uk/img/media/6bb6e131d7afcec287e6ab1b080ce3616064175c/0_118_4310_2587/master/4310.jpg?width=1920&quality=85&auto=format&fit=max&s=07c0d18659a675b4431350a49e21201d 1920w, https://i.guim.co.uk/img/media/6bb6e131d7afcec287e6ab1b080ce3616064175c/0_118_4310_2587/master/4310.jpg?width=1225&quality=85&auto=format&fit=max&s=2f5900898ba44b90cf900b5c356c9290 1225w, https://i.guim.co.uk/img/media/6bb6e131d7afcec287e6ab1b080ce3616064175c/0_118_4310_2587/master/4310.jpg?width=1065&quality=85&auto=format&fit=max&s=081fcd580e6856b756209888b1318143 1065w, https://i.guim.co.uk/img/media/6bb6e131d7afcec287e6ab1b080ce3616064175c/0_118_4310_2587/master/4310.jpg?width=965&quality=85&auto=format&fit=max&s=3088b2af06004b08ca78eb85587e69d4 965w, https://i.guim.co.uk/img/media/6bb6e131d7afcec287e6ab1b080ce3616064175c/0_118_4310_2587/master/4310.jpg?width=725&quality=85&auto=format&fit=max&s=2b2cec08d3b263ce6585525f671c1794 725w, https://i.guim.co.uk/img/media/6bb6e131d7afcec287e6ab1b080ce3616064175c/0_118_4310_2587/master/4310.jpg?width=645&quality=85&auto=format&fit=max&s=c66be5058a5f3b3fdac5fdccf56a94bb 645w, https://i.guim.co.uk/img/media/6bb6e131d7afcec287e6ab1b080ce3616064175c/0_118_4310_2587/master/4310.jpg?width=465&quality=85&auto=format&fit=max&s=4e95f4371e87534577b1da3ad66adf2e 465w\",\"sizes\":\"(min-width: 1300px) 1920px, (min-width: 1140px) 1225px, (min-width: 980px) 1065px, (min-width: 740px) 965px, (min-width: 660px) 725px, (min-width: 480px) 645px, 465px\",\"ratio\":1.666022419791264,\"role\":\"None\",\"parentContentId\":\"sport/2022/apr/07/lebron-james-lakers-nba-basketball\",\"id\":\"sport/2022/apr/07/lebron-james-lakers-nba-basketball\"}]},\"isImmersive\":false,\"dfpHost\":\"pubads.g.doubleclick.net\",\"googletagUrl\":\"//securepubads.g.doubleclick.net/tag/js/gpt.js\",\"mmaUrl\":\"https://manage.theguardian.com\",\"abTests\":{\"liveblogRenderingVariant\":\"variant\"},\"shortUrl\":\"https://www.theguardian.com/p/y7yx4\",\"isContent\":true,\"contentId\":\"sport/2022/apr/07/lebron-james-lakers-nba-basketball\",\"edition\":\"INT\",\"discussionFrontendUrl\":\"https://assets.guim.co.uk/discussion/discussion-frontend.preact.iife.strict-sanctions-check-parameter.js\",\"ipsosTag\":\"sport\",\"ophanJsUrl\":\"//j.ophan.co.uk/ophan.ng\",\"productionOffice\":\"Us\",\"tones\":\"Features\",\"plistaPublicApiKey\":\"462925f4f131001fd974bebe\",\"isLiveBlog\":false,\"frontendAssetsFullURL\":\"https://assets.guim.co.uk/\",\"googleSearchId\":\"007466294097402385199:m2ealvuxh1i\",\"allowUserGeneratedContent\":false,\"byline\":\"Andrew Lawrence\",\"authorIds\":\"profile/andrew-lawrence\",\"webPublicationDate\":1649318407000,\"omnitureAmpAccount\":\"guardiangu-thirdpartyapps\",\"isHosted\":false,\"hasPageSkin\":false,\"webTitle\":\"LeBron James owns plenty of blame in his personal annus horribilis\",\"discussionD2Uid\":\"zHoBy6HNKsk\",\"weatherapiurl\":\"/weatherapi/city\",\"googleSearchUrl\":\"//www.google.co.uk/cse/cse.js\",\"optimizeEpicUrl\":\"https://support.theguardian.com/epic/control/index.html\",\"isSplash\":false,\"isNumberedList\":false,\"dcrCouldRender\":true},\"libs\":{\"googletag\":\"//securepubads.g.doubleclick.net/tag/js/gpt.js\"},\"switches\":{\"anniversaryHeaderSvg\":true,\"prebidAppnexusUkRow\":true,\"commercialMetrics\":true,\"prebidTrustx\":true,\"scAdFreeBanner\":false,\"prebidPermutiveAudience\":true,\"compareVariantDecision\":false,\"enableSentryReporting\":true,\"lazyLoadContainers\":true,\"adFreeStrictExpiryEnforcement\":false,\"liveblogRendering\":true,\"remarketing\":true,\"fetchNonRefreshableLineItems\":true,\"abCommercialGptLazyLoad\":true,\"registerWithPhone\":false,\"targeting\":true,\"remoteHeader\":true,\"extendedMostPopularFronts\":true,\"slotBodyEnd\":true,\"prebidImproveDigitalSkins\":true,\"emailInlineInFooter\":true,\"showNewPrivacyWordingOnEmailSignupEmbeds\":true,\"facebookTrackingPixel\":true,\"iasAdTargeting\":true,\"extendedMostPopular\":true,\"ampContentAbTesting\":true,\"prebidAnalytics\":true,\"prebidCriteo\":true,\"puzzlesBanner\":true,\"abSpacefinderOkrMegaTest\":true,\"imrWorldwide\":true,\"acast\":true,\"twitterUwt\":true,\"prebidAppnexusInvcode\":true,\"a9HeaderBidding\":true,\"prebidAppnexus\":true,\"enableDiscussionSwitch\":true,\"standaloneCommercialBundle\":true,\"prebidXaxis\":true,\"stickyVideos\":true,\"interactiveFullHeaderSwitch\":true,\"discussionAllPageSize\":true,\"prebidUserSync\":true,\"audioOnwardJourneySwitch\":true,\"mobileStickyPrebid\":true,\"externalVideoEmbeds\":true,\"simpleReach\":true,\"carrotTrafficDriver\":true,\"sentinelLogger\":true,\"geoMostPopular\":true,\"weAreHiring\":true,\"relatedContent\":true,\"thirdPartyEmbedTracking\":true,\"prebidOzone\":true,\"ampAmazon\":true,\"abCommercialLazyLoadMargin\":true,\"prebidAdYouLike\":true,\"mostViewedFronts\":true,\"abSignInGateMainControl\":true,\"ampPrebid\":true,\"googleSearch\":true,\"brazeSwitch\":true,\"consentManagement\":true,\"commercial\":true,\"redplanetForAus\":true,\"prebidSonobi\":true,\"idProfileNavigation\":true,\"confiantAdVerification\":true,\"discussionAllowAnonymousRecommendsSwitch\":false,\"scrollDepth\":true,\"permutive\":true,\"comscore\":true,\"webFonts\":true,\"prebidImproveDigital\":true,\"ophan\":true,\"crosswordSvgThumbnails\":true,\"prebidTriplelift\":true,\"weather\":true,\"commercialOutbrainNewids\":true,\"abSignInGateMainVariant\":true,\"abAdblockAsk\":true,\"prebidPubmatic\":true,\"serverShareCounts\":false,\"autoRefresh\":true,\"enhanceTweets\":true,\"prebidIndexExchange\":true,\"prebidOpenx\":true,\"prebidHeaderBidding\":true,\"idCookieRefresh\":true,\"sharingComments\":true,\"discussionPageSize\":true,\"smartAppBanner\":false,\"boostGaUserTimingFidelity\":false,\"historyTags\":true,\"mobileStickyLeaderboard\":true,\"surveys\":true,\"remoteBanner\":true,\"emailSignupRecaptcha\":true,\"prebidSmart\":true,\"inizio\":true},\"tests\":{\"liveblogRenderingVariant\":\"variant\"},\"ophan\":{\"pageViewId\":\"\",\"browserId\":\"\"}},\"polyfilled\":false,\"adBlockers\":{\"onDetect\":[]},\"modules\":{\"sentry\":{}},\"GAData\":{\"webTitle\":\"LeBron James owns plenty of blame in his personal annus horribilis\",\"pillar\":\"sport\",\"section\":\"sport\",\"contentType\":\"article\",\"commissioningDesks\":\"ussport\",\"contentId\":\"sport/2022/apr/07/lebron-james-lakers-nba-basketball\",\"authorIds\":\"profile/andrew-lawrence\",\"keywordIds\":\"sport/lebron-james,sport/los-angeles-lakers,sport/nba,sport/basketball,sport/us-sport,sport/sport\",\"toneIds\":\"tone/features\",\"seriesId\":\"\",\"isHosted\":\"false\",\"edition\":\"int\",\"beaconUrl\":\"//phar.gu-web.net\"}};\n",
      "                    window.guardian.queue = []; // Queue for functions to be fired by polyfill.io callback\n",
      "                </script>\n",
      "<script type=\"module\">\n",
      "                    window.guardian.mustardCut = true;\n",
      "                    window.guardian.gaPath = \"https://assets.guim.co.uk/assets/ga.b9fd514fefdc5168e4fa.js\";\n",
      "                </script>\n",
      "<script nomodule=\"\">\n",
      "                    // Browser fails mustard check\n",
      "                    window.guardian.mustardCut = false;\n",
      "                    window.guardian.gaPath = \"https://assets.guim.co.uk/assets/ga.legacy.8dd5208d3c801b7904b2.js\";\n",
      "                </script>\n",
      "<script>\n",
      "                    // Noop monkey patch perf.mark and perf.measure if not supported\n",
      "                    if(window.performance !== undefined && window.performance.mark === undefined) {\n",
      "                        window.performance.mark = function(){};\n",
      "                        window.performance.measure = function(){};\n",
      "                    }\n",
      "                </script>\n",
      "<script>\n",
      "                    // this is a global that's called at the bottom of the pf.io response,\n",
      "                    // once the polyfills have run. This may be useful for debugging.\n",
      "                    // mainly to support browsers that don't support async=false or defer\n",
      "                    function guardianPolyfilled() {\n",
      "                        window.guardian.polyfilled = true;\n",
      "                        if (window.guardian.mustardCut === false) {\n",
      "                            window.guardian.queue.forEach(function(startup) { startup() })\n",
      "                        }\n",
      "                    }\n",
      "\n",
      "                    // We've got contracts to abide by with the Ophan tracker\n",
      "                    // Setting pageViewId here ensures we're not getting race-conditions at all\n",
      "                    window.guardian.config.ophan = {\n",
      "                        // This is duplicated from\n",
      "                        // https://github.com/guardian/ophan/blob/master/tracker-js/assets/coffee/ophan/transmit.coffee\n",
      "                        // Please do not change this without talking to the Ophan project first.\n",
      "                        pageViewId:\n",
      "                            new Date().getTime().toString(36) +\n",
      "                            'xxxxxxxxxxxx'.replace(/x/g, function() {\n",
      "                                return Math.floor(Math.random() * 36).toString(36);\n",
      "                            }),\n",
      "                    };\n",
      "                </script>\n",
      "<script>\n",
      "                    // Set the browserId from the bwid cookie on the ophan object created above\n",
      "                    // This will need to be replaced later with an async request to an endpoint\n",
      "                    (function (window, document) {\n",
      "\n",
      "                        function getCookieValue(name) {\n",
      "                            var nameEq = name + \"=\",\n",
      "                                cookies = document.cookie.split(';'),\n",
      "                                value = null;\n",
      "                            cookies.forEach(function (cookie) {\n",
      "                                while (cookie.charAt(0) === ' ') {\n",
      "                                    cookie = cookie.substring(1, cookie.length);\n",
      "                                }\n",
      "                                if (cookie.indexOf(nameEq) === 0) {\n",
      "                                    value = cookie.substring(nameEq.length, cookie.length);\n",
      "                                }\n",
      "                            });\n",
      "                            return value;\n",
      "                        }\n",
      "\n",
      "                        window.guardian.config.ophan.browserId = getCookieValue(\"bwid\");\n",
      "\n",
      "                    })(window, document);\n",
      "                </script>\n",
      "<script>\n",
      "\t\t\t\t\twindow.curlConfig = {\n",
      "\t\t\t\t\t\tbaseUrl: 'https://assets.guim.co.uk/assets',\n",
      "\t\t\t\t\t\tapiName: 'require'\n",
      "\t\t\t\t\t};\n",
      "\t\t\t\t\twindow.curl = window.curlConfig;\n",
      "\t\t\t\t</script>\n",
      "<noscript>\n",
      "<img src=\"https://sb.scorecardresearch.com/p?c1=2&amp;c2=6035250&amp;cv=2.0&amp;cj=1&amp;cs_ucfr=0&amp;comscorekw=LeBron+James%2CLos+Angeles+Lakers%2CNBA%2CBasketball%2CUS+sports%2CSport\"/>\n",
      "</noscript>\n",
      "<script defer=\"\" src=\"https://assets.guim.co.uk/polyfill.io/v3/polyfill.min.js?rum=0&amp;features=es6,es7,es2017,es2018,es2019,default-3.6,HTMLPictureElement,IntersectionObserver,IntersectionObserverEntry,URLSearchParams,fetch,NodeList.prototype.forEach,navigator.sendBeacon,performance.now,Promise.allSettled&amp;flags=gated&amp;callback=guardianPolyfilled&amp;unknown=polyfill&amp;cacheClear=1\"></script>\n",
      "<script src=\"https://assets.guim.co.uk/assets/bootCmp.f500f36605ba0508510a.js\" type=\"module\"></script>\n",
      "<script defer=\"\" nomodule=\"\" src=\"https://assets.guim.co.uk/assets/bootCmp.legacy.dfd27529e486fd70ec4c.js\"></script>\n",
      "<script src=\"https://assets.guim.co.uk/assets/ophan.075914d4d3d64bb39d16.js\" type=\"module\"></script>\n",
      "<script defer=\"\" nomodule=\"\" src=\"https://assets.guim.co.uk/assets/ophan.legacy.c8df7fd45bd581042d47.js\"></script>\n",
      "<script defer=\"\" src=\"https://assets.guim.co.uk/javascripts/commercial/e3224c5dc187bdfee81b/graun.standalone.commercial.js\"></script>\n",
      "<script src=\"https://assets.guim.co.uk/assets/sentryLoader.f90536488bff5436e5a9.js\" type=\"module\"></script>\n",
      "<script defer=\"\" nomodule=\"\" src=\"https://assets.guim.co.uk/assets/sentryLoader.legacy.d82483be5d2db7019dbf.js\"></script>\n",
      "<script src=\"https://assets.guim.co.uk/assets/dynamicImport.f861d4604ff702fbff02.js\" type=\"module\"></script>\n",
      "<script defer=\"\" nomodule=\"\" src=\"https://assets.guim.co.uk/assets/dynamicImport.legacy.cf7eef02139d0f4b7557.js\"></script>\n",
      "<script src=\"https://assets.guim.co.uk/assets/islands.7a3b50d2b7d807fb436b.js\" type=\"module\"></script>\n",
      "<script defer=\"\" nomodule=\"\" src=\"https://assets.guim.co.uk/assets/islands.legacy.8620b5ca877442af33dd.js\"></script>\n",
      "<style class=\"webfont\"> @font-face { font-family: \"GH Guardian Headline\"; src: url(https://assets.guim.co.uk/static/frontend/fonts/guardian-headline/noalts-not-hinted/GHGuardianHeadline-Light.woff2) format(\"woff2\"), url(https://assets.guim.co.uk/static/frontend/fonts/guardian-headline/latin1-not-hinted/GHGuardianHeadline-Light.woff) format(\"woff\"), url(https://assets.guim.co.uk/static/frontend/fonts/guardian-headline/latin1-not-hinted/GHGuardianHeadline-Light.ttf) format(\"truetype\"); font-weight: 300; font-style: normal; font-display: swap; } @font-face { font-family: \"Guardian Egyptian Web\"; src: url(https://assets.guim.co.uk/static/frontend/fonts/guardian-headline/noalts-not-hinted/GHGuardianHeadline-Light.woff2) format(\"woff2\"), url(https://assets.guim.co.uk/static/frontend/fonts/guardian-headline/latin1-not-hinted/GHGuardianHeadline-Light.woff) format(\"woff\"), url(https://assets.guim.co.uk/static/frontend/fonts/guardian-headline/latin1-not-hinted/GHGuardianHeadline-Light.ttf) format(\"truetype\"); font-weight: 300; font-style: normal; font-display: swap; } @font-face { font-family: \"GH Guardian Headline\"; src: url(https://assets.guim.co.uk/static/frontend/fonts/guardian-headline/noalts-not-hinted/GHGuardianHeadline-LightItalic.woff2) format(\"woff2\"), url(https://assets.guim.co.uk/static/frontend/fonts/guardian-headline/latin1-not-hinted/GHGuardianHeadline-LightItalic.woff) format(\"woff\"), url(https://assets.guim.co.uk/static/frontend/fonts/guardian-headline/latin1-not-hinted/GHGuardianHeadline-LightItalic.ttf) format(\"truetype\"); font-weight: 300; font-style: italic; font-display: swap; } @font-face { font-family: \"Guardian Egyptian Web\"; src: url(https://assets.guim.co.uk/static/frontend/fonts/guardian-headline/noalts-not-hinted/GHGuardianHeadline-LightItalic.woff2) format(\"woff2\"), url(https://assets.guim.co.uk/static/frontend/fonts/guardian-headline/latin1-not-hinted/GHGuardianHeadline-LightItalic.woff) format(\"woff\"), url(https://assets.guim.co.uk/static/frontend/fonts/guardian-headline/latin1-not-hinted/GHGuardianHeadline-LightItalic.ttf) format(\"truetype\"); font-weight: 300; font-style: italic; font-display: swap; } @font-face { font-family: \"GH Guardian Headline\"; src: url(https://assets.guim.co.uk/static/frontend/fonts/guardian-headline/noalts-not-hinted/GHGuardianHeadline-Medium.woff2) format(\"woff2\"), url(https://assets.guim.co.uk/static/frontend/fonts/guardian-headline/noalts-not-hinted/GHGuardianHeadline-Medium.woff) format(\"woff\"), url(https://assets.guim.co.uk/static/frontend/fonts/guardian-headline/latin1-not-hinted/GHGuardianHeadline-Medium.ttf) format(\"truetype\"); font-weight: 500; font-style: normal; font-display: swap; } @font-face { font-family: \"Guardian Egyptian Web\"; src: url(https://assets.guim.co.uk/static/frontend/fonts/guardian-headline/noalts-not-hinted/GHGuardianHeadline-Medium.woff2) format(\"woff2\"), url(https://assets.guim.co.uk/static/frontend/fonts/guardian-headline/noalts-not-hinted/GHGuardianHeadline-Medium.woff) format(\"woff\"), url(https://assets.guim.co.uk/static/frontend/fonts/guardian-headline/latin1-not-hinted/GHGuardianHeadline-Medium.ttf) format(\"truetype\"); font-weight: 500; font-style: normal; font-display: swap; } @font-face { font-family: \"GH Guardian Headline\"; src: url(https://assets.guim.co.uk/static/frontend/fonts/guardian-headline/noalts-not-hinted/GHGuardianHeadline-MediumItalic.woff2) format(\"woff2\"), url(https://assets.guim.co.uk/static/frontend/fonts/guardian-headline/latin1-not-hinted/GHGuardianHeadline-MediumItalic.woff) format(\"woff\"), url(https://assets.guim.co.uk/static/frontend/fonts/guardian-headline/latin1-not-hinted/GHGuardianHeadline-MediumItalic.ttf) format(\"truetype\"); font-weight: 500; font-style: italic; font-display: swap; } @font-face { font-family: \"Guardian Egyptian Web\"; src: url(https://assets.guim.co.uk/static/frontend/fonts/guardian-headline/noalts-not-hinted/GHGuardianHeadline-MediumItalic.woff2) format(\"woff2\"), url(https://assets.guim.co.uk/static/frontend/fonts/guardian-headline/latin1-not-hinted/GHGuardianHeadline-MediumItalic.woff) format(\"woff\"), url(https://assets.guim.co.uk/static/frontend/fonts/guardian-headline/latin1-not-hinted/GHGuardianHeadline-MediumItalic.ttf) format(\"truetype\"); font-weight: 500; font-style: italic; font-display: swap; } @font-face { font-family: \"GH Guardian Headline\"; src: url(https://assets.guim.co.uk/static/frontend/fonts/guardian-headline/noalts-not-hinted/GHGuardianHeadline-Bold.woff2) format(\"woff2\"), url(https://assets.guim.co.uk/static/frontend/fonts/guardian-headline/latin1-not-hinted/GHGuardianHeadline-Bold.woff) format(\"woff\"), url(https://assets.guim.co.uk/static/frontend/fonts/guardian-headline/latin1-not-hinted/GHGuardianHeadline-Bold.ttf) format(\"truetype\"); font-weight: 700; font-style: normal; font-display: swap; } @font-face { font-family: \"Guardian Egyptian Web\"; src: url(https://assets.guim.co.uk/static/frontend/fonts/guardian-headline/noalts-not-hinted/GHGuardianHeadline-Bold.woff2) format(\"woff2\"), url(https://assets.guim.co.uk/static/frontend/fonts/guardian-headline/latin1-not-hinted/GHGuardianHeadline-Bold.woff) format(\"woff\"), url(https://assets.guim.co.uk/static/frontend/fonts/guardian-headline/latin1-not-hinted/GHGuardianHeadline-Bold.ttf) format(\"truetype\"); font-weight: 700; font-style: normal; font-display: swap; } @font-face { font-family: \"GH Guardian Headline\"; src: url(https://assets.guim.co.uk/static/frontend/fonts/guardian-headline/noalts-not-hinted/GHGuardianHeadline-BoldItalic.woff2) format(\"woff2\"), url(https://assets.guim.co.uk/static/frontend/fonts/guardian-headline/latin1-not-hinted/GHGuardianHeadline-BoldItalic.woff) format(\"woff\"), url(https://assets.guim.co.uk/static/frontend/fonts/guardian-headline/latin1-not-hinted/GHGuardianHeadline-BoldItalic.ttf) format(\"truetype\"); font-weight: 700; font-style: italic; font-display: swap; } @font-face { font-family: \"Guardian Egyptian Web\"; src: url(https://assets.guim.co.uk/static/frontend/fonts/guardian-headline/noalts-not-hinted/GHGuardianHeadline-BoldItalic.woff2) format(\"woff2\"), url(https://assets.guim.co.uk/static/frontend/fonts/guardian-headline/latin1-not-hinted/GHGuardianHeadline-BoldItalic.woff) format(\"woff\"), url(https://assets.guim.co.uk/static/frontend/fonts/guardian-headline/latin1-not-hinted/GHGuardianHeadline-BoldItalic.ttf) format(\"truetype\"); font-weight: 700; font-style: italic; font-display: swap; } @font-face { font-family: \"GuardianTextEgyptian\"; src: url(https://assets.guim.co.uk/static/frontend/fonts/guardian-textegyptian/noalts-not-hinted/GuardianTextEgyptian-Regular.woff2) format(\"woff2\"), url(https://assets.guim.co.uk/static/frontend/fonts/guardian-textegyptian/noalts-not-hinted/GuardianTextEgyptian-Regular.woff) format(\"woff\"), url(https://assets.guim.co.uk/static/frontend/fonts/guardian-textegyptian/latin1-not-hinted/GuardianTextEgyptian-Regular.ttf) format(\"truetype\"); font-weight: 400; font-style: normal; font-display: swap; } @font-face { font-family: \"Guardian Text Egyptian Web\"; src: url(https://assets.guim.co.uk/static/frontend/fonts/guardian-textegyptian/noalts-not-hinted/GuardianTextEgyptian-Regular.woff2) format(\"woff2\"), url(https://assets.guim.co.uk/static/frontend/fonts/guardian-textegyptian/noalts-not-hinted/GuardianTextEgyptian-Regular.woff) format(\"woff\"), url(https://assets.guim.co.uk/static/frontend/fonts/guardian-textegyptian/latin1-not-hinted/GuardianTextEgyptian-Regular.ttf) format(\"truetype\"); font-weight: 400; font-style: normal; font-display: swap; } @font-face { font-family: \"GuardianTextEgyptian\"; src: url(https://assets.guim.co.uk/static/frontend/fonts/guardian-textegyptian/noalts-not-hinted/GuardianTextEgyptian-RegularItalic.woff2) format(\"woff2\"), url(https://assets.guim.co.uk/static/frontend/fonts/guardian-textegyptian/latin1-not-hinted/GuardianTextEgyptian-RegularItalic.woff) format(\"woff\"), url(https://assets.guim.co.uk/static/frontend/fonts/guardian-textegyptian/latin1-not-hinted/GuardianTextEgyptian-RegularItalic.ttf) format(\"truetype\"); font-weight: 400; font-style: italic; font-display: swap; } @font-face { font-family: \"Guardian Text Egyptian Web\"; src: url(https://assets.guim.co.uk/static/frontend/fonts/guardian-textegyptian/noalts-not-hinted/GuardianTextEgyptian-RegularItalic.woff2) format(\"woff2\"), url(https://assets.guim.co.uk/static/frontend/fonts/guardian-textegyptian/latin1-not-hinted/GuardianTextEgyptian-RegularItalic.woff) format(\"woff\"), url(https://assets.guim.co.uk/static/frontend/fonts/guardian-textegyptian/latin1-not-hinted/GuardianTextEgyptian-RegularItalic.ttf) format(\"truetype\"); font-weight: 400; font-style: italic; font-display: swap; } @font-face { font-family: \"GuardianTextEgyptian\"; src: url(https://assets.guim.co.uk/static/frontend/fonts/guardian-textegyptian/noalts-not-hinted/GuardianTextEgyptian-Bold.woff2) format(\"woff2\"), url(https://assets.guim.co.uk/static/frontend/fonts/guardian-textegyptian/latin1-not-hinted/GuardianTextEgyptian-Bold.woff) format(\"woff\"), url(https://assets.guim.co.uk/static/frontend/fonts/guardian-textegyptian/latin1-not-hinted/GuardianTextEgyptian-Bold.ttf) format(\"truetype\"); font-weight: 700; font-style: normal; font-display: swap; } @font-face { font-family: \"Guardian Text Egyptian Web\"; src: url(https://assets.guim.co.uk/static/frontend/fonts/guardian-textegyptian/noalts-not-hinted/GuardianTextEgyptian-Bold.woff2) format(\"woff2\"), url(https://assets.guim.co.uk/static/frontend/fonts/guardian-textegyptian/latin1-not-hinted/GuardianTextEgyptian-Bold.woff) format(\"woff\"), url(https://assets.guim.co.uk/static/frontend/fonts/guardian-textegyptian/latin1-not-hinted/GuardianTextEgyptian-Bold.ttf) format(\"truetype\"); font-weight: 700; font-style: normal; font-display: swap; } @font-face { font-family: \"GuardianTextEgyptian\"; src: url(https://assets.guim.co.uk/static/frontend/fonts/guardian-textegyptian/noalts-not-hinted/GuardianTextEgyptian-BoldItalic.woff2) format(\"woff2\"), url(https://assets.guim.co.uk/static/frontend/fonts/guardian-textegyptian/latin1-not-hinted/GuardianTextEgyptian-BoldItalic.woff) format(\"woff\"), url(https://assets.guim.co.uk/static/frontend/fonts/guardian-textegyptian/latin1-not-hinted/GuardianTextEgyptian-BoldItalic.ttf) format(\"truetype\"); font-weight: 700; font-style: italic; font-display: swap; } @font-face { font-family: \"Guardian Text Egyptian Web\"; src: url(https://assets.guim.co.uk/static/frontend/fonts/guardian-textegyptian/noalts-not-hinted/GuardianTextEgyptian-BoldItalic.woff2) format(\"woff2\"), url(https://assets.guim.co.uk/static/frontend/fonts/guardian-textegyptian/latin1-not-hinted/GuardianTextEgyptian-BoldItalic.woff) format(\"woff\"), url(https://assets.guim.co.uk/static/frontend/fonts/guardian-textegyptian/latin1-not-hinted/GuardianTextEgyptian-BoldItalic.ttf) format(\"truetype\"); font-weight: 700; font-style: italic; font-display: swap; } @font-face { font-family: \"GuardianTextSans\"; src: url(https://assets.guim.co.uk/static/frontend/fonts/guardian-textsans/noalts-not-hinted/GuardianTextSans-Regular.woff2) format(\"woff2\"), url(https://assets.guim.co.uk/static/frontend/fonts/guardian-textsans/noalts-not-hinted/GuardianTextSans-Regular.woff) format(\"woff\"), url(https://assets.guim.co.uk/static/frontend/fonts/guardian-textsans/latin1-not-hinted/GuardianTextSans-Regular.ttf) format(\"truetype\"); font-weight: 400; font-style: normal; font-display: swap; } @font-face { font-family: \"Guardian Text Sans Web\"; src: url(https://assets.guim.co.uk/static/frontend/fonts/guardian-textsans/noalts-not-hinted/GuardianTextSans-Regular.woff2) format(\"woff2\"), url(https://assets.guim.co.uk/static/frontend/fonts/guardian-textsans/noalts-not-hinted/GuardianTextSans-Regular.woff) format(\"woff\"), url(https://assets.guim.co.uk/static/frontend/fonts/guardian-textsans/latin1-not-hinted/GuardianTextSans-Regular.ttf) format(\"truetype\"); font-weight: 400; font-style: normal; font-display: swap; } @font-face { font-family: \"GuardianTextSans\"; src: url(https://assets.guim.co.uk/static/frontend/fonts/guardian-textsans/noalts-not-hinted/GuardianTextSans-RegularItalic.woff2) format(\"woff2\"), url(https://assets.guim.co.uk/static/frontend/fonts/guardian-textsans/latin1-not-hinted/GuardianTextSans-RegularItalic.woff) format(\"woff\"), url(https://assets.guim.co.uk/static/frontend/fonts/guardian-textsans/latin1-not-hinted/GuardianTextSans-RegularItalic.ttf) format(\"truetype\"); font-weight: 400; font-style: italic; font-display: swap; } @font-face { font-family: \"Guardian Text Sans Web\"; src: url(https://assets.guim.co.uk/static/frontend/fonts/guardian-textsans/noalts-not-hinted/GuardianTextSans-RegularItalic.woff2) format(\"woff2\"), url(https://assets.guim.co.uk/static/frontend/fonts/guardian-textsans/latin1-not-hinted/GuardianTextSans-RegularItalic.woff) format(\"woff\"), url(https://assets.guim.co.uk/static/frontend/fonts/guardian-textsans/latin1-not-hinted/GuardianTextSans-RegularItalic.ttf) format(\"truetype\"); font-weight: 400; font-style: italic; font-display: swap; } @font-face { font-family: \"GuardianTextSans\"; src: url(https://assets.guim.co.uk/static/frontend/fonts/guardian-textsans/noalts-not-hinted/GuardianTextSans-Bold.woff2) format(\"woff2\"), url(https://assets.guim.co.uk/static/frontend/fonts/guardian-textsans/latin1-not-hinted/GuardianTextSans-Bold.woff) format(\"woff\"), url(https://assets.guim.co.uk/static/frontend/fonts/guardian-textsans/latin1-not-hinted/GuardianTextSans-Bold.ttf) format(\"truetype\"); font-weight: 700; font-style: normal; font-display: swap; } @font-face { font-family: \"Guardian Text Sans Web\"; src: url(https://assets.guim.co.uk/static/frontend/fonts/guardian-textsans/noalts-not-hinted/GuardianTextSans-Bold.woff2) format(\"woff2\"), url(https://assets.guim.co.uk/static/frontend/fonts/guardian-textsans/latin1-not-hinted/GuardianTextSans-Bold.woff) format(\"woff\"), url(https://assets.guim.co.uk/static/frontend/fonts/guardian-textsans/latin1-not-hinted/GuardianTextSans-Bold.ttf) format(\"truetype\"); font-weight: 700; font-style: normal; font-display: swap; } @font-face { font-family: \"GuardianTextSans\"; src: url(https://assets.guim.co.uk/static/frontend/fonts/guardian-textsans/noalts-not-hinted/GuardianTextSans-BoldItalic.woff2) format(\"woff2\"), url(https://assets.guim.co.uk/static/frontend/fonts/guardian-textsans/latin1-not-hinted/GuardianTextSans-BoldItalic.woff) format(\"woff\"), url(https://assets.guim.co.uk/static/frontend/fonts/guardian-textsans/latin1-not-hinted/GuardianTextSans-BoldItalic.ttf) format(\"truetype\"); font-weight: 700; font-style: italic; font-display: swap; } @font-face { font-family: \"Guardian Text Sans Web\"; src: url(https://assets.guim.co.uk/static/frontend/fonts/guardian-textsans/noalts-not-hinted/GuardianTextSans-BoldItalic.woff2) format(\"woff2\"), url(https://assets.guim.co.uk/static/frontend/fonts/guardian-textsans/latin1-not-hinted/GuardianTextSans-BoldItalic.woff) format(\"woff\"), url(https://assets.guim.co.uk/static/frontend/fonts/guardian-textsans/latin1-not-hinted/GuardianTextSans-BoldItalic.ttf) format(\"truetype\"); font-weight: 700; font-style: italic; font-display: swap; }</style>\n",
      "<style>\n",
      "\thtml, body, div, span, applet, object, iframe,\n",
      "\th1, h2, h3, h4, h5, h6, p, blockquote, pre,\n",
      "\ta, abbr, acronym, address, big, cite, code,\n",
      "\tdel, dfn, em, img, ins, kbd, q, s, samp,\n",
      "\tsmall, strike, strong, sub, sup, tt, var,\n",
      "\tb, u, i, center,\n",
      "\tdl, dt, dd, menu, ol, ul, li,\n",
      "\tfieldset, form, label, legend,\n",
      "\ttable, caption, tbody, tfoot, thead, tr, th, td,\n",
      "\tarticle, aside, canvas, details, embed,\n",
      "\tfigure, figcaption, footer, header, hgroup,\n",
      "\tmain, menu, nav, output, ruby, section, summary,\n",
      "\ttime, mark, audio, video {\n",
      "\t\tmargin: 0;\n",
      "\t\tpadding: 0;\n",
      "\t\tborder: 0;\n",
      "\t\tfont-size: 100%;\n",
      "\t\tfont: inherit;\n",
      "\t\tvertical-align: baseline;\n",
      "\t}\n",
      "\t/* HTML5 display-role reset for older browsers */\n",
      "\tarticle, aside, details, figcaption, figure,\n",
      "\tfooter, header, hgroup, main, menu, nav, section {\n",
      "\t\tdisplay: block;\n",
      "\t}\n",
      "\t/* HTML5 hidden-attribute fix for newer browsers */\n",
      "\t*[hidden] {\n",
      "\t\tdisplay: none;\n",
      "\t}\n",
      "\tbody {\n",
      "\t\tline-height: 1;\n",
      "\t}\n",
      "\tmenu, ol, ul {\n",
      "\t\tlist-style: none;\n",
      "\t}\n",
      "\tblockquote, q {\n",
      "\t\tquotes: none;\n",
      "\t}\n",
      "\tblockquote:before, blockquote:after,\n",
      "\tq:before, q:after {\n",
      "\t\tcontent: '';\n",
      "\t\tcontent: none;\n",
      "\t}\n",
      "\ttable {\n",
      "\t\tborder-collapse: collapse;\n",
      "\t\tborder-spacing: 0;\n",
      "\t}\n",
      "\n",
      "\t\n",
      "\t*, *:before, *:after {\n",
      "        box-sizing: border-box;\n",
      "    }\n",
      "    html {\n",
      "        -moz-osx-font-smoothing: grayscale;\n",
      "        -webkit-font-smoothing: antialiased;\n",
      "    }\n",
      "    html, body {\n",
      "        text-rendering: optimizeLegibility;\n",
      "        font-feature-settings: 'kern';\n",
      "        font-kerning: normal; /* Safari 7+, Firefox 24+, Chrome 33(?)+, Opera 21 */\n",
      "        font-variant-ligatures: common-ligatures;\n",
      "    }\n",
      "    body {\n",
      "        background-color: #FFFFFF;\n",
      "        color: #121212;\n",
      "    }\n",
      "    em {\n",
      "        font-style: italic;\n",
      "    }\n",
      "\n",
      "</style>\n",
      "<style data-emotion=\"dcr-global 0\"></style><style data-emotion=\"dcr-global 1ndfqhv\">*:focus{outline:0;}html:not(.src-focus-disabled) *:focus{box-shadow:0 0 0 5px #0093E0;}::selection{background:#FFE500;color:#121212;}</style><style data-emotion=\"dcr-global vtj2xa\">.bz-custom-container~#bannerandheader .top-banner-ad-container{display:none;}</style><style data-emotion=\"dcr 1y2qbjm ln5upl v339xn 1avyp1d 1l675nn l6t30p 1ck1ko5 16cxnld asicg6 il3bi2 1reypk2 1isylhk 1wok5v vjn0wm 1d9bl8d 1r92euj 1a0j9n9 n6o0xh 1ark7u0 1gagq2d 17bh4jj 92oqeo 3f5rmr cc5btv 1u4hpl4 1o9q826 njzsg5 96v916 md0w21 2mdywk l99m16 4c6dm7 um7al3 1sga83g 1ev5v4n pmqe6r 77vf01 1wapjrn 147q94w kzk9sv 1kaq6ux 194r1hi azekzu 1sim4qs 8azhf2 wz1745 1hjkch6 jgypeg xka4se wzbqqq mdwiz6 155wclf 1f5hn1l yc189x 1m18ln3 1scawcd hbarp8 r5o6p0 7lclo4 1ag59f8 1blnjq7 olqzeg 1ubvh8x sqg38i 29mg8u 1wfuz1o 6711t4 upde3g 1yr64jd 18x77xn 1ii239v 1f41bee 1nbntzu 1mc3jf3 jkyl0f 1j389vi 5827gf 1038kzh 1cn4pv6 1ipk5a 1c5ohp hfp9tp 10jdkim 1u8qly9 xpz8pg qpwrb4 17igkm0 7disnw krkkhw 12l0bud 1nupfq9 13a2edo 1olvc81 zjgnrw yddhpt pn0kqp 16n5mgq 13udsys 1b267dg 1989ovb 172h6t9 ho1qnd 1kjku2s 1e2h9sk 1v21d63 1usbar2 nnoipb w6u133 1o781fl ss9mnu sko21e 1aul2ye 1eucl2a fj5ypv 187adts mjksz5 km9fgb 12fpzem 15yir0q 1jafwuq 1n0u3w8 i43ppq 1prk3xc 1ni4us3 1kr2ya4 185kcx9 1t6t995 p5nhr4 ucgxn1 1u6kyh0 1ohfkpt 1jnp7wy 1mfia18 f2ug42 s7oxzu g65o95 noynp9 1d91meq m4qltb 1gqsble 1a318iq dobi02 1k32900 12ae8vg lwa3gj 1r2wmvc 1231g41 s8p16s cv9v52 bd6g3a 1eoy87d 1y49m2s i7y23i 1jksdif 14txwjj 1mmek2x 1l8oq0d 14aht0 9aekbr 1yci3g4 1aa1qlq 16daxq8 ipj0ot 1qun6ii ederz6 12jyb8q 1mxfq91 vnnc58 104s2p4 1445c9p 1e9xw8u 6fomyg 1860pw2 1d1pdjy 1oardpl g273z1 ycuv6y 4024qx 1lxcenw wuq7e5 ie0ig6 5ryswk 1xo8pvr 1jru0vj 125iasz 1f6ribu 3ub84c 104fgyw v7ptng mzjdd0 ts9jvf 1lactnp 17k9rsw 1sla8qk ngfaio 12ln5sl bjnfl9 2h5xwf l6v8wf 1vq2pjs\">.dcr-1y2qbjm{font-family:GuardianTextSans,Guardian Text Sans Web,Helvetica Neue,Helvetica,Arial,Lucida Grande,sans-serif;font-size:1.0625rem;line-height:1.5;font-weight:400;height:40px;top:-40px;line-height:30px;overflow:hidden;padding:0;position:absolute;background:#FFFFFF;display:block;text-align:center;margin:0;-webkit-text-decoration:none;text-decoration:none;color:#000000;}.dcr-1y2qbjm:focus,.dcr-1y2qbjm:active{border:5px solid #0093E0;position:static;}.dcr-1y2qbjm:visited,.dcr-1y2qbjm:active{color:#000000;}.dcr-ln5upl{position:-webkit-sticky;position:sticky;top:0;z-index:13;background-color:white;}.dcr-1l675nn{position:static;}@media (max-width: 739px){.dcr-l6t30p{display:none;}}.dcr-1ck1ko5{z-index:1080;width:100%;background-color:#F6F6F6;min-height:132px;border-bottom:1px solid #DCDCDC;padding-bottom:18px;display:-webkit-box;display:-webkit-flex;display:-ms-flexbox;display:flex;-webkit-flex-direction:column;-ms-flex-direction:column;flex-direction:column;-webkit-box-pack:center;-ms-flex-pack:center;-webkit-justify-content:center;justify-content:center;position:-webkit-sticky;position:sticky;top:0;}.dcr-16cxnld{font-family:GuardianTextSans,Guardian Text Sans Web,Helvetica Neue,Helvetica,Arial,Lucida Grande,sans-serif;font-size:0.75rem;line-height:1.5;font-weight:400;position:relative;height:24px;background-color:#F6F6F6;padding:0 8px;border-top:1px solid #DCDCDC;color:#707070;text-align:left;box-sizing:border-box;}.dcr-16cxnld.visible{visibility:initial;}.dcr-16cxnld.hidden{visibility:hidden;}.dcr-16cxnld.ad-slot__label--toggle{margin:0 auto;}@media (max-width: 739px){.dcr-16cxnld.ad-slot__label--toggle{display:none;}}.dcr-asicg6{position:relative;margin:0 auto;min-height:90px;text-align:left;display:block;min-width:728px;}.dcr-asicg6 .ad-slot__label,.dcr-asicg6 .ad-slot__scroll{font-family:GuardianTextSans,Guardian Text Sans Web,Helvetica Neue,Helvetica,Arial,Lucida Grande,sans-serif;font-size:0.75rem;line-height:1.5;font-weight:400;position:relative;height:24px;background-color:#F6F6F6;padding:0 8px;border-top:1px solid #DCDCDC;color:#707070;text-align:left;box-sizing:border-box;}.dcr-asicg6 .ad-slot__label.visible,.dcr-asicg6 .ad-slot__scroll.visible{visibility:initial;}.dcr-asicg6 .ad-slot__label.hidden,.dcr-asicg6 .ad-slot__scroll.hidden{visibility:hidden;}.dcr-asicg6 .ad-slot__label.ad-slot__label--toggle,.dcr-asicg6 .ad-slot__scroll.ad-slot__label--toggle{margin:0 auto;}@media (max-width: 739px){.dcr-asicg6 .ad-slot__label.ad-slot__label--toggle,.dcr-asicg6 .ad-slot__scroll.ad-slot__label--toggle{display:none;}}.dcr-asicg6 .ad-slot__close-button{display:none;}.dcr-asicg6 .ad-slot__scroll{position:fixed;bottom:0;width:100%;}.dcr-asicg6.ad-slot--fluid{min-height:250px;line-height:10px;padding:0;margin:0;}.dcr-asicg6.ad-slot--fluid{width:100%;}.dcr-il3bi2{background-color:#052962;}.dcr-1reypk2{position:relative;margin:auto;}@media (min-width: 740px){.dcr-1reypk2{max-width:740px;}}@media (min-width: 980px){.dcr-1reypk2{max-width:980px;}}@media (min-width: 1140px){.dcr-1reypk2{max-width:1140px;}}@media (min-width: 1300px){.dcr-1reypk2{max-width:1300px;}}.dcr-1isylhk{overflow:auto;-ms-overflow-style:none;background-color:#052962;}@media (max-width: 979px){.dcr-1wok5v{display:none;}}.dcr-vjn0wm{display:-webkit-box;display:-webkit-flex;display:-ms-flexbox;display:flex;position:absolute;right:11px;z-index:11;-webkit-transform:translateX(100%);-moz-transform:translateX(100%);-ms-transform:translateX(100%);transform:translateX(100%);}.dcr-vjn0wm:before{content:'';border-left:1px solid #506991;display:block;float:left;height:24px;}@media (min-width: 980px){.dcr-vjn0wm{right:121px;width:110px;}}@media (min-width: 1300px){.dcr-vjn0wm{right:198px;width:197px;}}.dcr-1d9bl8d{padding-top:7px;}.dcr-1r92euj #checkbox-id-edition{position:absolute;opacity:0;height:0;width:0;top:0;left:0;}.dcr-1r92euj #dropbox-id-edition{display:none;}.dcr-1r92euj #checkbox-id-edition:checked+#dropbox-id-edition{display:block;}.dcr-1a0j9n9{font-family:GuardianTextSans,Guardian Text Sans Web,Helvetica Neue,Helvetica,Arial,Lucida Grande,sans-serif;font-size:1.0625rem;line-height:1.5;font-weight:400;display:block;cursor:pointer;background:none;border:none;line-height:1.2;color:#FFFFFF;-webkit-transition:color 80ms ease-out;transition:color 80ms ease-out;padding:0px 10px 6px 5px;margin:1px 0 0;-webkit-text-decoration:none;text-decoration:none;}.dcr-1a0j9n9:hover{color:#FFE500;}.dcr-1a0j9n9:hover:after{-webkit-transform:translateY(0) rotate(45deg);-moz-transform:translateY(0) rotate(45deg);-ms-transform:translateY(0) rotate(45deg);transform:translateY(0) rotate(45deg);}.dcr-1a0j9n9:after{content:'';display:inline-block;width:5px;height:5px;-webkit-transform:translateY(-2px) rotate(45deg);-moz-transform:translateY(-2px) rotate(45deg);-ms-transform:translateY(-2px) rotate(45deg);transform:translateY(-2px) rotate(45deg);border:1px solid currentColor;border-left:transparent;border-top:transparent;margin-left:5px;vertical-align:middle;-webkit-transition:-webkit-transform 250ms ease-out;transition:transform 250ms ease-out;}.dcr-n6o0xh{z-index:18;list-style:none;background-color:white;padding:6px 0;box-shadow:0 0 0 1px rgba(0, 0, 0, 0.1);}.dcr-n6o0xh li::before{content:'\\200B';display:block;height:0;width:0;}@media (max-width: 739px){.dcr-n6o0xh{position:fixed;border-radius:0;top:32px;left:0;right:0;width:auto;max-height:calc(100% - 50px);overflow:auto;}}@media (min-width: 740px){.dcr-n6o0xh{position:absolute;right:0;width:200px;border-radius:3px;}}.dcr-1ark7u0{font-family:GuardianTextSans,Guardian Text Sans Web,Helvetica Neue,Helvetica,Arial,Lucida Grande,sans-serif;font-size:0.9375rem;line-height:1.5;font-weight:400;color:#121212;position:relative;-webkit-transition:color 80ms ease-out;transition:color 80ms ease-out;margin:-1px 0 0 0;-webkit-text-decoration:none;text-decoration:none;display:block;padding:10px 18px 15px 30px;font-weight:bold;}.dcr-1ark7u0:hover{background-color:#EDEDED;-webkit-text-decoration:none;text-decoration:none;}.dcr-1ark7u0:focus{-webkit-text-decoration:underline;text-decoration:underline;}.dcr-1ark7u0:before{content:'';border-top:1px solid #DCDCDC;display:block;position:absolute;top:0px;left:30px;right:0px;}.dcr-1ark7u0:after{content:'';border:2px solid #C70000;border-top:0px;border-right:0px;position:absolute;top:19px;left:12px;width:10px;height:4px;-webkit-transform:rotate(-45deg);-moz-transform:rotate(-45deg);-ms-transform:rotate(-45deg);transform:rotate(-45deg);}.dcr-1ark7u0:before{content:none;}.dcr-1gagq2d{font-family:GuardianTextSans,Guardian Text Sans Web,Helvetica Neue,Helvetica,Arial,Lucida Grande,sans-serif;font-size:0.9375rem;line-height:1.5;font-weight:400;color:#121212;position:relative;-webkit-transition:color 80ms ease-out;transition:color 80ms ease-out;margin:-1px 0 0 0;-webkit-text-decoration:none;text-decoration:none;display:block;padding:10px 18px 15px 30px;}.dcr-1gagq2d:hover{background-color:#EDEDED;-webkit-text-decoration:none;text-decoration:none;}.dcr-1gagq2d:focus{-webkit-text-decoration:underline;text-decoration:underline;}.dcr-1gagq2d:before{content:'';border-top:1px solid #DCDCDC;display:block;position:absolute;top:0px;left:30px;right:0px;}.dcr-17bh4jj{float:right;margin-top:10px;margin-right:54px;margin-bottom:21px;z-index:7;}@media (max-width: 374px){.dcr-17bh4jj{margin-top:20px;}}@media (min-width: 375px){.dcr-17bh4jj{margin-right:10px;margin-top:14px;}}@media (min-width: 480px){.dcr-17bh4jj{margin-right:20px;}}@media (min-width: 740px){.dcr-17bh4jj{margin-top:8px;}}@media (min-width: 980px){.dcr-17bh4jj{margin-top:8px;margin-bottom:15px;position:relative;}}@media (min-width: 1300px){.dcr-17bh4jj{margin-right:96px;}}.dcr-92oqeo{position:absolute;opacity:0;height:0;width:0;top:0;left:0;}.dcr-3f5rmr{height:auto;width:146px;}@media (min-width: 375px){.dcr-3f5rmr{height:auto;width:195px;}}@media (min-width: 740px){.dcr-3f5rmr{height:auto;width:224px;}}@media (min-width: 980px){.dcr-3f5rmr{height:auto;width:295px;}}.dcr-cc5btv{position:absolute;left:10px;top:0;}@media (min-width: 480px){.dcr-cc5btv{left:20px;}}@media (min-width: 740px){.dcr-cc5btv{left:auto;right:205px;}}@media (min-width: 980px){.dcr-cc5btv{right:266px;}}@media (min-width: 1300px){.dcr-cc5btv{right:342px;}}.dcr-1u4hpl4{display:inline;}.dcr-1o9q826{border-left:1px solid #506991;float:left;height:24px;margin:0 -2px 0 10px;display:none;}@media (min-width: 980px){.dcr-1o9q826{display:block;}}.dcr-njzsg5{display:none;font-family:GuardianTextSans,Guardian Text Sans Web,Helvetica Neue,Helvetica,Arial,Lucida Grande,sans-serif;font-size:1.0625rem;line-height:1.5;font-weight:400;color:#FFFFFF;float:left;position:relative;-webkit-transition:color 80ms ease-out;transition:color 80ms ease-out;-webkit-text-decoration:none;text-decoration:none;padding:7px 0;}@media (min-width: 740px){.dcr-njzsg5{display:none;}}@media (min-width: 980px){.dcr-njzsg5{display:block;}}@media (min-width: 740px){.dcr-njzsg5{padding:5px 7px;}}.dcr-njzsg5:hover,.dcr-njzsg5:focus{color:#FFE500;}.dcr-njzsg5 svg{fill:currentColor;float:left;height:18px;width:18px;margin:3px 4px 0 0;}.dcr-96v916{border-left:1px solid #506991;float:left;height:24px;margin:0 -2px 0 10px;display:none;}@media (min-width: 740px){.dcr-96v916{display:block;}}.dcr-md0w21{font-family:GuardianTextSans,Guardian Text Sans Web,Helvetica Neue,Helvetica,Arial,Lucida Grande,sans-serif;font-size:1.0625rem;line-height:1.5;font-weight:400;color:#FFFFFF;float:left;position:relative;-webkit-transition:color 80ms ease-out;transition:color 80ms ease-out;-webkit-text-decoration:none;text-decoration:none;padding:7px 0;}@media (min-width: 740px){.dcr-md0w21{padding:5px 7px;}}.dcr-md0w21:hover,.dcr-md0w21:focus{color:#FFE500;}.dcr-md0w21 svg{fill:currentColor;float:left;height:18px;width:18px;margin:3px 4px 0 0;}.dcr-2mdywk{display:none;font-family:GuardianTextSans,Guardian Text Sans Web,Helvetica Neue,Helvetica,Arial,Lucida Grande,sans-serif;font-size:1.0625rem;line-height:1.5;font-weight:400;color:#FFFFFF;float:left;position:relative;-webkit-transition:color 80ms ease-out;transition:color 80ms ease-out;-webkit-text-decoration:none;text-decoration:none;padding:7px 0;z-index:8;}@media (min-width: 740px){.dcr-2mdywk{display:none;}}@media (min-width: 980px){.dcr-2mdywk{display:block;}}@media (min-width: 740px){.dcr-2mdywk{padding:5px 7px;}}.dcr-2mdywk:hover,.dcr-2mdywk:focus{color:#FFE500;}.dcr-2mdywk svg{fill:currentColor;float:left;height:18px;width:18px;margin:3px 4px 0 0;}.dcr-l99m16{position:relative;margin:auto;}@media (min-width: 740px){.dcr-l99m16{max-width:740px;}}@media (min-width: 980px){.dcr-l99m16{max-width:980px;}}@media (min-width: 1140px){.dcr-l99m16{max-width:1140px;}}@media (min-width: 1300px){.dcr-l99m16{max-width:1300px;}}@media (min-width: 740px){.dcr-l99m16{border-left:1px solid #506991;border-right:1px solid #506991;}}.dcr-4c6dm7{display:-webkit-box;display:-webkit-flex;display:-ms-flexbox;display:flex;-webkit-flex-direction:row;-ms-flex-direction:row;flex-direction:row;-webkit-box-pack:justify;-webkit-justify-content:space-between;justify-content:space-between;}.dcr-um7al3{display:-webkit-box;display:-webkit-flex;display:-ms-flexbox;display:flex;-webkit-flex-direction:row;-ms-flex-direction:row;flex-direction:row;-webkit-box-pack:justify;-webkit-justify-content:space-between;justify-content:space-between;}.dcr-um7al3:after{content:'';display:table;clear:both;}.dcr-1sga83g{clear:right;margin:0;list-style:none;list-style-image:none;padding-left:10px;}@media (min-width: 480px){.dcr-1sga83g{padding-left:20px;}}.dcr-1sga83g li{float:left;display:block;position:relative;width:auto;}@media (min-width: 980px){.dcr-1sga83g li{width:134px;}}@media (min-width: 1140px){.dcr-1sga83g li{width:160px;}}.dcr-1sga83g li::before{content:'\\200B';display:block;height:0;width:0;}.dcr-1sga83g:after{content:'';border-top:1px solid #506991;position:absolute;bottom:0;left:0;right:0;height:36px;}@media (min-width: 740px){.dcr-1sga83g:after{border-bottom:0;height:49px;}}@media (min-width: 980px){.dcr-1sga83g:after{height:42px;}}.dcr-1ev5v4n:first-of-type{margin-left:-20px;width:auto;}@media (min-width: 980px){.dcr-1ev5v4n:first-of-type{width:144px;}}@media (min-width: 1140px){.dcr-1ev5v4n:first-of-type{width:171px;}}.dcr-1ev5v4n:first-of-type a{padding-left:20px;}@media (max-width: 979px){.dcr-1ev5v4n:last-child a:before{content:none;}}.dcr-pmqe6r{font-family:GH Guardian Headline,Guardian Egyptian Web,Georgia,serif;font-size:1.0625rem;line-height:1.15;font-weight:500;box-sizing:border-box;font-weight:900;color:#FFFFFF;cursor:pointer;display:block;font-size:15.4px;height:36px;padding-top:9px;padding-right:5px;padding-bottom:0;padding-left:5px;position:relative;overflow:hidden;-webkit-text-decoration:none;text-decoration:none;z-index:1;}@media (min-width: 375px){.dcr-pmqe6r{font-size:15.7px;padding-top:9px;padding-right:5px;padding-bottom:0;padding-left:5px;}}@media (min-width: 480px){.dcr-pmqe6r{font-size:18px;padding-top:9px;padding-right:5px;padding-bottom:0;padding-left:5px;}}@media (min-width: 740px){.dcr-pmqe6r{font-size:22px;height:48px;padding-top:9px;padding-right:20px;padding-bottom:0;padding-left:9px;}}@media (min-width: 980px){.dcr-pmqe6r{padding-top:5px;height:42px;}}@media (min-width: 1300px){.dcr-pmqe6r{padding-top:7px;font-size:24px;}}.dcr-pmqe6r:focus:after{-webkit-transform:translateY(4px);-moz-transform:translateY(4px);-ms-transform:translateY(4px);transform:translateY(4px);}.dcr-pmqe6r:hover{-webkit-text-decoration:none;text-decoration:none;}.dcr-pmqe6r:hover:after{-webkit-transform:translateY(4px);-moz-transform:translateY(4px);-ms-transform:translateY(4px);transform:translateY(4px);}.dcr-pmqe6r:after{border-top:4px solid #FF5943;left:0;right:1px;top:-4px;content:'';display:block;position:absolute;-webkit-transition:-webkit-transform 0.3s ease-in-out;transition:transform 0.3s ease-in-out;}@media (min-width: 980px){#top-nav-input-checkbox:checked~ul li .dcr-pmqe6r:before{bottom:0;}}#top-nav-input-checkbox:checked~ul li .dcr-pmqe6r:hover,#top-nav-input-checkbox:checked~ul li .dcr-pmqe6r:focus{-webkit-text-decoration:underline;text-decoration:underline;color:#FFE500;}#top-nav-input-checkbox:checked~ul li .dcr-pmqe6r:after{-webkit-transform:translateY(4px);-moz-transform:translateY(4px);-ms-transform:translateY(4px);transform:translateY(4px);}.dcr-pmqe6r:before{content:'';display:block;position:absolute;right:0;top:0;bottom:0;width:1px;background-color:#506991;}@media (min-width: 740px){.dcr-pmqe6r:before{bottom:17px;}}@media (min-width: 980px){.dcr-pmqe6r:before{bottom:0.6em;}}.dcr-77vf01{font-family:GH Guardian Headline,Guardian Egyptian Web,Georgia,serif;font-size:1.0625rem;line-height:1.15;font-weight:500;box-sizing:border-box;font-weight:900;color:#FFFFFF;cursor:pointer;display:block;font-size:15.4px;height:36px;padding-top:9px;padding-right:5px;padding-bottom:0;padding-left:5px;position:relative;overflow:hidden;-webkit-text-decoration:none;text-decoration:none;z-index:1;}@media (min-width: 375px){.dcr-77vf01{font-size:15.7px;padding-top:9px;padding-right:5px;padding-bottom:0;padding-left:5px;}}@media (min-width: 480px){.dcr-77vf01{font-size:18px;padding-top:9px;padding-right:5px;padding-bottom:0;padding-left:5px;}}@media (min-width: 740px){.dcr-77vf01{font-size:22px;height:48px;padding-top:9px;padding-right:20px;padding-bottom:0;padding-left:9px;}}@media (min-width: 980px){.dcr-77vf01{padding-top:5px;height:42px;}}@media (min-width: 1300px){.dcr-77vf01{padding-top:7px;font-size:24px;}}.dcr-77vf01:focus:after{-webkit-transform:translateY(4px);-moz-transform:translateY(4px);-ms-transform:translateY(4px);transform:translateY(4px);}.dcr-77vf01:hover{-webkit-text-decoration:none;text-decoration:none;}.dcr-77vf01:hover:after{-webkit-transform:translateY(4px);-moz-transform:translateY(4px);-ms-transform:translateY(4px);transform:translateY(4px);}.dcr-77vf01:after{border-top:4px solid #FF7F0F;left:0;right:1px;top:-4px;content:'';display:block;position:absolute;-webkit-transition:-webkit-transform 0.3s ease-in-out;transition:transform 0.3s ease-in-out;}@media (min-width: 980px){#top-nav-input-checkbox:checked~ul li .dcr-77vf01:before{bottom:0;}}#top-nav-input-checkbox:checked~ul li .dcr-77vf01:hover,#top-nav-input-checkbox:checked~ul li .dcr-77vf01:focus{-webkit-text-decoration:underline;text-decoration:underline;color:#FFE500;}#top-nav-input-checkbox:checked~ul li .dcr-77vf01:after{-webkit-transform:translateY(4px);-moz-transform:translateY(4px);-ms-transform:translateY(4px);transform:translateY(4px);}.dcr-77vf01:before{content:'';display:block;position:absolute;right:0;top:0;bottom:0;width:1px;background-color:#506991;}@media (min-width: 740px){.dcr-77vf01:before{bottom:17px;}}@media (min-width: 980px){.dcr-77vf01:before{bottom:0.6em;}}.dcr-1wapjrn{font-family:GH Guardian Headline,Guardian Egyptian Web,Georgia,serif;font-size:1.0625rem;line-height:1.15;font-weight:500;box-sizing:border-box;font-weight:900;color:#FFFFFF;cursor:pointer;display:block;font-size:15.4px;height:36px;padding-top:9px;padding-right:5px;padding-bottom:0;padding-left:5px;position:relative;overflow:hidden;-webkit-text-decoration:none;text-decoration:none;z-index:1;}@media (min-width: 375px){.dcr-1wapjrn{font-size:15.7px;padding-top:9px;padding-right:5px;padding-bottom:0;padding-left:5px;}}@media (min-width: 480px){.dcr-1wapjrn{font-size:18px;padding-top:9px;padding-right:5px;padding-bottom:0;padding-left:5px;}}@media (min-width: 740px){.dcr-1wapjrn{font-size:22px;height:48px;padding-top:9px;padding-right:20px;padding-bottom:0;padding-left:9px;}}@media (min-width: 980px){.dcr-1wapjrn{padding-top:5px;height:42px;}}@media (min-width: 1300px){.dcr-1wapjrn{padding-top:7px;font-size:24px;}}.dcr-1wapjrn:focus:after{-webkit-transform:translateY(4px);-moz-transform:translateY(4px);-ms-transform:translateY(4px);transform:translateY(4px);}.dcr-1wapjrn:hover{-webkit-text-decoration:none;text-decoration:none;}.dcr-1wapjrn:hover:after{-webkit-transform:translateY(4px);-moz-transform:translateY(4px);-ms-transform:translateY(4px);transform:translateY(4px);}.dcr-1wapjrn:after{border-top:4px solid #00B2FF;left:0;right:1px;top:-4px;content:'';display:block;position:absolute;-webkit-transition:-webkit-transform 0.3s ease-in-out;transition:transform 0.3s ease-in-out;}@media (min-width: 980px){#top-nav-input-checkbox:checked~ul li .dcr-1wapjrn:before{bottom:0;}}#top-nav-input-checkbox:checked~ul li .dcr-1wapjrn:hover,#top-nav-input-checkbox:checked~ul li .dcr-1wapjrn:focus{-webkit-text-decoration:underline;text-decoration:underline;color:#FFE500;}#top-nav-input-checkbox:checked~ul li .dcr-1wapjrn:after{-webkit-transform:translateY(4px);-moz-transform:translateY(4px);-ms-transform:translateY(4px);transform:translateY(4px);}.dcr-1wapjrn:after{-webkit-transform:translateY(4px);-moz-transform:translateY(4px);-ms-transform:translateY(4px);transform:translateY(4px);}.dcr-1wapjrn:focus:after{-webkit-transform:translateY(4px);-moz-transform:translateY(4px);-ms-transform:translateY(4px);transform:translateY(4px);}.dcr-1wapjrn:hover{-webkit-text-decoration:none;text-decoration:none;}.dcr-1wapjrn:hover:after{-webkit-transform:translateY(4px);-moz-transform:translateY(4px);-ms-transform:translateY(4px);transform:translateY(4px);}.dcr-1wapjrn:before{content:'';display:block;position:absolute;right:0;top:0;bottom:0;width:1px;background-color:#506991;}@media (min-width: 740px){.dcr-1wapjrn:before{bottom:17px;}}@media (min-width: 980px){.dcr-1wapjrn:before{bottom:0.6em;}}.dcr-147q94w{font-family:GH Guardian Headline,Guardian Egyptian Web,Georgia,serif;font-size:1.0625rem;line-height:1.15;font-weight:500;box-sizing:border-box;font-weight:900;color:#FFFFFF;cursor:pointer;display:block;font-size:15.4px;height:36px;padding-top:9px;padding-right:5px;padding-bottom:0;padding-left:5px;position:relative;overflow:hidden;-webkit-text-decoration:none;text-decoration:none;z-index:1;}@media (min-width: 375px){.dcr-147q94w{font-size:15.7px;padding-top:9px;padding-right:5px;padding-bottom:0;padding-left:5px;}}@media (min-width: 480px){.dcr-147q94w{font-size:18px;padding-top:9px;padding-right:5px;padding-bottom:0;padding-left:5px;}}@media (min-width: 740px){.dcr-147q94w{font-size:22px;height:48px;padding-top:9px;padding-right:20px;padding-bottom:0;padding-left:9px;}}@media (min-width: 980px){.dcr-147q94w{padding-top:5px;height:42px;}}@media (min-width: 1300px){.dcr-147q94w{padding-top:7px;font-size:24px;}}.dcr-147q94w:focus:after{-webkit-transform:translateY(4px);-moz-transform:translateY(4px);-ms-transform:translateY(4px);transform:translateY(4px);}.dcr-147q94w:hover{-webkit-text-decoration:none;text-decoration:none;}.dcr-147q94w:hover:after{-webkit-transform:translateY(4px);-moz-transform:translateY(4px);-ms-transform:translateY(4px);transform:translateY(4px);}.dcr-147q94w:after{border-top:4px solid #EACCA0;left:0;right:1px;top:-4px;content:'';display:block;position:absolute;-webkit-transition:-webkit-transform 0.3s ease-in-out;transition:transform 0.3s ease-in-out;}@media (min-width: 980px){#top-nav-input-checkbox:checked~ul li .dcr-147q94w:before{bottom:0;}}#top-nav-input-checkbox:checked~ul li .dcr-147q94w:hover,#top-nav-input-checkbox:checked~ul li .dcr-147q94w:focus{-webkit-text-decoration:underline;text-decoration:underline;color:#FFE500;}#top-nav-input-checkbox:checked~ul li .dcr-147q94w:after{-webkit-transform:translateY(4px);-moz-transform:translateY(4px);-ms-transform:translateY(4px);transform:translateY(4px);}.dcr-147q94w:before{content:'';display:block;position:absolute;right:0;top:0;bottom:0;width:1px;background-color:#506991;}@media (min-width: 740px){.dcr-147q94w:before{bottom:17px;}}@media (min-width: 980px){.dcr-147q94w:before{bottom:0.6em;}}.dcr-kzk9sv{font-family:GH Guardian Headline,Guardian Egyptian Web,Georgia,serif;font-size:1.0625rem;line-height:1.15;font-weight:500;box-sizing:border-box;font-weight:900;color:#FFFFFF;cursor:pointer;display:block;font-size:15.4px;height:36px;padding-top:9px;padding-right:5px;padding-bottom:0;padding-left:5px;position:relative;overflow:hidden;-webkit-text-decoration:none;text-decoration:none;z-index:1;}@media (min-width: 375px){.dcr-kzk9sv{font-size:15.7px;padding-top:9px;padding-right:5px;padding-bottom:0;padding-left:5px;}}@media (min-width: 480px){.dcr-kzk9sv{font-size:18px;padding-top:9px;padding-right:5px;padding-bottom:0;padding-left:5px;}}@media (min-width: 740px){.dcr-kzk9sv{font-size:22px;height:48px;padding-top:9px;padding-right:20px;padding-bottom:0;padding-left:9px;}}@media (min-width: 980px){.dcr-kzk9sv{padding-top:5px;height:42px;}}@media (min-width: 1300px){.dcr-kzk9sv{padding-top:7px;font-size:24px;}}.dcr-kzk9sv:focus:after{-webkit-transform:translateY(4px);-moz-transform:translateY(4px);-ms-transform:translateY(4px);transform:translateY(4px);}.dcr-kzk9sv:hover{-webkit-text-decoration:none;text-decoration:none;}.dcr-kzk9sv:hover:after{-webkit-transform:translateY(4px);-moz-transform:translateY(4px);-ms-transform:translateY(4px);transform:translateY(4px);}.dcr-kzk9sv:after{border-top:4px solid #FFABDB;left:0;right:1px;top:-4px;content:'';display:block;position:absolute;-webkit-transition:-webkit-transform 0.3s ease-in-out;transition:transform 0.3s ease-in-out;}@media (min-width: 980px){#top-nav-input-checkbox:checked~ul li .dcr-kzk9sv:before{bottom:0;}}#top-nav-input-checkbox:checked~ul li .dcr-kzk9sv:hover,#top-nav-input-checkbox:checked~ul li .dcr-kzk9sv:focus{-webkit-text-decoration:underline;text-decoration:underline;color:#FFE500;}#top-nav-input-checkbox:checked~ul li .dcr-kzk9sv:after{-webkit-transform:translateY(4px);-moz-transform:translateY(4px);-ms-transform:translateY(4px);transform:translateY(4px);}.dcr-kzk9sv:before{content:'';display:block;position:absolute;right:0;top:0;bottom:0;width:1px;background-color:#506991;}@media (min-width: 740px){.dcr-kzk9sv:before{bottom:17px;}}@media (min-width: 980px){.dcr-kzk9sv:before{bottom:0.6em;}}.dcr-1kaq6ux{font-family:GH Guardian Headline,Guardian Egyptian Web,Georgia,serif;font-size:1.5rem;line-height:1.15;font-weight:500;font-weight:300;color:#FFFFFF;cursor:pointer;display:none;position:relative;overflow:hidden;border:0;background-color:transparent;height:48px;padding-left:9px;padding-right:20px;}@media (min-width: 980px){.dcr-1kaq6ux{display:block;padding-top:5px;height:42px;}}.dcr-1kaq6ux:hover,.dcr-1kaq6ux:focus{color:#FFE500;}.dcr-1kaq6ux:hover svg,.dcr-1kaq6ux:focus svg{-webkit-transform:translateY(2px);-moz-transform:translateY(2px);-ms-transform:translateY(2px);transform:translateY(2px);}.dcr-194r1hi{display:block;height:100%;}#top-nav-input-checkbox:checked~div label .dcr-194r1hi svg{-webkit-transform:translateY(-2px) rotate(-180deg);-moz-transform:translateY(-2px) rotate(-180deg);-ms-transform:translateY(-2px) rotate(-180deg);transform:translateY(-2px) rotate(-180deg);}#top-nav-input-checkbox:checked~div label:hover .dcr-194r1hi svg,#top-nav-input-checkbox:checked~div label:focus .dcr-194r1hi svg{-webkit-transform:translateY(-4px) rotate(-180deg);-moz-transform:translateY(-4px) rotate(-180deg);-ms-transform:translateY(-4px) rotate(-180deg);transform:translateY(-4px) rotate(-180deg);}.dcr-194r1hi svg{position:absolute;right:2px;top:14px;fill:currentColor;height:16px;width:16px;-webkit-transition:-webkit-transform 250ms ease-out;transition:transform 250ms ease-out;}.dcr-azekzu{background-color:#FFE500;color:#121212;cursor:pointer;height:42px;min-width:42px;position:absolute;border:0;border-radius:50%;z-index:17;right:5px;bottom:58px;}@media (min-width: 375px){.dcr-azekzu{bottom:-3px;right:5px;}}@media (min-width: 480px){.dcr-azekzu{right:18px;}}@media (min-width: 740px){.dcr-azekzu{bottom:3px;}}@media (min-width: 980px){.dcr-azekzu{display:none;}}.dcr-azekzu:focus{outline:none;}.dcr-1sim4qs{background-color:currentColor;top:50%;right:0;margin-top:-1px;margin-left:auto;margin-right:auto;height:2px;left:0;position:absolute;width:20px;}#top-nav-input-checkbox:checked~div .dcr-1sim4qs{background-color:transparent;}.dcr-1sim4qs:before{height:2px;left:0;position:absolute;width:20px;content:'';background-color:currentColor;top:-6px;}#top-nav-input-checkbox:checked~div .dcr-1sim4qs:before{top:0;-webkit-transform:rotate(-45deg);-moz-transform:rotate(-45deg);-ms-transform:rotate(-45deg);transform:rotate(-45deg);}.dcr-1sim4qs:after{height:2px;left:0;position:absolute;width:20px;content:'';background-color:currentColor;bottom:-6px;}#top-nav-input-checkbox:checked~div .dcr-1sim4qs:after{bottom:0;-webkit-transform:rotate(45deg);-moz-transform:rotate(45deg);-ms-transform:rotate(45deg);transform:rotate(45deg);}.dcr-8azhf2{background-color:rgba(0, 0, 0, 0.5);z-index:16;left:0;top:0;}@media (min-width: 980px){.dcr-8azhf2{display:none;}}@media (min-width: 980px){#top-nav-input-checkbox:checked~div .dcr-8azhf2{display:block;overflow:visible;}}@media (max-width: 979px){#top-nav-input-checkbox:checked~div .dcr-8azhf2{-webkit-transform:translateX(\n",
      "\t\t\t\t0%\n",
      "\t\t\t);-moz-transform:translateX(\n",
      "\t\t\t\t0%\n",
      "\t\t\t);-ms-transform:translateX(\n",
      "\t\t\t\t0%\n",
      "\t\t\t);transform:translateX(\n",
      "\t\t\t\t0%\n",
      "\t\t\t);}}@media (max-width: 979px){.dcr-8azhf2{-webkit-transform:translateX(\n",
      "\t\t\t-110%\n",
      "\t\t);-moz-transform:translateX(\n",
      "\t\t\t-110%\n",
      "\t\t);-ms-transform:translateX(\n",
      "\t\t\t-110%\n",
      "\t\t);transform:translateX(\n",
      "\t\t\t-110%\n",
      "\t\t);-webkit-transition:-webkit-transform 0.4s cubic-bezier(0.23, 1, 0.32, 1);transition:transform 0.4s cubic-bezier(0.23, 1, 0.32, 1);box-shadow:3px 0 16px rgba(0, 0, 0, 0.4);bottom:0;height:100%;overflow:auto;position:fixed;right:0;will-change:transform;}}@media (min-width: 980px){.dcr-8azhf2{display:none;}}.dcr-wz1745{background-color:#052962;box-sizing:border-box;font-family:GuardianTextSans,Guardian Text Sans Web,Helvetica Neue,Helvetica,Arial,Lucida Grande,sans-serif;font-size:1.25rem;line-height:1.5;font-weight:400;margin-right:29px;left:0;top:0;z-index:15;overflow:hidden;}@media (min-width: 980px){.dcr-wz1745{position:absolute;padding-bottom:0;padding-top:0;top:100%;left:0;right:0;width:100%;}@supports (width: 100vw){.dcr-wz1745{left:50%;right:50%;width:100vw;margin-left:-50vw;margin-right:-50vw;}}}@media (min-width: 375px){.dcr-wz1745{margin-right:29px;}}@media (min-width: 480px){.dcr-wz1745{margin-right:40px;}}@media (min-width: 740px){.dcr-wz1745{margin-right:100px;}}.dcr-1hjkch6{box-sizing:border-box;max-width:none;}@media (min-width: 980px){.dcr-1hjkch6{max-width:980px;padding:0 20px;position:relative;margin:0 auto;display:-webkit-box;display:-webkit-flex;display:-ms-flexbox;display:flex;border-left:1px solid #506991;border-right:1px solid #506991;border-top:1px solid #506991;}}@media (min-width: 1140px){.dcr-1hjkch6{max-width:1140px;}}@media (min-width: 1300px){.dcr-1hjkch6{max-width:1300px;}}.dcr-jgypeg{font-family:GuardianTextSans,Guardian Text Sans Web,Helvetica Neue,Helvetica,Arial,Lucida Grande,sans-serif;font-size:1.0625rem;line-height:1.5;font-weight:400;list-style:none;margin:0;padding-bottom:10px;position:relative;}.dcr-jgypeg::before{content:'\\200B';display:block;height:0;width:0;}.dcr-jgypeg:after{background-color:#506991;top:0;content:'';display:block;height:1px;left:50px;position:absolute;right:0;}.dcr-jgypeg:first-of-type:after{content:none;}@media (min-width: 980px){.dcr-jgypeg{width:134px;float:left;position:relative;}.dcr-jgypeg:after{height:100%;left:0;width:1px;}.dcr-jgypeg:first-of-type{width:123px;}}@media (min-width: 1140px){.dcr-jgypeg{width:160px;}.dcr-jgypeg:first-of-type{width:150px;}}@media (min-width: 980px){.dcr-jgypeg:before{content:'';display:block;position:absolute;right:0;top:0;bottom:0;width:1px;background-color:#506991;z-index:1;}}.dcr-xka4se{-webkit-user-select:none;-moz-user-select:none;-ms-user-select:none;user-select:none;background-color:transparent;border:0;box-sizing:border-box;cursor:pointer;color:#FFFFFF;display:block;font-family:GH Guardian Headline,Guardian Egyptian Web,Georgia,serif;font-size:1.5rem;line-height:1.15;font-weight:500;font-weight:700;outline:none;padding:6px 34px 18px 50px;position:relative;text-align:left;width:100%;text-transform:capitalize;}.dcr-xka4se >*{pointer-events:none;}.dcr-xka4se:before{margin-top:4px;left:25px;position:absolute;border:2px solid currentColor;border-top:0;border-left:0;content:'';display:inline-block;height:10px;-webkit-transform:rotate(45deg);-moz-transform:rotate(45deg);-ms-transform:rotate(45deg);transform:rotate(45deg);width:10px;}.dcr-xka4se:hover,.dcr-xka4se:focus{color:#FFE500;}#News-checkbox-input:checked~.dcr-xka4se:before{margin-top:8px;-webkit-transform:rotate(-135deg);-moz-transform:rotate(-135deg);-ms-transform:rotate(-135deg);transform:rotate(-135deg);}@media (min-width: 980px){.dcr-xka4se{display:none;}}.dcr-wzbqqq{font-family:GuardianTextSans,Guardian Text Sans Web,Helvetica Neue,Helvetica,Arial,Lucida Grande,sans-serif;font-size:1.0625rem;line-height:1.5;font-weight:400;box-sizing:border-box;display:-webkit-box;display:-webkit-flex;display:-ms-flexbox;display:flex;-webkit-box-flex-wrap:wrap;-webkit-flex-wrap:wrap;-ms-flex-wrap:wrap;flex-wrap:wrap;list-style:none;margin:0;padding:0 0 12px;position:relative;}.dcr-wzbqqq li::before{content:'\\200B';display:block;height:0;width:0;}@media (min-width: 980px){.dcr-wzbqqq{display:-webkit-box;display:-webkit-flex;display:-ms-flexbox;display:flex;-webkit-flex-direction:column;-ms-flex-direction:column;flex-direction:column;-webkit-box-flex-wrap:nowrap;-webkit-flex-wrap:nowrap;-ms-flex-wrap:nowrap;flex-wrap:nowrap;-webkit-order:1;-ms-flex-order:1;order:1;height:100%;width:100%;padding:0 9px;}}@media (min-width: 980px){.dcr-wzbqqq{padding-left:0;}}@media (max-width: 979px){#News-checkbox-input:not(:checked)~.dcr-wzbqqq{display:none;}}.dcr-mdwiz6{box-sizing:border-box;overflow:hidden;position:relative;width:100%;}@media (min-width: 980px){.dcr-mdwiz6{display:-webkit-box;display:-webkit-list-item;display:-ms-list-itembox;display:list-item;}}.dcr-155wclf{font-family:GuardianTextSans,Guardian Text Sans Web,Helvetica Neue,Helvetica,Arial,Lucida Grande,sans-serif;font-size:1.0625rem;line-height:1.15;font-weight:400;background-color:transparent;-webkit-text-decoration:none;text-decoration:none;border:0;box-sizing:border-box;color:#FFFFFF;cursor:pointer;display:inline-block;font-weight:500;outline:none;padding:8px 34px 8px 50px;position:relative;text-align:left;width:100%;}@media (min-width: 740px){.dcr-155wclf{padding-left:60px;}}@media (min-width: 980px){.dcr-155wclf{font-size:16px;padding:6px 0;}}.dcr-155wclf:hover,.dcr-155wclf:focus{color:#FFE500;-webkit-text-decoration:underline;text-decoration:underline;}.dcr-155wclf >*{pointer-events:none;}.dcr-1f5hn1l{-webkit-user-select:none;-moz-user-select:none;-ms-user-select:none;user-select:none;background-color:transparent;border:0;box-sizing:border-box;cursor:pointer;color:#FFFFFF;display:block;font-family:GH Guardian Headline,Guardian Egyptian Web,Georgia,serif;font-size:1.5rem;line-height:1.15;font-weight:500;font-weight:700;outline:none;padding:6px 34px 18px 50px;position:relative;text-align:left;width:100%;text-transform:capitalize;}.dcr-1f5hn1l >*{pointer-events:none;}.dcr-1f5hn1l:before{margin-top:4px;left:25px;position:absolute;border:2px solid currentColor;border-top:0;border-left:0;content:'';display:inline-block;height:10px;-webkit-transform:rotate(45deg);-moz-transform:rotate(45deg);-ms-transform:rotate(45deg);transform:rotate(45deg);width:10px;}.dcr-1f5hn1l:hover,.dcr-1f5hn1l:focus{color:#FFE500;}#Opinion-checkbox-input:checked~.dcr-1f5hn1l:before{margin-top:8px;-webkit-transform:rotate(-135deg);-moz-transform:rotate(-135deg);-ms-transform:rotate(-135deg);transform:rotate(-135deg);}@media (min-width: 980px){.dcr-1f5hn1l{display:none;}}.dcr-yc189x{font-family:GuardianTextSans,Guardian Text Sans Web,Helvetica Neue,Helvetica,Arial,Lucida Grande,sans-serif;font-size:1.0625rem;line-height:1.5;font-weight:400;box-sizing:border-box;display:-webkit-box;display:-webkit-flex;display:-ms-flexbox;display:flex;-webkit-box-flex-wrap:wrap;-webkit-flex-wrap:wrap;-ms-flex-wrap:wrap;flex-wrap:wrap;list-style:none;margin:0;padding:0 0 12px;position:relative;}.dcr-yc189x li::before{content:'\\200B';display:block;height:0;width:0;}@media (min-width: 980px){.dcr-yc189x{display:-webkit-box;display:-webkit-flex;display:-ms-flexbox;display:flex;-webkit-flex-direction:column;-ms-flex-direction:column;flex-direction:column;-webkit-box-flex-wrap:nowrap;-webkit-flex-wrap:nowrap;-ms-flex-wrap:nowrap;flex-wrap:nowrap;-webkit-order:1;-ms-flex-order:1;order:1;height:100%;width:100%;padding:0 9px;}}@media (max-width: 739px){.dcr-yc189x{background:#041F4A;}}@media (max-width: 979px){#Opinion-checkbox-input:not(:checked)~.dcr-yc189x{display:none;}}.dcr-1m18ln3{-webkit-user-select:none;-moz-user-select:none;-ms-user-select:none;user-select:none;background-color:transparent;border:0;box-sizing:border-box;cursor:pointer;color:#FFFFFF;display:block;font-family:GH Guardian Headline,Guardian Egyptian Web,Georgia,serif;font-size:1.5rem;line-height:1.15;font-weight:500;font-weight:700;outline:none;padding:6px 34px 18px 50px;position:relative;text-align:left;width:100%;text-transform:capitalize;}.dcr-1m18ln3 >*{pointer-events:none;}.dcr-1m18ln3:before{margin-top:4px;left:25px;position:absolute;border:2px solid currentColor;border-top:0;border-left:0;content:'';display:inline-block;height:10px;-webkit-transform:rotate(45deg);-moz-transform:rotate(45deg);-ms-transform:rotate(45deg);transform:rotate(45deg);width:10px;}.dcr-1m18ln3:hover,.dcr-1m18ln3:focus{color:#FFE500;}#Sport-checkbox-input:checked~.dcr-1m18ln3:before{margin-top:8px;-webkit-transform:rotate(-135deg);-moz-transform:rotate(-135deg);-ms-transform:rotate(-135deg);transform:rotate(-135deg);}@media (min-width: 980px){.dcr-1m18ln3{display:none;}}.dcr-1scawcd{font-family:GuardianTextSans,Guardian Text Sans Web,Helvetica Neue,Helvetica,Arial,Lucida Grande,sans-serif;font-size:1.0625rem;line-height:1.5;font-weight:400;box-sizing:border-box;display:-webkit-box;display:-webkit-flex;display:-ms-flexbox;display:flex;-webkit-box-flex-wrap:wrap;-webkit-flex-wrap:wrap;-ms-flex-wrap:wrap;flex-wrap:wrap;list-style:none;margin:0;padding:0 0 12px;position:relative;}.dcr-1scawcd li::before{content:'\\200B';display:block;height:0;width:0;}@media (min-width: 980px){.dcr-1scawcd{display:-webkit-box;display:-webkit-flex;display:-ms-flexbox;display:flex;-webkit-flex-direction:column;-ms-flex-direction:column;flex-direction:column;-webkit-box-flex-wrap:nowrap;-webkit-flex-wrap:nowrap;-ms-flex-wrap:nowrap;flex-wrap:nowrap;-webkit-order:1;-ms-flex-order:1;order:1;height:100%;width:100%;padding:0 9px;}}@media (max-width: 739px){.dcr-1scawcd{background:#041F4A;}}@media (max-width: 979px){#Sport-checkbox-input:not(:checked)~.dcr-1scawcd{display:none;}}.dcr-hbarp8{-webkit-user-select:none;-moz-user-select:none;-ms-user-select:none;user-select:none;background-color:transparent;border:0;box-sizing:border-box;cursor:pointer;color:#FFFFFF;display:block;font-family:GH Guardian Headline,Guardian Egyptian Web,Georgia,serif;font-size:1.5rem;line-height:1.15;font-weight:500;font-weight:700;outline:none;padding:6px 34px 18px 50px;position:relative;text-align:left;width:100%;text-transform:capitalize;}.dcr-hbarp8 >*{pointer-events:none;}.dcr-hbarp8:before{margin-top:4px;left:25px;position:absolute;border:2px solid currentColor;border-top:0;border-left:0;content:'';display:inline-block;height:10px;-webkit-transform:rotate(45deg);-moz-transform:rotate(45deg);-ms-transform:rotate(45deg);transform:rotate(45deg);width:10px;}.dcr-hbarp8:hover,.dcr-hbarp8:focus{color:#FFE500;}#Culture-checkbox-input:checked~.dcr-hbarp8:before{margin-top:8px;-webkit-transform:rotate(-135deg);-moz-transform:rotate(-135deg);-ms-transform:rotate(-135deg);transform:rotate(-135deg);}@media (min-width: 980px){.dcr-hbarp8{display:none;}}.dcr-r5o6p0{font-family:GuardianTextSans,Guardian Text Sans Web,Helvetica Neue,Helvetica,Arial,Lucida Grande,sans-serif;font-size:1.0625rem;line-height:1.5;font-weight:400;box-sizing:border-box;display:-webkit-box;display:-webkit-flex;display:-ms-flexbox;display:flex;-webkit-box-flex-wrap:wrap;-webkit-flex-wrap:wrap;-ms-flex-wrap:wrap;flex-wrap:wrap;list-style:none;margin:0;padding:0 0 12px;position:relative;}.dcr-r5o6p0 li::before{content:'\\200B';display:block;height:0;width:0;}@media (min-width: 980px){.dcr-r5o6p0{display:-webkit-box;display:-webkit-flex;display:-ms-flexbox;display:flex;-webkit-flex-direction:column;-ms-flex-direction:column;flex-direction:column;-webkit-box-flex-wrap:nowrap;-webkit-flex-wrap:nowrap;-ms-flex-wrap:nowrap;flex-wrap:nowrap;-webkit-order:1;-ms-flex-order:1;order:1;height:100%;width:100%;padding:0 9px;}}@media (max-width: 739px){.dcr-r5o6p0{background:#041F4A;}}@media (max-width: 979px){#Culture-checkbox-input:not(:checked)~.dcr-r5o6p0{display:none;}}.dcr-7lclo4{-webkit-user-select:none;-moz-user-select:none;-ms-user-select:none;user-select:none;background-color:transparent;border:0;box-sizing:border-box;cursor:pointer;color:#FFFFFF;display:block;font-family:GH Guardian Headline,Guardian Egyptian Web,Georgia,serif;font-size:1.5rem;line-height:1.15;font-weight:500;font-weight:700;outline:none;padding:6px 34px 18px 50px;position:relative;text-align:left;width:100%;text-transform:capitalize;}.dcr-7lclo4 >*{pointer-events:none;}.dcr-7lclo4:before{margin-top:4px;left:25px;position:absolute;border:2px solid currentColor;border-top:0;border-left:0;content:'';display:inline-block;height:10px;-webkit-transform:rotate(45deg);-moz-transform:rotate(45deg);-ms-transform:rotate(45deg);transform:rotate(45deg);width:10px;}.dcr-7lclo4:hover,.dcr-7lclo4:focus{color:#FFE500;}#Lifestyle-checkbox-input:checked~.dcr-7lclo4:before{margin-top:8px;-webkit-transform:rotate(-135deg);-moz-transform:rotate(-135deg);-ms-transform:rotate(-135deg);transform:rotate(-135deg);}@media (min-width: 980px){.dcr-7lclo4{display:none;}}.dcr-1ag59f8{font-family:GuardianTextSans,Guardian Text Sans Web,Helvetica Neue,Helvetica,Arial,Lucida Grande,sans-serif;font-size:1.0625rem;line-height:1.5;font-weight:400;box-sizing:border-box;display:-webkit-box;display:-webkit-flex;display:-ms-flexbox;display:flex;-webkit-box-flex-wrap:wrap;-webkit-flex-wrap:wrap;-ms-flex-wrap:wrap;flex-wrap:wrap;list-style:none;margin:0;padding:0 0 12px;position:relative;}.dcr-1ag59f8 li::before{content:'\\200B';display:block;height:0;width:0;}@media (min-width: 980px){.dcr-1ag59f8{display:-webkit-box;display:-webkit-flex;display:-ms-flexbox;display:flex;-webkit-flex-direction:column;-ms-flex-direction:column;flex-direction:column;-webkit-box-flex-wrap:nowrap;-webkit-flex-wrap:nowrap;-ms-flex-wrap:nowrap;flex-wrap:nowrap;-webkit-order:1;-ms-flex-order:1;order:1;height:100%;width:100%;padding:0 9px;}}@media (max-width: 739px){.dcr-1ag59f8{background:#041F4A;}}@media (max-width: 979px){#Lifestyle-checkbox-input:not(:checked)~.dcr-1ag59f8{display:none;}}@media (min-width: 980px){.dcr-1blnjq7{display:none;}}.dcr-olqzeg{box-sizing:border-box;overflow:hidden;position:relative;width:100%;}@media (min-width: 980px){.dcr-olqzeg{display:-webkit-box;display:-webkit-list-item;display:-ms-list-itembox;display:list-item;}}@media (min-width: 980px){.dcr-olqzeg{display:none;}}.dcr-1ubvh8x{font-family:GuardianTextSans,Guardian Text Sans Web,Helvetica Neue,Helvetica,Arial,Lucida Grande,sans-serif;font-size:1.0625rem;line-height:1.5;font-weight:400;list-style:none;margin:0;padding-bottom:10px;position:relative;}.dcr-1ubvh8x::before{content:'\\200B';display:block;height:0;width:0;}.dcr-1ubvh8x:after{background-color:#506991;top:0;content:'';display:block;height:1px;left:50px;position:absolute;right:0;}.dcr-1ubvh8x:first-of-type:after{content:none;}@media (min-width: 980px){.dcr-1ubvh8x{width:134px;float:left;position:relative;}.dcr-1ubvh8x:after{content:none;}.dcr-1ubvh8x:first-of-type{width:123px;}}@media (min-width: 1140px){.dcr-1ubvh8x{width:160px;}.dcr-1ubvh8x:first-of-type{width:150px;}}@media (min-width: 980px){.dcr-1ubvh8x:before{content:'';display:block;position:absolute;right:0;top:0;bottom:0;width:1px;height:auto;background-color:#506991;z-index:1;}}@media (min-width: 980px){.dcr-1ubvh8x:before{top:-42px;}.dcr-1ubvh8x:after{content:'';display:block;position:absolute;right:0;top:0;bottom:0;left:0;width:1px;height:auto;background-color:#506991;z-index:1;}}.dcr-sqg38i{font-family:GuardianTextSans,Guardian Text Sans Web,Helvetica Neue,Helvetica,Arial,Lucida Grande,sans-serif;font-size:1.0625rem;line-height:1.5;font-weight:400;box-sizing:border-box;display:-webkit-box;display:-webkit-flex;display:-ms-flexbox;display:flex;-webkit-box-flex-wrap:wrap;-webkit-flex-wrap:wrap;-ms-flex-wrap:wrap;flex-wrap:wrap;list-style:none;margin:0;padding:0 0 12px;position:relative;}.dcr-sqg38i li::before{content:'\\200B';display:block;height:0;width:0;}@media (min-width: 980px){.dcr-sqg38i{display:-webkit-box;display:-webkit-flex;display:-ms-flexbox;display:flex;-webkit-flex-direction:column;-ms-flex-direction:column;flex-direction:column;-webkit-box-flex-wrap:nowrap;-webkit-flex-wrap:nowrap;-ms-flex-wrap:nowrap;flex-wrap:nowrap;-webkit-order:1;-ms-flex-order:1;order:1;height:100%;width:100%;padding:0 9px;}}.dcr-29mg8u{font-family:GuardianTextSans,Guardian Text Sans Web,Helvetica Neue,Helvetica,Arial,Lucida Grande,sans-serif;font-size:1.0625rem;line-height:1.5;font-weight:400;list-style:none;margin:0;padding-bottom:10px;position:relative;}.dcr-29mg8u::before{content:'\\200B';display:block;height:0;width:0;}.dcr-29mg8u:after{background-color:#506991;top:0;content:'';display:block;height:1px;left:50px;position:absolute;right:0;}.dcr-29mg8u:first-of-type:after{content:none;}@media (min-width: 980px){.dcr-29mg8u{width:134px;float:left;position:relative;}.dcr-29mg8u:after{content:none;}.dcr-29mg8u:first-of-type{width:123px;}}@media (min-width: 1140px){.dcr-29mg8u{width:160px;}.dcr-29mg8u:first-of-type{width:150px;}}.dcr-1wfuz1o{fill:currentColor;height:28px;left:18px;position:absolute;top:5px;width:28px;}.dcr-6711t4{display:none;position:absolute;right:20px;top:4px;bottom:0;}@media (min-width: 980px){.dcr-6711t4{display:block;}}.dcr-upde3g{width:131px;box-sizing:border-box;font-family:GuardianTextSans,Guardian Text Sans Web,Helvetica Neue,Helvetica,Arial,Lucida Grande,sans-serif;font-size:1.0625rem;line-height:1.5;font-weight:400;-webkit-box-flex-wrap:wrap;-webkit-flex-wrap:wrap;-ms-flex-wrap:wrap;flex-wrap:wrap;list-style:none;margin:0;padding:0 0 12px;display:-webkit-box;display:-webkit-flex;display:-ms-flexbox;display:flex;-webkit-flex-direction:column;-ms-flex-direction:column;flex-direction:column;padding-bottom:0;}.dcr-upde3g li::before{content:'\\200B';display:block;height:0;width:0;}@media (min-width: 1140px){.dcr-upde3g{width:140px;}}@media (min-width: 1300px){.dcr-upde3g{width:300px;}}.dcr-1yr64jd{margin-right:0;margin-top:-6px;padding-bottom:0;}.dcr-18x77xn{font-family:GH Guardian Headline,Guardian Egyptian Web,Georgia,serif;font-size:1.25rem;line-height:1.15;font-weight:500;font-weight:700;background-color:transparent;border:0;box-sizing:border-box;color:#FFFFFF;cursor:pointer;display:inline-block;outline:none;padding:8px 34px 8px 50px;position:relative;text-align:left;width:100%;-webkit-text-decoration:none;text-decoration:none;}@media (min-width: 740px){.dcr-18x77xn{padding-left:60px;}}@media (min-width: 980px){.dcr-18x77xn{padding:6px 0;}}@media (min-width: 1300px){.dcr-18x77xn{font-size:24px;}}.dcr-18x77xn:hover,.dcr-18x77xn:focus{color:#FFE500;}.dcr-18x77xn >*{pointer-events:none;}.dcr-1ii239v{background-color:transparent;}.dcr-1f41bee{position:relative;margin:auto;border-top:1px solid #DCDCDC;}@media (min-width: 740px){.dcr-1f41bee{max-width:740px;}}@media (min-width: 980px){.dcr-1f41bee{max-width:980px;}}@media (min-width: 1140px){.dcr-1f41bee{max-width:1140px;}}@media (min-width: 1300px){.dcr-1f41bee{max-width:1300px;}}@media (min-width: 740px){.dcr-1f41bee{border-left:1px solid #DCDCDC;border-right:1px solid #DCDCDC;}}.dcr-1nbntzu{height:36px;overflow:hidden;display:-webkit-box;display:-webkit-flex;display:-ms-flexbox;display:flex;-webkit-box-pack:justify;-webkit-justify-content:space-between;justify-content:space-between;}@media (min-width: 740px){.dcr-1nbntzu{height:42px;}}.dcr-1mc3jf3{list-style:none;padding:0 5px;}.dcr-1mc3jf3 li::before{content:'\\200B';display:block;height:0;width:0;}@media (min-width: 480px){.dcr-1mc3jf3{padding:0 15px;}}.dcr-1mc3jf3 li{float:left;display:block;}.dcr-jkyl0f{font-family:GuardianTextSans,Guardian Text Sans Web,Helvetica Neue,Helvetica,Arial,Lucida Grande,sans-serif;font-size:0.9375rem;line-height:1.5;font-weight:400;font-size:14px;font-weight:500;color:#121212;padding:0 5px;height:36px;line-height:36px;float:left;-webkit-text-decoration:none;text-decoration:none;}@media (min-width: 740px){.dcr-jkyl0f{font-family:GuardianTextSans,Guardian Text Sans Web,Helvetica Neue,Helvetica,Arial,Lucida Grande,sans-serif;font-size:1.0625rem;line-height:1.5;font-weight:400;font-size:16px;}}@media (min-width: 740px){.dcr-jkyl0f{height:42px;line-height:42px;}}.dcr-jkyl0f:hover{color:#0077B6;}.dcr-jkyl0f:focus{line-height:26px;height:26px;margin-top:5px;}@media (min-width: 740px){.dcr-jkyl0f:focus{height:32px;line-height:32px;}}.dcr-1j389vi{font-weight:700;}.dcr-5827gf{position:relative;margin:auto;}@media (min-width: 740px){.dcr-5827gf{max-width:740px;}}@media (min-width: 980px){.dcr-5827gf{max-width:980px;}}@media (min-width: 1140px){.dcr-5827gf{max-width:1140px;}}@media (min-width: 1300px){.dcr-5827gf{max-width:1300px;}}@media (min-width: 740px){.dcr-5827gf{border-left:1px solid #DCDCDC;border-right:1px solid #DCDCDC;}}.dcr-1038kzh{background-image:repeating-linear-gradient(\n",
      "\t\t\t\t\tto bottom,\n",
      "\t\t\t\t\t#DCDCDC,\n",
      "\t\t\t\t\t#DCDCDC 1px,\n",
      "\t\t\t\t\ttransparent 1px,\n",
      "\t\t\t\t\ttransparent 0.25rem\n",
      "\t\t\t\t);background-repeat:repeat-x;-webkit-background-position:top;background-position:top;-webkit-background-size:1px calc(0.25rem * 3 + 1px);background-size:1px calc(0.25rem * 3 + 1px);height:calc(0.25rem * 3 + 1px);}.dcr-1cn4pv6{height:0;}.dcr-1ipk5a{position:relative;margin:auto;padding:0 10px;}@media (min-width: 740px){.dcr-1ipk5a{max-width:740px;}}@media (min-width: 980px){.dcr-1ipk5a{max-width:980px;}}@media (min-width: 1140px){.dcr-1ipk5a{max-width:1140px;}}@media (min-width: 1300px){.dcr-1ipk5a{max-width:1300px;}}@media (min-width: 740px){.dcr-1ipk5a{border-left:1px solid #DCDCDC;border-right:1px solid #DCDCDC;}}@media (min-width: 480px){.dcr-1ipk5a{padding:0 20px;}}.dcr-1c5ohp{display:-webkit-box;display:-webkit-flex;display:-ms-flexbox;display:flex;-webkit-flex-direction:column;-ms-flex-direction:column;flex-direction:column;}@media (max-width: 1139px){.dcr-1c5ohp{margin-left:0px;}}@media (min-width: 1140px){.dcr-1c5ohp{margin-left:151px;}}@media (min-width: 1300px){.dcr-1c5ohp{margin-left:230px;}}@supports (display: grid){.dcr-1c5ohp{display:grid;width:100%;margin-left:0;grid-column-gap:10px;}@media (min-width: 1300px){.dcr-1c5ohp{grid-template-columns:219px 1px 1fr 300px;grid-template-areas:'title  border  headline     right-column' '.      border  standfirst   right-column' 'lines  border  media        right-column' 'meta   border  media        right-column' 'meta   border  body         right-column' '.      border  .            right-column';}}@media (max-width: 1299px){.dcr-1c5ohp{grid-template-columns:140px 1px 1fr 300px;grid-template-areas:'title  border  headline     right-column' '.      border  standfirst   right-column' 'lines  border  media        right-column' 'meta   border  media        right-column' 'meta   border  body         right-column' '.      border  .            right-column';}}@media (max-width: 1139px){.dcr-1c5ohp{grid-template-columns:1fr 300px;grid-template-areas:'title         right-column' 'headline      right-column' 'standfirst    right-column' 'media         right-column' 'lines         right-column' 'meta          right-column' 'body          right-column' '.             right-column';}}@media (max-width: 979px){.dcr-1c5ohp{grid-template-columns:1fr;grid-template-areas:'title' 'headline' 'standfirst' 'media' 'lines' 'meta' 'body';}}@media (max-width: 739px){.dcr-1c5ohp{grid-column-gap:0px;grid-template-columns:1fr;grid-template-areas:'media' 'title' 'headline' 'standfirst' 'lines' 'meta' 'body';}}}.dcr-hfp9tp{grid-area:title;}.dcr-10jdkim{padding-top:8px;display:-webkit-box;display:-webkit-flex;display:-ms-flexbox;display:flex;-webkit-flex-direction:row;-ms-flex-direction:row;flex-direction:row;}@media (min-width: 1140px){.dcr-10jdkim{-webkit-flex-direction:column;-ms-flex-direction:column;flex-direction:column;}}.dcr-xpz8pg{-webkit-text-decoration:none;text-decoration:none;color:#0077B6;background-color:transparent;font-family:GH Guardian Headline,Guardian Egyptian Web,Georgia,serif;font-size:1.0625rem;line-height:1.15;font-weight:700;word-break:break-word;}.dcr-xpz8pg:hover{-webkit-text-decoration:underline;text-decoration:underline;}@media (max-width: 1139px){.dcr-xpz8pg{margin-right:8px;}}@media (min-width: 1300px){.dcr-xpz8pg{font-family:GH Guardian Headline,Guardian Egyptian Web,Georgia,serif;font-size:1.25rem;line-height:1.15;font-weight:700;}}.dcr-qpwrb4{grid-area:border;}@media (min-width: 1140px){.dcr-17igkm0{border-left:1px solid #DCDCDC;height:100%;}}.dcr-7disnw{grid-area:matchNav;}@media (min-width: 980px){.dcr-krkkhw{max-width:620px;}}.dcr-12l0bud{grid-area:matchtabs;}.dcr-1nupfq9{grid-area:headline;}.dcr-13a2edo{padding-bottom:24px;}@media (min-width: 740px){.dcr-13a2edo{padding-bottom:36px;}}.dcr-1olvc81{font-family:GH Guardian Headline,Guardian Egyptian Web,Georgia,serif;font-size:2.125rem;line-height:1.15;font-weight:700;color:#005689;}@media (max-width: 739px){.dcr-1olvc81{font-family:GH Guardian Headline,Guardian Egyptian Web,Georgia,serif;font-size:1.75rem;line-height:1.15;font-weight:700;}}@media (min-width: 1140px){.dcr-1olvc81{padding-top:4px;}}.dcr-zjgnrw{grid-area:standfirst;}.dcr-yddhpt{font-family:GH Guardian Headline,Guardian Egyptian Web,Georgia,serif;font-size:1.25rem;line-height:1.15;font-weight:300;margin-bottom:12px;max-width:540px;color:#121212;}.dcr-yddhpt li{margin-bottom:6px;padding-left:19px;}.dcr-yddhpt li p{display:inline;}.dcr-yddhpt li:before{display:inline-block;content:'';border-radius:50%;height:0.7em;width:0.7em;margin-right:7px;background-color:#DCDCDC;margin-left:-19px;}.dcr-yddhpt p{margin-bottom:8px;}.dcr-yddhpt strong{font-weight:bold;}.dcr-yddhpt [data-dcr-style='bullet']{display:inline-block;content:'';border-radius:50%;height:13px;width:13px;margin-right:2px;background-color:#DCDCDC;}.dcr-yddhpt a{color:#0077B6;-webkit-text-decoration:none;text-decoration:none;border-bottom:1px solid #DCDCDC;-webkit-transition:border-color 0.15s ease-out;transition:border-color 0.15s ease-out;}.dcr-yddhpt li:before{height:15px;width:15px;}.dcr-yddhpt a:hover{border-bottom:solid 1px #DCDCDC;}.dcr-pn0kqp{grid-area:media;}.dcr-16n5mgq{height:100%;min-height:1px;}@media (max-width: 739px){.dcr-16n5mgq{margin:0;-webkit-order:2;-ms-flex-order:2;order:2;}}.dcr-16n5mgq img{-webkit-flex:0 0 auto;-ms-flex:0 0 auto;flex:0 0 auto;width:100%;height:100%;}@media (max-width: 659px){.dcr-16n5mgq{margin-left:-20px;margin-right:-20px;}}@media (max-width: 479px){.dcr-16n5mgq{margin-left:-10px;margin-right:-10px;}}.dcr-13udsys{height:100%;}.dcr-1b267dg{position:relative;}.dcr-1b267dg img{height:100%;width:100%;object-fit:cover;}.dcr-1989ovb{vertical-align:middle;}@media (min-width: 740px){.dcr-172h6t9{display:none;}}.dcr-ho1qnd{display:-webkit-box;display:-webkit-flex;display:-ms-flexbox;display:flex;-webkit-flex-direction:row;-ms-flex-direction:row;flex-direction:row;}.dcr-1kjku2s #the-checkbox{display:none;}.dcr-1kjku2s #the-caption{display:none;}.dcr-1kjku2s #the-checkbox:checked+#the-caption{display:block;}.dcr-1e2h9sk{position:absolute;right:5px;width:32px;height:32px;z-index:1;background-color:rgba(18, 18, 18, 0.6);border-radius:50%;bottom:6px;border:none;cursor:pointer;}.dcr-1e2h9sk svg{top:0;bottom:0;right:0;left:0;margin:auto;position:absolute;fill:white;}.dcr-1v21d63{font-family:GuardianTextSans,Guardian Text Sans Web,Helvetica Neue,Helvetica,Arial,Lucida Grande,sans-serif;font-size:0.875rem;line-height:1.5;font-weight:400;line-height:135%;padding-top:6px;word-wrap:break-all;color:#707070;position:absolute;left:0;right:0;bottom:0;background:rgba(18, 18, 18, 0.8);color:#FFFFFF;font-size:0.75rem;line-height:1rem;padding-top:0.375rem;padding-right:2.5rem;padding-left:0.75rem;padding-bottom:0.375rem;-webkit-box-flex:1;-webkit-flex-grow:1;-ms-flex-positive:1;flex-grow:1;min-height:2.25rem;}.dcr-1v21d63 span{color:#FFFFFF;font-size:0.75rem;line-height:1rem;}.dcr-1v21d63 svg{fill:#FFFFFF;}.dcr-1usbar2{fill:#707070;margin-right:4px;display:inline-block;position:relative;width:1em;vertical-align:baseline;}.dcr-1usbar2::before{content:' ';display:block;padding-top:72.22222222222221%;}.dcr-1usbar2 svg{top:0px;right:0px;bottom:0px;left:0px;width:100%;position:absolute;height:100%;}.dcr-nnoipb a{color:#0077B6;-webkit-text-decoration:none;text-decoration:none;}.dcr-nnoipb a:hover{-webkit-text-decoration:underline;text-decoration:underline;}.dcr-nnoipb strong{font-weight:bold;}.dcr-w6u133{font-family:GuardianTextSans,Guardian Text Sans Web,Helvetica Neue,Helvetica,Arial,Lucida Grande,sans-serif;font-size:0.875rem;line-height:1.5;font-weight:400;line-height:135%;padding-top:6px;word-wrap:break-all;color:#707070;margin-bottom:6px;}.dcr-1o781fl{grid-area:lines;}@media (max-width: 659px){.dcr-ss9mnu{margin-left:-20px;margin-right:-20px;}}@media (max-width: 479px){.dcr-ss9mnu{margin-left:-10px;margin-right:-10px;}}.dcr-sko21e{background-image:url(\"data:image/svg+xml,%3csvg xmlns='http://www.w3.org/2000/svg' width='3' height='12' viewBox='0 0 3 12' %3e%2c%3ccircle fill='%23DCDCDC' cx='1.5' cy='1.5' r='1' /%3e%2c%3ccircle fill='%23DCDCDC' cx='1.5' cy='4.5' r='1' /%3e%2c%3ccircle fill='%23DCDCDC' cx='1.5' cy='7.5' r='1' /%3e%2c%3ccircle fill='%23DCDCDC' cx='1.5' cy='10.5' r='1' /%3e%2c%3c/svg%3e\");height:12px;}.dcr-1aul2ye{grid-area:meta;}.dcr-1eucl2a{padding-top:2px;}@media (min-width: 740px) and (max-width: 1139px){.dcr-1eucl2a{-webkit-order:3;-ms-flex-order:3;order:3;}}@media (max-width: 479px){.dcr-1eucl2a{padding-left:10px;padding-right:10px;}}@media (min-width: 480px){.dcr-1eucl2a{padding-left:20px;padding-right:20px;}}@media (min-width: 660px){.dcr-1eucl2a{padding-left:0px;padding-right:0px;}}.dcr-fj5ypv{display:-webkit-box;display:-webkit-flex;display:-ms-flexbox;display:flex;-webkit-flex-direction:column;-ms-flex-direction:column;flex-direction:column;}@media (max-width: 1139px){.dcr-fj5ypv{-webkit-flex-direction:row;-ms-flex-direction:row;flex-direction:row;}}.dcr-187adts{font-family:GH Guardian Headline,Guardian Egyptian Web,Georgia,serif;font-size:1.0625rem;line-height:1.15;font-weight:500;padding-bottom:8px;font-style:italic;color:#0077B6;}.dcr-187adts a{font-weight:700;-webkit-text-decoration:none;text-decoration:none;font-style:normal;}.dcr-187adts a:hover{-webkit-text-decoration:underline;text-decoration:underline;}.dcr-187adts a{color:#0077B6;}.dcr-mjksz5{font-family:GuardianTextSans,Guardian Text Sans Web,Helvetica Neue,Helvetica,Arial,Lucida Grande,sans-serif;font-size:0.75rem;line-height:1.5;font-weight:400;font-weight:bold;color:#707070;padding-right:10px;display:inline-block;}.dcr-mjksz5 svg{height:10px;max-width:12px;margin-right:0px;fill:#707070;}.dcr-mjksz5 a{color:#707070;-webkit-text-decoration:none;text-decoration:none;}.dcr-km9fgb{padding-top:2px;margin-bottom:6px;font-family:GuardianTextSans,Guardian Text Sans Web,Helvetica Neue,Helvetica,Arial,Lucida Grande,sans-serif;font-size:0.75rem;line-height:1.5;font-weight:400;color:#707070;}.dcr-12fpzem{list-style:none;cursor:pointer;}.dcr-12fpzem:hover{-webkit-text-decoration:underline;text-decoration:underline;}.dcr-15yir0q{margin-bottom:6px;display:-webkit-box;display:-webkit-flex;display:-ms-flexbox;display:flex;-webkit-box-pack:justify;-webkit-justify-content:space-between;justify-content:space-between;-webkit-box-flex-wrap:wrap;-webkit-flex-wrap:wrap;-ms-flex-wrap:wrap;flex-wrap:wrap;}.dcr-1jafwuq{border-top:1px solid #DCDCDC;-webkit-box-flex:1;-webkit-flex-grow:1;-ms-flex-positive:1;flex-grow:1;padding-top:6px;}@media (max-width: 659px){.dcr-1jafwuq{margin-left:-20px;margin-right:-20px;padding-left:20px;padding-right:20px;}}@media (max-width: 479px){.dcr-1jafwuq{margin-left:-10px;margin-right:-10px;padding-left:10px;padding-right:10px;}}@media (min-width: 1140px) and (max-width: 1299px){.dcr-1jafwuq{padding-bottom:6px;}}.dcr-1n0u3w8{float:left;}@media (min-width: 1300px){.dcr-1n0u3w8{-webkit-flex:auto;-ms-flex:auto;flex:auto;}}.dcr-i43ppq{padding-right:3px;float:left;min-width:32px;cursor:pointer;}.dcr-1prk3xc{border:1px solid #DCDCDC;white-space:nowrap;overflow:hidden;text-overflow:ellipsis;min-width:32px;max-width:100%;width:auto;height:32px;border-radius:50%;display:inline-block;vertical-align:middle;position:relative;box-sizing:content-box;fill:#0077B6;}.dcr-1prk3xc svg{height:88%;width:88%;top:0;bottom:0;right:0;left:0;margin:auto;position:absolute;}.dcr-1prk3xc:hover{background-color:#0077B6;border-color:#0077B6;fill:white;}.dcr-1ni4us3{border-top:1px solid #DCDCDC;display:-webkit-box;display:-webkit-flex;display:-ms-flexbox;display:flex;-webkit-box-flex:1;-webkit-flex-grow:1;-ms-flex-positive:1;flex-grow:1;-webkit-box-pack:end;-ms-flex-pack:end;-webkit-justify-content:flex-end;justify-content:flex-end;}@media (min-width: 1140px) and (max-width: 1299px){.dcr-1ni4us3{-webkit-box-pack:start;-ms-flex-pack:start;-webkit-justify-content:flex-start;justify-content:flex-start;}}@media (max-width: 659px){.dcr-1ni4us3{margin-left:-20px;margin-right:-20px;padding-left:20px;padding-right:20px;}}@media (max-width: 479px){.dcr-1ni4us3{margin-left:-10px;margin-right:-10px;padding-left:10px;padding-right:10px;}}.dcr-1kr2ya4{display:-webkit-box;display:-webkit-flex;display:-ms-flexbox;display:flex;-webkit-flex-direction:row;-ms-flex-direction:row;flex-direction:row;-webkit-align-items:flex-start;-webkit-box-align:flex-start;-ms-flex-align:flex-start;align-items:flex-start;}.dcr-1kr2ya4 .meta-number:not(:empty)+.meta-number:not(:empty){border-left:1px solid #DCDCDC;margin-left:4px;padding-left:4px;height:40px;}.dcr-185kcx9{grid-area:body;z-index:3;}.dcr-1t6t995{-webkit-box-flex:1;-webkit-flex-grow:1;-ms-flex-positive:1;flex-grow:1;z-index:1;}@media (max-width: 1139px){.dcr-1t6t995{padding-left:0;}}@media (min-width: 980px){.dcr-1t6t995{width:620px;}}@media print{.dcr-1t6t995 .ad-slot{display:none!important;}}.dcr-1t6t995 .ad-slot.ad-slot--collapse{display:none;}@media (min-width: 980px){.dcr-1t6t995 .ad-slot--mostpop{margin:0;width:auto;}}.dcr-1t6t995 .ad-slot--inline,.dcr-1t6t995 .ad-slot-liveblog--inline{width:300px;margin:12px auto;min-width:160px;min-height:274px;text-align:center;}@media (min-width: 740px){.dcr-1t6t995 .ad-slot--inline,.dcr-1t6t995 .ad-slot-liveblog--inline{margin-right:-100px;width:auto;float:right;margin-top:4px;margin-left:20px;}}@media (min-width: 980px){.dcr-1t6t995 .ad-slot--inline,.dcr-1t6t995 .ad-slot-liveblog--inline{width:auto;float:right;margin:0;margin-top:4px;margin-left:20px;}}.dcr-1t6t995 .ad-slot--inline:not(.ad-slot--inline1):not(.ad-slot--top-above-nav):not(.ad-slot--fluid){max-width:300px;}@media (min-width: 980px){.dcr-1t6t995 .ad-slot--offset-right{float:right;width:auto;margin-right:-318px;}}@media (min-width: 1300px){.dcr-1t6t995 .ad-slot--offset-right{margin-right:-398px;}}@media (min-width: 740px){.dcr-1t6t995 .ad-slot--outstream{margin-left:0;width:100%;}.dcr-1t6t995 .ad-slot--outstream .ad-slot__label{margin-left:35px;margin-right:35px;}}.dcr-1t6t995 .ad-slot--fluid{width:100%;}.dcr-1t6t995 .ad-slot--liveblog-inline{margin:0 auto 12px;}.dcr-1t6t995 .ad-slot--liveblog-inline .ad-slot__label{color:#707070;border-top-color:#DCDCDC;}@media (min-width: 740px){.dcr-1t6t995 .ad-slot--liveblog-inline.ad-slot--outstream{width:620px;}}.dcr-1t6t995 .ad-slot--liveblog-inline:not(.ad-slot--outstream){width:300px;background-color:#EDEDED;text-align:center;}@media (min-width: 740px){.dcr-1t6t995 .ad-slot--liveblog-inline:not(.ad-slot--outstream){width:100%;padding-bottom:24px;}.dcr-1t6t995 .ad-slot--liveblog-inline:not(.ad-slot--outstream)>div:not(.ad-slot__label){width:300px;margin-left:auto;margin-right:auto;}}.dcr-1t6t995 .ad-slot--liveblog-inline.ad-slot--fluid{background-color:green;width:100%;}.dcr-1t6t995 .ad-slot--carrot{float:left;clear:both;width:140px;margin-right:20px;margin-bottom:4px;}@media (min-width: 1140px){.dcr-1t6t995 .ad-slot--carrot{position:relative;margin-left:-160px;width:140px;}}@media (min-width: 1300px){.dcr-1t6t995 .ad-slot--carrot{margin-left:-240px;width:220px;}}.dcr-1t6t995 .ad-slot__label,.dcr-1t6t995 .ad-slot__scroll{font-family:GuardianTextSans,Guardian Text Sans Web,Helvetica Neue,Helvetica,Arial,Lucida Grande,sans-serif;font-size:0.75rem;line-height:1.5;font-weight:400;position:relative;height:24px;background-color:#F6F6F6;padding:0 8px;border-top:1px solid #DCDCDC;color:#707070;text-align:left;box-sizing:border-box;}.dcr-1t6t995 .ad-slot__label.visible,.dcr-1t6t995 .ad-slot__scroll.visible{visibility:initial;}.dcr-1t6t995 .ad-slot__label.hidden,.dcr-1t6t995 .ad-slot__scroll.hidden{visibility:hidden;}.dcr-1t6t995 .ad-slot__label.ad-slot__label--toggle,.dcr-1t6t995 .ad-slot__scroll.ad-slot__label--toggle{margin:0 auto;}@media (max-width: 739px){.dcr-1t6t995 .ad-slot__label.ad-slot__label--toggle,.dcr-1t6t995 .ad-slot__scroll.ad-slot__label--toggle{display:none;}}.dcr-1t6t995 .ad-slot__close-button{display:none;}.dcr-1t6t995 .ad-slot__scroll{position:fixed;bottom:0;width:100%;}@media (min-width: 740px) and (max-width: 979px){.dcr-p5nhr4{padding-right:80px;}}.dcr-p5nhr4 h2:not([data-ignore='global-h2-styling']){font-family:GH Guardian Headline,Guardian Egyptian Web,Georgia,serif;font-size:1.25rem;line-height:1.15;font-weight:700;}.dcr-p5nhr4 ol:not([data-ignore='global-ol-styling']){counter-reset:li;}.dcr-p5nhr4 ol:not([data-ignore='global-ol-styling']) li:before{font-family:GuardianTextEgyptian,Guardian Text Egyptian Web,Georgia,serif;font-size:1.0625rem;line-height:1.15;font-weight:400;content:counter(li);counter-increment:li;margin-right:4px;}.dcr-p5nhr4 strong{font-weight:bold;}.dcr-p5nhr4 a:not([data-ignore='global-link-styling']){-webkit-text-decoration:none;text-decoration:none;border-bottom:1px solid #DCDCDC;color:#0077B6;}.dcr-p5nhr4 a:not([data-ignore='global-link-styling']):hover{color:#0077B6;border-bottom:1px solid #0077B6;}.dcr-ucgxn1{position:relative;}.dcr-ucgxn1 .ad-slot__label,.dcr-ucgxn1 .ad-slot__scroll{font-family:GuardianTextSans,Guardian Text Sans Web,Helvetica Neue,Helvetica,Arial,Lucida Grande,sans-serif;font-size:0.75rem;line-height:1.5;font-weight:400;position:relative;height:24px;background-color:#F6F6F6;padding:0 8px;border-top:1px solid #DCDCDC;color:#707070;text-align:left;box-sizing:border-box;}.dcr-ucgxn1 .ad-slot__label.visible,.dcr-ucgxn1 .ad-slot__scroll.visible{visibility:initial;}.dcr-ucgxn1 .ad-slot__label.hidden,.dcr-ucgxn1 .ad-slot__scroll.hidden{visibility:hidden;}.dcr-ucgxn1 .ad-slot__label.ad-slot__label--toggle,.dcr-ucgxn1 .ad-slot__scroll.ad-slot__label--toggle{margin:0 auto;}@media (max-width: 739px){.dcr-ucgxn1 .ad-slot__label.ad-slot__label--toggle,.dcr-ucgxn1 .ad-slot__scroll.ad-slot__label--toggle{display:none;}}.dcr-ucgxn1 .ad-slot__close-button{display:none;}.dcr-ucgxn1 .ad-slot__scroll{position:fixed;bottom:0;width:100%;}.dcr-ucgxn1 .ad-slot.ad-slot--collapse{display:none;}.dcr-ucgxn1 .ad-slot--im{float:left;width:130px;}@media (min-width: 480px){.dcr-ucgxn1 .ad-slot--im{width:220px;}}.dcr-ucgxn1 .ad-slot--im:not(.ad-slot--rendered){width:0;height:0;}.dcr-ucgxn1 .ad-slot--im.ad-slot--rendered{margin:5px 10px 6px 0;}@media (min-width: 480px){.dcr-ucgxn1 .ad-slot--im.ad-slot--rendered{margin-bottom:12px;margin-right:20px;}}.dcr-1u6kyh0{margin-bottom:1rem;word-break:break-word;font-family:GuardianTextEgyptian,Guardian Text Egyptian Web,Georgia,serif;font-size:1.0625rem;line-height:1.5;font-weight:400;}.dcr-1u6kyh0 ul{margin-bottom:0.75rem;}@media (min-width: 740px){.dcr-1u6kyh0 ul{margin-bottom:1rem;}}.dcr-1u6kyh0 li{margin-bottom:0.375rem;padding-left:1.25rem;}.dcr-1u6kyh0 li p{display:inline;}.dcr-1u6kyh0 li:before{display:inline-block;content:'';border-radius:50%;height:0.8125rem;width:0.8125rem;background-color:#DCDCDC;margin-left:-1.25rem;margin-right:0.4375rem;}.dcr-1u6kyh0 sub{bottom:-0.25em;}.dcr-1u6kyh0 sup{top:-0.5em;}.dcr-1u6kyh0 sub,.dcr-1u6kyh0 sup{font-size:75%;line-height:0;position:relative;vertical-align:baseline;}.dcr-1u6kyh0 [data-dcr-style='bullet']{display:inline-block;content:'';border-radius:50%;height:0.8125rem;width:0.8125rem;margin-right:0.0125rem;background-color:#0077B6;}@media (max-width: 739px){.dcr-1u6kyh0{overflow-wrap:anywhere;word-wrap:break-word;}}.dcr-1ohfkpt{font-family:GH Guardian Headline,Guardian Egyptian Web,Georgia,serif;font-size:2.625rem;line-height:1.15;font-weight:300;float:left;text-transform:uppercase;box-sizing:border-box;margin-right:4px;color:#005689;}.dcr-1jnp7wy{font-family:GH Guardian Headline,Guardian Egyptian Web,Georgia,serif;font-size:2.625rem;line-height:1.15;font-weight:700;font-size:118px;line-height:99px;vertical-align:text-top;pointer-events:none;margin-right:4px;font-weight:700;}.dcr-1mfia18{margin-bottom:4px;float:left;clear:left;width:140px;margin-right:20px;}@media (min-width: 740px){.dcr-1mfia18{width:140px;}}@media (min-width: 1140px){.dcr-1mfia18{position:relative;margin-left:-160px;width:140px;}}@media (min-width: 1300px){.dcr-1mfia18{margin-left:-240px;width:220px;}}.dcr-f2ug42{background-color:#595C5F;}.dcr-s7oxzu{background-color:#F6F6F6;}.dcr-s7oxzu a{color:inherit;}.dcr-s7oxzu:hover{background-color:#EDEDED;}.dcr-g65o95{-webkit-text-decoration:none;text-decoration:none;}.dcr-noynp9{border-top:1px;border-top-style:solid;border-top-color:#595C5F;}.dcr-1d91meq{padding-top:2px;padding-right:5px;padding-left:5px;padding-bottom:5px;}.dcr-m4qltb{padding-bottom:10px;color:#000000;}.dcr-1gqsble{font-family:GH Guardian Headline,Guardian Egyptian Web,Georgia,serif;font-size:1.0625rem;line-height:1.15;font-weight:500;font-size:14px;padding-top:1px;padding-bottom:1px;font-weight:400;}@media (min-width: 1300px){.dcr-1gqsble{font-family:GH Guardian Headline,Guardian Egyptian Web,Georgia,serif;font-size:1.25rem;line-height:1.15;font-weight:500;padding-bottom:5px;}}.dcr-1a318iq{fill:#595C5F;color:#595C5F;padding-top:2px;}.dcr-dobi02{font-family:GH Guardian Headline,Guardian Egyptian Web,Georgia,serif;font-size:1.0625rem;line-height:1.15;font-weight:500;font-size:14px;display:inline-block;height:30px;line-height:25px;padding-left:4px;vertical-align:top;font-weight:500;-webkit-text-decoration:none;text-decoration:none;}@media (min-width: 1300px){.dcr-dobi02{font-family:GH Guardian Headline,Guardian Egyptian Web,Georgia,serif;font-size:1.0625rem;line-height:1.15;font-weight:500;line-height:25px;}}.dcr-1k32900{padding-bottom:36px;}@media (max-width: 979px){.dcr-1k32900{padding-bottom:20px;}}.dcr-12ae8vg{font-family:GuardianTextSans,Guardian Text Sans Web,Helvetica Neue,Helvetica,Arial,Lucida Grande,sans-serif;font-size:0.75rem;line-height:1.5;font-weight:400;display:block;color:#707070;}.dcr-lwa3gj{padding-bottom:12px;margin-bottom:6px;border-bottom:1px solid #DCDCDC;}.dcr-1r2wmvc{list-style:none;}.dcr-1r2wmvc li::before{content:'\\200B';display:block;height:0;width:0;}.dcr-1231g41{margin-right:5px;display:inline-block;font-family:GH Guardian Headline,Guardian Egyptian Web,Georgia,serif;font-size:1.0625rem;line-height:1.15;font-weight:500;}.dcr-1231g41 a{position:relative;display:block;padding-right:5px;-webkit-text-decoration:none;text-decoration:none;}.dcr-1231g41 a::after{content:'/';position:absolute;pointer-events:none;top:0;right:-3px;color:#707070;}.dcr-1231g41 a:hover{-webkit-text-decoration:underline;text-decoration:underline;}.dcr-1231g41 a::after{content:'';}.dcr-s8p16s{-webkit-text-decoration:none;text-decoration:none;color:#0077B6;}.dcr-s8p16s:hover{-webkit-text-decoration:underline;text-decoration:underline;}.dcr-cv9v52{margin-right:5px;display:inline-block;font-family:GuardianTextSans,Guardian Text Sans Web,Helvetica Neue,Helvetica,Arial,Lucida Grande,sans-serif;font-size:0.9375rem;line-height:1.5;font-weight:400;}.dcr-cv9v52 a{position:relative;display:block;padding-right:5px;-webkit-text-decoration:none;text-decoration:none;}.dcr-cv9v52 a::after{content:'/';position:absolute;pointer-events:none;top:0;right:-3px;color:#707070;}.dcr-cv9v52 a:hover{-webkit-text-decoration:underline;text-decoration:underline;}.dcr-bd6g3a{margin-right:5px;display:inline-block;font-family:GuardianTextSans,Guardian Text Sans Web,Helvetica Neue,Helvetica,Arial,Lucida Grande,sans-serif;font-size:0.9375rem;line-height:1.5;font-weight:400;}.dcr-bd6g3a a{position:relative;display:block;padding-right:5px;-webkit-text-decoration:none;text-decoration:none;}.dcr-bd6g3a a::after{content:'/';position:absolute;pointer-events:none;top:0;right:-3px;color:#707070;}.dcr-bd6g3a a:hover{-webkit-text-decoration:underline;text-decoration:underline;}.dcr-bd6g3a a::after{content:'';}.dcr-1eoy87d{display:-webkit-box;display:-webkit-flex;display:-ms-flexbox;display:flex;-webkit-box-pack:justify;-webkit-justify-content:space-between;justify-content:space-between;}@media (min-width: 660px){.dcr-1y49m2s{display:none;}}.dcr-i7y23i{padding-right:3px;float:left;min-width:32px;cursor:pointer;margin-top:3px;}.dcr-1jksdif >a{color:#707070;border-color:#DCDCDC;font-weight:normal;}.dcr-14txwjj{display:-webkit-inline-box;display:-webkit-inline-flex;display:-ms-inline-flexbox;display:inline-flex;-webkit-box-pack:justify;-webkit-justify-content:space-between;justify-content:space-between;-webkit-align-items:center;-webkit-box-align:center;-ms-flex-align:center;align-items:center;box-sizing:border-box;border:none;background:transparent;cursor:pointer;-webkit-transition:.3s ease-in-out;transition:.3s ease-in-out;-webkit-text-decoration:none;text-decoration:none;white-space:nowrap;font-family:GuardianTextSans,Guardian Text Sans Web,Helvetica Neue,Helvetica,Arial,Lucida Grande,sans-serif;font-size:0.9375rem;line-height:1.5;font-weight:700;height:24px;min-height:24px;padding:0 12px;border-radius:24px;padding-bottom:2px;color:#052962;border:1px solid #052962;}.dcr-14txwjj:disabled{cursor:not-allowed;}.dcr-14txwjj:focus{outline:0;}html:not(.src-focus-disabled) .dcr-14txwjj:focus{box-shadow:0 0 0 5px #0093E0;}.dcr-14txwjj:hover{background-color:#E5E5E5;}.dcr-1mmek2x{position:absolute;top:0;right:0;z-index:2;}@supports (display: grid){.dcr-1mmek2x{position:relative;grid-area:right-column;}}.dcr-1l8oq0d{padding-top:6px;height:100%;}@media (min-width: 980px){.dcr-1l8oq0d{margin-left:20px;margin-right:-20px;}}@media (min-width: 1140px){.dcr-1l8oq0d{margin-left:0px;margin-right:0px;}}@media (max-width: 979px){.dcr-14aht0{display:none;}}@media (min-width: 980px){.dcr-14aht0{height:100%;display:block;-webkit-flex-basis:300px;-ms-flex-preferred-size:300px;flex-basis:300px;-webkit-box-flex:0;-webkit-flex-grow:0;-ms-flex-positive:0;flex-grow:0;-webkit-flex-shrink:0;-ms-flex-negative:0;flex-shrink:0;}}.dcr-9aekbr{position:static;height:1059px;}.dcr-1yci3g4{position:-webkit-sticky;position:sticky;top:0;}.dcr-1yci3g4 .ad-slot__label,.dcr-1yci3g4 .ad-slot__scroll{font-family:GuardianTextSans,Guardian Text Sans Web,Helvetica Neue,Helvetica,Arial,Lucida Grande,sans-serif;font-size:0.75rem;line-height:1.5;font-weight:400;position:relative;height:24px;background-color:#F6F6F6;padding:0 8px;border-top:1px solid #DCDCDC;color:#707070;text-align:left;box-sizing:border-box;}.dcr-1yci3g4 .ad-slot__label.visible,.dcr-1yci3g4 .ad-slot__scroll.visible{visibility:initial;}.dcr-1yci3g4 .ad-slot__label.hidden,.dcr-1yci3g4 .ad-slot__scroll.hidden{visibility:hidden;}.dcr-1yci3g4 .ad-slot__label.ad-slot__label--toggle,.dcr-1yci3g4 .ad-slot__scroll.ad-slot__label--toggle{margin:0 auto;}@media (max-width: 739px){.dcr-1yci3g4 .ad-slot__label.ad-slot__label--toggle,.dcr-1yci3g4 .ad-slot__scroll.ad-slot__label--toggle{display:none;}}.dcr-1yci3g4 .ad-slot__close-button{display:none;}.dcr-1yci3g4 .ad-slot__scroll{position:fixed;bottom:0;width:100%;}.dcr-1yci3g4.ad-slot--fluid{min-height:250px;line-height:10px;padding:0;margin:0;}.dcr-1aa1qlq{background-color:#EDEDED;}.dcr-16daxq8{position:relative;}.dcr-16daxq8 .ad-slot__label,.dcr-16daxq8 .ad-slot__scroll{font-family:GuardianTextSans,Guardian Text Sans Web,Helvetica Neue,Helvetica,Arial,Lucida Grande,sans-serif;font-size:0.75rem;line-height:1.5;font-weight:400;position:relative;height:24px;background-color:#F6F6F6;padding:0 8px;border-top:1px solid #DCDCDC;color:#707070;text-align:left;box-sizing:border-box;}.dcr-16daxq8 .ad-slot__label.visible,.dcr-16daxq8 .ad-slot__scroll.visible{visibility:initial;}.dcr-16daxq8 .ad-slot__label.hidden,.dcr-16daxq8 .ad-slot__scroll.hidden{visibility:hidden;}.dcr-16daxq8 .ad-slot__label.ad-slot__label--toggle,.dcr-16daxq8 .ad-slot__scroll.ad-slot__label--toggle{margin:0 auto;}@media (max-width: 739px){.dcr-16daxq8 .ad-slot__label.ad-slot__label--toggle,.dcr-16daxq8 .ad-slot__scroll.ad-slot__label--toggle{display:none;}}.dcr-16daxq8 .ad-slot__close-button{display:none;}.dcr-16daxq8 .ad-slot__scroll{position:fixed;bottom:0;width:100%;}.dcr-16daxq8.ad-slot--fluid{min-height:250px;line-height:10px;padding:0;margin:0;}.dcr-16daxq8.ad-slot--fluid{width:100%;}.dcr-ipj0ot{position:relative;margin:auto;border-top:1px solid #DCDCDC;padding:0 10px;}@media (min-width: 740px){.dcr-ipj0ot{max-width:740px;}}@media (min-width: 980px){.dcr-ipj0ot{max-width:980px;}}@media (min-width: 1140px){.dcr-ipj0ot{max-width:1140px;}}@media (min-width: 1300px){.dcr-ipj0ot{max-width:1300px;}}@media (min-width: 740px){.dcr-ipj0ot{border-left:1px solid #DCDCDC;border-right:1px solid #DCDCDC;}}@media (min-width: 480px){.dcr-ipj0ot{padding:0 20px;}}.dcr-1qun6ii{display:-webkit-box;display:-webkit-flex;display:-ms-flexbox;display:flex;-webkit-flex-direction:row;-ms-flex-direction:row;flex-direction:row;-webkit-box-pack:justify;-webkit-justify-content:space-between;justify-content:space-between;-ms-flex-positive:1;}.dcr-ederz6{position:relative;padding-right:10px;}@media (max-width: 1139px){.dcr-ederz6{display:none;}}@media (min-width: 1140px) and (max-width: 1299px){.dcr-ederz6{-webkit-flex-basis:151px;-ms-flex-preferred-size:151px;flex-basis:151px;-webkit-box-flex:0;-webkit-flex-grow:0;-ms-flex-positive:0;flex-grow:0;-webkit-flex-shrink:0;-ms-flex-negative:0;flex-shrink:0;}}@media (min-width: 1300px){.dcr-ederz6{-webkit-flex-basis:230px;-ms-flex-preferred-size:230px;flex-basis:230px;-webkit-box-flex:0;-webkit-flex-grow:0;-ms-flex-positive:0;flex-grow:0;-webkit-flex-shrink:0;-ms-flex-negative:0;flex-shrink:0;}}.dcr-12jyb8q{display:-webkit-box;display:-webkit-flex;display:-ms-flexbox;display:flex;-webkit-box-flex:1;-webkit-flex-grow:1;-ms-flex-positive:1;flex-grow:1;-webkit-flex-direction:column;-ms-flex-direction:column;flex-direction:column;width:100%;margin-top:8px;margin-bottom:36px;}@media (min-width: 1140px){.dcr-1mxfq91{display:none;}}.dcr-vnnc58{width:100%;max-width:100%;}@media (min-width: 1140px){.dcr-vnnc58{padding-left:10px;}}.dcr-104s2p4{position:static;height:100%;padding-left:20px;}.dcr-1445c9p{position:static;height:100%;}.dcr-1e9xw8u{position:-webkit-sticky;position:sticky;top:0;width:300px;}.dcr-1e9xw8u .ad-slot__label,.dcr-1e9xw8u .ad-slot__scroll{font-family:GuardianTextSans,Guardian Text Sans Web,Helvetica Neue,Helvetica,Arial,Lucida Grande,sans-serif;font-size:0.75rem;line-height:1.5;font-weight:400;position:relative;height:24px;background-color:#F6F6F6;padding:0 8px;border-top:1px solid #DCDCDC;color:#707070;text-align:left;box-sizing:border-box;}.dcr-1e9xw8u .ad-slot__label.visible,.dcr-1e9xw8u .ad-slot__scroll.visible{visibility:initial;}.dcr-1e9xw8u .ad-slot__label.hidden,.dcr-1e9xw8u .ad-slot__scroll.hidden{visibility:hidden;}.dcr-1e9xw8u .ad-slot__label.ad-slot__label--toggle,.dcr-1e9xw8u .ad-slot__scroll.ad-slot__label--toggle{margin:0 auto;}@media (max-width: 739px){.dcr-1e9xw8u .ad-slot__label.ad-slot__label--toggle,.dcr-1e9xw8u .ad-slot__scroll.ad-slot__label--toggle{display:none;}}.dcr-1e9xw8u .ad-slot__close-button{display:none;}.dcr-1e9xw8u .ad-slot__scroll{position:fixed;bottom:0;width:100%;}.dcr-1e9xw8u.ad-slot--fluid{min-height:250px;line-height:10px;padding:0;margin:0;}.dcr-6fomyg .ad-slot{margin:12px auto;min-width:300px;min-height:274px;text-align:center;}.dcr-1860pw2{display:-webkit-box;display:-webkit-flex;display:-ms-flexbox;display:flex;-webkit-flex-direction:column;-ms-flex-direction:column;flex-direction:column;}@media (min-width: 1140px){.dcr-1860pw2{-webkit-flex-direction:row;-ms-flex-direction:row;flex-direction:row;}}.dcr-1860pw2 .ad-slot--mostpop{width:300px;margin:12px auto;min-width:300px;min-height:274px;text-align:center;}@media (min-width: 980px){.dcr-1860pw2 .ad-slot--mostpop{margin:0;width:auto;}}.dcr-1860pw2 .ad-slot__label,.dcr-1860pw2 .ad-slot__scroll{font-family:GuardianTextSans,Guardian Text Sans Web,Helvetica Neue,Helvetica,Arial,Lucida Grande,sans-serif;font-size:0.75rem;line-height:1.5;font-weight:400;position:relative;height:24px;background-color:#F6F6F6;padding:0 8px;border-top:1px solid #DCDCDC;color:#707070;text-align:left;box-sizing:border-box;}.dcr-1860pw2 .ad-slot__label.visible,.dcr-1860pw2 .ad-slot__scroll.visible{visibility:initial;}.dcr-1860pw2 .ad-slot__label.hidden,.dcr-1860pw2 .ad-slot__scroll.hidden{visibility:hidden;}.dcr-1860pw2 .ad-slot__label.ad-slot__label--toggle,.dcr-1860pw2 .ad-slot__scroll.ad-slot__label--toggle{margin:0 auto;}@media (max-width: 739px){.dcr-1860pw2 .ad-slot__label.ad-slot__label--toggle,.dcr-1860pw2 .ad-slot__scroll.ad-slot__label--toggle{display:none;}}.dcr-1860pw2 .ad-slot__close-button{display:none;}.dcr-1860pw2 .ad-slot__scroll{position:fixed;bottom:0;width:100%;}.dcr-1d1pdjy{font-family:GH Guardian Headline,Guardian Egyptian Web,Georgia,serif;font-size:1.5rem;line-height:1.15;font-weight:500;color:#121212;font-weight:900;padding-right:5px;padding-bottom:14px;padding-top:3px;}@media (min-width: 1140px){.dcr-1d1pdjy{font-family:GH Guardian Headline,Guardian Egyptian Web,Georgia,serif;font-size:1.5rem;line-height:1.15;font-weight:500;font-weight:900;}}@media (min-width: 1300px){.dcr-1d1pdjy{font-weight:900;}}.dcr-1oardpl{display:-webkit-box;display:-webkit-flex;display:-ms-flexbox;display:flex;-webkit-flex-direction:column;-ms-flex-direction:column;flex-direction:column;}@media (min-width: 980px){.dcr-1oardpl{-webkit-flex-direction:row;-ms-flex-direction:row;flex-direction:row;}}.dcr-g273z1{display:-webkit-box;display:-webkit-flex;display:-ms-flexbox;display:flex;-webkit-flex-direction:column;-ms-flex-direction:column;flex-direction:column;}@media (min-width: 1140px){.dcr-g273z1{-webkit-flex-direction:row;-ms-flex-direction:row;flex-direction:row;}}.dcr-ycuv6y{margin:6px 0 0 10px;}.dcr-4024qx{position:relative;}.dcr-4024qx .ad-slot__label,.dcr-4024qx .ad-slot__scroll{font-family:GuardianTextSans,Guardian Text Sans Web,Helvetica Neue,Helvetica,Arial,Lucida Grande,sans-serif;font-size:0.75rem;line-height:1.5;font-weight:400;position:relative;height:24px;background-color:#F6F6F6;padding:0 8px;border-top:1px solid #DCDCDC;color:#707070;text-align:left;box-sizing:border-box;}.dcr-4024qx .ad-slot__label.visible,.dcr-4024qx .ad-slot__scroll.visible{visibility:initial;}.dcr-4024qx .ad-slot__label.hidden,.dcr-4024qx .ad-slot__scroll.hidden{visibility:hidden;}.dcr-4024qx .ad-slot__label.ad-slot__label--toggle,.dcr-4024qx .ad-slot__scroll.ad-slot__label--toggle{margin:0 auto;}@media (max-width: 739px){.dcr-4024qx .ad-slot__label.ad-slot__label--toggle,.dcr-4024qx .ad-slot__scroll.ad-slot__label--toggle{display:none;}}.dcr-4024qx .ad-slot__close-button{display:none;}.dcr-4024qx .ad-slot__scroll{position:fixed;bottom:0;width:100%;}.dcr-4024qx.ad-slot--fluid{min-height:250px;line-height:10px;padding:0;margin:0;}.dcr-1lxcenw{position:relative;margin:auto;border-top:1px solid #506991;}@media (min-width: 740px){.dcr-1lxcenw{max-width:740px;}}@media (min-width: 980px){.dcr-1lxcenw{max-width:980px;}}@media (min-width: 1140px){.dcr-1lxcenw{max-width:1140px;}}@media (min-width: 1300px){.dcr-1lxcenw{max-width:1300px;}}.dcr-wuq7e5{background-color:#052962;color:#FFFFFF;padding-bottom:6px;font-family:GuardianTextSans,Guardian Text Sans Web,Helvetica Neue,Helvetica,Arial,Lucida Grande,sans-serif;font-size:1.0625rem;line-height:1.5;font-weight:400;}.dcr-ie0ig6{border-left:1px solid #506991;border-right:1px solid #506991;padding-bottom:12px;position:relative;height:43px;}.dcr-ie0ig6:after{content:'';display:table;clear:both;}.dcr-ie0ig6 >ul{clear:none;}.dcr-ie0ig6 >ul:after{display:none;}.dcr-5ryswk{font-family:GH Guardian Headline,Guardian Egyptian Web,Georgia,serif;font-size:1.0625rem;line-height:1.15;font-weight:500;box-sizing:border-box;font-weight:900;color:#FFFFFF;cursor:pointer;display:block;font-size:15.4px;height:36px;padding-top:9px;padding-right:5px;padding-bottom:0;padding-left:5px;position:relative;overflow:hidden;-webkit-text-decoration:none;text-decoration:none;z-index:1;}@media (min-width: 375px){.dcr-5ryswk{font-size:15.7px;padding-top:9px;padding-right:5px;padding-bottom:0;padding-left:5px;}}@media (min-width: 480px){.dcr-5ryswk{font-size:18px;padding-top:9px;padding-right:5px;padding-bottom:0;padding-left:5px;}}@media (min-width: 740px){.dcr-5ryswk{font-size:22px;height:48px;padding-top:9px;padding-right:20px;padding-bottom:0;padding-left:9px;}}@media (min-width: 980px){.dcr-5ryswk{padding-top:5px;height:42px;}}@media (min-width: 1300px){.dcr-5ryswk{padding-top:7px;font-size:24px;}}.dcr-5ryswk:focus:after{-webkit-transform:translateY(4px);-moz-transform:translateY(4px);-ms-transform:translateY(4px);transform:translateY(4px);}.dcr-5ryswk:hover{-webkit-text-decoration:none;text-decoration:none;}.dcr-5ryswk:hover:after{-webkit-transform:translateY(4px);-moz-transform:translateY(4px);-ms-transform:translateY(4px);transform:translateY(4px);}.dcr-5ryswk:after{border-top:4px solid #FF5943;left:0;right:1px;top:-4px;content:'';display:block;position:absolute;-webkit-transition:-webkit-transform 0.3s ease-in-out;transition:transform 0.3s ease-in-out;}.dcr-5ryswk:before{content:'';display:block;position:absolute;right:0;top:0;bottom:0;width:1px;background-color:#506991;}@media (min-width: 740px){.dcr-5ryswk:before{bottom:17px;}}@media (min-width: 980px){.dcr-5ryswk:before{bottom:0.6em;}}.dcr-1xo8pvr{font-family:GH Guardian Headline,Guardian Egyptian Web,Georgia,serif;font-size:1.0625rem;line-height:1.15;font-weight:500;box-sizing:border-box;font-weight:900;color:#FFFFFF;cursor:pointer;display:block;font-size:15.4px;height:36px;padding-top:9px;padding-right:5px;padding-bottom:0;padding-left:5px;position:relative;overflow:hidden;-webkit-text-decoration:none;text-decoration:none;z-index:1;}@media (min-width: 375px){.dcr-1xo8pvr{font-size:15.7px;padding-top:9px;padding-right:5px;padding-bottom:0;padding-left:5px;}}@media (min-width: 480px){.dcr-1xo8pvr{font-size:18px;padding-top:9px;padding-right:5px;padding-bottom:0;padding-left:5px;}}@media (min-width: 740px){.dcr-1xo8pvr{font-size:22px;height:48px;padding-top:9px;padding-right:20px;padding-bottom:0;padding-left:9px;}}@media (min-width: 980px){.dcr-1xo8pvr{padding-top:5px;height:42px;}}@media (min-width: 1300px){.dcr-1xo8pvr{padding-top:7px;font-size:24px;}}.dcr-1xo8pvr:focus:after{-webkit-transform:translateY(4px);-moz-transform:translateY(4px);-ms-transform:translateY(4px);transform:translateY(4px);}.dcr-1xo8pvr:hover{-webkit-text-decoration:none;text-decoration:none;}.dcr-1xo8pvr:hover:after{-webkit-transform:translateY(4px);-moz-transform:translateY(4px);-ms-transform:translateY(4px);transform:translateY(4px);}.dcr-1xo8pvr:after{border-top:4px solid #FF7F0F;left:0;right:1px;top:-4px;content:'';display:block;position:absolute;-webkit-transition:-webkit-transform 0.3s ease-in-out;transition:transform 0.3s ease-in-out;}.dcr-1xo8pvr:before{content:'';display:block;position:absolute;right:0;top:0;bottom:0;width:1px;background-color:#506991;}@media (min-width: 740px){.dcr-1xo8pvr:before{bottom:17px;}}@media (min-width: 980px){.dcr-1xo8pvr:before{bottom:0.6em;}}.dcr-1jru0vj{font-family:GH Guardian Headline,Guardian Egyptian Web,Georgia,serif;font-size:1.0625rem;line-height:1.15;font-weight:500;box-sizing:border-box;font-weight:900;color:#FFFFFF;cursor:pointer;display:block;font-size:15.4px;height:36px;padding-top:9px;padding-right:5px;padding-bottom:0;padding-left:5px;position:relative;overflow:hidden;-webkit-text-decoration:none;text-decoration:none;z-index:1;}@media (min-width: 375px){.dcr-1jru0vj{font-size:15.7px;padding-top:9px;padding-right:5px;padding-bottom:0;padding-left:5px;}}@media (min-width: 480px){.dcr-1jru0vj{font-size:18px;padding-top:9px;padding-right:5px;padding-bottom:0;padding-left:5px;}}@media (min-width: 740px){.dcr-1jru0vj{font-size:22px;height:48px;padding-top:9px;padding-right:20px;padding-bottom:0;padding-left:9px;}}@media (min-width: 980px){.dcr-1jru0vj{padding-top:5px;height:42px;}}@media (min-width: 1300px){.dcr-1jru0vj{padding-top:7px;font-size:24px;}}.dcr-1jru0vj:focus:after{-webkit-transform:translateY(4px);-moz-transform:translateY(4px);-ms-transform:translateY(4px);transform:translateY(4px);}.dcr-1jru0vj:hover{-webkit-text-decoration:none;text-decoration:none;}.dcr-1jru0vj:hover:after{-webkit-transform:translateY(4px);-moz-transform:translateY(4px);-ms-transform:translateY(4px);transform:translateY(4px);}.dcr-1jru0vj:after{border-top:4px solid #00B2FF;left:0;right:1px;top:-4px;content:'';display:block;position:absolute;-webkit-transition:-webkit-transform 0.3s ease-in-out;transition:transform 0.3s ease-in-out;}.dcr-1jru0vj:after{-webkit-transform:translateY(4px);-moz-transform:translateY(4px);-ms-transform:translateY(4px);transform:translateY(4px);}.dcr-1jru0vj:focus:after{-webkit-transform:translateY(4px);-moz-transform:translateY(4px);-ms-transform:translateY(4px);transform:translateY(4px);}.dcr-1jru0vj:hover{-webkit-text-decoration:none;text-decoration:none;}.dcr-1jru0vj:hover:after{-webkit-transform:translateY(4px);-moz-transform:translateY(4px);-ms-transform:translateY(4px);transform:translateY(4px);}.dcr-1jru0vj:before{content:'';display:block;position:absolute;right:0;top:0;bottom:0;width:1px;background-color:#506991;}@media (min-width: 740px){.dcr-1jru0vj:before{bottom:17px;}}@media (min-width: 980px){.dcr-1jru0vj:before{bottom:0.6em;}}.dcr-125iasz{font-family:GH Guardian Headline,Guardian Egyptian Web,Georgia,serif;font-size:1.0625rem;line-height:1.15;font-weight:500;box-sizing:border-box;font-weight:900;color:#FFFFFF;cursor:pointer;display:block;font-size:15.4px;height:36px;padding-top:9px;padding-right:5px;padding-bottom:0;padding-left:5px;position:relative;overflow:hidden;-webkit-text-decoration:none;text-decoration:none;z-index:1;}@media (min-width: 375px){.dcr-125iasz{font-size:15.7px;padding-top:9px;padding-right:5px;padding-bottom:0;padding-left:5px;}}@media (min-width: 480px){.dcr-125iasz{font-size:18px;padding-top:9px;padding-right:5px;padding-bottom:0;padding-left:5px;}}@media (min-width: 740px){.dcr-125iasz{font-size:22px;height:48px;padding-top:9px;padding-right:20px;padding-bottom:0;padding-left:9px;}}@media (min-width: 980px){.dcr-125iasz{padding-top:5px;height:42px;}}@media (min-width: 1300px){.dcr-125iasz{padding-top:7px;font-size:24px;}}.dcr-125iasz:focus:after{-webkit-transform:translateY(4px);-moz-transform:translateY(4px);-ms-transform:translateY(4px);transform:translateY(4px);}.dcr-125iasz:hover{-webkit-text-decoration:none;text-decoration:none;}.dcr-125iasz:hover:after{-webkit-transform:translateY(4px);-moz-transform:translateY(4px);-ms-transform:translateY(4px);transform:translateY(4px);}.dcr-125iasz:after{border-top:4px solid #EACCA0;left:0;right:1px;top:-4px;content:'';display:block;position:absolute;-webkit-transition:-webkit-transform 0.3s ease-in-out;transition:transform 0.3s ease-in-out;}.dcr-125iasz:before{content:'';display:block;position:absolute;right:0;top:0;bottom:0;width:1px;background-color:#506991;}@media (min-width: 740px){.dcr-125iasz:before{bottom:17px;}}@media (min-width: 980px){.dcr-125iasz:before{bottom:0.6em;}}.dcr-1f6ribu{font-family:GH Guardian Headline,Guardian Egyptian Web,Georgia,serif;font-size:1.0625rem;line-height:1.15;font-weight:500;box-sizing:border-box;font-weight:900;color:#FFFFFF;cursor:pointer;display:block;font-size:15.4px;height:36px;padding-top:9px;padding-right:5px;padding-bottom:0;padding-left:5px;position:relative;overflow:hidden;-webkit-text-decoration:none;text-decoration:none;z-index:1;}@media (min-width: 375px){.dcr-1f6ribu{font-size:15.7px;padding-top:9px;padding-right:5px;padding-bottom:0;padding-left:5px;}}@media (min-width: 480px){.dcr-1f6ribu{font-size:18px;padding-top:9px;padding-right:5px;padding-bottom:0;padding-left:5px;}}@media (min-width: 740px){.dcr-1f6ribu{font-size:22px;height:48px;padding-top:9px;padding-right:20px;padding-bottom:0;padding-left:9px;}}@media (min-width: 980px){.dcr-1f6ribu{padding-top:5px;height:42px;}}@media (min-width: 1300px){.dcr-1f6ribu{padding-top:7px;font-size:24px;}}.dcr-1f6ribu:focus:after{-webkit-transform:translateY(4px);-moz-transform:translateY(4px);-ms-transform:translateY(4px);transform:translateY(4px);}.dcr-1f6ribu:hover{-webkit-text-decoration:none;text-decoration:none;}.dcr-1f6ribu:hover:after{-webkit-transform:translateY(4px);-moz-transform:translateY(4px);-ms-transform:translateY(4px);transform:translateY(4px);}.dcr-1f6ribu:after{border-top:4px solid #FFABDB;left:0;right:1px;top:-4px;content:'';display:block;position:absolute;-webkit-transition:-webkit-transform 0.3s ease-in-out;transition:transform 0.3s ease-in-out;}.dcr-3ub84c{width:100%;padding:0 10px;position:relative;border:1px solid #506991;}@media (min-width: 1140px){.dcr-3ub84c{display:-webkit-box;display:-webkit-flex;display:-ms-flexbox;display:flex;}}@media (min-width: 480px){.dcr-3ub84c{padding:0 20px;}}.dcr-104fgyw{padding-top:12px;min-height:150px;overflow:hidden;border:0;}@media (min-width: 980px){.dcr-104fgyw{margin:0 10px;display:-webkit-box;display:-webkit-flex;display:-ms-flexbox;display:flex;-webkit-flex-direction:row;-ms-flex-direction:row;flex-direction:row;float:left;width:291px;}}@media (min-width: 1300px){.dcr-104fgyw{margin-right:170px;}}.dcr-v7ptng{display:-webkit-box;display:-webkit-flex;display:-ms-flexbox;display:flex;-webkit-box-flex-wrap:wrap;-webkit-flex-wrap:wrap;-ms-flex-wrap:wrap;flex-wrap:wrap;-webkit-flex-direction:row;-ms-flex-direction:row;flex-direction:row;}@media (max-width: 979px){.dcr-v7ptng{border-top:1px solid #506991;}}.dcr-v7ptng ul{width:50%;border-left:1px solid #506991;padding:12px 0 0 10px;}.dcr-v7ptng ul:nth-of-type(1){border-left:0 none;}@media (max-width: 739px){.dcr-v7ptng ul{clear:left;}.dcr-v7ptng ul:nth-of-type(odd){border-left:0;padding-left:0;}.dcr-v7ptng ul:nth-of-type(3){padding-top:0;}.dcr-v7ptng ul:nth-of-type(4){padding-top:0;}}@media (min-width: 740px){.dcr-v7ptng ul{margin:0 10px 36px 0;width:150px;}}@media (min-width: 980px){.dcr-v7ptng ul:nth-of-type(1){border-left:1px solid #506991;}}.dcr-mzjdd0{color:inherit;-webkit-text-decoration:none;text-decoration:none;padding-bottom:12px;display:block;line-height:19px;}.dcr-mzjdd0:hover{-webkit-text-decoration:underline;text-decoration:underline;color:#FFE500;}.dcr-ts9jvf{color:inherit;-webkit-text-decoration:none;text-decoration:none;padding-bottom:12px;display:block;line-height:19px;}.dcr-ts9jvf:hover{-webkit-text-decoration:underline;text-decoration:underline;color:#FFE500;}.dcr-1lactnp{border-left:1px solid #506991;-webkit-flex:1;-ms-flex:1;flex:1;padding:12px 0 0 10px;margin:0 10px 36px 0;width:calc(50% - 10px);}@media (max-width: 739px){.dcr-1lactnp{width:50%;border-top:1px solid #506991;}}.dcr-17k9rsw{background-color:#052962;padding:0 5px;position:absolute;bottom:-21px;right:20px;}.dcr-1sla8qk{-webkit-text-decoration:none;text-decoration:none;color:#FFFFFF;font-weight:bold;line-height:42px;}.dcr-1sla8qk:hover{color:#FFE500;}.dcr-1sla8qk:hover .icon-container{background-color:#FFE500;}.dcr-ngfaio{font-family:GuardianTextSans,Guardian Text Sans Web,Helvetica Neue,Helvetica,Arial,Lucida Grande,sans-serif;font-size:0.9375rem;line-height:1.5;font-weight:700;padding-right:5px;}.dcr-12ln5sl{position:relative;float:right;border-radius:100%;background-color:#FFFFFF;cursor:pointer;height:42px;min-width:42px;}.dcr-bjnfl9:before{position:absolute;top:6px;bottom:0;left:0;right:0;margin:auto;border:2px solid #052962;border-bottom:0;border-right:0;content:'';height:12px;width:12px;-webkit-transform:rotate(45deg);-moz-transform:rotate(45deg);-ms-transform:rotate(45deg);transform:rotate(45deg);}.dcr-2h5xwf{font-family:GuardianTextSans,Guardian Text Sans Web,Helvetica Neue,Helvetica,Arial,Lucida Grande,sans-serif;font-size:0.75rem;line-height:1.5;font-weight:400;padding-left:20px;padding-right:12px;padding-top:12px;padding-bottom:12px;}@media (max-width: 739px){.dcr-2h5xwf{margin-top:11px;}}.dcr-l6v8wf{position:fixed!important;bottom:0;z-index:19!important;max-height:100vh;overflow:visible;width:100%!important;background:none!important;top:auto!important;}.dcr-1vq2pjs{position:fixed;bottom:0;width:320px;margin:0 auto;right:0;left:0;z-index:1010;}@media (min-width: 660px){.dcr-1vq2pjs{display:none;}}.dcr-1vq2pjs .ad-slot__close-button{display:none;position:absolute;right:3px;top:3px;padding:0;border:0;height:21px;width:21px;background-color:transparent;}.dcr-1vq2pjs .ad-slot__close-button svg{height:0.75rem;width:0.75rem;stroke:#121212;fill:#121212;stroke-linecap:round;stroke-width:0;text-align:center;}.dcr-1vq2pjs .ad-slot--mobile-sticky .ad-slot__label .ad-slot__close-button{display:block;}.dcr-1vq2pjs .ad-slot__close-button__x{stroke:#121212;fill:transparent;stroke-linecap:round;stroke-width:2;text-align:center;}.dcr-1vq2pjs .ad-slot__label{font-size:0.75rem;line-height:1.25rem;position:relative;height:1.5rem;background-color:#F6F6F6;padding:0 0.5rem;border-top:0.0625rem solid #DCDCDC;color:#999999;text-align:left;box-sizing:border-box;font-family:GuardianTextSans,Guardian Text Sans Web,Helvetica Neue,Helvetica,Arial,Lucida Grande,sans-serif;font-size:0.75rem;line-height:1.5;font-weight:400;}</style>\n",
      "<link href=\"https://assets.guim.co.uk/static/frontend/css/print.css\" media=\"print\" rel=\"stylesheet\"/>\n",
      "</meta></meta></meta></head>\n",
      "<body>\n",
      "<a class=\"dcr-1y2qbjm\" href=\"#maincontent\">Skip to main content</a><a class=\"dcr-1y2qbjm\" href=\"#navigation\">Skip to navigation</a><gu-island clientonly=\"true\" deferuntil=\"idle\" name=\"AlreadyVisited\" props=\"{}\"></gu-island><gu-island clientonly=\"true\" deferuntil=\"idle\" name=\"FocusStyles\" props=\"{}\"></gu-island><gu-island clientonly=\"true\" deferuntil=\"idle\" name=\"CommercialMetrics\" props='{\"enabled\":true}'></gu-island><gu-island clientonly=\"true\" deferuntil=\"idle\" name=\"CoreVitals\" props=\"{}\"></gu-island><gu-island clientonly=\"true\" deferuntil=\"idle\" name=\"BrazeMessaging\" props='{\"idApiUrl\":\"https://idapi.theguardian.com\"}'></gu-island><gu-island clientonly=\"true\" deferuntil=\"idle\" name=\"ReaderRevenueDev\" props='{\"shouldHideReaderRevenue\":false}'></gu-island><gu-island clientonly=\"true\" name=\"SetABTests\" props='{\"abTestSwitches\":{\"abCommercialGptLazyLoad\":true,\"abSpacefinderOkrMegaTest\":true,\"abCommercialLazyLoadMargin\":true,\"abSignInGateMainControl\":true,\"abSignInGateMainVariant\":true,\"abAdblockAsk\":true},\"pageIsSensitive\":false,\"isDev\":false}'></gu-island><div data-print-layout=\"hide\" id=\"bannerandheader\"><div class=\"dcr-ln5upl\"><div class=\"dcr-v339xn\"><div class=\"dcr-1avyp1d\"><div class=\"dcr-1l675nn\"><span class=\"dcr-l6t30p\"><div class=\"top-banner-ad-container dcr-1ck1ko5\"><div class=\"ad-slot__label ad-slot__label--toggle hidden dcr-16cxnld\">Advertisement</div><div aria-hidden=\"true\" class=\"js-ad-slot ad-slot ad-slot--top-above-nav ad-slot--mpu-banner-ad ad-slot--rendered dcr-asicg6\" data-desktop=\"1,1|2,2|728,90|940,230|900,250|970,250|88,71|fluid\" data-link-name=\"ad slot top-above-nav\" data-name=\"top-above-nav\" data-tablet=\"1,1|2,2|88,71|fluid|728,90\" id=\"dfp-ad--top-above-nav\"></div></div></span></div></div></div></div><header class=\"dcr-il3bi2\"><div class=\"dcr-1reypk2\"><div class=\"dcr-1isylhk\"><span class=\"dcr-1wok5v\"><gu-island deferuntil=\"idle\" name=\"EditionDropdown\" props='{\"edition\":\"INT\",\"dataLinkName\":\"nav2 : topbar : edition-picker: toggle\"}'><div class=\"dcr-vjn0wm\"><div class=\"dcr-1d9bl8d\"><div class=\"dcr-1r92euj\"><label class=\"dcr-1a0j9n9\" for=\"checkbox-id-edition\">International edition</label><input aria-checked=\"false\" id=\"checkbox-id-edition\" tabindex=\"-1\" type=\"checkbox\"/><ul class=\"dcr-n6o0xh\" id=\"dropbox-id-edition\"><li><a class=\"dcr-1ark7u0\" data-link-name=\"nav2 : topbar : edition-picker: INT\" href=\"/preference/edition/int\">International edition</a></li><li><a class=\"dcr-1gagq2d\" data-link-name=\"nav2 : topbar : edition-picker: UK\" href=\"/preference/edition/uk\">UK edition</a></li><li><a class=\"dcr-1gagq2d\" data-link-name=\"nav2 : topbar : edition-picker: US\" href=\"/preference/edition/us\">US edition</a></li><li><a class=\"dcr-1gagq2d\" data-link-name=\"nav2 : topbar : edition-picker: AU\" href=\"/preference/edition/au\">Australian edition</a></li></ul></div></div></div></gu-island></span><a class=\"dcr-17bh4jj\" data-link-name=\"nav2 : logo\" href=\"/\"><span class=\"dcr-92oqeo\">The Guardian - Back to home</span><svg class=\"dcr-3f5rmr\" fill=\"none\" viewbox=\"0 0 236 98\" xmlns=\"http://www.w3.org/2000/svg\"><path d=\"M53.402 41.257l4.039-2.096V7.513h-3.054l-7.46 9.867h-.843L46.56 6.38h32.342l.467 10.999h-.885l-7.309-9.867h-3.129v31.581l4.064 2.138v1.073H53.402v-1.048zM82.615 39.86V4.783l-3.137-1.248v-.657l11.34-2.03h1.192v16.597l.317-.266c2.512-2.188 6.117-3.594 9.721-3.594 4.965 0 7.159 2.795 7.159 8.003v18.27l2.654 1.44v1.065H97.033v-1.057l2.662-1.448V21.523c0-2.862-1.251-4.01-3.604-4.01-1.57 0-2.92.49-3.922 1.29V39.9l2.612 1.44v1.014H79.945V41.35l2.67-1.49zM120.497 29.086c.309 5.799 2.912 10.283 9.087 10.283 2.987 0 5.106-1.381 7.1-2.43v1.14c-1.543 2.105-5.457 5.059-10.905 5.059-9.571 0-14.461-5.3-14.461-14.485 0-8.977 5.349-14.568 13.993-14.568 8.127 0 12.35 4.052 12.35 14.718v.274h-17.164v.009zm-.159-1.331l8.419-.516c0-7.18-1.234-11.947-3.704-11.947-2.62 0-4.715 5.532-4.715 12.463zM0 56.349c0-15.267 10.138-20.7 21.428-20.7 4.79 0 9.312.766 11.84 1.814l.217 10.657h-1.077l-6.625-10.307c-1.135-.483-2.211-.674-4.197-.674-6 0-9.07 6.913-8.978 18.253.117 13.56 2.478 19.717 7.985 19.717 1.435 0 2.537-.216 3.304-.549V60.026l-3.638-2.08v-1.215h17.573v1.298l-3.58 1.997V74.36c-2.97 1.157-7.985 2.255-13.275 2.255C8.144 76.615 0 70.683 0 56.35zM37.214 49.227v-.881l11.816-2.08 1.293.108v23.211c0 2.796 1.352 3.661 3.613 3.661 1.46 0 2.779-.549 3.83-1.805V50.625l-3.238-1.398v-.915l11.816-2.08 1.184.109v26.606l3.188 1.33v.85l-11.657 1.43-1.185-.108v-3.494h-.325c-2.161 1.988-5.182 3.71-8.853 3.71-5.666 0-8.26-3.336-8.26-8.394V50.625l-3.222-1.398zM111.903 46.216l.968.108v8.594h.267c1.26-6.298 4.046-8.652 7.442-8.652.543 0 1.135.05 1.461.216v8.794c-.543-.158-1.511-.216-2.428-.216-2.696 0-4.681.482-6.425 1.28v16.99l2.686 1.489v1.098h-15.319v-1.09l2.762-1.49V50.152l-3.238-.965v-.79l11.824-2.18z\" fill=\"#fff\"></path><path d=\"M141.574 46.94V37.87l-3.238-1.131v-.724l11.924-2.188 1.135.158V72.93l3.296 1.19v1.007l-11.765 1.58-.918-.108v-3.22h-.267c-1.727 1.723-4.105 3.278-7.827 3.278-6.425 0-11.114-4.891-11.114-14.9 0-10.55 5.448-15.732 13.709-15.732 2.361 0 4.147.432 5.065.915zm-.025 24.934V48.595c-.759-.482-1.302-1.081-3.263-1.015-3.187.109-5.156 4.917-5.156 13.47 0 7.696 1.418 11.997 5.665 11.855 1.194-.041 2.162-.466 2.754-1.031zM167.791 46.19l1.026.109V73.32l2.695 1.489v1.098h-15.319v-1.09l2.753-1.489V50.567l-3.296-1.29v-.898l12.141-2.188zm1.085-7.296c0 2.854-2.428 5-5.232 5-2.912 0-5.182-2.154-5.182-5 0-2.853 2.27-5.058 5.182-5.058 2.804 0 5.232 2.205 5.232 5.058zM204.93 73.33V50.316l-3.237-1.131V48.07l11.765-2.188 1.185.108v3.444h.325c2.537-2.263 6.317-3.71 10.038-3.71 5.123 0 7.393 2.42 7.393 7.803V73.28l2.745 1.53v1.1h-15.319v-1.09l2.753-1.49V54.07c0-2.962-1.293-4.143-3.721-4.143-1.569 0-2.854.4-4.047 1.281v22.114l2.695 1.489v1.098h-15.328v-1.09l2.753-1.489zM187.934 58.87v-3.86c0-5.816-1.269-7.721-4.873-7.721-.426 0-.793.05-1.219.108l-6.416 8.669h-.901v-7.979c2.753-.848 6.199-1.847 10.764-1.847 7.843 0 12.407 2.172 12.407 8.72v18.818l2.812.74v.741c-1.11.69-3.338 1.323-5.782 1.323-3.872 0-5.724-1.265-6.575-3.386h-.267c-1.644 2.221-3.972 3.486-7.635 3.486-4.665 0-7.844-2.904-7.844-7.929 0-4.867 3.021-7.504 9.17-8.669l6.359-1.215zm0 13.003v-11.63l-1.961.157c-3.079.266-4.189 2.221-4.189 6.556 0 4.7 1.535 5.924 3.713 5.924 1.218-.009 1.911-.375 2.437-1.007zM86.378 58.87v-3.86c0-5.816-1.268-7.721-4.881-7.721-.426 0-.793.05-1.219.108l-6.416 8.669h-.901v-7.979c2.753-.848 6.2-1.847 10.764-1.847 7.843 0 12.407 2.172 12.407 8.72v18.818l2.812.74v.741c-1.11.69-3.338 1.323-5.782 1.323-3.872 0-5.724-1.265-6.575-3.386h-.267c-1.644 2.221-3.98 3.486-7.635 3.486-4.665 0-7.844-2.904-7.844-7.929 0-4.867 3.02-7.504 9.17-8.669l6.367-1.215zm0 13.003v-11.63l-1.96.157c-3.08.266-4.19 2.221-4.19 6.556 0 4.7 1.536 5.924 3.714 5.924 1.21-.009 1.902-.375 2.436-1.007z\" fill=\"#fff\"></path><path d=\"M97.624 90.625h-8.259v-.061l2.756-1.456c3.644-1.927 5.388-3.666 5.388-6.282 0-2.635-1.906-3.99-5.24-3.99-1.765 0-3.402.243-4.574.708l-.1 4.233h.342l3.12-4.537c1.724 0 2.47 1.274 2.47 3.526 0 2.23-.909 4.13-3.198 6.302l-2.957 2.817v1.786h9.982l.27-3.046zm7.193 2.938c-1.475 0-2.027-2.332-2.027-7.272 0-4.758.565-7.091 2.007-7.091 1.475 0 1.967 2.272 1.967 7.293-.007 4.765-.492 7.07-1.947 7.07zm-.06.364c3.462 0 6.339-2.534 6.339-7.596 0-5.042-2.816-7.495-6.198-7.495-3.422 0-6.439 2.474-6.439 7.617 0 4.926 2.896 7.474 6.298 7.474zm13.741-.304c-1.475 0-2.027-2.331-2.027-7.272 0-4.758.566-7.09 2.007-7.09 1.475 0 1.967 2.272 1.967 7.293-.007 4.758-.492 7.07-1.947 7.07zm-.061.365c3.463 0 6.339-2.535 6.339-7.597 0-5.04-2.816-7.494-6.197-7.494-3.422 0-6.44 2.474-6.44 7.617 0 4.92 2.897 7.474 6.298 7.474z\" fill=\"#FFE500\"></path><path d=\"M128.615 97.627l-1.085-2.102v-.29h3.901l-4.541-11.916-.882-.446v-.33h5.665v.33l-1.138.506 2.445 7.104 2.115-6.773-1.435-.837v-.33h2.924v.33l-1.105.776-3.328 10.487c-.592 1.854-1.717 3.08-3.536 3.491zm10.649-10.123c.129 2.628.917 4.24 3.497 4.24.848 0 1.562-.115 2.242-.432v.31c-.572.916-1.966 1.867-3.974 1.867-3.402 0-5.146-2.177-5.146-5.661 0-3.404 1.913-5.527 4.998-5.527 3.105 0 4.411 1.752 4.411 4.927v.27h-6.028v.006zm0-.39l2.849-.135c0-3.35-.423-4.301-1.307-4.301-.956 0-1.542 1.362-1.542 4.435zm11.714-.176v-1.422c0-2.163-.444-2.858-1.563-2.858-.128 0-.236.02-.37.04l-2.479 3.56h-.316l.073-3.31c.957-.31 2.149-.66 3.732-.66 2.721 0 4.304.795 4.304 3.207v6.929l.977.27v.27c-.384.255-1.158.485-2.008.485-1.34 0-1.987-.465-2.276-1.247h-.095c-.572.816-1.381 1.287-2.646 1.287-1.617 0-2.722-1.072-2.722-2.918 0-1.793 1.051-2.764 3.179-3.195l2.21-.438zm0 4.792v-4.28l-.68.06c-1.065.095-1.455.816-1.455 2.414 0 1.732.531 2.177 1.286 2.177.424 0 .66-.142.849-.371zm9.073-9.382l.33.04v3.033h.094c.512-2.318 1.361-3.194 2.499-3.194.182 0 .384.02.499.08v3.209c-.183-.061-.512-.08-.829-.08-.916 0-1.596.093-2.189.35v6.793l1.36.29v.33h-5.772v-.33l1.051-.29v-8.816l-1.105-.465v-.33l4.062-.62zM172 89.938c0 2.197-1.455 3.524-4.135 3.524-1.213 0-2.466-.155-3.436-.546l-.108-3.154h.31l2.627 3.249c.182.06.384.094.552.094 1.126 0 1.638-.64 1.638-1.638 0-.876-.446-1.207-1.598-1.793l-.605-.29c-1.839-.916-2.903-1.866-2.903-3.66 0-2.176 1.434-3.464 3.899-3.464 1.011 0 2.116.095 2.958.351l.094 2.939h-.31l-2.007-2.845a1.904 1.904 0 00-.647-.114c-.991 0-1.435.607-1.435 1.476 0 .95.425 1.268 1.657 1.867l.572.27c1.88.95 2.877 1.786 2.877 3.733zM57 93.165l1.233-.27V80.09l-1.212-.29v-.33h10.702l.094 4.556h-.31l-2.39-4.185H62.12v6.599h1.467l1.67-2.589h.31v5.587h-.31l-1.67-2.608H62.12v6.093l1.435.256v.33h-6.547v-.343H57zm10.098-5.035c0-3.424 2.06-5.547 5.145-5.547 3.086 0 5.186 2.123 5.186 5.567 0 3.465-2.06 5.642-5.166 5.642-3.072 0-5.165-2.198-5.165-5.663zm3.623.02c0 4.206.532 5.291 1.563 5.291 1.01 0 1.528-1.112 1.528-5.311 0-4.186-.498-5.197-1.541-5.197-1.018 0-1.55 1.032-1.55 5.217zm10.845-5.506l.33.04v3.033h.093c.512-2.319 1.362-3.188 2.5-3.188.182 0 .384.02.498.081v3.209c-.182-.062-.512-.082-.828-.082-.916 0-1.603.095-2.19.351v6.793l1.361.29v.33h-5.772v-.33l1.05-.29v-8.821l-1.105-.466v-.33l4.063-.62z\" fill=\"#fff\"></path></svg></a><gu-island clientonly=\"true\" deferuntil=\"idle\" name=\"ReaderRevenueLinks\" props='{\"urls\":{\"contribute\":\"https://support.theguardian.com/contribute?INTCMP=header_support_contribute&amp;acquisitionData=%7B%22source%22:%22GUARDIAN_WEB%22,%22componentType%22:%22ACQUISITIONS_HEADER%22,%22componentId%22:%22header_support_contribute%22%7D\",\"subscribe\":\"https://support.theguardian.com/subscribe?INTCMP=header_support_subscribe&amp;acquisitionData=%7B%22source%22:%22GUARDIAN_WEB%22,%22componentType%22:%22ACQUISITIONS_HEADER%22,%22componentId%22:%22header_support_subscribe%22%7D\",\"support\":\"https://support.theguardian.com?INTCMP=header_support&amp;acquisitionData=%7B%22source%22:%22GUARDIAN_WEB%22,%22componentType%22:%22ACQUISITIONS_HEADER%22,%22componentId%22:%22header_support%22%7D\",\"supporter\":\"https://support.theguardian.com/subscribe?INTCMP=header_supporter_cta&amp;acquisitionData=%7B%22source%22:%22GUARDIAN_WEB%22,%22componentType%22:%22ACQUISITIONS_HEADER%22,%22componentId%22:%22header_supporter_cta%22%7D\"},\"edition\":\"INT\",\"dataLinkNamePrefix\":\"nav2 : \",\"inHeader\":true,\"remoteHeader\":true,\"contributionsServiceUrl\":\"https://contributions.guardianapis.com\"}'></gu-island><div id=\"links-root\"><gu-island name=\"Links\" props='{\"supporterCTA\":\"https://support.theguardian.com/subscribe?INTCMP=header_supporter_cta&amp;acquisitionData=%7B%22source%22:%22GUARDIAN_WEB%22,%22componentType%22:%22ACQUISITIONS_HEADER%22,%22componentId%22:%22header_supporter_cta%22%7D\",\"idUrl\":\"https://profile.theguardian.com\",\"mmaUrl\":\"https://manage.theguardian.com\",\"discussionApiUrl\":\"https://discussion.theguardian.com/discussion-api\"}'><div class=\"dcr-cc5btv\" data-print-layout=\"hide\"><div class=\"dcr-1u4hpl4\"></div><div class=\"dcr-1o9q826\"></div><a class=\"dcr-njzsg5\" data-link-name=\"nav2 : job-cta\" href=\"https://jobs.theguardian.com/?INTCMP=jobs_uk_web_newheader\">Search jobs</a><div class=\"dcr-96v916\"></div><div class=\"dcr-1u4hpl4\"><a class=\"dcr-md0w21\" data-link-name=\"nav2 : topbar : signin\" href=\"https://profile.theguardian.com/signin?INTCMP=DOTCOM_NEWHEADER_SIGNIN&amp;ABCMP=ab-sign-in&amp;componentEventParams=componentType%3Didentityauthentication%26componentId%3Dguardian_signin_header\"><svg height=\"14\" viewbox=\"0 0 14 14\" width=\"14\"><path d=\"M7 0C3.1 0 0 3.1 0 7c0 2 .9 3.9 2.4 5.2C3.6 13.4 5.3 14 7 14c1.7 0 3.4-.6 4.7-1.8C13.2 10.9 14 9 14 7c0-3.9-3.1-7-7-7zm0 1.8c1.3 0 2.1.8 2.1 2.1S8 6.3 7 6.3c-.8 0-2-1.1-2-2.4 0-1.4.7-2.1 2-2.1zm0 11.6c-1.7 0-3.3-.7-4.5-1.8l.8-3.2.5-.5c1-.4 2.1-.5 3.1-.5 1.1 0 2.1.2 3.1.5l.5.5.9 3.2c-1.1 1.2-2.7 1.8-4.4 1.8z\"></path></svg> Sign in</a></div><a class=\"dcr-2mdywk\" data-link-name=\"nav2 : search\" href=\"https://www.google.co.uk/advanced_search?q=site:www.theguardian.com\"><svg height=\"18\" viewbox=\"0 0 18 18\" width=\"18\"><path d=\"M6.5 1.6c2.7 0 4.9 2.2 4.9 4.9s-2.2 4.9-4.9 4.9-4.9-2.2-4.9-4.9 2.2-4.9 4.9-4.9m0-1.6c-3.6 0-6.5 2.9-6.5 6.5s2.9 6.5 6.5 6.5 6.5-2.9 6.5-6.5-2.9-6.5-6.5-6.5zm6.6 11.5l4.9 4.9-1.6 1.6-4.9-4.9v-.8l.8-.8h.8z\"></path></svg>Search</a></div></gu-island></div></div></div></header><nav class=\"dcr-il3bi2\"><div class=\"dcr-l99m16\"><div class=\"dcr-4c6dm7\"><script>document.addEventListener('DOMContentLoaded', function(){\n",
      "                        // Used to toggle data-link-name on label buttons\n",
      "                        var navInputCheckbox = document.getElementById('top-nav-input-checkbox')\n",
      "                        var showMoreButton = document.getElementById('show-more-button')\n",
      "                        var veggieBurger = document.getElementById('veggie-burger')\n",
      "                        var expandedMenuClickableTags = document.querySelectorAll('.selectableMenuItem')\n",
      "                        var expandedMenu = document.getElementById('expanded-menu-root')\n",
      "\n",
      "                        // We assume News is the 1st column\n",
      "                        var firstColLabel = document.getElementById('News-button')\n",
      "                        var firstColLink = document.querySelectorAll('#newsLinks > li:first-of-type > a')[0]\n",
      "\n",
      "                        var focusOnFirstNavElement = function(){\n",
      "                          // need to focus on first element in list, firstColLabel is not viewable on desktop\n",
      "                          if(window.getComputedStyle(firstColLabel).display === 'none'){\n",
      "                            firstColLink.focus()\n",
      "                          } else {\n",
      "                            firstColLabel.focus()\n",
      "                          }\n",
      "                        }\n",
      "\n",
      "\t\t\t\t\t\tif (!navInputCheckbox) return; // Sticky nav replaces the nav so element no longer exists for users in test.\n",
      "\n",
      "                        navInputCheckbox.addEventListener('click',function(){\n",
      "                          if(!navInputCheckbox.checked) {\n",
      "                            showMoreButton.setAttribute('data-link-name','nav2 : veggie-burger: show')\n",
      "                            veggieBurger.setAttribute('data-link-name','nav2 : veggie-burger: show')\n",
      "                            expandedMenuClickableTags.forEach(function($selectableElement){\n",
      "                                $selectableElement.setAttribute('tabindex','-1')\n",
      "                            })\n",
      "                          } else {\n",
      "                            showMoreButton.setAttribute('data-link-name','nav2 : veggie-burger: hide')\n",
      "                            veggieBurger.setAttribute('data-link-name','nav2 : veggie-burger: hide')\n",
      "                            expandedMenuClickableTags.forEach(function($selectableElement){\n",
      "                                $selectableElement.setAttribute('tabindex','0')\n",
      "                            })\n",
      "                            focusOnFirstNavElement()\n",
      "                          }\n",
      "                        })\n",
      "                        var toggleMainMenu = function(e){\n",
      "                          navInputCheckbox.click()\n",
      "                        }\n",
      "                        // Close hide menu on press enter\n",
      "                        var keydownToggleMainMenu = function(e){\n",
      "                          // keyCode: 13 => Enter key | keyCode: 32 => Space key\n",
      "                          if (e.keyCode === 13 || e.keyCode === 32) {\n",
      "                            e.preventDefault()\n",
      "                            toggleMainMenu()\n",
      "                          }\n",
      "                        }\n",
      "                        showMoreButton.addEventListener('keydown', keydownToggleMainMenu)\n",
      "                        veggieBurger.addEventListener('keydown', keydownToggleMainMenu)\n",
      "                        // Accessibility to hide Nav when pressing escape key\n",
      "                        document.addEventListener('keydown', function(e){\n",
      "                          // keyCode: 27 => esc\n",
      "                          if (e.keyCode === 27) {\n",
      "                            if(navInputCheckbox.checked) {\n",
      "                              toggleMainMenu()\n",
      "                              if(window.getComputedStyle(veggieBurger).display === 'none'){\n",
      "                                showMoreButton.focus()\n",
      "                              }else{\n",
      "                                veggieBurger.focus()\n",
      "                              }\n",
      "                            }\n",
      "                          }\n",
      "                        })\n",
      "                        // onBlur close dialog\n",
      "                        document.addEventListener('mousedown', function(e){\n",
      "                          if(navInputCheckbox.checked && !expandedMenu.contains(e.target)){\n",
      "                            toggleMainMenu()\n",
      "                          }\n",
      "                        });\n",
      "                      })</script><div class=\"dcr-um7al3\" data-component=\"nav2\"><input aria-hidden=\"true\" class=\"dcr-92oqeo\" id=\"top-nav-input-checkbox\" name=\"more\" tabindex=\"-1\" type=\"checkbox\"/><ul class=\"dcr-1sga83g\" data-testid=\"pillar-list\"><li class=\"dcr-1ev5v4n\"><a aria-label=\"Navigation\" class=\"dcr-pmqe6r\" data-link-name=\"nav2 : primary : News\" href=\"/\" id=\"navigation\">News</a></li><li class=\"dcr-1ev5v4n\"><a class=\"dcr-77vf01\" data-link-name=\"nav2 : primary : Opinion\" href=\"/commentisfree\">Opinion</a></li><li class=\"dcr-1ev5v4n\"><a class=\"dcr-1wapjrn\" data-link-name=\"nav2 : primary : Sport\" href=\"/sport\">Sport</a></li><li class=\"dcr-1ev5v4n\"><a class=\"dcr-147q94w\" data-link-name=\"nav2 : primary : Culture\" href=\"/culture\">Culture</a></li><li class=\"dcr-1ev5v4n\"><a class=\"dcr-kzk9sv\" data-link-name=\"nav2 : primary : Lifestyle\" href=\"/lifeandstyle\">Lifestyle</a></li></ul><div id=\"expanded-menu-root\"><label aria-label=\"Toggle main menu\" class=\"dcr-1kaq6ux\" data-cy=\"nav-show-more-button\" data-link-name=\"nav2 : veggie-burger: show\" for=\"top-nav-input-checkbox\" id=\"show-more-button\" role=\"button\" tabindex=\"0\"><span class=\"dcr-92oqeo\">Show</span><span class=\"dcr-194r1hi\">More<svg aria-hidden=\"true\" focusable=\"false\" viewbox=\"0 0 30 30\" xmlns=\"http://www.w3.org/2000/svg\"><path clip-rule=\"evenodd\" d=\"M4 9.95L14.45 20.4H15.45L25.8999 9.95L24.9249 9L14.95 17.4L4.975 9L4 9.95Z\" fill-rule=\"evenodd\"></path></svg></span></label><label aria-label=\"Toggle main menu\" class=\"dcr-azekzu\" data-cy=\"veggie-burger\" data-link-name=\"nav2 : veggie-burger: show\" for=\"top-nav-input-checkbox\" id=\"veggie-burger\" role=\"button\" tabindex=\"0\"><span class=\"dcr-92oqeo\">Show More</span><span class=\"dcr-1sim4qs\"></span></label><div class=\"dcr-8azhf2\" id=\"expanded-menu\"><div class=\"dcr-wz1745\" data-cy=\"expanded-menu\" data-testid=\"expanded-menu\"><ul class=\"dcr-1hjkch6\" data-cy=\"nav-menu-columns\" role=\"menubar\"><li class=\"dcr-jgypeg\" role=\"none\"><script>document.addEventListener('DOMContentLoaded', function(){\n",
      "                        var columnInput = document.getElementById('News-button');\n",
      "\n",
      "\t\t\t\t\t\tif (!columnInput) return; // Sticky nav replaces the nav so element no longer exists for users in test.\n",
      "\n",
      "\t\t\t\t\t\tcolumnInput.addEventListener('keydown', function(e){\n",
      "                            // keyCode: 13 => Enter key | keyCode: 32 => Space key\n",
      "                            if (e.keyCode === 13 || e.keyCode === 32) {\n",
      "                                e.preventDefault()\n",
      "                                document.getElementById('News-checkbox-input').click();\n",
      "                            }\n",
      "                        })\n",
      "                    })</script><input aria-hidden=\"true\" class=\"dcr-92oqeo\" id=\"News-checkbox-input\" tabindex=\"-1\" type=\"checkbox\"/><label aria-controls=\"newsLinks\" aria-haspopup=\"true\" aria-label=\"Toggle News\" class=\"selectableMenuItem dcr-xka4se\" data-cy=\"column-collapse-News\" data-link-name=\"nav2 : column-toggle-News: show\" for=\"News-checkbox-input\" id=\"News-button\" role=\"menuitem\" tabindex=\"-1\">News</label><ul class=\"dcr-wzbqqq\" data-cy=\"newsLinks\" id=\"newsLinks\" role=\"menu\"><li class=\"dcr-mdwiz6\" role=\"none\"><a class=\"selectableMenuItem dcr-155wclf\" data-cy=\"column-collapse-sublink-World\" data-link-name=\"nav2 : secondary : World news\" href=\"/world\" role=\"menuitem\" tabindex=\"-1\">World news</a></li><li class=\"dcr-mdwiz6\" role=\"none\"><a class=\"selectableMenuItem dcr-155wclf\" data-cy=\"column-collapse-sublink-UK\" data-link-name=\"nav2 : secondary : UK news\" href=\"/uk-news\" role=\"menuitem\" tabindex=\"-1\">UK news</a></li><li class=\"dcr-mdwiz6\" role=\"none\"><a class=\"selectableMenuItem dcr-155wclf\" data-cy=\"column-collapse-sublink-Coronavirus\" data-link-name=\"nav2 : secondary : Coronavirus\" href=\"/world/coronavirus-outbreak\" role=\"menuitem\" tabindex=\"-1\">Coronavirus</a></li><li class=\"dcr-mdwiz6\" role=\"none\"><a class=\"selectableMenuItem dcr-155wclf\" data-cy=\"column-collapse-sublink-Climate crisis\" data-link-name=\"nav2 : secondary : Climate crisis\" href=\"/environment/climate-crisis\" role=\"menuitem\" tabindex=\"-1\">Climate crisis</a></li><li class=\"dcr-mdwiz6\" role=\"none\"><a class=\"selectableMenuItem dcr-155wclf\" data-cy=\"column-collapse-sublink-Environment\" data-link-name=\"nav2 : secondary : Environment\" href=\"/environment\" role=\"menuitem\" tabindex=\"-1\">Environment</a></li><li class=\"dcr-mdwiz6\" role=\"none\"><a class=\"selectableMenuItem dcr-155wclf\" data-cy=\"column-collapse-sublink-Science\" data-link-name=\"nav2 : secondary : Science\" href=\"/science\" role=\"menuitem\" tabindex=\"-1\">Science</a></li><li class=\"dcr-mdwiz6\" role=\"none\"><a class=\"selectableMenuItem dcr-155wclf\" data-cy=\"column-collapse-sublink-Global development\" data-link-name=\"nav2 : secondary : Global development\" href=\"/global-development\" role=\"menuitem\" tabindex=\"-1\">Global development</a></li><li class=\"dcr-mdwiz6\" role=\"none\"><a class=\"selectableMenuItem dcr-155wclf\" data-cy=\"column-collapse-sublink-Football\" data-link-name=\"nav2 : secondary : Football\" href=\"/football\" role=\"menuitem\" tabindex=\"-1\">Football</a></li><li class=\"dcr-mdwiz6\" role=\"none\"><a class=\"selectableMenuItem dcr-155wclf\" data-cy=\"column-collapse-sublink-Tech\" data-link-name=\"nav2 : secondary : Tech\" href=\"/technology\" role=\"menuitem\" tabindex=\"-1\">Tech</a></li><li class=\"dcr-mdwiz6\" role=\"none\"><a class=\"selectableMenuItem dcr-155wclf\" data-cy=\"column-collapse-sublink-Business\" data-link-name=\"nav2 : secondary : Business\" href=\"/business\" role=\"menuitem\" tabindex=\"-1\">Business</a></li><li class=\"dcr-mdwiz6\" role=\"none\"><a class=\"selectableMenuItem dcr-155wclf\" data-cy=\"column-collapse-sublink-Obituaries\" data-link-name=\"nav2 : secondary : Obituaries\" href=\"/tone/obituaries\" role=\"menuitem\" tabindex=\"-1\">Obituaries</a></li></ul></li><li class=\"dcr-jgypeg\" role=\"none\"><script>document.addEventListener('DOMContentLoaded', function(){\n",
      "                        var columnInput = document.getElementById('Opinion-button');\n",
      "\n",
      "\t\t\t\t\t\tif (!columnInput) return; // Sticky nav replaces the nav so element no longer exists for users in test.\n",
      "\n",
      "\t\t\t\t\t\tcolumnInput.addEventListener('keydown', function(e){\n",
      "                            // keyCode: 13 => Enter key | keyCode: 32 => Space key\n",
      "                            if (e.keyCode === 13 || e.keyCode === 32) {\n",
      "                                e.preventDefault()\n",
      "                                document.getElementById('Opinion-checkbox-input').click();\n",
      "                            }\n",
      "                        })\n",
      "                    })</script><input aria-hidden=\"true\" class=\"dcr-92oqeo\" id=\"Opinion-checkbox-input\" tabindex=\"-1\" type=\"checkbox\"/><label aria-controls=\"opinionLinks\" aria-haspopup=\"true\" aria-label=\"Toggle Opinion\" class=\"selectableMenuItem dcr-1f5hn1l\" data-cy=\"column-collapse-Opinion\" data-link-name=\"nav2 : column-toggle-Opinion: show\" for=\"Opinion-checkbox-input\" id=\"Opinion-button\" role=\"menuitem\" tabindex=\"-1\">Opinion</label><ul class=\"dcr-yc189x\" data-cy=\"opinionLinks\" id=\"opinionLinks\" role=\"menu\"><li class=\"dcr-mdwiz6\" role=\"none\"><a class=\"selectableMenuItem dcr-155wclf\" data-cy=\"column-collapse-sublink-The Guardian view\" data-link-name=\"nav2 : secondary : The Guardian view\" href=\"/profile/editorial\" role=\"menuitem\" tabindex=\"-1\">The Guardian view</a></li><li class=\"dcr-mdwiz6\" role=\"none\"><a class=\"selectableMenuItem dcr-155wclf\" data-cy=\"column-collapse-sublink-Columnists\" data-link-name=\"nav2 : secondary : Columnists\" href=\"/index/contributors\" role=\"menuitem\" tabindex=\"-1\">Columnists</a></li><li class=\"dcr-mdwiz6\" role=\"none\"><a class=\"selectableMenuItem dcr-155wclf\" data-cy=\"column-collapse-sublink-Cartoons\" data-link-name=\"nav2 : secondary : Cartoons\" href=\"/cartoons/archive\" role=\"menuitem\" tabindex=\"-1\">Cartoons</a></li><li class=\"dcr-mdwiz6\" role=\"none\"><a class=\"selectableMenuItem dcr-155wclf\" data-cy=\"column-collapse-sublink-Opinion videos\" data-link-name=\"nav2 : secondary : Opinion videos\" href=\"/type/video+tone/comment\" role=\"menuitem\" tabindex=\"-1\">Opinion videos</a></li><li class=\"dcr-mdwiz6\" role=\"none\"><a class=\"selectableMenuItem dcr-155wclf\" data-cy=\"column-collapse-sublink-Letters\" data-link-name=\"nav2 : secondary : Letters\" href=\"/tone/letters\" role=\"menuitem\" tabindex=\"-1\">Letters</a></li></ul></li><li class=\"dcr-jgypeg\" role=\"none\"><script>document.addEventListener('DOMContentLoaded', function(){\n",
      "                        var columnInput = document.getElementById('Sport-button');\n",
      "\n",
      "\t\t\t\t\t\tif (!columnInput) return; // Sticky nav replaces the nav so element no longer exists for users in test.\n",
      "\n",
      "\t\t\t\t\t\tcolumnInput.addEventListener('keydown', function(e){\n",
      "                            // keyCode: 13 => Enter key | keyCode: 32 => Space key\n",
      "                            if (e.keyCode === 13 || e.keyCode === 32) {\n",
      "                                e.preventDefault()\n",
      "                                document.getElementById('Sport-checkbox-input').click();\n",
      "                            }\n",
      "                        })\n",
      "                    })</script><input aria-hidden=\"true\" class=\"dcr-92oqeo\" id=\"Sport-checkbox-input\" tabindex=\"-1\" type=\"checkbox\"/><label aria-controls=\"sportLinks\" aria-haspopup=\"true\" aria-label=\"Toggle Sport\" class=\"selectableMenuItem dcr-1m18ln3\" data-cy=\"column-collapse-Sport\" data-link-name=\"nav2 : column-toggle-Sport: show\" for=\"Sport-checkbox-input\" id=\"Sport-button\" role=\"menuitem\" tabindex=\"-1\">Sport</label><ul class=\"dcr-1scawcd\" data-cy=\"sportLinks\" id=\"sportLinks\" role=\"menu\"><li class=\"dcr-mdwiz6\" role=\"none\"><a class=\"selectableMenuItem dcr-155wclf\" data-cy=\"column-collapse-sublink-Football\" data-link-name=\"nav2 : secondary : Football\" href=\"/football\" role=\"menuitem\" tabindex=\"-1\">Football</a></li><li class=\"dcr-mdwiz6\" role=\"none\"><a class=\"selectableMenuItem dcr-155wclf\" data-cy=\"column-collapse-sublink-Cricket\" data-link-name=\"nav2 : secondary : Cricket\" href=\"/sport/cricket\" role=\"menuitem\" tabindex=\"-1\">Cricket</a></li><li class=\"dcr-mdwiz6\" role=\"none\"><a class=\"selectableMenuItem dcr-155wclf\" data-cy=\"column-collapse-sublink-Rugby union\" data-link-name=\"nav2 : secondary : Rugby union\" href=\"/sport/rugby-union\" role=\"menuitem\" tabindex=\"-1\">Rugby union</a></li><li class=\"dcr-mdwiz6\" role=\"none\"><a class=\"selectableMenuItem dcr-155wclf\" data-cy=\"column-collapse-sublink-Tennis\" data-link-name=\"nav2 : secondary : Tennis\" href=\"/sport/tennis\" role=\"menuitem\" tabindex=\"-1\">Tennis</a></li><li class=\"dcr-mdwiz6\" role=\"none\"><a class=\"selectableMenuItem dcr-155wclf\" data-cy=\"column-collapse-sublink-Cycling\" data-link-name=\"nav2 : secondary : Cycling\" href=\"/sport/cycling\" role=\"menuitem\" tabindex=\"-1\">Cycling</a></li><li class=\"dcr-mdwiz6\" role=\"none\"><a class=\"selectableMenuItem dcr-155wclf\" data-cy=\"column-collapse-sublink-F1\" data-link-name=\"nav2 : secondary : F1\" href=\"/sport/formulaone\" role=\"menuitem\" tabindex=\"-1\">F1</a></li><li class=\"dcr-mdwiz6\" role=\"none\"><a class=\"selectableMenuItem dcr-155wclf\" data-cy=\"column-collapse-sublink-Golf\" data-link-name=\"nav2 : secondary : Golf\" href=\"/sport/golf\" role=\"menuitem\" tabindex=\"-1\">Golf</a></li><li class=\"dcr-mdwiz6\" role=\"none\"><a class=\"selectableMenuItem dcr-155wclf\" data-cy=\"column-collapse-sublink-US sports\" data-link-name=\"nav2 : secondary : US sports\" href=\"/sport/us-sport\" role=\"menuitem\" tabindex=\"-1\">US sports</a></li></ul></li><li class=\"dcr-jgypeg\" role=\"none\"><script>document.addEventListener('DOMContentLoaded', function(){\n",
      "                        var columnInput = document.getElementById('Culture-button');\n",
      "\n",
      "\t\t\t\t\t\tif (!columnInput) return; // Sticky nav replaces the nav so element no longer exists for users in test.\n",
      "\n",
      "\t\t\t\t\t\tcolumnInput.addEventListener('keydown', function(e){\n",
      "                            // keyCode: 13 => Enter key | keyCode: 32 => Space key\n",
      "                            if (e.keyCode === 13 || e.keyCode === 32) {\n",
      "                                e.preventDefault()\n",
      "                                document.getElementById('Culture-checkbox-input').click();\n",
      "                            }\n",
      "                        })\n",
      "                    })</script><input aria-hidden=\"true\" class=\"dcr-92oqeo\" id=\"Culture-checkbox-input\" tabindex=\"-1\" type=\"checkbox\"/><label aria-controls=\"cultureLinks\" aria-haspopup=\"true\" aria-label=\"Toggle Culture\" class=\"selectableMenuItem dcr-hbarp8\" data-cy=\"column-collapse-Culture\" data-link-name=\"nav2 : column-toggle-Culture: show\" for=\"Culture-checkbox-input\" id=\"Culture-button\" role=\"menuitem\" tabindex=\"-1\">Culture</label><ul class=\"dcr-r5o6p0\" data-cy=\"cultureLinks\" id=\"cultureLinks\" role=\"menu\"><li class=\"dcr-mdwiz6\" role=\"none\"><a class=\"selectableMenuItem dcr-155wclf\" data-cy=\"column-collapse-sublink-Books\" data-link-name=\"nav2 : secondary : Books\" href=\"/books\" role=\"menuitem\" tabindex=\"-1\">Books</a></li><li class=\"dcr-mdwiz6\" role=\"none\"><a class=\"selectableMenuItem dcr-155wclf\" data-cy=\"column-collapse-sublink-Music\" data-link-name=\"nav2 : secondary : Music\" href=\"/music\" role=\"menuitem\" tabindex=\"-1\">Music</a></li><li class=\"dcr-mdwiz6\" role=\"none\"><a class=\"selectableMenuItem dcr-155wclf\" data-cy=\"column-collapse-sublink-TV &amp; radio\" data-link-name=\"nav2 : secondary : TV &amp; radio\" href=\"/tv-and-radio\" role=\"menuitem\" tabindex=\"-1\">TV &amp; radio</a></li><li class=\"dcr-mdwiz6\" role=\"none\"><a class=\"selectableMenuItem dcr-155wclf\" data-cy=\"column-collapse-sublink-Art &amp; design\" data-link-name=\"nav2 : secondary : Art &amp; design\" href=\"/artanddesign\" role=\"menuitem\" tabindex=\"-1\">Art &amp; design</a></li><li class=\"dcr-mdwiz6\" role=\"none\"><a class=\"selectableMenuItem dcr-155wclf\" data-cy=\"column-collapse-sublink-Film\" data-link-name=\"nav2 : secondary : Film\" href=\"/film\" role=\"menuitem\" tabindex=\"-1\">Film</a></li><li class=\"dcr-mdwiz6\" role=\"none\"><a class=\"selectableMenuItem dcr-155wclf\" data-cy=\"column-collapse-sublink-Games\" data-link-name=\"nav2 : secondary : Games\" href=\"/games\" role=\"menuitem\" tabindex=\"-1\">Games</a></li><li class=\"dcr-mdwiz6\" role=\"none\"><a class=\"selectableMenuItem dcr-155wclf\" data-cy=\"column-collapse-sublink-Classical\" data-link-name=\"nav2 : secondary : Classical\" href=\"/music/classicalmusicandopera\" role=\"menuitem\" tabindex=\"-1\">Classical</a></li><li class=\"dcr-mdwiz6\" role=\"none\"><a class=\"selectableMenuItem dcr-155wclf\" data-cy=\"column-collapse-sublink-Stage\" data-link-name=\"nav2 : secondary : Stage\" href=\"/stage\" role=\"menuitem\" tabindex=\"-1\">Stage</a></li></ul></li><li class=\"dcr-jgypeg\" role=\"none\"><script>document.addEventListener('DOMContentLoaded', function(){\n",
      "                        var columnInput = document.getElementById('Lifestyle-button');\n",
      "\n",
      "\t\t\t\t\t\tif (!columnInput) return; // Sticky nav replaces the nav so element no longer exists for users in test.\n",
      "\n",
      "\t\t\t\t\t\tcolumnInput.addEventListener('keydown', function(e){\n",
      "                            // keyCode: 13 => Enter key | keyCode: 32 => Space key\n",
      "                            if (e.keyCode === 13 || e.keyCode === 32) {\n",
      "                                e.preventDefault()\n",
      "                                document.getElementById('Lifestyle-checkbox-input').click();\n",
      "                            }\n",
      "                        })\n",
      "                    })</script><input aria-hidden=\"true\" class=\"dcr-92oqeo\" id=\"Lifestyle-checkbox-input\" tabindex=\"-1\" type=\"checkbox\"/><label aria-controls=\"lifestyleLinks\" aria-haspopup=\"true\" aria-label=\"Toggle Lifestyle\" class=\"selectableMenuItem dcr-7lclo4\" data-cy=\"column-collapse-Lifestyle\" data-link-name=\"nav2 : column-toggle-Lifestyle: show\" for=\"Lifestyle-checkbox-input\" id=\"Lifestyle-button\" role=\"menuitem\" tabindex=\"-1\">Lifestyle</label><ul class=\"dcr-1ag59f8\" data-cy=\"lifestyleLinks\" id=\"lifestyleLinks\" role=\"menu\"><li class=\"dcr-mdwiz6\" role=\"none\"><a class=\"selectableMenuItem dcr-155wclf\" data-cy=\"column-collapse-sublink-Fashion\" data-link-name=\"nav2 : secondary : Fashion\" href=\"/fashion\" role=\"menuitem\" tabindex=\"-1\">Fashion</a></li><li class=\"dcr-mdwiz6\" role=\"none\"><a class=\"selectableMenuItem dcr-155wclf\" data-cy=\"column-collapse-sublink-Food\" data-link-name=\"nav2 : secondary : Food\" href=\"/food\" role=\"menuitem\" tabindex=\"-1\">Food</a></li><li class=\"dcr-mdwiz6\" role=\"none\"><a class=\"selectableMenuItem dcr-155wclf\" data-cy=\"column-collapse-sublink-Recipes\" data-link-name=\"nav2 : secondary : Recipes\" href=\"/tone/recipes\" role=\"menuitem\" tabindex=\"-1\">Recipes</a></li><li class=\"dcr-mdwiz6\" role=\"none\"><a class=\"selectableMenuItem dcr-155wclf\" data-cy=\"column-collapse-sublink-Love &amp; sex\" data-link-name=\"nav2 : secondary : Love &amp; sex\" href=\"/lifeandstyle/love-and-sex\" role=\"menuitem\" tabindex=\"-1\">Love &amp; sex</a></li><li class=\"dcr-mdwiz6\" role=\"none\"><a class=\"selectableMenuItem dcr-155wclf\" data-cy=\"column-collapse-sublink-Health &amp; fitness\" data-link-name=\"nav2 : secondary : Health &amp; fitness\" href=\"/lifeandstyle/health-and-wellbeing\" role=\"menuitem\" tabindex=\"-1\">Health &amp; fitness</a></li><li class=\"dcr-mdwiz6\" role=\"none\"><a class=\"selectableMenuItem dcr-155wclf\" data-cy=\"column-collapse-sublink-Home &amp; garden\" data-link-name=\"nav2 : secondary : Home &amp; garden\" href=\"/lifeandstyle/home-and-garden\" role=\"menuitem\" tabindex=\"-1\">Home &amp; garden</a></li><li class=\"dcr-mdwiz6\" role=\"none\"><a class=\"selectableMenuItem dcr-155wclf\" data-cy=\"column-collapse-sublink-Women\" data-link-name=\"nav2 : secondary : Women\" href=\"/lifeandstyle/women\" role=\"menuitem\" tabindex=\"-1\">Women</a></li><li class=\"dcr-mdwiz6\" role=\"none\"><a class=\"selectableMenuItem dcr-155wclf\" data-cy=\"column-collapse-sublink-Men\" data-link-name=\"nav2 : secondary : Men\" href=\"/lifeandstyle/men\" role=\"menuitem\" tabindex=\"-1\">Men</a></li><li class=\"dcr-mdwiz6\" role=\"none\"><a class=\"selectableMenuItem dcr-155wclf\" data-cy=\"column-collapse-sublink-Family\" data-link-name=\"nav2 : secondary : Family\" href=\"/lifeandstyle/family\" role=\"menuitem\" tabindex=\"-1\">Family</a></li><li class=\"dcr-mdwiz6\" role=\"none\"><a class=\"selectableMenuItem dcr-155wclf\" data-cy=\"column-collapse-sublink-Travel\" data-link-name=\"nav2 : secondary : Travel\" href=\"/travel\" role=\"menuitem\" tabindex=\"-1\">Travel</a></li><li class=\"dcr-mdwiz6\" role=\"none\"><a class=\"selectableMenuItem dcr-155wclf\" data-cy=\"column-collapse-sublink-Money\" data-link-name=\"nav2 : secondary : Money\" href=\"/money\" role=\"menuitem\" tabindex=\"-1\">Money</a></li></ul></li><ul class=\"dcr-1blnjq7\" role=\"menu\"><li class=\"dcr-olqzeg\" role=\"none\"><a class=\"selectableMenuItem dcr-155wclf\" data-cy=\"column-collapse-sublink-Make a contribution\" data-link-name=\"nav2 : secondary : Make a contribution\" href=\"https://support.theguardian.com/contribute?INTCMP=side_menu_support_contribute&amp;acquisitionData=%7B%22source%22:%22GUARDIAN_WEB%22,%22componentType%22:%22ACQUISITIONS_HEADER%22,%22componentId%22:%22side_menu_support_contribute%22%7D\" role=\"menuitem\" tabindex=\"-1\">Make a contribution</a></li><li class=\"dcr-olqzeg\" role=\"none\"><a class=\"selectableMenuItem dcr-155wclf\" data-cy=\"column-collapse-sublink-Subscribe\" data-link-name=\"nav2 : secondary : Subscribe\" href=\"https://support.theguardian.com/subscribe?INTCMP=side_menu_support_subscribe&amp;acquisitionData=%7B%22source%22:%22GUARDIAN_WEB%22,%22componentType%22:%22ACQUISITIONS_HEADER%22,%22componentId%22:%22side_menu_support_subscribe%22%7D\" role=\"menuitem\" tabindex=\"-1\">Subscribe</a></li></ul><li class=\"dcr-1ubvh8x\" role=\"none\"><ul class=\"dcr-sqg38i\" id=\"moreLinks\" role=\"menu\"><li class=\"dcr-olqzeg\" role=\"none\"><a class=\"selectableMenuItem dcr-155wclf\" data-cy=\"column-collapse-sublink-Search jobs\" data-link-name=\"nav2 : secondary : Search jobs\" href=\"https://jobs.theguardian.com?INTCMP=jobs_int_web_newheader_dropdown\" role=\"menuitem\" tabindex=\"-1\">Search jobs</a></li><li class=\"dcr-olqzeg\" role=\"none\"><a class=\"selectableMenuItem dcr-155wclf\" data-cy=\"column-collapse-sublink-Holidays\" data-link-name=\"nav2 : secondary : Holidays\" href=\"https://holidays.theguardian.com?INTCMP=holidays_int_web_newheader\" role=\"menuitem\" tabindex=\"-1\">Holidays</a></li><li class=\"dcr-olqzeg\" role=\"none\"><a class=\"selectableMenuItem dcr-155wclf\" data-cy=\"column-collapse-sublink-Digital Archive\" data-link-name=\"nav2 : secondary : Digital Archive\" href=\"https://theguardian.newspapers.com\" role=\"menuitem\" tabindex=\"-1\">Digital Archive</a></li><li class=\"dcr-olqzeg\" role=\"none\"><a class=\"selectableMenuItem dcr-155wclf\" data-cy=\"column-collapse-sublink-Guardian Puzzles app\" data-link-name=\"nav2 : secondary : Guardian Puzzles app\" href=\"https://puzzles.theguardian.com/download\" role=\"menuitem\" tabindex=\"-1\">Guardian Puzzles app</a></li><li class=\"dcr-olqzeg\" role=\"none\"><a class=\"selectableMenuItem dcr-155wclf\" data-cy=\"column-collapse-sublink-Guardian content licensing site\" data-link-name=\"nav2 : secondary : Guardian content licensing site\" href=\"https://licensing.theguardian.com/\" role=\"menuitem\" tabindex=\"-1\">Guardian content licensing site</a></li><li class=\"dcr-mdwiz6\" role=\"none\"><a class=\"selectableMenuItem dcr-155wclf\" data-cy=\"column-collapse-sublink-The Guardian app\" data-link-name=\"nav2 : secondary : The Guardian app\" href=\"https://www.theguardian.com/mobile/2014/may/29/the-guardian-for-mobile-and-tablet\" role=\"menuitem\" tabindex=\"-1\">The Guardian app</a></li><li class=\"dcr-mdwiz6\" role=\"none\"><a class=\"selectableMenuItem dcr-155wclf\" data-cy=\"column-collapse-sublink-Video\" data-link-name=\"nav2 : secondary : Video\" href=\"/video\" role=\"menuitem\" tabindex=\"-1\">Video</a></li><li class=\"dcr-mdwiz6\" role=\"none\"><a class=\"selectableMenuItem dcr-155wclf\" data-cy=\"column-collapse-sublink-Podcasts\" data-link-name=\"nav2 : secondary : Podcasts\" href=\"/podcasts\" role=\"menuitem\" tabindex=\"-1\">Podcasts</a></li><li class=\"dcr-mdwiz6\" role=\"none\"><a class=\"selectableMenuItem dcr-155wclf\" data-cy=\"column-collapse-sublink-Pictures\" data-link-name=\"nav2 : secondary : Pictures\" href=\"/inpictures\" role=\"menuitem\" tabindex=\"-1\">Pictures</a></li><li class=\"dcr-mdwiz6\" role=\"none\"><a class=\"selectableMenuItem dcr-155wclf\" data-cy=\"column-collapse-sublink-Newsletters\" data-link-name=\"nav2 : secondary : Newsletters\" href=\"/email-newsletters\" role=\"menuitem\" tabindex=\"-1\">Newsletters</a></li><li class=\"dcr-mdwiz6\" role=\"none\"><a class=\"selectableMenuItem dcr-155wclf\" data-cy=\"column-collapse-sublink-Today's paper\" data-link-name=\"nav2 : secondary : Today's paper\" href=\"/theguardian\" role=\"menuitem\" tabindex=\"-1\">Today's paper</a></li><li class=\"dcr-mdwiz6\" role=\"none\"><a class=\"selectableMenuItem dcr-155wclf\" data-cy=\"column-collapse-sublink-Inside the Guardian\" data-link-name=\"nav2 : secondary : Inside the Guardian\" href=\"https://www.theguardian.com/membership\" role=\"menuitem\" tabindex=\"-1\">Inside the Guardian</a></li><li class=\"dcr-mdwiz6\" role=\"none\"><a class=\"selectableMenuItem dcr-155wclf\" data-cy=\"column-collapse-sublink-The Observer\" data-link-name=\"nav2 : secondary : The Observer\" href=\"/observer\" role=\"menuitem\" tabindex=\"-1\">The Observer</a></li><li class=\"dcr-mdwiz6\" role=\"none\"><a class=\"selectableMenuItem dcr-155wclf\" data-cy=\"column-collapse-sublink-Guardian Weekly\" data-link-name=\"nav2 : secondary : Guardian Weekly\" href=\"https://www.theguardian.com/weekly?INTCMP=gdnwb_mawns_editorial_gweekly_GW_TopNav_Int\" role=\"menuitem\" tabindex=\"-1\">Guardian Weekly</a></li><li class=\"dcr-mdwiz6\" role=\"none\"><a class=\"selectableMenuItem dcr-155wclf\" data-cy=\"column-collapse-sublink-Crosswords\" data-link-name=\"nav2 : secondary : Crosswords\" href=\"/crosswords\" role=\"menuitem\" tabindex=\"-1\">Crosswords</a></li></ul></li><li class=\"dcr-29mg8u\" role=\"none\"><ul class=\"dcr-sqg38i\" role=\"menu\"><li class=\"dcr-olqzeg\" role=\"none\"><a class=\"selectableMenuItem dcr-155wclf\" data-link-name=\"nav2 : secondary : facebook\" href=\"https://www.facebook.com/theguardian\" role=\"menuitem\" tabindex=\"-1\"><svg class=\"dcr-1wfuz1o\" height=\"32\" viewbox=\"-2 -2 32 32\" width=\"32\"><path d=\"M17.9 14h-3v8H12v-8h-2v-2.9h2V8.7C12 6.8 13.1 5 16 5c1.2 0 2 .1 2 .1v3h-1.8c-1 0-1.2.5-1.2 1.3v1.8h3l-.1 2.8z\"></path></svg>Facebook</a></li><li class=\"dcr-olqzeg\" role=\"none\"><a class=\"selectableMenuItem dcr-155wclf\" data-link-name=\"nav2 : secondary : twitter\" href=\"https://twitter.com/guardian\" role=\"menuitem\" tabindex=\"-1\"><svg class=\"dcr-1wfuz1o\" height=\"32\" viewbox=\"-2 -2 32 32\" width=\"32\"><path d=\"M21.3 10.5v.5c0 4.7-3.5 10.1-9.9 10.1-2 0-3.8-.6-5.3-1.6.3 0 .6.1.8.1 1.6 0 3.1-.6 4.3-1.5-1.5 0-2.8-1-3.3-2.4.2 0 .4.1.7.1l.9-.1c-1.6-.3-2.8-1.8-2.8-3.5.5.3 1 .4 1.6.4-.9-.6-1.6-1.7-1.6-2.9 0-.6.2-1.3.5-1.8 1.7 2.1 4.3 3.6 7.2 3.7-.1-.3-.1-.5-.1-.8 0-2 1.6-3.5 3.5-3.5 1 0 1.9.4 2.5 1.1.8-.1 1.5-.4 2.2-.8-.3.8-.8 1.5-1.5 1.9.7-.1 1.4-.3 2-.5-.4.4-1 1-1.7 1.5z\"></path></svg>Twitter</a></li></ul></li><li class=\"dcr-6711t4\" role=\"none\"><ul class=\"dcr-upde3g\" role=\"menu\"><li class=\"dcr-1yr64jd\"><a class=\"selectableMenuItem dcr-18x77xn\" data-link-name=\"nav2 : brand extension : Search jobs\" href=\"https://jobs.theguardian.com?INTCMP=jobs_int_web_newheader_dropdown\" role=\"menuitem\" tabindex=\"-1\">Search jobs</a></li><li class=\"dcr-1yr64jd\"><a class=\"selectableMenuItem dcr-18x77xn\" data-link-name=\"nav2 : brand extension : Holidays\" href=\"https://holidays.theguardian.com?INTCMP=holidays_int_web_newheader\" role=\"menuitem\" tabindex=\"-1\">Holidays</a></li><li class=\"dcr-1yr64jd\"><a class=\"selectableMenuItem dcr-18x77xn\" data-link-name=\"nav2 : brand extension : Digital Archive\" href=\"https://theguardian.newspapers.com\" role=\"menuitem\" tabindex=\"-1\">Digital Archive</a></li><li class=\"dcr-1yr64jd\"><a class=\"selectableMenuItem dcr-18x77xn\" data-link-name=\"nav2 : brand extension : Guardian Puzzles app\" href=\"https://puzzles.theguardian.com/download\" role=\"menuitem\" tabindex=\"-1\">Guardian Puzzles app</a></li><li class=\"dcr-1yr64jd\"><a class=\"selectableMenuItem dcr-18x77xn\" data-link-name=\"nav2 : brand extension : Guardian content licensing site\" href=\"https://licensing.theguardian.com/\" role=\"menuitem\" tabindex=\"-1\">Guardian content licensing site</a></li></ul></li></ul></div></div></div></div></div></div></nav><aside class=\"dcr-1ii239v\"><div class=\"dcr-1f41bee\"><gu-island deferuntil=\"idle\" name=\"SubNav\" props='{\"subNavSections\":{\"links\":[{\"title\":\"Soccer\",\"longTitle\":\"Soccer\",\"url\":\"/football\",\"children\":[{\"title\":\"Live scores\",\"longTitle\":\"football/live\",\"url\":\"/football/live\",\"children\":[],\"mobileOnly\":false},{\"title\":\"Tables\",\"longTitle\":\"football/tables\",\"url\":\"/football/tables\",\"children\":[],\"mobileOnly\":false},{\"title\":\"Fixtures\",\"longTitle\":\"football/fixtures\",\"url\":\"/football/fixtures\",\"children\":[],\"mobileOnly\":false},{\"title\":\"Results\",\"longTitle\":\"football/results\",\"url\":\"/football/results\",\"children\":[],\"mobileOnly\":false},{\"title\":\"Competitions\",\"longTitle\":\"football/competitions\",\"url\":\"/football/competitions\",\"children\":[],\"mobileOnly\":false},{\"title\":\"Clubs\",\"longTitle\":\"football/teams\",\"url\":\"/football/teams\",\"children\":[],\"mobileOnly\":false}],\"mobileOnly\":false},{\"title\":\"NFL\",\"longTitle\":\"NFL\",\"url\":\"/sport/nfl\",\"children\":[],\"mobileOnly\":false},{\"title\":\"Tennis\",\"longTitle\":\"Tennis\",\"url\":\"/sport/tennis\",\"children\":[],\"mobileOnly\":false},{\"title\":\"MLB\",\"longTitle\":\"MLB\",\"url\":\"/sport/mlb\",\"children\":[],\"mobileOnly\":false},{\"title\":\"MLS\",\"longTitle\":\"MLS\",\"url\":\"/football/mls\",\"children\":[],\"mobileOnly\":false},{\"title\":\"NBA\",\"longTitle\":\"NBA\",\"url\":\"/sport/nba\",\"children\":[],\"mobileOnly\":false},{\"title\":\"NHL\",\"longTitle\":\"NHL\",\"url\":\"/sport/nhl\",\"children\":[],\"mobileOnly\":false}]},\"currentNavLink\":\"NBA\",\"format\":{\"display\":0,\"theme\":2,\"design\":6}}'><div class=\"dcr-1nbntzu\" data-component=\"sub-nav\" data-cy=\"sub-nav\" data-print-layout=\"hide\"><ul class=\"dcr-1mc3jf3\"><li><a class=\"dcr-jkyl0f\" data-link-name=\"nav2 : subnav : football\" data-src-focus-disabled=\"true\" href=\"/football\">Soccer</a></li><li><a class=\"dcr-jkyl0f\" data-link-name=\"nav2 : subnav : sport/nfl\" data-src-focus-disabled=\"true\" href=\"/sport/nfl\">NFL</a></li><li><a class=\"dcr-jkyl0f\" data-link-name=\"nav2 : subnav : sport/tennis\" data-src-focus-disabled=\"true\" href=\"/sport/tennis\">Tennis</a></li><li><a class=\"dcr-jkyl0f\" data-link-name=\"nav2 : subnav : sport/mlb\" data-src-focus-disabled=\"true\" href=\"/sport/mlb\">MLB</a></li><li><a class=\"dcr-jkyl0f\" data-link-name=\"nav2 : subnav : football/mls\" data-src-focus-disabled=\"true\" href=\"/football/mls\">MLS</a></li><li><a class=\"dcr-jkyl0f\" data-link-name=\"nav2 : subnav : sport/nba\" data-src-focus-disabled=\"true\" href=\"/sport/nba\"><span class=\"dcr-1j389vi\">NBA</span></a></li><li><a class=\"dcr-jkyl0f\" data-link-name=\"nav2 : subnav : sport/nhl\" data-src-focus-disabled=\"true\" href=\"/sport/nhl\">NHL</a></li></ul></div></gu-island></div></aside><div class=\"dcr-1ii239v\"><div class=\"dcr-5827gf\"><div class=\"dcr-1038kzh\"></div></div></div></div><div aria-hidden=\"true\" class=\"js-ad-slot ad-slot ad-slot--survey dcr-1cn4pv6\" data-desktop=\"1,1\" data-label=\"false\" data-link-name=\"ad slot survey\" data-name=\"survey\" data-out-of-page=\"true\" data-refresh=\"false\" id=\"dfp-ad--survey\"></div><main><article class=\"dcr-1ii239v\"><div class=\"dcr-1ipk5a\"><div class=\"dcr-1c5ohp\"><aside class=\"dcr-hfp9tp\" data-gu-name=\"title\"><div class=\"dcr-10jdkim\"><div class=\"dcr-1u8qly9\"><a class=\"content__label__link dcr-xpz8pg\" data-component=\"section\" data-link-name=\"article section\" href=\"https://www.theguardian.com/sport/lebron-james\"><span>LeBron James</span></a></div></div></aside><div class=\"dcr-qpwrb4\" data-gu-name=\"border\"><div class=\"dcr-17igkm0\"></div></div><aside class=\"dcr-7disnw\" data-gu-name=\"matchNav\"><div class=\"dcr-krkkhw\"></div></aside><aside class=\"dcr-12l0bud\" data-gu-name=\"matchtabs\"><div class=\"dcr-krkkhw\"></div></aside><div class=\"dcr-1nupfq9\" data-gu-name=\"headline\"><div class=\"dcr-krkkhw\"><div class=\"dcr-13a2edo\"><h1 class=\"dcr-1olvc81\">LeBron James owns plenty of blame in his personal annus horribilis</h1></div></div></div><div class=\"dcr-zjgnrw\" data-gu-name=\"standfirst\"><div class=\"dcr-yddhpt\"><p>The Los Angeles Lakers’ season is effectively over and their shadow general manager has played his part in their downfall</p></div></div><div class=\"dcr-pn0kqp\" data-gu-name=\"media\"><div class=\"dcr-krkkhw\"><div class=\"dcr-16n5mgq\"><figure class=\"dcr-13udsys\" id=\"24cd6711-f2d2-4d83-84a8-a9d522bd636c\"><div class=\"dcr-1b267dg\"><picture itemprop=\"contentUrl\"><source media=\"(min-width: 980px) and (-webkit-min-device-pixel-ratio: 1.25), (min-width: 980px) and (min-resolution: 120dpi)\" srcset=\"https://i.guim.co.uk/img/media/6bb6e131d7afcec287e6ab1b080ce3616064175c/0_118_4310_2587/master/4310.jpg?width=620&amp;quality=45&amp;auto=format&amp;fit=max&amp;dpr=2&amp;s=2cfdb42ff316b32131ccb92c3d46ba1d 1240w\"/><source media=\"(min-width: 980px)\" srcset=\"https://i.guim.co.uk/img/media/6bb6e131d7afcec287e6ab1b080ce3616064175c/0_118_4310_2587/master/4310.jpg?width=620&amp;quality=85&amp;auto=format&amp;fit=max&amp;s=9a5d1a3ba55a2c67300718108945b94e 620w\"/><source media=\"(min-width: 740px) and (-webkit-min-device-pixel-ratio: 1.25), (min-width: 740px) and (min-resolution: 120dpi)\" srcset=\"https://i.guim.co.uk/img/media/6bb6e131d7afcec287e6ab1b080ce3616064175c/0_118_4310_2587/master/4310.jpg?width=700&amp;quality=45&amp;auto=format&amp;fit=max&amp;dpr=2&amp;s=92fc1fe3cc84f5024022b80e207adb83 1400w\"/><source media=\"(min-width: 740px)\" srcset=\"https://i.guim.co.uk/img/media/6bb6e131d7afcec287e6ab1b080ce3616064175c/0_118_4310_2587/master/4310.jpg?width=700&amp;quality=85&amp;auto=format&amp;fit=max&amp;s=8e66b0cc34eea753a69d858703f4b550 700w\"/><source media=\"(min-width: 660px) and (-webkit-min-device-pixel-ratio: 1.25), (min-width: 660px) and (min-resolution: 120dpi)\" srcset=\"https://i.guim.co.uk/img/media/6bb6e131d7afcec287e6ab1b080ce3616064175c/0_118_4310_2587/master/4310.jpg?width=620&amp;quality=45&amp;auto=format&amp;fit=max&amp;dpr=2&amp;s=2cfdb42ff316b32131ccb92c3d46ba1d 1240w\"/><source media=\"(min-width: 660px)\" srcset=\"https://i.guim.co.uk/img/media/6bb6e131d7afcec287e6ab1b080ce3616064175c/0_118_4310_2587/master/4310.jpg?width=620&amp;quality=85&amp;auto=format&amp;fit=max&amp;s=9a5d1a3ba55a2c67300718108945b94e 620w\"/><source media=\"(min-width: 480px) and (-webkit-min-device-pixel-ratio: 1.25), (min-width: 480px) and (min-resolution: 120dpi)\" srcset=\"https://i.guim.co.uk/img/media/6bb6e131d7afcec287e6ab1b080ce3616064175c/0_118_4310_2587/master/4310.jpg?width=620&amp;quality=45&amp;auto=format&amp;fit=max&amp;dpr=2&amp;s=2cfdb42ff316b32131ccb92c3d46ba1d 1240w\"/><source media=\"(min-width: 480px)\" srcset=\"https://i.guim.co.uk/img/media/6bb6e131d7afcec287e6ab1b080ce3616064175c/0_118_4310_2587/master/4310.jpg?width=620&amp;quality=85&amp;auto=format&amp;fit=max&amp;s=9a5d1a3ba55a2c67300718108945b94e 620w\"/><source media=\"(min-width: 375px) and (-webkit-min-device-pixel-ratio: 1.25), (min-width: 375px) and (min-resolution: 120dpi)\" srcset=\"https://i.guim.co.uk/img/media/6bb6e131d7afcec287e6ab1b080ce3616064175c/0_118_4310_2587/master/4310.jpg?width=465&amp;quality=45&amp;auto=format&amp;fit=max&amp;dpr=2&amp;s=4f8b593d2a3ee854f8ba488a58e3c437 930w\"/><source media=\"(min-width: 375px)\" srcset=\"https://i.guim.co.uk/img/media/6bb6e131d7afcec287e6ab1b080ce3616064175c/0_118_4310_2587/master/4310.jpg?width=465&amp;quality=85&amp;auto=format&amp;fit=max&amp;s=4e95f4371e87534577b1da3ad66adf2e 465w\"/><source media=\"(min-width: 320px) and (-webkit-min-device-pixel-ratio: 1.25), (min-width: 320px) and (min-resolution: 120dpi)\" srcset=\"https://i.guim.co.uk/img/media/6bb6e131d7afcec287e6ab1b080ce3616064175c/0_118_4310_2587/master/4310.jpg?width=465&amp;quality=45&amp;auto=format&amp;fit=max&amp;dpr=2&amp;s=4f8b593d2a3ee854f8ba488a58e3c437 930w\"/><source media=\"(min-width: 320px)\" srcset=\"https://i.guim.co.uk/img/media/6bb6e131d7afcec287e6ab1b080ce3616064175c/0_118_4310_2587/master/4310.jpg?width=465&amp;quality=85&amp;auto=format&amp;fit=max&amp;s=4e95f4371e87534577b1da3ad66adf2e 465w\"/><source media=\"(min-width: 0px) and (-webkit-min-device-pixel-ratio: 1.25), (min-width: 0px) and (min-resolution: 120dpi)\" srcset=\"https://i.guim.co.uk/img/media/6bb6e131d7afcec287e6ab1b080ce3616064175c/0_118_4310_2587/master/4310.jpg?width=465&amp;quality=45&amp;auto=format&amp;fit=max&amp;dpr=2&amp;s=4f8b593d2a3ee854f8ba488a58e3c437 930w\"/><source media=\"(min-width: 0px)\" srcset=\"https://i.guim.co.uk/img/media/6bb6e131d7afcec287e6ab1b080ce3616064175c/0_118_4310_2587/master/4310.jpg?width=465&amp;quality=85&amp;auto=format&amp;fit=max&amp;s=4e95f4371e87534577b1da3ad66adf2e 465w\"/><img alt=\"LeBron James won the title with the Lakers in 2020 but the team has declined since\" class=\"dcr-1989ovb\" height=\"1200\" src=\"https://i.guim.co.uk/img/media/6bb6e131d7afcec287e6ab1b080ce3616064175c/0_118_4310_2587/master/4310.jpg?width=465&amp;quality=45&amp;auto=format&amp;fit=max&amp;dpr=2&amp;s=4f8b593d2a3ee854f8ba488a58e3c437\" width=\"2000\"/></picture><span class=\"dcr-172h6t9\"><div class=\"dcr-ho1qnd\"><div class=\"dcr-1kjku2s\"><label class=\"dcr-1e2h9sk\" for=\"the-checkbox\"><svg fill=\"white\" height=\"14\" viewbox=\"0 0 6 14\" width=\"6\"><path d=\"M4.6 12l-.4 1.4c-.7.2-1.9.6-3 .6-.7 0-1.2-.2-1.2-.9 0-.2 0-.3.1-.5l2-6.7H.7l.4-1.5 4.2-.6h.2L3 12h1.6zm-.3-9.2c-.9 0-1.4-.5-1.4-1.3C2.9.5 3.7 0 4.6 0 5.4 0 6 .5 6 1.3c0 1-.8 1.5-1.7 1.5z\"></path></svg></label><input id=\"the-checkbox\" type=\"checkbox\"/> <div id=\"the-caption\"><figcaption class=\"dcr-1v21d63\"><span class=\"dcr-1usbar2\"><svg height=\"13\" viewbox=\"0 0 18 13\" width=\"18\"><path d=\"M18 3.5v8l-1.5 1.5h-15l-1.5-1.5v-8l1.5-1.5h3.5l2-2h4l2 2h3.5l1.5 1.5zm-9 7.5c1.9 0 3.5-1.6 3.5-3.5s-1.6-3.5-3.5-3.5-3.5 1.6-3.5 3.5 1.6 3.5 3.5 3.5z\"></path></svg></span><span class=\"dcr-nnoipb\">LeBron James won the title with the Lakers in 2020 but the team has declined since. </span> Photograph: Chuck Cook/USA Today Sports</figcaption></div></div></div></span></div><span class=\"dcr-l6t30p\"><figcaption class=\"dcr-w6u133\"><span class=\"dcr-1usbar2\"><svg height=\"13\" viewbox=\"0 0 18 13\" width=\"18\"><path d=\"M18 3.5v8l-1.5 1.5h-15l-1.5-1.5v-8l1.5-1.5h3.5l2-2h4l2 2h3.5l1.5 1.5zm-9 7.5c1.9 0 3.5-1.6 3.5-3.5s-1.6-3.5-3.5-3.5-3.5 1.6-3.5 3.5 1.6 3.5 3.5 3.5z\"></path></svg></span><span class=\"dcr-nnoipb\">LeBron James won the title with the Lakers in 2020 but the team has declined since. </span> Photograph: Chuck Cook/USA Today Sports</figcaption></span></figure></div></div></div><div class=\"dcr-1o781fl\" data-gu-name=\"lines\"><div class=\"dcr-krkkhw\"><div class=\"dcr-ss9mnu\"><div class=\"dcr-sko21e\"></div></div></div></div><aside class=\"dcr-1aul2ye\" data-gu-name=\"meta\"><div class=\"dcr-krkkhw\"><div class=\"dcr-ss9mnu\"><div class=\"dcr-1eucl2a\"><div class=\"dcr-fj5ypv\"><div><address aria-label=\"Contributor info\" data-component=\"meta-byline\" data-link-name=\"byline\"><div class=\"dcr-187adts\"><a data-link-name=\"auto tag link\" href=\"//www.theguardian.com/profile/andrew-lawrence\" rel=\"author\">Andrew Lawrence</a></div><div class=\"dcr-mjksz5\"><svg height=\"14\" viewbox=\"-298 390 14 14\" width=\"14\"><path d=\"M-284 392.6c-.5.2-1.1.4-1.6.5.6-.4 1-.9 1.3-1.6-.6.3-1.2.6-1.8.7-.5-.6-1.3-.9-2.1-.9-1.6 0-2.9 1.3-2.9 2.9 0 .2 0 .4.1.7-2.4-.1-4.5-1.3-5.9-3-.2.4-.4.9-.4 1.4 0 1 .5 1.9 1.3 2.4-.5 0-.9-.1-1.3-.4 0 1.4 1 2.6 2.3 2.8-.2.1-.5.1-.8.1-.2 0-.4 0-.5-.1.4 1.1 1.4 2 2.7 2-1 .8-2.2 1.2-3.6 1.2h-.7c1.3.8 2.8 1.3 4.4 1.3 5.3 0 8.2-4.4 8.2-8.2v-.4c.3-.2.8-.8 1.3-1.4\"></path></svg><a aria-label=\"@by_drew on Twitter\" href=\"https://www.twitter.com/by_drew\">@<!-- -->by_drew</a></div></address><details class=\"dcr-km9fgb\"><summary class=\"dcr-12fpzem\">Thu 7 Apr 2022 09.00 BST</summary>Last modified on Thu 7 Apr 2022 09.51 BST</details></div></div><div class=\"dcr-15yir0q\" data-print-layout=\"hide\"><div class=\"dcr-1jafwuq\"><ul class=\"dcr-1n0u3w8\"><li class=\"dcr-i43ppq\"><a aria-label=\"Share on Facebook\" data-ignore=\"global-link-styling\" href=\"https://www.facebook.com/dialog/share?app_id=180444840287&amp;href=https%3A%2F%2Fwww.theguardian.com%2Fsport%2F2022%2Fapr%2F07%2Flebron-james-lakers-nba-basketball%3FCMP%3Dshare_btn_fb\" rel=\"noreferrer\" role=\"button\" target=\"_blank\"><span class=\"dcr-1prk3xc\"><svg height=\"32\" viewbox=\"-2 -2 32 32\" width=\"32\"><path d=\"M17.9 14h-3v8H12v-8h-2v-2.9h2V8.7C12 6.8 13.1 5 16 5c1.2 0 2 .1 2 .1v3h-1.8c-1 0-1.2.5-1.2 1.3v1.8h3l-.1 2.8z\"></path></svg></span></a></li><li class=\"dcr-i43ppq\"><a aria-label=\"Share on Twitter\" data-ignore=\"global-link-styling\" href=\"https://twitter.com/intent/tweet?text=LeBron+James+owns+plenty+of+blame+in+his+personal+annus+horribilis&amp;url=https%3A%2F%2Fwww.theguardian.com%2Fsport%2F2022%2Fapr%2F07%2Flebron-james-lakers-nba-basketball%3FCMP%3Dshare_btn_tw\" rel=\"noreferrer\" role=\"button\" target=\"_blank\"><span class=\"dcr-1prk3xc\"><svg height=\"32\" viewbox=\"-2 -2 32 32\" width=\"32\"><path d=\"M21.3 10.5v.5c0 4.7-3.5 10.1-9.9 10.1-2 0-3.8-.6-5.3-1.6.3 0 .6.1.8.1 1.6 0 3.1-.6 4.3-1.5-1.5 0-2.8-1-3.3-2.4.2 0 .4.1.7.1l.9-.1c-1.6-.3-2.8-1.8-2.8-3.5.5.3 1 .4 1.6.4-.9-.6-1.6-1.7-1.6-2.9 0-.6.2-1.3.5-1.8 1.7 2.1 4.3 3.6 7.2 3.7-.1-.3-.1-.5-.1-.8 0-2 1.6-3.5 3.5-3.5 1 0 1.9.4 2.5 1.1.8-.1 1.5-.4 2.2-.8-.3.8-.8 1.5-1.5 1.9.7-.1 1.4-.3 2-.5-.4.4-1 1-1.7 1.5z\"></path></svg></span></a></li><li class=\"dcr-i43ppq\"><a aria-label=\"Share via Email\" data-ignore=\"global-link-styling\" href=\"mailto:?subject=LeBron+James+owns+plenty+of+blame+in+his+personal+annus+horribilis&amp;body=https%3A%2F%2Fwww.theguardian.com%2Fsport%2F2022%2Fapr%2F07%2Flebron-james-lakers-nba-basketball%3FCMP%3Dshare_btn_link\" role=\"button\" target=\"_blank\"><span class=\"dcr-1prk3xc\"><svg height=\"32\" viewbox=\"0 0 32 32\" width=\"32\"><path d=\"M23.363 20.875H8.637v-8.938l6.545 5.687h1.637l6.544-5.687v8.938zm-1.635-9.75L16 16l-5.728-4.875h11.456zM23.363 9.5H8.637L7 11.125v9.75L8.637 22.5h14.727L25 20.875v-9.75L23.363 9.5z\"></path></svg></span></a></li></ul></div><div class=\"dcr-1ni4us3\"><div class=\"dcr-1kr2ya4\"><div class=\"meta-number\"></div><div class=\"meta-number\"><gu-island clientonly=\"true\" deferuntil=\"idle\" name=\"CommentCount\" props='{\"discussionApiUrl\":\"https://discussion.theguardian.com/discussion-api\",\"shortUrlId\":\"/p/y7yx4\",\"format\":{\"display\":0,\"theme\":2,\"design\":6}}'></gu-island></div></div></div></div></div></div></div></aside><div class=\"dcr-185kcx9\" data-gu-name=\"body\"><div class=\"dcr-1t6t995\"><div class=\"dcr-p5nhr4\" id=\"maincontent\" tabindex=\"0\"><div class=\"article-body-commercial-selector article-body-viewer-selector dcr-ucgxn1\"><p class=\"dcr-1u6kyh0\"><span class=\"dcr-1ohfkpt\"><span class=\"dcr-1jnp7wy\">T</span></span><span class=\"dcr-1u6kyh0\">wo years ago the world may have been upside down, but all was right in Laker Nation. After a decade of futility the Purple and Gold were on top of the NBA, <a data-link-name=\"in body link\" href=\"https://www.theguardian.com/sport/2020/oct/11/la-lakers-win-title-miami-heat-nba-finals-score-game-6\">champions once again</a>. As the confetti fell inside a largely empty arena <a data-link-name=\"in body link\" href=\"https://www.theguardian.com/sport/2020/jul/29/nba-restart-disney-world-bubble-details\">inside the NBA bubble</a>, the best player on the planet had made good on his promise to put the franchise “back in the position where it belongs.” Given the Lakers’ habit of hanging around the NBA finals once they finally break back in, it did indeed seem as if LeBron James &amp; Co were only just getting warmed up. But it turns out that the heat radiating from the afterglow of that victory may well have been the earliest sign of the meltdown to come.</span></p><p class=\"dcr-1u6kyh0\">On Tuesday,<strong> </strong>five days before the NBA regular season’s closing curtain, the LeBron-era Lakers hit their nadir. They went to Phoenix with James sidelined through injury and fell to the Suns, 121-110, their seventh defeat in a row. To add insult to injury, the Suns loss ruled the Lakers out of the playoff’s play-in round, a lifeline James once bemoaned <a data-link-name=\"in body link\" href=\"http://www.si.com/nba/2021/05/03/lebron-rips-play-in-tournament-needs-to-be-fired#:~:text=Following%20the%20Lakers'%20loss%20on,be%20fired%2C%22%20James%20said.\">quite emphatically</a>. The self-styled GOAT was even roasted at the Oscars, with co-host Regina Hall arguably landing the night’s <a data-link-name=\"in body link\" href=\"https://twitter.com/gifdsports/status/1508235330469646339?ref_src=twsrc%5Etfw%7Ctwcamp%5Etweetembed%7Ctwterm%5E1508235330469646339%7Ctwgr%5E%7Ctwcon%5Es1_&amp;ref_url=https://thespun.com/more/top-stories/look-lebron-james-joke-goes-viral-at-the-oscars\">third-most provocative joke</a>.</p><div id=\"sign-in-gate\"><gu-island clientonly=\"true\" name=\"SignInGateSelector\" props='{\"format\":{\"display\":0,\"theme\":2,\"design\":6},\"contentType\":\"Article\",\"sectionName\":\"sport\",\"tags\":[{\"id\":\"sport/lebron-james\",\"type\":\"Keyword\",\"title\":\"LeBron James\"},{\"id\":\"sport/los-angeles-lakers\",\"type\":\"Keyword\",\"title\":\"Los Angeles Lakers\"},{\"id\":\"sport/nba\",\"type\":\"Keyword\",\"title\":\"NBA\"},{\"id\":\"sport/basketball\",\"type\":\"Keyword\",\"title\":\"Basketball\"},{\"id\":\"sport/us-sport\",\"type\":\"Keyword\",\"title\":\"US sports\"},{\"id\":\"sport/sport\",\"type\":\"Keyword\",\"title\":\"Sport\"},{\"id\":\"type/article\",\"type\":\"Type\",\"title\":\"Article\"},{\"id\":\"tone/features\",\"type\":\"Tone\",\"title\":\"Features\"},{\"id\":\"profile/andrew-lawrence\",\"type\":\"Contributor\",\"title\":\"Andrew Lawrence\",\"twitterHandle\":\"by_drew\"},{\"id\":\"tracking/commissioningdesk/us-sport\",\"type\":\"Tracking\",\"title\":\"US Sport\"}],\"isPaidContent\":false,\"isPreview\":false,\"host\":\"https://www.theguardian.com\",\"pageId\":\"sport/2022/apr/07/lebron-james-lakers-nba-basketball\",\"idUrl\":\"https://profile.theguardian.com\"}'></gu-island></div><figure class=\"dcr-1mfia18\" data-spacefinder-role=\"richLink\" data-spacefinder-type=\"model.dotcomrendering.pageElements.RichLinkBlockElement\" id=\"6698de3b-ddb2-42af-ae93-be73ac777609\"><gu-island deferuntil=\"idle\" name=\"RichLinkComponent\" props='{\"richLinkIndex\":2,\"element\":{\"_type\":\"model.dotcomrendering.pageElements.RichLinkBlockElement\",\"url\":\"https://www.theguardian.com/sport/2022/apr/06/we-cant-make-excuses-loss-to-suns-ends-star-filled-lakers-playoff-hopes\",\"text\":\"‘We can’t make excuses’: Loss to Suns ends star-filled Lakers’ playoff hopes\",\"prefix\":\"Related: \",\"role\":\"richLink\",\"elementId\":\"6698de3b-ddb2-42af-ae93-be73ac777609\"},\"ajaxUrl\":\"https://api.nextgen.guardianapps.co.uk\",\"format\":{\"display\":0,\"theme\":2,\"design\":6}}'><div class=\"dcr-f2ug42\" data-component=\"rich-link\" data-link-name=\"rich-link-2 | 2\" data-name=\"\" data-print-layout=\"hide\"><div class=\"dcr-s7oxzu\"><a class=\"dcr-g65o95\" href=\"https://www.theguardian.com/sport/2022/apr/06/we-cant-make-excuses-loss-to-suns-ends-star-filled-lakers-playoff-hopes\"><div class=\"dcr-noynp9\"></div><div class=\"dcr-1d91meq\"><div class=\"dcr-m4qltb\"><div class=\"dcr-1gqsble\">‘We can’t make excuses’: Loss to Suns ends star-filled Lakers’ playoff hopes</div></div><div class=\"dcr-1a318iq\"><svg height=\"24\" viewbox=\"0 0 24 24\" width=\"24\"><g fill-rule=\"evenodd\"><path class=\"rich-link__arrow-icon\" d=\"m12 0c-6.627 0-12 5.373-12 12 0 6.627 5.373 12 12 12 6.627 0 12-5.373 12-12 0-6.627-5.373-12-12-12m.21 19l-.637-.668 4.888-6.326h-11.465v-1.01h11.465l-4.888-6.333.637-.668 6.79 7.158v.685l-6.79 7.157\"></path></g></svg><div class=\"dcr-dobi02\">Read more</div></div></div></a></div></div></gu-island></figure><p class=\"dcr-1u6kyh0\">Even though LA have weathered their share of bad breaks this season – not least a slew of aches, pains and Covid absences that has forced coach Frank Vogel to deploy 24 different players and 39 starting lineups – much of the blame for the Lakers’ wayward prospects should fall at the feet of James, a postseason spectator for just the fourth time in his illustrious career. After all, he isn’t just the straw that stirs the Lakers. He mixes the drink too as shadow general manager, exerting his sweeping influence from inside the locker room and through his player agency, Klutch Sports.</p><p class=\"dcr-1u6kyh0\">Unlike his idol Michael Jordan, whose desire to pick his own teammates was vigorously checked by the gimlet-eyed Bulls general manager Jerry Krause, James has yet to find a front office he couldn’t steamroller. His fingerprints are all over the Lakers’ 2019 trade for Anthony Davis, a wildly talented big man who is oft-injured and generally averse to putting an entire team on his back. They’re all over the August trade for Russell Westbrook, a hall of fame-bound point guard who’s not only missing a steady jump shot but also a modicum of patience.</p><p class=\"dcr-1u6kyh0\">In those trades, Brandon Ingram (24 years old), Kyle Kuzma (26), Lonzo Ball (24) and other fresh legs and potential draft picks were shipped away to maximise the 37-year-old James’s late-career window. James’s fourth year in LA began with him as the centrepiece of a rotation also made up of Westbrook (33), Carmelo Anthony (37), a second tour of Rajon Rondo (36) and a third tour of Dwight Howard (36). Suffice to say: This would’ve been an awesome Cleveland Cavaliers team in 2008.</p><p class=\"dcr-1u6kyh0\">It’s bad enough that James has missed 23 games this season. He resorted to playing heroball, or thoroughly against type. He chased double-doubles and Kareem Abdul-Jabbar’s all-time scoring mark while the Lakers slipped out of the playoff picture and into irrelevance. During the All-Star break in Cleveland James <a data-link-name=\"in body link\" href=\"https://theathletic.com/3138844/2022/02/19/could-lebron-james-return-to-cleveland-again-the-doors-not-closed-on-that-he-says/\">told the Athletic’s Jason Lloyd</a> that he was entertaining the idea of a second homecoming. In that same interview, James reiterated a desire to play with his eldest son, Bronny <strong>– </strong>who isn’t near the NBA shoo-in his father was at his age. Unfair, maybe, but remember: James started this.</p><p class=\"dcr-1u6kyh0\">Perhaps most embarrassing:<strong> </strong>After the LA’s Super Bowl triumph in February, James tossed around an idea for a triple-team ‘parade of champions’ with Rams, Dodgers and Lakers. Again, his title was in <em>2020.</em></p><p class=\"dcr-1u6kyh0\">James even brought the typically stoic Abdul-Jabbar <a data-link-name=\"in body link\" href=\"https://www.espn.com/nba/story/_/id/33664003/los-angeles-lakers-legend-kareem-abdul-jabbar-criticizes-some-lebron-james-actions\">to a boil</a> with his shrugging endorsement of a <a data-link-name=\"in body link\" href=\"https://www.si.com/extra-mustard/2021/12/24/lebron-james-lakers-covid-19-spider-man-meme\">Spider-Man meme</a> that tapped into a broader sense of exasperation in distinguishing from Covid, cold and flu symptoms. (Abdul-Jabbar’s point is that as an outspoken advocate for vaccinations, James can’t afford to be so thoughtless.)</p><p class=\"dcr-1u6kyh0\">In general, James has looked for all the world like pretty much exactly what ESPN’s Brian Windhorst says he is: the peripatetic superstar who burns too bright for any team to hold on to beyond four years. “Call it organisational fatigue,” the dean of Bron-ologists said on the ESPN morning show Get Up. “It happened the first time in Cleveland. They ran out of draft picks, they had a bunch of guys in their mid-30s. … He goes to Miami, four years, great run, they run out of draft picks. In his last game, three guys retired. … He goes to Cleveland, four years, great run. They run out of draft picks, they’ve got old guys. Here we are in LA, fourth year, the oldest team we’ve seen in <a data-component=\"auto-linked-tag\" data-link-name=\"in body link\" href=\"https://www.theguardian.com/sport/nba\">NBA</a> history, they’re out of draft picks. They’re exhausted.”</p><p class=\"dcr-1u6kyh0\">If the pattern holds, there’s no way James – an unrestricted free agent in 2023 – signs up for two or more years of misery in Los Angeles. Sure, he’ll always be fondly remembered for the championship he won for the city during Covid – the hardest title in history, if you ask him. And one meltdown year isn’t enough to ruin a 20-year standard. He can still call himself king if he likes. He just needs to do the honourable thing and own this Lakers landfill fire as his personal <em>annus horribilis</em>.</p></div></div><gu-island clientonly=\"true\" name=\"SlotBodyEnd\" props='{\"contentType\":\"Article\",\"contributionsServiceUrl\":\"https://contributions.guardianapis.com\",\"idApiUrl\":\"https://idapi.theguardian.com\",\"isMinuteArticle\":false,\"isPaidContent\":false,\"keywordsId\":\"sport/lebron-james,sport/los-angeles-lakers,sport/nba,sport/basketball,sport/us-sport,sport/sport\",\"pageId\":\"sport/2022/apr/07/lebron-james-lakers-nba-basketball\",\"sectionId\":\"sport\",\"sectionName\":\"sport\",\"shouldHideReaderRevenue\":false,\"stage\":\"PROD\",\"tags\":[{\"id\":\"sport/lebron-james\",\"type\":\"Keyword\",\"title\":\"LeBron James\"},{\"id\":\"sport/los-angeles-lakers\",\"type\":\"Keyword\",\"title\":\"Los Angeles Lakers\"},{\"id\":\"sport/nba\",\"type\":\"Keyword\",\"title\":\"NBA\"},{\"id\":\"sport/basketball\",\"type\":\"Keyword\",\"title\":\"Basketball\"},{\"id\":\"sport/us-sport\",\"type\":\"Keyword\",\"title\":\"US sports\"},{\"id\":\"sport/sport\",\"type\":\"Keyword\",\"title\":\"Sport\"},{\"id\":\"type/article\",\"type\":\"Type\",\"title\":\"Article\"},{\"id\":\"tone/features\",\"type\":\"Tone\",\"title\":\"Features\"},{\"id\":\"profile/andrew-lawrence\",\"type\":\"Contributor\",\"title\":\"Andrew Lawrence\",\"twitterHandle\":\"by_drew\"},{\"id\":\"tracking/commissioningdesk/us-sport\",\"type\":\"Tracking\",\"title\":\"US Sport\"}]}'></gu-island><div class=\"dcr-1038kzh\"></div><div class=\"dcr-1k32900\" data-print-layout=\"hide\"><span class=\"dcr-12ae8vg\">Topics</span><div class=\"dcr-lwa3gj\"><ul class=\"dcr-1r2wmvc\"><li class=\"dcr-1231g41\"><a class=\"dcr-s8p16s\" href=\"/sport/lebron-james\">LeBron James</a></li></ul><ul class=\"dcr-1r2wmvc\"><li class=\"dcr-cv9v52\"><a class=\"dcr-s8p16s\" href=\"/sport/los-angeles-lakers\">Los Angeles Lakers</a></li><li class=\"dcr-cv9v52\"><a class=\"dcr-s8p16s\" href=\"/sport/nba\">NBA</a></li><li class=\"dcr-cv9v52\"><a class=\"dcr-s8p16s\" href=\"/sport/basketball\">Basketball</a></li><li class=\"dcr-cv9v52\"><a class=\"dcr-s8p16s\" href=\"/sport/us-sport\">US sports</a></li><li class=\"dcr-bd6g3a\"><a class=\"dcr-s8p16s\" href=\"/tone/features\">features</a></li></ul></div><div class=\"dcr-1eoy87d\"><ul class=\"dcr-1n0u3w8\"><li class=\"dcr-i43ppq\"><a aria-label=\"Share on Facebook\" data-ignore=\"global-link-styling\" href=\"https://www.facebook.com/dialog/share?app_id=180444840287&amp;href=https%3A%2F%2Fwww.theguardian.com%2Fsport%2F2022%2Fapr%2F07%2Flebron-james-lakers-nba-basketball%3FCMP%3Dshare_btn_fb\" rel=\"noreferrer\" role=\"button\" target=\"_blank\"><span class=\"dcr-1prk3xc\"><svg height=\"32\" viewbox=\"-2 -2 32 32\" width=\"32\"><path d=\"M17.9 14h-3v8H12v-8h-2v-2.9h2V8.7C12 6.8 13.1 5 16 5c1.2 0 2 .1 2 .1v3h-1.8c-1 0-1.2.5-1.2 1.3v1.8h3l-.1 2.8z\"></path></svg></span></a></li><li class=\"dcr-i43ppq\"><a aria-label=\"Share on Twitter\" data-ignore=\"global-link-styling\" href=\"https://twitter.com/intent/tweet?text=LeBron+James+owns+plenty+of+blame+in+his+personal+annus+horribilis&amp;url=https%3A%2F%2Fwww.theguardian.com%2Fsport%2F2022%2Fapr%2F07%2Flebron-james-lakers-nba-basketball%3FCMP%3Dshare_btn_tw\" rel=\"noreferrer\" role=\"button\" target=\"_blank\"><span class=\"dcr-1prk3xc\"><svg height=\"32\" viewbox=\"-2 -2 32 32\" width=\"32\"><path d=\"M21.3 10.5v.5c0 4.7-3.5 10.1-9.9 10.1-2 0-3.8-.6-5.3-1.6.3 0 .6.1.8.1 1.6 0 3.1-.6 4.3-1.5-1.5 0-2.8-1-3.3-2.4.2 0 .4.1.7.1l.9-.1c-1.6-.3-2.8-1.8-2.8-3.5.5.3 1 .4 1.6.4-.9-.6-1.6-1.7-1.6-2.9 0-.6.2-1.3.5-1.8 1.7 2.1 4.3 3.6 7.2 3.7-.1-.3-.1-.5-.1-.8 0-2 1.6-3.5 3.5-3.5 1 0 1.9.4 2.5 1.1.8-.1 1.5-.4 2.2-.8-.3.8-.8 1.5-1.5 1.9.7-.1 1.4-.3 2-.5-.4.4-1 1-1.7 1.5z\"></path></svg></span></a></li><li class=\"dcr-i43ppq\"><a aria-label=\"Share via Email\" data-ignore=\"global-link-styling\" href=\"mailto:?subject=LeBron+James+owns+plenty+of+blame+in+his+personal+annus+horribilis&amp;body=https%3A%2F%2Fwww.theguardian.com%2Fsport%2F2022%2Fapr%2F07%2Flebron-james-lakers-nba-basketball%3FCMP%3Dshare_btn_link\" role=\"button\" target=\"_blank\"><span class=\"dcr-1prk3xc\"><svg height=\"32\" viewbox=\"0 0 32 32\" width=\"32\"><path d=\"M23.363 20.875H8.637v-8.938l6.545 5.687h1.637l6.544-5.687v8.938zm-1.635-9.75L16 16l-5.728-4.875h11.456zM23.363 9.5H8.637L7 11.125v9.75L8.637 22.5h14.727L25 20.875v-9.75L23.363 9.5z\"></path></svg></span></a></li><li class=\"dcr-i43ppq\"><a aria-label=\"Share on LinkedIn\" data-ignore=\"global-link-styling\" href=\"http://www.linkedin.com/shareArticle?=title=LeBron+James+owns+plenty+of+blame+in+his+personal+annus+horribilis&amp;mini=true&amp;url=https%3A%2F%2Fwww.theguardian.com%2Fsport%2F2022%2Fapr%2F07%2Flebron-james-lakers-nba-basketball%3F\" rel=\"noreferrer\" role=\"button\" target=\"_blank\"><span class=\"dcr-1prk3xc\"><svg height=\"30px\" viewbox=\"0 0 30 30\" width=\"30px\"><path d=\"M10.5759782,7.98522727 C11.440813,7.98522727 12.1437763,8.68819053 12.1437763,9.55336309 C12.1437763,10.4194645 11.440813,11.1224278 10.5759782,11.1224278 C9.70886352,11.1224278 9.00792683,10.4194645 9.00792683,9.55336309 C9.00792683,8.68819053 9.70886352,7.98522727 10.5759782,7.98522727 L10.5759782,7.98522727 Z M9.22265782,12.3124411 L11.9290453,12.3124411 L11.9290453,21.0164351 L9.22265782,21.0164351 L9.22265782,12.3124411 Z M13.6256988,12.3124411 L16.2209632,12.3124411 L16.2209632,13.5012723 L16.2578635,13.5012723 C16.6190979,12.8171392 17.5017496,12.0954302 18.8178319,12.0954302 C21.5552088,12.0954302 22.0608357,13.8977183 22.0608357,16.2421957 L22.0608357,21.0164351 L19.3587547,21.0164351 L19.3587547,16.7838785 C19.3587547,15.7738913 19.3389113,14.4756258 17.9525749,14.4756258 C16.5448751,14.4756258 16.3301441,15.5752884 16.3301441,16.7105846 L16.3301441,21.0164351 L13.6256988,21.0164351 L13.6256988,12.3124411\"></path></svg></span></a></li><li class=\"dcr-1y49m2s\"><span class=\"dcr-i7y23i\"><a aria-label=\"Share on WhatsApp\" data-ignore=\"global-link-styling\" href=\"whatsapp://send?text=LeBron+James+owns+plenty+of+blame+in+his+personal+annus+horribilis+https%3A%2F%2Fwww.theguardian.com%2Fsport%2F2022%2Fapr%2F07%2Flebron-james-lakers-nba-basketball%3FCMP%3Dshare_btn_wa\" rel=\"noreferrer\" role=\"button\" target=\"_blank\"><span class=\"dcr-1prk3xc\"><svg height=\"30px\" viewbox=\"0 0 30 30\" width=\"30px\"><path d=\"M22.09,7.87c-1.88-1.88-4.38-2.92-7.05-2.92c-5.49,0-9.96,4.47-9.96,9.96c0,1.75,0.46,3.47,1.33,4.98 L5,25.04l5.28-1.38c1.45,0.79,3.09,1.21,4.76,1.21c5.49,0,9.96-4.47,9.96-9.96C25,12.26,23.97,9.76,22.09,7.87 M15.04,23.19 c-1.49,0-2.95-0.4-4.22-1.15l-0.3-0.18l-3.13,0.82l0.84-3.05l-0.2-0.31C7.2,18,6.76,16.47,6.77,14.91c0-4.56,3.71-8.27,8.28-8.27 c2.21,0,4.29,0.86,5.85,2.43c1.56,1.56,2.42,3.64,2.42,5.85C23.32,19.48,19.6,23.19,15.04,23.19 M19.58,16.99 c-0.25-0.12-1.47-0.73-1.7-0.81s-0.39-0.12-0.56,0.12c-0.17,0.25-0.64,0.81-0.79,0.97c-0.14,0.17-0.29,0.19-0.54,0.06 c-0.25-0.12-1.05-0.39-2-1.23c-0.74-0.66-1.24-1.47-1.38-1.72c-0.15-0.25-0.02-0.38,0.11-0.51c0.11-0.11,0.25-0.29,0.37-0.44 c0.12-0.15,0.17-0.25,0.25-0.42c0.08-0.17,0.04-0.31-0.02-0.44c-0.06-0.12-0.56-1.35-0.77-1.85c-0.2-0.49-0.41-0.42-0.56-0.43 c-0.14-0.01-0.31-0.01-0.48-0.01c-0.17,0-0.44,0.06-0.66,0.31c-0.22,0.25-0.87,0.85-0.87,2.08c0,1.22,0.89,2.41,1.02,2.57 c0.12,0.17,1.75,2.68,4.25,3.76c0.59,0.26,1.06,0.41,1.42,0.52c0.6,0.19,1.14,0.16,1.57,0.1c0.48-0.07,1.47-0.6,1.68-1.18 s0.21-1.08,0.14-1.18C20,17.18,19.83,17.12,19.58,16.99\"></path></svg></span></a></span></li><li class=\"dcr-1y49m2s\"><span class=\"dcr-i7y23i\"><a aria-label=\"Share on Messenger\" data-ignore=\"global-link-styling\" href=\"fb-messenger://share?link=https%3A%2F%2Fwww.theguardian.com%2Fsport%2F2022%2Fapr%2F07%2Flebron-james-lakers-nba-basketball%3FCMP%3Dshare_btn_me&amp;app_id=180444840287\" rel=\"noreferrer\" role=\"button\" target=\"_blank\"><span class=\"dcr-1prk3xc\"><svg height=\"66\" viewbox=\"-12 -12 90 90\" width=\"66\"><path clip-rule=\"evenodd\" d=\"M33 61.1c-3.6 0-7.1-.5-10.4-1.5L10.1 66V52.5C3.9 47 0 39.2 0 30.6 0 13.7 14.8 0 33 0s33 13.7 33 30.6c0 16.8-14.8 30.5-33 30.5zM36.5 41L28 32.2l-16.4 9 18-18.9 8.5 8.8 16.4-9-18 18.9z\" fill-rule=\"evenodd\"></path></svg></span></a></span></li></ul><div class=\"dcr-1jksdif\"><a class=\"dcr-14txwjj\" data-link-name=\"meta-syndication-article\" href=\"https://syndication.theguardian.com/automation/?url=https%3A%2F%2Fwww.theguardian.com%2Fsport%2F2022%2Fapr%2F07%2Flebron-james-lakers-nba-basketball&amp;type=article&amp;internalpagecode=sport/2022/apr/07/lebron-james-lakers-nba-basketball\" rel=\"noopener\" target=\"_blank\" title=\"Reuse this content\">Reuse this content</a></div></div></div></div></div><div class=\"dcr-1mmek2x\" data-gu-name=\"right-column\"><div class=\"dcr-1l8oq0d\"><section class=\"dcr-14aht0\"><gu-island name=\"TopRightAdSlot\" props='{\"shouldHideReaderRevenue\":false,\"isPaidContent\":false,\"adStyles\":[{\"name\":\"oxl5wb\",\"styles\":\".ad-slot__label,.ad-slot__scroll{\\n\\tfont-family: GuardianTextSans, Guardian Text Sans Web, Helvetica Neue, Helvetica, Arial, Lucida Grande, sans-serif;\\n\\tfont-size: 0.75rem;\\n\\tline-height: 1.5;\\n\\tfont-weight: 400;\\n\\t;\\n;position:relative;height:24px;background-color:#F6F6F6;padding:0 8px;border-top:1px solid #DCDCDC;color:#707070;text-align:left;box-sizing:border-box;&amp;.visible{visibility:initial;}&amp;.hidden{visibility:hidden;}&amp;.ad-slot__label--toggle{margin:0 auto;@media (max-width: 739px){display:none;}};;}.ad-slot__close-button{display:none;}.ad-slot__scroll{position:fixed;bottom:0;width:100%;}\"},{\"name\":\"1tjr8si\",\"styles\":\"&amp;.ad-slot--fluid{min-height:250px;line-height:10px;padding:0;margin:0;}\"}]}'><div class=\"dcr-9aekbr\" id=\"top-right-ad-slot\"><div aria-hidden=\"true\" class=\"js-ad-slot ad-slot ad-slot--right ad-slot--mpu-banner-ad ad-slot--rendered js-sticky-mpu dcr-1yci3g4\" data-link-name=\"ad slot right\" data-mobile=\"1,1|2,2|300,250|300,274|300,600|fluid\" data-name=\"right\" id=\"dfp-ad--right\"></div></div></gu-island><gu-island clientonly=\"true\" deferuntil=\"visible\" name=\"MostViewedRightWrapper\" props='{\"isAdFreeUser\":false}'></gu-island></section></div></div></div></div></article><aside class=\"dcr-1aa1qlq\"><div class=\"dcr-1reypk2\"><div aria-hidden=\"true\" class=\"js-ad-slot ad-slot ad-slot--merchandising-high dcr-16daxq8\" data-link-name=\"ad slot merchandising-high\" data-mobile=\"1,1|2,2|88,87|fluid\" data-name=\"merchandising-high\" id=\"dfp-ad--merchandising-high\"></div></div></aside><gu-island clientonly=\"true\" deferuntil=\"visible\" name=\"OnwardsUpper\" props='{\"ajaxUrl\":\"https://api.nextgen.guardianapps.co.uk\",\"hasRelated\":true,\"hasStoryPackage\":false,\"isAdFreeUser\":false,\"pageId\":\"sport/2022/apr/07/lebron-james-lakers-nba-basketball\",\"isPaidContent\":false,\"showRelatedContent\":true,\"keywordIds\":\"sport/lebron-james,sport/los-angeles-lakers,sport/nba,sport/basketball,sport/us-sport,sport/sport\",\"contentType\":\"Article\",\"tags\":[{\"id\":\"sport/lebron-james\",\"type\":\"Keyword\",\"title\":\"LeBron James\"},{\"id\":\"sport/los-angeles-lakers\",\"type\":\"Keyword\",\"title\":\"Los Angeles Lakers\"},{\"id\":\"sport/nba\",\"type\":\"Keyword\",\"title\":\"NBA\"},{\"id\":\"sport/basketball\",\"type\":\"Keyword\",\"title\":\"Basketball\"},{\"id\":\"sport/us-sport\",\"type\":\"Keyword\",\"title\":\"US sports\"},{\"id\":\"sport/sport\",\"type\":\"Keyword\",\"title\":\"Sport\"},{\"id\":\"type/article\",\"type\":\"Type\",\"title\":\"Article\"},{\"id\":\"tone/features\",\"type\":\"Tone\",\"title\":\"Features\"},{\"id\":\"profile/andrew-lawrence\",\"type\":\"Contributor\",\"title\":\"Andrew Lawrence\",\"twitterHandle\":\"by_drew\"},{\"id\":\"tracking/commissioningdesk/us-sport\",\"type\":\"Tracking\",\"title\":\"US Sport\"}],\"format\":{\"display\":0,\"theme\":2,\"design\":6},\"pillar\":2,\"edition\":\"INT\",\"shortUrlId\":\"/p/y7yx4\"}'></gu-island><section class=\"dcr-v339xn\"><div class=\"dcr-ipj0ot\" id=\"comments\"><div class=\"dcr-v339xn\"><div class=\"dcr-1reypk2\"><div class=\"dcr-1qun6ii\"><section class=\"dcr-ederz6\"><div class=\"dcr-0\"><gu-island clientonly=\"true\" deferuntil=\"visible\" name=\"DiscussionMeta\" props='{\"format\":{\"display\":0,\"theme\":2,\"design\":6},\"discussionApiUrl\":\"https://discussion.theguardian.com/discussion-api\",\"shortUrlId\":\"/p/y7yx4\",\"enableDiscussionSwitch\":true}'></gu-island></div></section><div class=\"dcr-12jyb8q\"><span class=\"dcr-1mxfq91\"></span><div class=\"dcr-1qun6ii\"><div class=\"dcr-vnnc58\"><gu-island clientonly=\"true\" deferuntil=\"visible\" name=\"DiscussionContainer\" props='{\"format\":{\"display\":0,\"theme\":2,\"design\":6},\"discussionApiUrl\":\"https://discussion.theguardian.com/discussion-api\",\"shortUrlId\":\"/p/y7yx4\",\"discussionD2Uid\":\"zHoBy6HNKsk\",\"discussionApiClientHeader\":\"nextgen\",\"enableDiscussionSwitch\":true}'></gu-island></div><section class=\"dcr-14aht0\"><div class=\"dcr-104s2p4\"><div class=\"dcr-1445c9p\"><div aria-hidden=\"true\" class=\"js-ad-slot ad-slot ad-slot--comments ad-slot--mpu-banner-ad ad-slot--rendered js-sticky-mpu dcr-1e9xw8u\" data-desktop=\"1,1|2,2|300,250|300,274|fluid|300,600|160,600\" data-link-name=\"ad slot comments\" data-mobile=\"1,1|2,2|300,600|300,197|300,250|300,274|fluid\" data-name=\"comments\" data-phablet=\"1,1|2,2|300,197|300,250|300,274|fluid\" id=\"dfp-ad--comments\"></div></div></div></section></div></div></div></div></div></div></section><aside class=\"dcr-v339xn\"><div class=\"dcr-ipj0ot\"><div class=\"content-footer dcr-6fomyg\" data-print-layout=\"hide\"><div class=\"dcr-1860pw2\" data-component=\"most-popular\" data-link-name=\"most-popular\"><section class=\"dcr-ederz6\"><div class=\"dcr-0\"><h2 class=\"dcr-1d1pdjy\">Most popular</h2></div></section><section class=\"dcr-1oardpl\"><div class=\"dcr-g273z1\"><span class=\"dcr-1mxfq91\"><h2 class=\"dcr-1d1pdjy\">Most popular</h2></span><gu-island clientonly=\"true\" deferuntil=\"visible\" name=\"MostViewedFooterData\" props='{\"sectionName\":\"sport\",\"palette\":{\"text\":{\"headline\":\"#005689\",\"seriesTitle\":\"#0077B6\",\"sectionTitle\":\"#0077B6\",\"byline\":\"#0077B6\",\"twitterHandle\":\"#707070\",\"caption\":\"#707070\",\"captionLink\":\"#0077B6\",\"subMeta\":\"#0077B6\",\"subMetaLabel\":\"#707070\",\"subMetaLink\":\"#707070\",\"syndicationButton\":\"#707070\",\"articleLink\":\"#0077B6\",\"articleLinkHover\":\"#0077B6\",\"cardHeadline\":\"#005689\",\"cardByline\":\"#0077B6\",\"cardKicker\":\"#0077B6\",\"linkKicker\":\"#0077B6\",\"cardStandfirst\":\"#005689\",\"cardFooter\":\"#707070\",\"headlineByline\":\"#0077B6\",\"standfirst\":\"#121212\",\"standfirstLink\":\"#0077B6\",\"branding\":\"#0077B6\",\"disclaimerLink\":\"#005689\",\"signInLink\":\"#005689\",\"richLink\":\"#0077B6\",\"pullQuote\":\"#005689\",\"pullQuoteAttribution\":\"#0077B6\",\"witnessIcon\":\"#0077B6\",\"witnessAuthor\":\"#0077B6\",\"witnessTitle\":\"#0077B6\",\"carouselTitle\":\"#0077B6\",\"calloutHeading\":\"#007ABC\",\"dropCap\":\"#005689\",\"blockquote\":\"#707070\",\"numberedTitle\":\"#0077B6\",\"numberedPosition\":\"#707070\",\"overlayedCaption\":\"#FFFFFF\",\"shareCount\":\"#707070\",\"shareCountUntilDesktop\":\"#707070\"},\"background\":{\"article\":\"transparent\",\"seriesTitle\":\"transparent\",\"sectionTitle\":\"transparent\",\"avatar\":\"#00B2FF\",\"card\":\"#F6F6F6\",\"headline\":\"transparent\",\"headlineByline\":\"transparent\",\"bullet\":\"#0077B6\",\"bulletStandfirst\":\"#DCDCDC\",\"header\":\"transparent\",\"standfirst\":\"transparent\",\"richLink\":\"#0077B6\",\"imageTitle\":\"#0077B6\",\"speechBubble\":\"#0077B6\",\"carouselDot\":\"#0077B6\",\"carouselDotFocus\":\"#0077B6\",\"headlineTag\":\"#005689\",\"mostViewedTab\":\"#005689\",\"matchNav\":\"#FFE500\",\"analysisUnderline\":\"rgba(0, 119, 182, 0.5)\",\"matchStats\":\"#d9edf6\",\"ageWarning\":\"transparent\"},\"fill\":{\"commentCount\":\"#0077B6\",\"commentCountUntilDesktop\":\"#0077B6\",\"shareIcon\":\"#0077B6\",\"shareCountIcon\":\"#707070\",\"shareCountIconUntilDesktop\":\"#707070\",\"shareIconGrayBackground\":\"#005689\",\"cameraCaptionIcon\":\"#707070\",\"richLink\":\"#0077B6\",\"quoteIcon\":\"#0077B6\",\"blockquoteIcon\":\"#0077B6\"},\"border\":{\"syndicationButton\":\"#DCDCDC\",\"subNav\":\"#0077B6\",\"articleLink\":\"#DCDCDC\",\"articleLinkHover\":\"#0077B6\",\"liveBlock\":\"#0077B6\",\"pinnedPost\":\"#005689\",\"standfirstLink\":\"#DCDCDC\",\"headline\":\"#DCDCDC\",\"standfirst\":\"#DCDCDC\",\"richLink\":\"#0077B6\",\"navPillar\":\"#00B2FF\",\"article\":\"#DCDCDC\",\"lines\":\"#DCDCDC\",\"matchTab\":\"#DCDCDC\",\"activeMatchTab\":\"#005689\"},\"topBar\":{\"card\":\"#0077B6\"},\"hover\":{\"headlineByline\":\"#005689\",\"standfirstLink\":\"#DCDCDC\"}},\"ajaxUrl\":\"https://api.nextgen.guardianapps.co.uk\"}'></gu-island></div><div class=\"dcr-ycuv6y\"><div aria-hidden=\"true\" class=\"js-ad-slot ad-slot ad-slot--mostpop ad-slot--mpu-banner-ad ad-slot--rendered dcr-4024qx\" data-desktop=\"1,1|2,2|300,250|300,274|300,600|fluid\" data-link-name=\"ad slot mostpop\" data-mobile=\"1,1|2,2|300,250|300,274|fluid\" data-name=\"mostpop\" data-phablet=\"1,1|2,2|300,197|300,250|300,274|300,600|fluid\" data-tablet=\"1,1|2,2|300,250|300,274|300,600|728,90|fluid\" id=\"dfp-ad--mostpop\"></div></div></section></div></div></div></aside><aside class=\"dcr-1aa1qlq\"><div class=\"dcr-1reypk2\"><div aria-hidden=\"true\" class=\"js-ad-slot ad-slot ad-slot--merchandising dcr-16daxq8\" data-link-name=\"ad slot merchandising\" data-mobile=\"1,1|2,2|88,88|fluid\" data-name=\"merchandising\" id=\"dfp-ad--merchandising\"></div></div></aside></main><aside class=\"dcr-v339xn\"><div class=\"dcr-1f41bee\"><gu-island deferuntil=\"visible\" name=\"SubNav\" props='{\"subNavSections\":{\"links\":[{\"title\":\"Soccer\",\"longTitle\":\"Soccer\",\"url\":\"/football\",\"children\":[{\"title\":\"Live scores\",\"longTitle\":\"football/live\",\"url\":\"/football/live\",\"children\":[],\"mobileOnly\":false},{\"title\":\"Tables\",\"longTitle\":\"football/tables\",\"url\":\"/football/tables\",\"children\":[],\"mobileOnly\":false},{\"title\":\"Fixtures\",\"longTitle\":\"football/fixtures\",\"url\":\"/football/fixtures\",\"children\":[],\"mobileOnly\":false},{\"title\":\"Results\",\"longTitle\":\"football/results\",\"url\":\"/football/results\",\"children\":[],\"mobileOnly\":false},{\"title\":\"Competitions\",\"longTitle\":\"football/competitions\",\"url\":\"/football/competitions\",\"children\":[],\"mobileOnly\":false},{\"title\":\"Clubs\",\"longTitle\":\"football/teams\",\"url\":\"/football/teams\",\"children\":[],\"mobileOnly\":false}],\"mobileOnly\":false},{\"title\":\"NFL\",\"longTitle\":\"NFL\",\"url\":\"/sport/nfl\",\"children\":[],\"mobileOnly\":false},{\"title\":\"Tennis\",\"longTitle\":\"Tennis\",\"url\":\"/sport/tennis\",\"children\":[],\"mobileOnly\":false},{\"title\":\"MLB\",\"longTitle\":\"MLB\",\"url\":\"/sport/mlb\",\"children\":[],\"mobileOnly\":false},{\"title\":\"MLS\",\"longTitle\":\"MLS\",\"url\":\"/football/mls\",\"children\":[],\"mobileOnly\":false},{\"title\":\"NBA\",\"longTitle\":\"NBA\",\"url\":\"/sport/nba\",\"children\":[],\"mobileOnly\":false},{\"title\":\"NHL\",\"longTitle\":\"NHL\",\"url\":\"/sport/nhl\",\"children\":[],\"mobileOnly\":false}]},\"currentNavLink\":\"NBA\",\"format\":{\"display\":0,\"theme\":2,\"design\":6}}'><div class=\"dcr-1nbntzu\" data-component=\"sub-nav\" data-cy=\"sub-nav\" data-print-layout=\"hide\"><ul class=\"dcr-1mc3jf3\"><li><a class=\"dcr-jkyl0f\" data-link-name=\"nav2 : subnav : football\" data-src-focus-disabled=\"true\" href=\"/football\">Soccer</a></li><li><a class=\"dcr-jkyl0f\" data-link-name=\"nav2 : subnav : sport/nfl\" data-src-focus-disabled=\"true\" href=\"/sport/nfl\">NFL</a></li><li><a class=\"dcr-jkyl0f\" data-link-name=\"nav2 : subnav : sport/tennis\" data-src-focus-disabled=\"true\" href=\"/sport/tennis\">Tennis</a></li><li><a class=\"dcr-jkyl0f\" data-link-name=\"nav2 : subnav : sport/mlb\" data-src-focus-disabled=\"true\" href=\"/sport/mlb\">MLB</a></li><li><a class=\"dcr-jkyl0f\" data-link-name=\"nav2 : subnav : football/mls\" data-src-focus-disabled=\"true\" href=\"/football/mls\">MLS</a></li><li><a class=\"dcr-jkyl0f\" data-link-name=\"nav2 : subnav : sport/nba\" data-src-focus-disabled=\"true\" href=\"/sport/nba\"><span class=\"dcr-1j389vi\">NBA</span></a></li><li><a class=\"dcr-jkyl0f\" data-link-name=\"nav2 : subnav : sport/nhl\" data-src-focus-disabled=\"true\" href=\"/sport/nhl\">NHL</a></li></ul></div></gu-island></div></aside><footer class=\"dcr-il3bi2\"><div class=\"dcr-1lxcenw\"><div class=\"dcr-wuq7e5\" data-component=\"footer\" data-link-name=\"footer\" data-print-layout=\"hide\"><div class=\"dcr-ie0ig6\"><ul class=\"dcr-1sga83g\" data-testid=\"pillar-list\"><li class=\"dcr-1ev5v4n\"><a aria-label=\"Navigation\" class=\"dcr-5ryswk\" data-link-name=\"footer : primary : News\" href=\"/\">News</a></li><li class=\"dcr-1ev5v4n\"><a class=\"dcr-1xo8pvr\" data-link-name=\"footer : primary : Opinion\" href=\"/commentisfree\">Opinion</a></li><li class=\"dcr-1ev5v4n\"><a class=\"dcr-1jru0vj\" data-link-name=\"footer : primary : Sport\" href=\"/sport\">Sport</a></li><li class=\"dcr-1ev5v4n\"><a class=\"dcr-125iasz\" data-link-name=\"footer : primary : Culture\" href=\"/culture\">Culture</a></li><li class=\"dcr-1ev5v4n\"><a class=\"dcr-1f6ribu\" data-link-name=\"footer : primary : Lifestyle\" href=\"/lifeandstyle\">Lifestyle</a></li></ul></div><div class=\"dcr-3ub84c\"><iframe class=\"dcr-104fgyw\" data-form-success-desc=\"We will send you our picks of the most important headlines tomorrow morning.\" data-node-uid=\"2\" height=\"100\" id=\"footer__email-form\" src=\"https://www.theguardian.com/email/form/footer/today-uk\" title=\"Guardian Email Sign-up Form\"></iframe><div class=\"dcr-v7ptng\"><ul><li><a class=\"dcr-mzjdd0\" data-link-name=\"international : footer : contact us\" href=\"/help/contact-us\">Contact us</a></li><li><a class=\"dcr-mzjdd0\" data-link-name=\"complaints\" href=\"/info/complaints-and-corrections\">Complaints &amp; corrections</a></li><li><a class=\"dcr-mzjdd0\" data-link-name=\"securedrop\" href=\"https://www.theguardian.com/securedrop\">SecureDrop</a></li><li><a class=\"dcr-mzjdd0\" data-link-name=\"international : footer : work for us\" href=\"https://workforus.theguardian.com\">Work for us</a></li><li><a class=\"dcr-mzjdd0\" data-link-name=\"privacy\" href=\"/info/privacy\">Privacy policy</a></li><li><a class=\"dcr-mzjdd0\" data-link-name=\"cookie\" href=\"/info/cookies\">Cookie policy</a></li><li><a class=\"dcr-mzjdd0\" data-link-name=\"terms\" href=\"/help/terms-of-service\">Terms &amp; conditions</a></li><li><a class=\"dcr-ts9jvf\" data-link-name=\"international : footer : tech feedback\" href=\"/help\">Help</a></li></ul><ul><li><a class=\"dcr-mzjdd0\" data-link-name=\"international : footer : all topics\" href=\"/index/subjects/a\">All topics</a></li><li><a class=\"dcr-mzjdd0\" data-link-name=\"international : footer : all contributors\" href=\"/index/contributors\">All writers</a></li><li><a class=\"dcr-mzjdd0\" data-link-name=\"digital newspaper archive\" href=\"https://theguardian.newspapers.com\">Digital newspaper archive</a></li><li><a class=\"dcr-mzjdd0\" data-link-name=\"international : footer : facebook\" href=\"https://www.facebook.com/theguardian\">Facebook</a></li><li><a class=\"dcr-mzjdd0\" data-link-name=\"international : footer : youtube\" href=\"https://www.youtube.com/user/TheGuardian\">YouTube</a></li><li><a class=\"dcr-mzjdd0\" data-link-name=\"international : footer : instagram\" href=\"https://www.instagram.com/guardian\">Instagram</a></li><li><a class=\"dcr-mzjdd0\" data-link-name=\"international : footer : linkedin\" href=\"https://www.linkedin.com/company/theguardian\">LinkedIn</a></li><li><a class=\"dcr-mzjdd0\" data-link-name=\"international: footer : twitter\" href=\"https://twitter.com/guardian\">Twitter</a></li><li><a class=\"dcr-mzjdd0\" data-link-name=\"international : footer : newsletters\" href=\"/email-newsletters?INTCMP=DOTCOM_FOOTER_NEWSLETTER_INTERNATIONAL\">Newsletters</a></li></ul><ul><li><a class=\"dcr-mzjdd0\" data-link-name=\"international : footer : advertise with us\" href=\"https://advertising.theguardian.com\">Advertise with us</a></li><li><a class=\"dcr-mzjdd0\" data-link-name=\"international : footer : uk-jobs\" href=\"https://jobs.theguardian.com/?INTCMP=NGW_FOOTER_INT_GU_JOBS\">Search UK jobs</a></li></ul><div class=\"dcr-1lactnp\"><gu-island clientonly=\"true\" deferuntil=\"visible\" name=\"ReaderRevenueLinks\" props='{\"urls\":{\"contribute\":\"https://support.theguardian.com/contribute?INTCMP=header_support_contribute&amp;acquisitionData=%7B%22source%22:%22GUARDIAN_WEB%22,%22componentType%22:%22ACQUISITIONS_HEADER%22,%22componentId%22:%22header_support_contribute%22%7D\",\"subscribe\":\"https://support.theguardian.com/subscribe?INTCMP=header_support_subscribe&amp;acquisitionData=%7B%22source%22:%22GUARDIAN_WEB%22,%22componentType%22:%22ACQUISITIONS_HEADER%22,%22componentId%22:%22header_support_subscribe%22%7D\",\"support\":\"https://support.theguardian.com?INTCMP=header_support&amp;acquisitionData=%7B%22source%22:%22GUARDIAN_WEB%22,%22componentType%22:%22ACQUISITIONS_HEADER%22,%22componentId%22:%22header_support%22%7D\",\"supporter\":\"https://support.theguardian.com/subscribe?INTCMP=header_supporter_cta&amp;acquisitionData=%7B%22source%22:%22GUARDIAN_WEB%22,%22componentType%22:%22ACQUISITIONS_HEADER%22,%22componentId%22:%22header_supporter_cta%22%7D\"},\"edition\":\"INT\",\"dataLinkNamePrefix\":\"footer : \",\"inHeader\":false,\"remoteHeader\":false,\"contributionsServiceUrl\":\"https://contributions.guardianapis.com\"}'></gu-island></div></div><div class=\"dcr-17k9rsw\"><a class=\"dcr-1sla8qk\" href=\"#top\"><span class=\"dcr-ngfaio\">Back to top</span><span class=\"icon-container dcr-12ln5sl\"><i class=\"dcr-bjnfl9\"></i></span></a></div></div><div class=\"dcr-2h5xwf\">© <!-- -->2022<!-- --> Guardian News &amp; Media Limited or its affiliated companies. All rights reserved. (modern)</div></div></div></footer><aside class=\"dcr-l6v8wf\"><gu-island clientonly=\"true\" deferuntil=\"idle\" name=\"StickyBottomBanner\" props='{\"contentType\":\"Article\",\"contributionsServiceUrl\":\"https://contributions.guardianapis.com\",\"idApiUrl\":\"https://idapi.theguardian.com\",\"isMinuteArticle\":false,\"isPaidContent\":false,\"isPreview\":false,\"isSensitive\":false,\"keywordsId\":\"sport/lebron-james,sport/los-angeles-lakers,sport/nba,sport/basketball,sport/us-sport,sport/sport\",\"pageId\":\"sport/2022/apr/07/lebron-james-lakers-nba-basketball\",\"section\":\"sport\",\"sectionName\":\"sport\",\"shouldHideReaderRevenue\":false,\"switches\":{\"anniversaryHeaderSvg\":true,\"prebidAppnexusUkRow\":true,\"commercialMetrics\":true,\"prebidTrustx\":true,\"scAdFreeBanner\":false,\"prebidPermutiveAudience\":true,\"compareVariantDecision\":false,\"enableSentryReporting\":true,\"lazyLoadContainers\":true,\"adFreeStrictExpiryEnforcement\":false,\"liveblogRendering\":true,\"remarketing\":true,\"fetchNonRefreshableLineItems\":true,\"abCommercialGptLazyLoad\":true,\"registerWithPhone\":false,\"targeting\":true,\"remoteHeader\":true,\"extendedMostPopularFronts\":true,\"slotBodyEnd\":true,\"prebidImproveDigitalSkins\":true,\"emailInlineInFooter\":true,\"showNewPrivacyWordingOnEmailSignupEmbeds\":true,\"facebookTrackingPixel\":true,\"iasAdTargeting\":true,\"extendedMostPopular\":true,\"ampContentAbTesting\":true,\"prebidAnalytics\":true,\"prebidCriteo\":true,\"puzzlesBanner\":true,\"abSpacefinderOkrMegaTest\":true,\"imrWorldwide\":true,\"acast\":true,\"twitterUwt\":true,\"prebidAppnexusInvcode\":true,\"a9HeaderBidding\":true,\"prebidAppnexus\":true,\"enableDiscussionSwitch\":true,\"standaloneCommercialBundle\":true,\"prebidXaxis\":true,\"stickyVideos\":true,\"interactiveFullHeaderSwitch\":true,\"discussionAllPageSize\":true,\"prebidUserSync\":true,\"audioOnwardJourneySwitch\":true,\"mobileStickyPrebid\":true,\"externalVideoEmbeds\":true,\"simpleReach\":true,\"carrotTrafficDriver\":true,\"sentinelLogger\":true,\"geoMostPopular\":true,\"weAreHiring\":true,\"relatedContent\":true,\"thirdPartyEmbedTracking\":true,\"prebidOzone\":true,\"ampAmazon\":true,\"abCommercialLazyLoadMargin\":true,\"prebidAdYouLike\":true,\"mostViewedFronts\":true,\"abSignInGateMainControl\":true,\"ampPrebid\":true,\"googleSearch\":true,\"brazeSwitch\":true,\"consentManagement\":true,\"commercial\":true,\"redplanetForAus\":true,\"prebidSonobi\":true,\"idProfileNavigation\":true,\"confiantAdVerification\":true,\"discussionAllowAnonymousRecommendsSwitch\":false,\"scrollDepth\":true,\"permutive\":true,\"comscore\":true,\"webFonts\":true,\"prebidImproveDigital\":true,\"ophan\":true,\"crosswordSvgThumbnails\":true,\"prebidTriplelift\":true,\"weather\":true,\"commercialOutbrainNewids\":true,\"abSignInGateMainVariant\":true,\"abAdblockAsk\":true,\"prebidPubmatic\":true,\"serverShareCounts\":false,\"autoRefresh\":true,\"enhanceTweets\":true,\"prebidIndexExchange\":true,\"prebidOpenx\":true,\"prebidHeaderBidding\":true,\"idCookieRefresh\":true,\"sharingComments\":true,\"discussionPageSize\":true,\"smartAppBanner\":false,\"boostGaUserTimingFidelity\":false,\"historyTags\":true,\"mobileStickyLeaderboard\":true,\"surveys\":true,\"remoteBanner\":true,\"emailSignupRecaptcha\":true,\"prebidSmart\":true,\"inizio\":true},\"tags\":[{\"id\":\"sport/lebron-james\",\"type\":\"Keyword\",\"title\":\"LeBron James\"},{\"id\":\"sport/los-angeles-lakers\",\"type\":\"Keyword\",\"title\":\"Los Angeles Lakers\"},{\"id\":\"sport/nba\",\"type\":\"Keyword\",\"title\":\"NBA\"},{\"id\":\"sport/basketball\",\"type\":\"Keyword\",\"title\":\"Basketball\"},{\"id\":\"sport/us-sport\",\"type\":\"Keyword\",\"title\":\"US sports\"},{\"id\":\"sport/sport\",\"type\":\"Keyword\",\"title\":\"Sport\"},{\"id\":\"type/article\",\"type\":\"Type\",\"title\":\"Article\"},{\"id\":\"tone/features\",\"type\":\"Tone\",\"title\":\"Features\"},{\"id\":\"profile/andrew-lawrence\",\"type\":\"Contributor\",\"title\":\"Andrew Lawrence\",\"twitterHandle\":\"by_drew\"},{\"id\":\"tracking/commissioningdesk/us-sport\",\"type\":\"Tracking\",\"title\":\"US Sport\"}]}'></gu-island></aside><div class=\"mobilesticky-container dcr-1vq2pjs\"></div>\n",
      "<script src=\"https://assets.guim.co.uk/assets/atomIframe.65cc4d239a0cc143648a.js\" type=\"module\"></script>\n",
      "<script defer=\"\" nomodule=\"\" src=\"https://assets.guim.co.uk/assets/atomIframe.legacy.26fae3cb110373733476.js\"></script>\n",
      "<script src=\"https://assets.guim.co.uk/assets/embedIframe.59f10a4dc3450a0ad6e7.js\" type=\"module\"></script>\n",
      "<script defer=\"\" nomodule=\"\" src=\"https://assets.guim.co.uk/assets/embedIframe.legacy.12889460af96947cd05e.js\"></script>\n",
      "<script src=\"https://assets.guim.co.uk/assets/newsletterEmbedIframe.bb7806dea7f10ecb1480.js\" type=\"module\"></script>\n",
      "<script defer=\"\" nomodule=\"\" src=\"https://assets.guim.co.uk/assets/newsletterEmbedIframe.legacy.204290d3e9124041ce3d.js\"></script>\n",
      "<script src=\"https://assets.guim.co.uk/assets/relativeTime.a426290c2654764591af.js\" type=\"module\"></script>\n",
      "<script defer=\"\" nomodule=\"\" src=\"https://assets.guim.co.uk/assets/relativeTime.legacy.e003801f3f0b73ddc578.js\"></script>\n",
      "<script src=\"https://assets.guim.co.uk/assets/initDiscussion.6e71a0d2739260fcd916.js\" type=\"module\"></script>\n",
      "<script defer=\"\" nomodule=\"\" src=\"https://assets.guim.co.uk/assets/initDiscussion.legacy.ab31de5c4246bae2f539.js\"></script>\n",
      "</body>\n",
      "</html>\n"
     ]
    }
   ],
   "source": [
    "with requests.get(nba[0]['link']) as link:\n",
    "    raw = BeautifulSoup(link.content,'html.parser')\n",
    "\n",
    "print(raw)"
   ]
  },
  {
   "cell_type": "markdown",
   "id": "1375dfa5",
   "metadata": {},
   "source": [
    "This is still HTML. We need to extract the text and join individual paragraphs:"
   ]
  },
  {
   "cell_type": "code",
   "execution_count": 8,
   "id": "7bf42692",
   "metadata": {
    "scrolled": true
   },
   "outputs": [
    {
     "data": {
      "text/plain": [
       "'The Los Angeles Lakers’ season is effectively over and their shadow general manager has played his part in their downfall Two years ago the world may have been upside down, but all was right in Laker Nation. After a decade of futility the Purple and Gold were on top of the NBA, champions once again. As the confetti fell inside a largely empty arena inside the NBA bubble, the best player on the planet had made good on his promise to put the franchise “back in the position where it belongs.” Given the Lakers’ habit of hanging around the NBA finals once they finally break back in, it did indeed seem as if LeBron James & Co were only just getting warmed up. But it turns out that the heat radiating from the afterglow of that victory may well have been the earliest sign of the meltdown to come. On Tuesday, five days before the NBA regular season’s closing curtain, the LeBron-era Lakers hit their nadir. They went to Phoenix with James sidelined through injury and fell to the Suns, 121-110, their seventh defeat in a row. To add insult to injury, the Suns loss ruled the Lakers out of the playoff’s play-in round, a lifeline James once bemoaned quite emphatically. The self-styled GOAT was even roasted at the Oscars, with co-host Regina Hall arguably landing the night’s third-most provocative joke. Even though LA have weathered their share of bad breaks this season – not least a slew of aches, pains and Covid absences that has forced coach Frank Vogel to deploy 24 different players and 39 starting lineups – much of the blame for the Lakers’ wayward prospects should fall at the feet of James, a postseason spectator for just the fourth time in his illustrious career. After all, he isn’t just the straw that stirs the Lakers. He mixes the drink too as shadow general manager, exerting his sweeping influence from inside the locker room and through his player agency, Klutch Sports. Unlike his idol Michael Jordan, whose desire to pick his own teammates was vigorously checked by the gimlet-eyed Bulls general manager Jerry Krause, James has yet to find a front office he couldn’t steamroller. His fingerprints are all over the Lakers’ 2019 trade for Anthony Davis, a wildly talented big man who is oft-injured and generally averse to putting an entire team on his back. They’re all over the August trade for Russell Westbrook, a hall of fame-bound point guard who’s not only missing a steady jump shot but also a modicum of patience. In those trades, Brandon Ingram (24 years old), Kyle Kuzma (26), Lonzo Ball (24) and other fresh legs and potential draft picks were shipped away to maximise the 37-year-old James’s late-career window. James’s fourth year in LA began with him as the centrepiece of a rotation also made up of Westbrook (33), Carmelo Anthony (37), a second tour of Rajon Rondo (36) and a third tour of Dwight Howard (36). Suffice to say: This would’ve been an awesome Cleveland Cavaliers team in 2008. It’s bad enough that James has missed 23 games this season. He resorted to playing heroball, or thoroughly against type. He chased double-doubles and Kareem Abdul-Jabbar’s all-time scoring mark while the Lakers slipped out of the playoff picture and into irrelevance. During the All-Star break in Cleveland James told the Athletic’s Jason Lloyd that he was entertaining the idea of a second homecoming. In that same interview, James reiterated a desire to play with his eldest son, Bronny – who isn’t near the NBA shoo-in his father was at his age. Unfair, maybe, but remember: James started this. Perhaps most embarrassing: After the LA’s Super Bowl triumph in February, James tossed around an idea for a triple-team ‘parade of champions’ with Rams, Dodgers and Lakers. Again, his title was in 2020. James even brought the typically stoic Abdul-Jabbar to a boil with his shrugging endorsement of a Spider-Man meme that tapped into a broader sense of exasperation in distinguishing from Covid, cold and flu symptoms. (Abdul-Jabbar’s point is that as an outspoken advocate for vaccinations, James can’t afford to be so thoughtless.) In general, James has looked for all the world like pretty much exactly what ESPN’s Brian Windhorst says he is: the peripatetic superstar who burns too bright for any team to hold on to beyond four years. “Call it organisational fatigue,” the dean of Bron-ologists said on the ESPN morning show Get Up. “It happened the first time in Cleveland. They ran out of draft picks, they had a bunch of guys in their mid-30s. … He goes to Miami, four years, great run, they run out of draft picks. In his last game, three guys retired. … He goes to Cleveland, four years, great run. They run out of draft picks, they’ve got old guys. Here we are in LA, fourth year, the oldest team we’ve seen in NBA history, they’re out of draft picks. They’re exhausted.” If the pattern holds, there’s no way James – an unrestricted free agent in 2023 – signs up for two or more years of misery in Los Angeles. Sure, he’ll always be fondly remembered for the championship he won for the city during Covid – the hardest title in history, if you ask him. And one meltdown year isn’t enough to ruin a 20-year standard. He can still call himself king if he likes. He just needs to do the honourable thing and own this Lakers landfill fire as his personal annus horribilis.'"
      ]
     },
     "execution_count": 8,
     "metadata": {},
     "output_type": "execute_result"
    }
   ],
   "source": [
    "' '.join([x.text for x in raw.find_all('p')])"
   ]
  },
  {
   "cell_type": "markdown",
   "id": "752ff772",
   "metadata": {},
   "source": [
    "Let us convert what we have done into a function so that we can reuse it later:"
   ]
  },
  {
   "cell_type": "code",
   "execution_count": 9,
   "id": "8e4bcb58",
   "metadata": {},
   "outputs": [],
   "source": [
    "def getText(url):\n",
    "    with requests.get(url) as link:\n",
    "        raw = BeautifulSoup(link.content,'html.parser')\n",
    "    return ' '.join([x.text for x in raw.find_all('p')])"
   ]
  },
  {
   "cell_type": "code",
   "execution_count": 10,
   "id": "38b5b4e3",
   "metadata": {
    "scrolled": true
   },
   "outputs": [
    {
     "data": {
      "text/plain": [
       "'The Los Angeles Lakers’ season is effectively over and their shadow general manager has played his part in their downfall Two years ago the world may have been upside down, but all was right in Laker Nation. After a decade of futility the Purple and Gold were on top of the NBA, champions once again. As the confetti fell inside a largely empty arena inside the NBA bubble, the best player on the planet had made good on his promise to put the franchise “back in the position where it belongs.” Given the Lakers’ habit of hanging around the NBA finals once they finally break back in, it did indeed seem as if LeBron James & Co were only just getting warmed up. But it turns out that the heat radiating from the afterglow of that victory may well have been the earliest sign of the meltdown to come. On Tuesday, five days before the NBA regular season’s closing curtain, the LeBron-era Lakers hit their nadir. They went to Phoenix with James sidelined through injury and fell to the Suns, 121-110, their seventh defeat in a row. To add insult to injury, the Suns loss ruled the Lakers out of the playoff’s play-in round, a lifeline James once bemoaned quite emphatically. The self-styled GOAT was even roasted at the Oscars, with co-host Regina Hall arguably landing the night’s third-most provocative joke. Even though LA have weathered their share of bad breaks this season – not least a slew of aches, pains and Covid absences that has forced coach Frank Vogel to deploy 24 different players and 39 starting lineups – much of the blame for the Lakers’ wayward prospects should fall at the feet of James, a postseason spectator for just the fourth time in his illustrious career. After all, he isn’t just the straw that stirs the Lakers. He mixes the drink too as shadow general manager, exerting his sweeping influence from inside the locker room and through his player agency, Klutch Sports. Unlike his idol Michael Jordan, whose desire to pick his own teammates was vigorously checked by the gimlet-eyed Bulls general manager Jerry Krause, James has yet to find a front office he couldn’t steamroller. His fingerprints are all over the Lakers’ 2019 trade for Anthony Davis, a wildly talented big man who is oft-injured and generally averse to putting an entire team on his back. They’re all over the August trade for Russell Westbrook, a hall of fame-bound point guard who’s not only missing a steady jump shot but also a modicum of patience. In those trades, Brandon Ingram (24 years old), Kyle Kuzma (26), Lonzo Ball (24) and other fresh legs and potential draft picks were shipped away to maximise the 37-year-old James’s late-career window. James’s fourth year in LA began with him as the centrepiece of a rotation also made up of Westbrook (33), Carmelo Anthony (37), a second tour of Rajon Rondo (36) and a third tour of Dwight Howard (36). Suffice to say: This would’ve been an awesome Cleveland Cavaliers team in 2008. It’s bad enough that James has missed 23 games this season. He resorted to playing heroball, or thoroughly against type. He chased double-doubles and Kareem Abdul-Jabbar’s all-time scoring mark while the Lakers slipped out of the playoff picture and into irrelevance. During the All-Star break in Cleveland James told the Athletic’s Jason Lloyd that he was entertaining the idea of a second homecoming. In that same interview, James reiterated a desire to play with his eldest son, Bronny – who isn’t near the NBA shoo-in his father was at his age. Unfair, maybe, but remember: James started this. Perhaps most embarrassing: After the LA’s Super Bowl triumph in February, James tossed around an idea for a triple-team ‘parade of champions’ with Rams, Dodgers and Lakers. Again, his title was in 2020. James even brought the typically stoic Abdul-Jabbar to a boil with his shrugging endorsement of a Spider-Man meme that tapped into a broader sense of exasperation in distinguishing from Covid, cold and flu symptoms. (Abdul-Jabbar’s point is that as an outspoken advocate for vaccinations, James can’t afford to be so thoughtless.) In general, James has looked for all the world like pretty much exactly what ESPN’s Brian Windhorst says he is: the peripatetic superstar who burns too bright for any team to hold on to beyond four years. “Call it organisational fatigue,” the dean of Bron-ologists said on the ESPN morning show Get Up. “It happened the first time in Cleveland. They ran out of draft picks, they had a bunch of guys in their mid-30s. … He goes to Miami, four years, great run, they run out of draft picks. In his last game, three guys retired. … He goes to Cleveland, four years, great run. They run out of draft picks, they’ve got old guys. Here we are in LA, fourth year, the oldest team we’ve seen in NBA history, they’re out of draft picks. They’re exhausted.” If the pattern holds, there’s no way James – an unrestricted free agent in 2023 – signs up for two or more years of misery in Los Angeles. Sure, he’ll always be fondly remembered for the championship he won for the city during Covid – the hardest title in history, if you ask him. And one meltdown year isn’t enough to ruin a 20-year standard. He can still call himself king if he likes. He just needs to do the honourable thing and own this Lakers landfill fire as his personal annus horribilis.'"
      ]
     },
     "execution_count": 10,
     "metadata": {},
     "output_type": "execute_result"
    }
   ],
   "source": [
    "getText(nba[0]['link'])"
   ]
  },
  {
   "cell_type": "code",
   "execution_count": 11,
   "id": "ca57bbe8",
   "metadata": {
    "scrolled": true
   },
   "outputs": [
    {
     "data": {
      "text/plain": [
       "'The May event will also debut a stand-alone show for adaptive fashion designed for people with disabilities Plus-size clothing will have a dedicated runway show at Australian fashion week this year, for the first time in the event’s 26-year history. “I’ve been fighting and working for this for 20-something years now,” said CEO of size-inclusive modelling agency Bella Management, Chelsea Bonner, who will be staging The Curve Edit: one of 50 fashion shows and presentations taking place in Sydney in May. “If I had pitched this idea even five years ago, it never would have happened,” Bonner said. “It’s a whole new world. The way we think about bodies, the way we think about ourselves is so different now.” Diversity has become a watchword for the fashion industry in recent years. But at the higher end of the market, size inclusivity is a particular sticking point. In Australia, many of the designers who show their collections at fashion week do not make clothing above a size 12 or 14. Last year’s Australian fashion week drew significant criticism for its lack of larger bodies on the runway, with model Kate Wasley branding size diversity “non existent”. After the 2021 event, artist and model Basjia Almaan, who walked in several shows, also spoke out. “Yes I’m a curve model but I’m still palatable. I’m a size 12-14,” she wrote on Instagram. “Where were the BIGGER bodies.” Bonner pitched the idea for a plus-size runway to IMG, the US-based events company that owns Australian fashion week. She says the concept was welcomed with open arms. “We’re working to create a more accessible and equitable industry by ensuring talented designers, creatives and fashion professionals of all identities have the opportunities and resources they need to succeed,” Natalie Xenita, who heads IMG’s Australian fashion events, said. The Curve Edit is not the only first for the event. Adaptive fashion – clothing designed for customers with disabilities – will also be featured in a stand-alone runway show. “People with disabilities deserve more than basics,” said Molly Rogers, of Jam the Label, who will be staging the show with fellow adaptive designer Christina Stephens, under the banner Adaptive Clothing Collective. “It’s super important to show that people with disabilities can look … runway ready,” Rogers said. The Adaptive Clothing Collective will custom-make every runway look specifically for the needs of their models. Adjustments include magnetic fastenings in place of buttons, and higher seat rises in pants, for wheelchair users. “It’s amazing to have diversity and representation [at fashion week],” Rogers says. “But … [creating] items that actually cater for people’s needs is more than tokenistic.” Australian fashion week’s consumer-facing closing show in 2021 received criticism on social media for failing to consider the needs of model and Paralympian Rheed McCracken, who had to push his wheelchair down a runway covered in streamers and confetti. “Being an adaptive clothing brand I was across all those sort of things,” Rogers said of that incident. “And the main thing I would say from that is that they [fashion week’s organisers] are not shying away and are not disheartened.” Australian fashion week is traditionally a trade event, where designers present samples of their upcoming collections for wholesale buyers and media. The Adaptive Clothing Collective and the Curve Edit will both break fashion week’s usual business model. Rather than selling the clothes on the runway, showcasing a collection of entirely custom-made garments is about demonstrating proof-of-concept, Rogers explains. “We would love if media, and fashion retailers, can come and learn.” For a modelling agency like Bonner’s to stage and pay for a runway show is also unusual. “Why is the owner of a modelling and talent agency presenting the show?” Bonner said. “I don’t know the answer to that.” “I don’t know if it’s because designers are terrified to put anyone over a size 12 or 14 on the runway, or if designers who cater [to those sizes] don’t know how to apply, or don’t have the funding,” Bonner said. Timothy Hugh Nicol, of fashion brand Nicol and Ford, gives some insight into why designers might avoid size-diverse runways. Committing to it is “committing to double the work”. In 2021 Nicol and partner Katie Louise Ford staged their first runway show, the week before Australian fashion week. In a single presentation, it featured a greater range of body shapes than most of the following week’s shows combined. “We design for our community, [so] we cast from our community,” said Ford. This year, the pair will be joining Australian fashion week’s official lineup. Nicol said the show will “be very diverse in terms of physicality and gender expression”. “We do work backwards, we start with our casting,” said Ford. “It’s the only way we would do it, but it takes more lead time.” “It means that we make a second and custom version of every garment,” Nicol said. “It is complex, it takes a certain amount of pattern making and production.” But, “it’s a labour of love”. Nicol and Ford are not currently a wholesale business. The pair sew all of their garments themselves, out of their studio in Newtown. While Nicol said wholesaling is something they may explore in the future, the presence of small labels like theirs on fashion week’s lineup suggests the event is becoming less about trade, and more about public interest. “IMG used to be all about media and buyers,” said Nicol. But now Nicol believes IMG “can see a public interest in less commercial work”. Bonner, on the other hand, believes that committing to body diversity on runways is a commercial decision. “It doesn’t make any sense not to cater up to at least a size 18,” she said. “That’s where most women live and sit.” The Curve Edit will feature six designers – 17 Sundays, Saint Somebody, Embody Women, Vagary, Harlow and Zaliea Designs – who Bonner describes as long-term clients of her agency. Bonner says designers who do not cater to larger sizes are spending 100% of their energy on 20% of the population. “There’s a huge market they’re missing out on, of beautiful, fashionable, forward thinking women. I am that woman,” she said. “We know how much retail’s been struggling. We’ve seen so many top designers go under, and I feel like if they’d been more inclusive, that might not have happened.” Australian fashion week runs in Sydney from 9 to 13 May'"
      ]
     },
     "execution_count": 11,
     "metadata": {},
     "output_type": "execute_result"
    }
   ],
   "source": [
    "getText(fashion[0]['link'])"
   ]
  },
  {
   "cell_type": "markdown",
   "id": "e5daed6d",
   "metadata": {},
   "source": [
    "### Regular expressions\n",
    "\n",
    "OK. Now, we can pull a news article on a specific topic from the Guardian Newspaper. Remember our original goal: we are going to summarize the text using automated methods. For that, we must split the text into its sentences. The operation is called *Sentence Boundary Disambiguation* and the correct way of doing this is via [Natural Language Processing](https://en.wikipedia.org/wiki/Natural_language_processing) methods. But today we are going to keep things simple and use [regular expressions](https://en.wikipedia.org/wiki/Regular_expression) to split the text. Most sentences end with a '.', '?' or a '!'."
   ]
  },
  {
   "cell_type": "code",
   "execution_count": 12,
   "id": "84948245",
   "metadata": {},
   "outputs": [
    {
     "data": {
      "text/plain": [
       "['This is a sentence', ' So is this', ' Or is it', '']"
      ]
     },
     "execution_count": 12,
     "metadata": {},
     "output_type": "execute_result"
    }
   ],
   "source": [
    "re.split(r'[\\.\\?\\!]','This is a sentence. So is this! Or is it?')"
   ]
  },
  {
   "cell_type": "markdown",
   "id": "7a243e39",
   "metadata": {},
   "source": [
    "Of course, this doesn't work all the time:"
   ]
  },
  {
   "cell_type": "code",
   "execution_count": 13,
   "id": "7c1bdc2e",
   "metadata": {},
   "outputs": [
    {
     "data": {
      "text/plain": [
       "['My name is Mr',\n",
       " ' Smith',\n",
       " ' I have a Ph',\n",
       " 'D',\n",
       " ' from M',\n",
       " 'I',\n",
       " 'T',\n",
       " ' and I work at I',\n",
       " 'B',\n",
       " 'M',\n",
       " ' Now, look at pg',\n",
       " ' 12 of your text',\n",
       " '']"
      ]
     },
     "execution_count": 13,
     "metadata": {},
     "output_type": "execute_result"
    }
   ],
   "source": [
    "re.split(r'[\\.\\?\\!]','My name is Mr. Smith. I have a Ph.D. from M.I.T. and I work at I.B.M. Now, look at pg. 12 of your text.')"
   ]
  },
  {
   "cell_type": "markdown",
   "id": "c3bf9355",
   "metadata": {},
   "source": [
    "But, for today's lecture regular expression we used above should work:"
   ]
  },
  {
   "cell_type": "code",
   "execution_count": 14,
   "id": "30437a9c",
   "metadata": {
    "scrolled": true
   },
   "outputs": [
    {
     "data": {
      "text/plain": [
       "['The Los Angeles Lakers’ season is effectively over and their shadow general manager has played his part in their downfall Two years ago the world may have been upside down, but all was right in Laker Nation',\n",
       " ' After a decade of futility the Purple and Gold were on top of the NBA, champions once again',\n",
       " ' As the confetti fell inside a largely empty arena inside the NBA bubble, the best player on the planet had made good on his promise to put the franchise “back in the position where it belongs',\n",
       " '” Given the Lakers’ habit of hanging around the NBA finals once they finally break back in, it did indeed seem as if LeBron James & Co were only just getting warmed up',\n",
       " ' But it turns out that the heat radiating from the afterglow of that victory may well have been the earliest sign of the meltdown to come',\n",
       " ' On Tuesday, five days before the NBA regular season’s closing curtain, the LeBron-era Lakers hit their nadir',\n",
       " ' They went to Phoenix with James sidelined through injury and fell to the Suns, 121-110, their seventh defeat in a row',\n",
       " ' To add insult to injury, the Suns loss ruled the Lakers out of the playoff’s play-in round, a lifeline James once bemoaned quite emphatically',\n",
       " ' The self-styled GOAT was even roasted at the Oscars, with co-host Regina Hall arguably landing the night’s third-most provocative joke',\n",
       " ' Even though LA have weathered their share of bad breaks this season – not least a slew of aches, pains and Covid absences that has forced coach Frank Vogel to deploy 24 different players and 39 starting lineups – much of the blame for the Lakers’ wayward prospects should fall at the feet of James, a postseason spectator for just the fourth time in his illustrious career',\n",
       " ' After all, he isn’t just the straw that stirs the Lakers',\n",
       " ' He mixes the drink too as shadow general manager, exerting his sweeping influence from inside the locker room and through his player agency, Klutch Sports',\n",
       " ' Unlike his idol Michael Jordan, whose desire to pick his own teammates was vigorously checked by the gimlet-eyed Bulls general manager Jerry Krause, James has yet to find a front office he couldn’t steamroller',\n",
       " ' His fingerprints are all over the Lakers’ 2019 trade for Anthony Davis, a wildly talented big man who is oft-injured and generally averse to putting an entire team on his back',\n",
       " ' They’re all over the August trade for Russell Westbrook, a hall of fame-bound point guard who’s not only missing a steady jump shot but also a modicum of patience',\n",
       " ' In those trades, Brandon Ingram (24 years old), Kyle Kuzma (26), Lonzo Ball (24) and other fresh legs and potential draft picks were shipped away to maximise the 37-year-old James’s late-career window',\n",
       " ' James’s fourth year in LA began with him as the centrepiece of a rotation also made up of Westbrook (33), Carmelo Anthony (37), a second tour of Rajon Rondo (36) and a third tour of Dwight Howard (36)',\n",
       " ' Suffice to say: This would’ve been an awesome Cleveland Cavaliers team in 2008',\n",
       " ' It’s bad enough that James has missed 23 games this season',\n",
       " ' He resorted to playing heroball, or thoroughly against type',\n",
       " ' He chased double-doubles and Kareem Abdul-Jabbar’s all-time scoring mark while the Lakers slipped out of the playoff picture and into irrelevance',\n",
       " ' During the All-Star break in Cleveland James told the Athletic’s Jason Lloyd that he was entertaining the idea of a second homecoming',\n",
       " ' In that same interview, James reiterated a desire to play with his eldest son, Bronny – who isn’t near the NBA shoo-in his father was at his age',\n",
       " ' Unfair, maybe, but remember: James started this',\n",
       " ' Perhaps most embarrassing: After the LA’s Super Bowl triumph in February, James tossed around an idea for a triple-team ‘parade of champions’ with Rams, Dodgers and Lakers',\n",
       " ' Again, his title was in 2020',\n",
       " ' James even brought the typically stoic Abdul-Jabbar to a boil with his shrugging endorsement of a Spider-Man meme that tapped into a broader sense of exasperation in distinguishing from Covid, cold and flu symptoms',\n",
       " ' (Abdul-Jabbar’s point is that as an outspoken advocate for vaccinations, James can’t afford to be so thoughtless',\n",
       " ') In general, James has looked for all the world like pretty much exactly what ESPN’s Brian Windhorst says he is: the peripatetic superstar who burns too bright for any team to hold on to beyond four years',\n",
       " ' “Call it organisational fatigue,” the dean of Bron-ologists said on the ESPN morning show Get Up',\n",
       " ' “It happened the first time in Cleveland',\n",
       " ' They ran out of draft picks, they had a bunch of guys in their mid-30s',\n",
       " ' … He goes to Miami, four years, great run, they run out of draft picks',\n",
       " ' In his last game, three guys retired',\n",
       " ' … He goes to Cleveland, four years, great run',\n",
       " ' They run out of draft picks, they’ve got old guys',\n",
       " ' Here we are in LA, fourth year, the oldest team we’ve seen in NBA history, they’re out of draft picks',\n",
       " ' They’re exhausted',\n",
       " '” If the pattern holds, there’s no way James – an unrestricted free agent in 2023 – signs up for two or more years of misery in Los Angeles',\n",
       " ' Sure, he’ll always be fondly remembered for the championship he won for the city during Covid – the hardest title in history, if you ask him',\n",
       " ' And one meltdown year isn’t enough to ruin a 20-year standard',\n",
       " ' He can still call himself king if he likes',\n",
       " ' He just needs to do the honourable thing and own this Lakers landfill fire as his personal annus horribilis',\n",
       " '']"
      ]
     },
     "execution_count": 14,
     "metadata": {},
     "output_type": "execute_result"
    }
   ],
   "source": [
    "text = getText(nba[0]['link'])\n",
    "sentences = re.split(r'[\\.\\?\\!]',text)\n",
    "sentences"
   ]
  },
  {
   "cell_type": "markdown",
   "id": "675e19e3",
   "metadata": {},
   "source": [
    "While at it, let us clean the text as well"
   ]
  },
  {
   "cell_type": "code",
   "execution_count": 15,
   "id": "f35e8e03",
   "metadata": {
    "scrolled": true
   },
   "outputs": [
    {
     "data": {
      "text/plain": [
       "['the los angeles lakers season is effectively over and their shadow general manager has played his part in their downfall two years ago the world may have been upside down but all was right in laker nation',\n",
       " ' after a decade of futility the purple and gold were on top of the nba champions once again',\n",
       " ' as the confetti fell inside a largely empty arena inside the nba bubble the best player on the planet had made good on his promise to put the franchise back in the position where it belongs',\n",
       " ' given the lakers habit of hanging around the nba finals once they finally break back in it did indeed seem as if lebron james  co were only just getting warmed up',\n",
       " ' but it turns out that the heat radiating from the afterglow of that victory may well have been the earliest sign of the meltdown to come',\n",
       " ' on tuesday five days before the nba regular seasons closing curtain the lebronera lakers hit their nadir',\n",
       " ' they went to phoenix with james sidelined through injury and fell to the suns  their seventh defeat in a row',\n",
       " ' to add insult to injury the suns loss ruled the lakers out of the playoffs playin round a lifeline james once bemoaned quite emphatically',\n",
       " ' the selfstyled goat was even roasted at the oscars with cohost regina hall arguably landing the nights thirdmost provocative joke',\n",
       " ' even though la have weathered their share of bad breaks this season  not least a slew of aches pains and covid absences that has forced coach frank vogel to deploy  different players and  starting lineups  much of the blame for the lakers wayward prospects should fall at the feet of james a postseason spectator for just the fourth time in his illustrious career',\n",
       " ' after all he isnt just the straw that stirs the lakers',\n",
       " ' he mixes the drink too as shadow general manager exerting his sweeping influence from inside the locker room and through his player agency klutch sports',\n",
       " ' unlike his idol michael jordan whose desire to pick his own teammates was vigorously checked by the gimleteyed bulls general manager jerry krause james has yet to find a front office he couldnt steamroller',\n",
       " ' his fingerprints are all over the lakers  trade for anthony davis a wildly talented big man who is oftinjured and generally averse to putting an entire team on his back',\n",
       " ' theyre all over the august trade for russell westbrook a hall of famebound point guard whos not only missing a steady jump shot but also a modicum of patience',\n",
       " ' in those trades brandon ingram  years old kyle kuzma  lonzo ball  and other fresh legs and potential draft picks were shipped away to maximise the yearold jamess latecareer window',\n",
       " ' jamess fourth year in la began with him as the centrepiece of a rotation also made up of westbrook  carmelo anthony  a second tour of rajon rondo  and a third tour of dwight howard ',\n",
       " ' suffice to say this wouldve been an awesome cleveland cavaliers team in ',\n",
       " ' its bad enough that james has missed  games this season',\n",
       " ' he resorted to playing heroball or thoroughly against type',\n",
       " ' he chased doubledoubles and kareem abduljabbars alltime scoring mark while the lakers slipped out of the playoff picture and into irrelevance',\n",
       " ' during the allstar break in cleveland james told the athletics jason lloyd that he was entertaining the idea of a second homecoming',\n",
       " ' in that same interview james reiterated a desire to play with his eldest son bronny  who isnt near the nba shooin his father was at his age',\n",
       " ' unfair maybe but remember james started this',\n",
       " ' perhaps most embarrassing after the las super bowl triumph in february james tossed around an idea for a tripleteam parade of champions with rams dodgers and lakers',\n",
       " ' again his title was in ',\n",
       " ' james even brought the typically stoic abduljabbar to a boil with his shrugging endorsement of a spiderman meme that tapped into a broader sense of exasperation in distinguishing from covid cold and flu symptoms',\n",
       " ' abduljabbars point is that as an outspoken advocate for vaccinations james cant afford to be so thoughtless',\n",
       " ' in general james has looked for all the world like pretty much exactly what espns brian windhorst says he is the peripatetic superstar who burns too bright for any team to hold on to beyond four years',\n",
       " ' call it organisational fatigue the dean of bronologists said on the espn morning show get up',\n",
       " ' it happened the first time in cleveland',\n",
       " ' they ran out of draft picks they had a bunch of guys in their mids',\n",
       " '  he goes to miami four years great run they run out of draft picks',\n",
       " ' in his last game three guys retired',\n",
       " '  he goes to cleveland four years great run',\n",
       " ' they run out of draft picks theyve got old guys',\n",
       " ' here we are in la fourth year the oldest team weve seen in nba history theyre out of draft picks',\n",
       " ' theyre exhausted',\n",
       " ' if the pattern holds theres no way james  an unrestricted free agent in   signs up for two or more years of misery in los angeles',\n",
       " ' sure hell always be fondly remembered for the championship he won for the city during covid  the hardest title in history if you ask him',\n",
       " ' and one meltdown year isnt enough to ruin a year standard',\n",
       " ' he can still call himself king if he likes',\n",
       " ' he just needs to do the honourable thing and own this lakers landfill fire as his personal annus horribilis',\n",
       " '']"
      ]
     },
     "execution_count": 15,
     "metadata": {},
     "output_type": "execute_result"
    }
   ],
   "source": [
    "[re.sub(r'[^a-z\\s]','',x.lower()) for x in sentences]"
   ]
  },
  {
   "cell_type": "code",
   "execution_count": 16,
   "id": "e9846e08",
   "metadata": {},
   "outputs": [],
   "source": [
    "def processText(text):\n",
    "    sentences = re.split(r'[\\.\\?\\!]',text)\n",
    "    return [re.sub(r'[^\\w\\s]','',x.lower()) for x in sentences]"
   ]
  },
  {
   "cell_type": "code",
   "execution_count": 17,
   "id": "5f4a1abb",
   "metadata": {
    "scrolled": true
   },
   "outputs": [
    {
     "data": {
      "text/plain": [
       "['the los angeles lakers season is effectively over and their shadow general manager has played his part in their downfall two years ago the world may have been upside down but all was right in laker nation',\n",
       " ' after a decade of futility the purple and gold were on top of the nba champions once again',\n",
       " ' as the confetti fell inside a largely empty arena inside the nba bubble the best player on the planet had made good on his promise to put the franchise back in the position where it belongs',\n",
       " ' given the lakers habit of hanging around the nba finals once they finally break back in it did indeed seem as if lebron james  co were only just getting warmed up',\n",
       " ' but it turns out that the heat radiating from the afterglow of that victory may well have been the earliest sign of the meltdown to come',\n",
       " ' on tuesday five days before the nba regular seasons closing curtain the lebronera lakers hit their nadir',\n",
       " ' they went to phoenix with james sidelined through injury and fell to the suns 121110 their seventh defeat in a row',\n",
       " ' to add insult to injury the suns loss ruled the lakers out of the playoffs playin round a lifeline james once bemoaned quite emphatically',\n",
       " ' the selfstyled goat was even roasted at the oscars with cohost regina hall arguably landing the nights thirdmost provocative joke',\n",
       " ' even though la have weathered their share of bad breaks this season  not least a slew of aches pains and covid absences that has forced coach frank vogel to deploy 24 different players and 39 starting lineups  much of the blame for the lakers wayward prospects should fall at the feet of james a postseason spectator for just the fourth time in his illustrious career',\n",
       " ' after all he isnt just the straw that stirs the lakers',\n",
       " ' he mixes the drink too as shadow general manager exerting his sweeping influence from inside the locker room and through his player agency klutch sports',\n",
       " ' unlike his idol michael jordan whose desire to pick his own teammates was vigorously checked by the gimleteyed bulls general manager jerry krause james has yet to find a front office he couldnt steamroller',\n",
       " ' his fingerprints are all over the lakers 2019 trade for anthony davis a wildly talented big man who is oftinjured and generally averse to putting an entire team on his back',\n",
       " ' theyre all over the august trade for russell westbrook a hall of famebound point guard whos not only missing a steady jump shot but also a modicum of patience',\n",
       " ' in those trades brandon ingram 24 years old kyle kuzma 26 lonzo ball 24 and other fresh legs and potential draft picks were shipped away to maximise the 37yearold jamess latecareer window',\n",
       " ' jamess fourth year in la began with him as the centrepiece of a rotation also made up of westbrook 33 carmelo anthony 37 a second tour of rajon rondo 36 and a third tour of dwight howard 36',\n",
       " ' suffice to say this wouldve been an awesome cleveland cavaliers team in 2008',\n",
       " ' its bad enough that james has missed 23 games this season',\n",
       " ' he resorted to playing heroball or thoroughly against type',\n",
       " ' he chased doubledoubles and kareem abduljabbars alltime scoring mark while the lakers slipped out of the playoff picture and into irrelevance',\n",
       " ' during the allstar break in cleveland james told the athletics jason lloyd that he was entertaining the idea of a second homecoming',\n",
       " ' in that same interview james reiterated a desire to play with his eldest son bronny  who isnt near the nba shooin his father was at his age',\n",
       " ' unfair maybe but remember james started this',\n",
       " ' perhaps most embarrassing after the las super bowl triumph in february james tossed around an idea for a tripleteam parade of champions with rams dodgers and lakers',\n",
       " ' again his title was in 2020',\n",
       " ' james even brought the typically stoic abduljabbar to a boil with his shrugging endorsement of a spiderman meme that tapped into a broader sense of exasperation in distinguishing from covid cold and flu symptoms',\n",
       " ' abduljabbars point is that as an outspoken advocate for vaccinations james cant afford to be so thoughtless',\n",
       " ' in general james has looked for all the world like pretty much exactly what espns brian windhorst says he is the peripatetic superstar who burns too bright for any team to hold on to beyond four years',\n",
       " ' call it organisational fatigue the dean of bronologists said on the espn morning show get up',\n",
       " ' it happened the first time in cleveland',\n",
       " ' they ran out of draft picks they had a bunch of guys in their mid30s',\n",
       " '  he goes to miami four years great run they run out of draft picks',\n",
       " ' in his last game three guys retired',\n",
       " '  he goes to cleveland four years great run',\n",
       " ' they run out of draft picks theyve got old guys',\n",
       " ' here we are in la fourth year the oldest team weve seen in nba history theyre out of draft picks',\n",
       " ' theyre exhausted',\n",
       " ' if the pattern holds theres no way james  an unrestricted free agent in 2023  signs up for two or more years of misery in los angeles',\n",
       " ' sure hell always be fondly remembered for the championship he won for the city during covid  the hardest title in history if you ask him',\n",
       " ' and one meltdown year isnt enough to ruin a 20year standard',\n",
       " ' he can still call himself king if he likes',\n",
       " ' he just needs to do the honourable thing and own this lakers landfill fire as his personal annus horribilis',\n",
       " '']"
      ]
     },
     "execution_count": 17,
     "metadata": {},
     "output_type": "execute_result"
    }
   ],
   "source": [
    "processText(getText(nba[0]['link']))"
   ]
  },
  {
   "cell_type": "code",
   "execution_count": 18,
   "id": "c9cc4e5e",
   "metadata": {
    "scrolled": true
   },
   "outputs": [
    {
     "data": {
      "text/plain": [
       "['the may event will also debut a standalone show for adaptive fashion designed for people with disabilities plussize clothing will have a dedicated runway show at australian fashion week this year for the first time in the events 26year history',\n",
       " ' ive been fighting and working for this for 20something years now said ceo of sizeinclusive modelling agency bella management chelsea bonner who will be staging the curve edit one of 50 fashion shows and presentations taking place in sydney in may',\n",
       " ' if i had pitched this idea even five years ago it never would have happened bonner said',\n",
       " ' its a whole new world',\n",
       " ' the way we think about bodies the way we think about ourselves is so different now',\n",
       " ' diversity has become a watchword for the fashion industry in recent years',\n",
       " ' but at the higher end of the market size inclusivity is a particular sticking point',\n",
       " ' in australia many of the designers who show their collections at fashion week do not make clothing above a size 12 or 14',\n",
       " ' last years australian fashion week drew significant criticism for its lack of larger bodies on the runway with model kate wasley branding size diversity non existent',\n",
       " ' after the 2021 event artist and model basjia almaan who walked in several shows also spoke out',\n",
       " ' yes im a curve model but im still palatable',\n",
       " ' im a size 1214 she wrote on instagram',\n",
       " ' where were the bigger bodies',\n",
       " ' bonner pitched the idea for a plussize runway to img the usbased events company that owns australian fashion week',\n",
       " ' she says the concept was welcomed with open arms',\n",
       " ' were working to create a more accessible and equitable industry by ensuring talented designers creatives and fashion professionals of all identities have the opportunities and resources they need to succeed natalie xenita who heads imgs australian fashion events said',\n",
       " ' the curve edit is not the only first for the event',\n",
       " ' adaptive fashion  clothing designed for customers with disabilities  will also be featured in a standalone runway show',\n",
       " ' people with disabilities deserve more than basics said molly rogers of jam the label who will be staging the show with fellow adaptive designer christina stephens under the banner adaptive clothing collective',\n",
       " ' its super important to show that people with disabilities can look  runway ready rogers said',\n",
       " ' the adaptive clothing collective will custommake every runway look specifically for the needs of their models',\n",
       " ' adjustments include magnetic fastenings in place of buttons and higher seat rises in pants for wheelchair users',\n",
       " ' its amazing to have diversity and representation at fashion week rogers says',\n",
       " ' but  creating items that actually cater for peoples needs is more than tokenistic',\n",
       " ' australian fashion weeks consumerfacing closing show in 2021 received criticism on social media for failing to consider the needs of model and paralympian rheed mccracken who had to push his wheelchair down a runway covered in streamers and confetti',\n",
       " ' being an adaptive clothing brand i was across all those sort of things rogers said of that incident',\n",
       " ' and the main thing i would say from that is that they fashion weeks organisers are not shying away and are not disheartened',\n",
       " ' australian fashion week is traditionally a trade event where designers present samples of their upcoming collections for wholesale buyers and media',\n",
       " ' the adaptive clothing collective and the curve edit will both break fashion weeks usual business model',\n",
       " ' rather than selling the clothes on the runway showcasing a collection of entirely custommade garments is about demonstrating proofofconcept rogers explains',\n",
       " ' we would love if media and fashion retailers can come and learn',\n",
       " ' for a modelling agency like bonners to stage and pay for a runway show is also unusual',\n",
       " ' why is the owner of a modelling and talent agency presenting the show',\n",
       " ' bonner said',\n",
       " ' i dont know the answer to that',\n",
       " ' i dont know if its because designers are terrified to put anyone over a size 12 or 14 on the runway or if designers who cater to those sizes dont know how to apply or dont have the funding bonner said',\n",
       " ' timothy hugh nicol of fashion brand nicol and ford gives some insight into why designers might avoid sizediverse runways',\n",
       " ' committing to it is committing to double the work',\n",
       " ' in 2021 nicol and partner katie louise ford staged their first runway show the week before australian fashion week',\n",
       " ' in a single presentation it featured a greater range of body shapes than most of the following weeks shows combined',\n",
       " ' we design for our community so we cast from our community said ford',\n",
       " ' this year the pair will be joining australian fashion weeks official lineup',\n",
       " ' nicol said the show will be very diverse in terms of physicality and gender expression',\n",
       " ' we do work backwards we start with our casting said ford',\n",
       " ' its the only way we would do it but it takes more lead time',\n",
       " ' it means that we make a second and custom version of every garment nicol said',\n",
       " ' it is complex it takes a certain amount of pattern making and production',\n",
       " ' but its a labour of love',\n",
       " ' nicol and ford are not currently a wholesale business',\n",
       " ' the pair sew all of their garments themselves out of their studio in newtown',\n",
       " ' while nicol said wholesaling is something they may explore in the future the presence of small labels like theirs on fashion weeks lineup suggests the event is becoming less about trade and more about public interest',\n",
       " ' img used to be all about media and buyers said nicol',\n",
       " ' but now nicol believes img can see a public interest in less commercial work',\n",
       " ' bonner on the other hand believes that committing to body diversity on runways is a commercial decision',\n",
       " ' it doesnt make any sense not to cater up to at least a size 18 she said',\n",
       " ' thats where most women live and sit',\n",
       " ' the curve edit will feature six designers  17 sundays saint somebody embody women vagary harlow and zaliea designs  who bonner describes as longterm clients of her agency',\n",
       " ' bonner says designers who do not cater to larger sizes are spending 100 of their energy on 20 of the population',\n",
       " ' theres a huge market theyre missing out on of beautiful fashionable forward thinking women',\n",
       " ' i am that woman she said',\n",
       " ' we know how much retails been struggling',\n",
       " ' weve seen so many top designers go under and i feel like if theyd been more inclusive that might not have happened',\n",
       " ' australian fashion week runs in sydney from 9 to 13 may']"
      ]
     },
     "execution_count": 18,
     "metadata": {},
     "output_type": "execute_result"
    }
   ],
   "source": [
    "processText(getText(fashion[0]['link']))"
   ]
  },
  {
   "cell_type": "code",
   "execution_count": 19,
   "id": "f17924e8",
   "metadata": {},
   "outputs": [
    {
     "data": {
      "text/plain": [
       "['absorbing documentary about the russian opposition figure tells a story we all need to hear its impossible to watch this absorbing documentary about antiputin dissident alexei navalny without a terrible suspicion entering your mind did putin order his grotesque ukraine invasion because of navalny',\n",
       " ' was it a diversionary tactic against the huge growing wave of protest spearheaded by navalny who in 2021 had defiantly returned to russia from german exile and whose instant arrest and imprisonment merely fanned the flames of his international celebrity',\n",
       " ' putin was no doubt deeply enraged by this socialmedia megastar who had not only survived a novichok assassination attempt but then humiliated the kremlin by unmasking his malign and cackhanded wouldbe killers online',\n",
       " ' navalny is an extraordinary figure in many ways approachable telegenic and easygoing',\n",
       " ' or mostly easygoing anyway he can still sound irritable and defensive when questioned about his appearances on the same stage as extreme russian nationalists about 10 years earlier and perhaps this film could have looked harder at the facts of navalnys early life',\n",
       " ' but the real eyeopener is the interview with the bulgarian investigative journalist christo grosev of the website bellingcat who managed such breathtaking feats of detection on navalnys behalf in finding the fsb assailants',\n",
       " ' grosev is all about data by getting hold of passenger manifests travel details or call records  and everything digital leaves a trace  he can put together an objective picture even retrieving the culprits passport photos',\n",
       " ' it is quite staggering',\n",
       " ' and navalnys story has a particular resonance in britain he survived but dawn sturgess did not  the blameless british national was fatally poisoned with novichok on british soil in 2018 as the chaotic byproduct of a bungling attempt by russian agents to kill former agent sergei skripal and his daughter yulia in salisbury',\n",
       " ' for so many reasons navalnys story concerns us all',\n",
       " '  navalny is released on 12 april in cinemas',\n",
       " '']"
      ]
     },
     "execution_count": 19,
     "metadata": {},
     "output_type": "execute_result"
    }
   ],
   "source": [
    "processText(getText(film[1]['link']))"
   ]
  },
  {
   "cell_type": "code",
   "execution_count": 20,
   "id": "f47dad57",
   "metadata": {},
   "outputs": [],
   "source": [
    "def countPieces(text):\n",
    "    words = set(text.split(' '))\n",
    "    sentences = processText(text)\n",
    "    return (len(words),len(sentences))"
   ]
  },
  {
   "cell_type": "code",
   "execution_count": 21,
   "id": "e533c243",
   "metadata": {},
   "outputs": [
    {
     "data": {
      "text/plain": [
       "(548, 44)"
      ]
     },
     "execution_count": 21,
     "metadata": {},
     "output_type": "execute_result"
    }
   ],
   "source": [
    "countPieces(getText(nba[0]['link']))"
   ]
  },
  {
   "cell_type": "markdown",
   "id": "2ad452ba",
   "metadata": {},
   "source": [
    "## Vectorizing a text\n",
    "\n",
    "A text is a sequence of words that are presented within syntactical units. In our case these units are sentences. But for larger texts, these units can be paragraphs or even chapters. Now, our text contains a large number of words given in a specific order. But for the purpose of this exercise, let us forget the order they are presented. Let us treat each sentence as a bag/multi-set of words. We can convert each sentence to a vector as follows:\n",
    "\n",
    "1. Put all distinct words that appear in our text into an ordered list (no repetitions.)\n",
    "2. Let W be the number of distinct words in our text and let S be the number of sentences in our text.\n",
    "3. Construct an array A of size S x W where rows are marked by sentences while columns are marked by words.\n",
    "4. For each sentence S and word W, set the entry A(S,W) as the number of times the word W appears in the sentence S.\n",
    "\n",
    "The scikit-learn library has a specific function for this task called [CountVectorizer](https://scikit-learn.org/stable/modules/generated/sklearn.feature_extraction.text.CountVectorizer.html)."
   ]
  },
  {
   "cell_type": "code",
   "execution_count": 22,
   "id": "cb6cca8d",
   "metadata": {},
   "outputs": [
    {
     "data": {
      "text/plain": [
       "(44, 481)"
      ]
     },
     "execution_count": 22,
     "metadata": {},
     "output_type": "execute_result"
    }
   ],
   "source": [
    "vectorizer = CountVectorizer()\n",
    "matrix = vectorizer.fit_transform(sentences)\n",
    "matrix.shape"
   ]
  },
  {
   "cell_type": "code",
   "execution_count": 23,
   "id": "e2b52ea4",
   "metadata": {},
   "outputs": [],
   "source": [
    "def getMatrix(sentences):\n",
    "    vectorizer = CountVectorizer()\n",
    "    return vectorizer.fit_transform(sentences)"
   ]
  },
  {
   "cell_type": "code",
   "execution_count": 24,
   "id": "4d0d4a10",
   "metadata": {},
   "outputs": [
    {
     "data": {
      "text/plain": [
       "(21, 215)"
      ]
     },
     "execution_count": 24,
     "metadata": {},
     "output_type": "execute_result"
    }
   ],
   "source": [
    "tmp = getMatrix(processText(getText(film[3]['link'])))\n",
    "tmp.shape"
   ]
  },
  {
   "cell_type": "markdown",
   "id": "1ef7f96d",
   "metadata": {},
   "source": [
    "The example text we are using has 44 sentences and 481 unique words.\n",
    "\n",
    "OK. We vectorized the text. Now, what?\n",
    "\n",
    "## Principal Component Analysis\n",
    "\n",
    "In the last lecture I used [PCA](https://en.wikipedia.org/wiki/Principal_component_analysis) to project large dimensional data onto $\\mathbb{R}^2$ so that we can visualize it. We can also use PCA for summarization:"
   ]
  },
  {
   "cell_type": "code",
   "execution_count": 25,
   "id": "e00b3a60",
   "metadata": {
    "scrolled": true
   },
   "outputs": [
    {
     "data": {
      "text/plain": [
       "[(-1.507691929779268,\n",
       "  0,\n",
       "  'The Los Angeles Lakers’ season is effectively over and their shadow general manager has played his part in their downfall Two years ago the world may have been upside down, but all was right in Laker Nation'),\n",
       " (0.14111252011941752,\n",
       "  1,\n",
       "  ' After a decade of futility the Purple and Gold were on top of the NBA, champions once again'),\n",
       " (0.47824834231910845,\n",
       "  2,\n",
       "  ' As the confetti fell inside a largely empty arena inside the NBA bubble, the best player on the planet had made good on his promise to put the franchise “back in the position where it belongs'),\n",
       " (0.06961835640327009,\n",
       "  3,\n",
       "  '” Given the Lakers’ habit of hanging around the NBA finals once they finally break back in, it did indeed seem as if LeBron James & Co were only just getting warmed up'),\n",
       " (-0.5180976495678292,\n",
       "  4,\n",
       "  ' But it turns out that the heat radiating from the afterglow of that victory may well have been the earliest sign of the meltdown to come'),\n",
       " (-1.092523802867616,\n",
       "  5,\n",
       "  ' On Tuesday, five days before the NBA regular season’s closing curtain, the LeBron-era Lakers hit their nadir'),\n",
       " (-1.5727149317821627,\n",
       "  6,\n",
       "  ' They went to Phoenix with James sidelined through injury and fell to the Suns, 121-110, their seventh defeat in a row'),\n",
       " (-0.725290775648076,\n",
       "  7,\n",
       "  ' To add insult to injury, the Suns loss ruled the Lakers out of the playoff’s play-in round, a lifeline James once bemoaned quite emphatically'),\n",
       " (-0.3020518576040562,\n",
       "  8,\n",
       "  ' The self-styled GOAT was even roasted at the Oscars, with co-host Regina Hall arguably landing the night’s third-most provocative joke'),\n",
       " (-0.85605994834357,\n",
       "  9,\n",
       "  ' Even though LA have weathered their share of bad breaks this season – not least a slew of aches, pains and Covid absences that has forced coach Frank Vogel to deploy 24 different players and 39 starting lineups – much of the blame for the Lakers’ wayward prospects should fall at the feet of James, a postseason spectator for just the fourth time in his illustrious career'),\n",
       " (-1.302577954597573,\n",
       "  10,\n",
       "  ' After all, he isn’t just the straw that stirs the Lakers'),\n",
       " (-1.095228291064392,\n",
       "  11,\n",
       "  ' He mixes the drink too as shadow general manager, exerting his sweeping influence from inside the locker room and through his player agency, Klutch Sports'),\n",
       " (3.9572889189856495,\n",
       "  12,\n",
       "  ' Unlike his idol Michael Jordan, whose desire to pick his own teammates was vigorously checked by the gimlet-eyed Bulls general manager Jerry Krause, James has yet to find a front office he couldn’t steamroller'),\n",
       " (4.521688413437576,\n",
       "  13,\n",
       "  ' His fingerprints are all over the Lakers’ 2019 trade for Anthony Davis, a wildly talented big man who is oft-injured and generally averse to putting an entire team on his back'),\n",
       " (-0.13314995552128975,\n",
       "  14,\n",
       "  ' They’re all over the August trade for Russell Westbrook, a hall of fame-bound point guard who’s not only missing a steady jump shot but also a modicum of patience'),\n",
       " (-0.9126463418740074,\n",
       "  15,\n",
       "  ' In those trades, Brandon Ingram (24 years old), Kyle Kuzma (26), Lonzo Ball (24) and other fresh legs and potential draft picks were shipped away to maximise the 37-year-old James’s late-career window'),\n",
       " (1.4679481578362545,\n",
       "  16,\n",
       "  ' James’s fourth year in LA began with him as the centrepiece of a rotation also made up of Westbrook (33), Carmelo Anthony (37), a second tour of Rajon Rondo (36) and a third tour of Dwight Howard (36)'),\n",
       " (1.0081149398363736,\n",
       "  17,\n",
       "  ' Suffice to say: This would’ve been an awesome Cleveland Cavaliers team in 2008'),\n",
       " (0.2241247124766044,\n",
       "  18,\n",
       "  ' It’s bad enough that James has missed 23 games this season'),\n",
       " (-0.5315570228031832,\n",
       "  19,\n",
       "  ' He resorted to playing heroball, or thoroughly against type'),\n",
       " (-1.3185538999612367,\n",
       "  20,\n",
       "  ' He chased double-doubles and Kareem Abdul-Jabbar’s all-time scoring mark while the Lakers slipped out of the playoff picture and into irrelevance')]"
      ]
     },
     "execution_count": 25,
     "metadata": {},
     "output_type": "execute_result"
    }
   ],
   "source": [
    "projection = PCA(n_components=1)\n",
    "weights = projection.fit_transform(tmp.toarray())\n",
    "res = list(zip(weights.transpose()[0],range(112),sentences))\n",
    "res"
   ]
  },
  {
   "cell_type": "markdown",
   "id": "9180ae3c",
   "metadata": {},
   "source": [
    "The first number in each item is the weight of the sentence, the second is the position of the sentence in the text and the third is the cleaned version of the sentence. We need to sort this list with respect to weights and take few for the summary. Below, I'll take the 4 sentences with highest weight."
   ]
  },
  {
   "cell_type": "code",
   "execution_count": 26,
   "id": "be1de960",
   "metadata": {},
   "outputs": [
    {
     "data": {
      "text/plain": [
       "[(4.521688413437576,\n",
       "  13,\n",
       "  ' His fingerprints are all over the Lakers’ 2019 trade for Anthony Davis, a wildly talented big man who is oft-injured and generally averse to putting an entire team on his back'),\n",
       " (3.9572889189856495,\n",
       "  12,\n",
       "  ' Unlike his idol Michael Jordan, whose desire to pick his own teammates was vigorously checked by the gimlet-eyed Bulls general manager Jerry Krause, James has yet to find a front office he couldn’t steamroller'),\n",
       " (1.4679481578362545,\n",
       "  16,\n",
       "  ' James’s fourth year in LA began with him as the centrepiece of a rotation also made up of Westbrook (33), Carmelo Anthony (37), a second tour of Rajon Rondo (36) and a third tour of Dwight Howard (36)'),\n",
       " (1.0081149398363736,\n",
       "  17,\n",
       "  ' Suffice to say: This would’ve been an awesome Cleveland Cavaliers team in 2008')]"
      ]
     },
     "execution_count": 26,
     "metadata": {},
     "output_type": "execute_result"
    }
   ],
   "source": [
    "sorted(res,key=lambda x: x[0],reverse=True)[:4]"
   ]
  },
  {
   "cell_type": "markdown",
   "id": "3f953c93",
   "metadata": {},
   "source": [
    "The result is in the wrong sentence order:"
   ]
  },
  {
   "cell_type": "code",
   "execution_count": 27,
   "id": "cf25f925",
   "metadata": {},
   "outputs": [
    {
     "data": {
      "text/plain": [
       "[(3.9572889189856495,\n",
       "  12,\n",
       "  ' Unlike his idol Michael Jordan, whose desire to pick his own teammates was vigorously checked by the gimlet-eyed Bulls general manager Jerry Krause, James has yet to find a front office he couldn’t steamroller'),\n",
       " (4.521688413437576,\n",
       "  13,\n",
       "  ' His fingerprints are all over the Lakers’ 2019 trade for Anthony Davis, a wildly talented big man who is oft-injured and generally averse to putting an entire team on his back'),\n",
       " (1.4679481578362545,\n",
       "  16,\n",
       "  ' James’s fourth year in LA began with him as the centrepiece of a rotation also made up of Westbrook (33), Carmelo Anthony (37), a second tour of Rajon Rondo (36) and a third tour of Dwight Howard (36)'),\n",
       " (1.0081149398363736,\n",
       "  17,\n",
       "  ' Suffice to say: This would’ve been an awesome Cleveland Cavaliers team in 2008')]"
      ]
     },
     "execution_count": 27,
     "metadata": {},
     "output_type": "execute_result"
    }
   ],
   "source": [
    "sorted(sorted(res,key=lambda x: x[0],reverse=True)[:4],key=lambda x: x[1])"
   ]
  },
  {
   "cell_type": "markdown",
   "id": "27cec04f",
   "metadata": {},
   "source": [
    "Let us write this as a function:"
   ]
  },
  {
   "cell_type": "code",
   "execution_count": 28,
   "id": "5966a5b0",
   "metadata": {},
   "outputs": [],
   "source": [
    "def getSummary(text,k):\n",
    "    sentences = processText(text)\n",
    "    matrix = getMatrix(sentences)\n",
    "    projection = PCA(n_components=1)\n",
    "    weights = projection.fit_transform(matrix.toarray())\n",
    "    res = list(zip(weights.transpose()[0],range(112),sentences))\n",
    "    tmp = sorted(res,key=lambda x: x[0],reverse=True)[:k]\n",
    "    return sorted(tmp, key=lambda x: x[1])"
   ]
  },
  {
   "cell_type": "code",
   "execution_count": 29,
   "id": "c252926a",
   "metadata": {},
   "outputs": [
    {
     "data": {
      "text/plain": [
       "[(3.9572889189856495,\n",
       "  12,\n",
       "  ' the case is being brought in virginia rather than in california where the actors reside because the washington posts online editions are published through servers located in fairfax county'),\n",
       " (4.521688413437576,\n",
       "  13,\n",
       "  ' depps lawyers say one of the reasons they brought the case in virginia is because the states antislapp law is not as broad as the one in california'),\n",
       " (1.4679481578362545,\n",
       "  16,\n",
       "  ' it comes after depp lost a similar defamation case in the uk which he brought against the publisher of the sun newspaper news group newspapers')]"
      ]
     },
     "execution_count": 29,
     "metadata": {},
     "output_type": "execute_result"
    }
   ],
   "source": [
    "getSummary(getText(film[3]['link']),3)"
   ]
  },
  {
   "cell_type": "code",
   "execution_count": 30,
   "id": "9b6d0a0c",
   "metadata": {},
   "outputs": [
    {
     "data": {
      "text/plain": [
       "[(4.013977970417501,\n",
       "  0,\n",
       "  'the minnesota timberwolves star has suffered loss in his personal life but has used it as inspiration to come back stronger on 14 march 2022 karlanthony towns pirouetted leapt and dunked his way to a 60point performance with the grace of a ballet dancer and the strength of well a 7ft 250lb nba player'),\n",
       " (4.711290373887663,\n",
       "  54,\n",
       "  ' first of all availability is the best ability and after missing a combined 55 games over the previous two seasons due to injuries and covidrelated absences towns has appeared in all but seven games in 202122 becoming the reliable force that the wolves need him to be'),\n",
       " (4.41983237393813,\n",
       "  56,\n",
       "  ' towns has always had the size to protect the rim and the fluidity to cover a lot of ground but with so much strife in minnesota he didnt always play with the vigor and effort that he displays now'),\n",
       " (3.42572381224895,\n",
       "  62,\n",
       "  ' there are sequences in a game where towns hits a stepback three on one play attacks a closeout for a dunk on the next posts up for a midrange fadeaway on the next and then eurosteps through multiple defenders to get the andone at the rim'),\n",
       " (3.8070560163045295,\n",
       "  72,\n",
       "  ' and regardless of what accolades come his way or how deep the wolves go into the playoffs the most important thing is that towns  who has gone through so much in the past two years  is back to being himself')]"
      ]
     },
     "execution_count": 30,
     "metadata": {},
     "output_type": "execute_result"
    }
   ],
   "source": [
    "getSummary(getText(nba[2]['link']),5)"
   ]
  },
  {
   "cell_type": "code",
   "execution_count": null,
   "id": "0fd7f318",
   "metadata": {},
   "outputs": [],
   "source": []
  },
  {
   "cell_type": "markdown",
   "id": "b103e38b",
   "metadata": {},
   "source": [
    "## Let us repeat this in Turkish\n",
    "\n",
    "OK. We worked with a text in English. But, observe that what we have done is not specific to a language. We can get summaries using the same method.\n",
    "\n",
    "For this part I am going to use [Milliyet's RSS Feeds](https://www.milliyet.com.tr/milliyet.aspx?atype=rss). They also follow a predictable pattern:\n",
    "\n",
    "* World: https://www.milliyet.com.tr/rss/rssNew/dunyaRss.xml\n",
    "* Economy: https://www.milliyet.com.tr/rss/rssNew/ekonomiRss.xml\n",
    "* Technology: https://www.milliyet.com.tr/rss/rssNew/teknolojiRss.xml"
   ]
  },
  {
   "cell_type": "code",
   "execution_count": 31,
   "id": "173a4e21",
   "metadata": {},
   "outputs": [],
   "source": [
    "def getSubjectMilliyet(subject):\n",
    "    with requests.get(f'https://www.milliyet.com.tr/rss/rssNew/{subject}Rss.xml') as link:\n",
    "        raw = parse(link.text)\n",
    "    return raw['rss']['channel']['item']"
   ]
  },
  {
   "cell_type": "code",
   "execution_count": 32,
   "id": "6644f251",
   "metadata": {},
   "outputs": [
    {
     "data": {
      "text/plain": [
       "'https://www.milliyet.com.tr/ekonomi/ab-21-rus-havayolu-sirketini-kara-listeye-aldi-6735704'"
      ]
     },
     "execution_count": 32,
     "metadata": {},
     "output_type": "execute_result"
    }
   ],
   "source": [
    "ekonomi = getSubjectMilliyet('ekonomi')\n",
    "ekonomi[0]['atom:link']['@href']"
   ]
  },
  {
   "cell_type": "code",
   "execution_count": 33,
   "id": "54350120",
   "metadata": {},
   "outputs": [
    {
     "data": {
      "text/plain": [
       "[(3.882490371490566,\n",
       "  0,\n",
       "  'avrupa komisyonu uluslararası güvenlik standartlarını karşılamadığı için avrupa birliği içinde faaliyet yasağına veya faaliyet kısıtlamalarına tabi olan havayollarını içeren ab hava güvenliği listesini güncelledi'),\n",
       " (0.5320758414446637,\n",
       "  3,\n",
       "  ' ayrıca bu durumunun güvenlik endişelerine ve uluslararası havacılık güvenliği standartlarının ihlal edilmesine yol açtığı aktarıldı'),\n",
       " (2.4202767514657526,\n",
       "  5,\n",
       "  ' güvenliği siyasetle karıştırmıyoruz ab komisyonu ulaştırmadan sorumlu üyesi adina valean bu kararın rusyaya karşı başka bir yaptırım olmadığını açıkça belirtmek isterim karar sadece teknik ve güvenlik gerekçeleriyle alınmıştır')]"
      ]
     },
     "execution_count": 33,
     "metadata": {},
     "output_type": "execute_result"
    }
   ],
   "source": [
    "getSummary(getText(ekonomi[0]['atom:link']['@href']),3)"
   ]
  },
  {
   "cell_type": "code",
   "execution_count": 34,
   "id": "faa4f7b5",
   "metadata": {},
   "outputs": [
    {
     "data": {
      "text/plain": [
       "[(4.520888348507536,\n",
       "  0,\n",
       "  'pakistanda ulusal mecliste başbakan imran han ve hükümeti için geçtiğimiz günlerde güven oylaması yapılmış hükümetinin güven oyu alamaması üzerine han başbakanlık görevinden alınmıştı'),\n",
       " (0.49717495592410743,\n",
       "  2,\n",
       "  'imran han bu mecliste hiçbir koşulda oturmayacağız'),\n",
       " (0.031057795322205706,\n",
       "  3,\n",
       "  ' partim ve ben pakistanı soyanlarla ve yabancı güçler tarafından yönetilenlerle mecliste oturmayacağız')]"
      ]
     },
     "execution_count": 34,
     "metadata": {},
     "output_type": "execute_result"
    }
   ],
   "source": [
    "world = getSubjectMilliyet('dunya')\n",
    "getSummary(getText(world[0]['atom:link']['@href']),3)"
   ]
  },
  {
   "cell_type": "markdown",
   "id": "9c7d5227",
   "metadata": {},
   "source": [
    "## Now, in French\n",
    "\n",
    "For this part, we are going to use [France Soir](https://www.francesoir.fr/). Their RSS pattern is also predictable:\n",
    "\n",
    "* Politics: https://www.francesoir.fr/rss-politique.xml\n",
    "* Culture: https://www.francesoir.fr/rss-culture.xml\n",
    "* Opinions: https://www.francesoir.fr/rss-opinions.xml"
   ]
  },
  {
   "cell_type": "code",
   "execution_count": 35,
   "id": "9944edaa",
   "metadata": {},
   "outputs": [],
   "source": [
    "def getSubjectSoir(subject):\n",
    "    with requests.get(f'https://www.francesoir.fr/rss-{subject}.xml') as link:\n",
    "        raw = parse(link.text)\n",
    "    return raw['rss']['channel']['item']"
   ]
  },
  {
   "cell_type": "code",
   "execution_count": 36,
   "id": "0741b867",
   "metadata": {},
   "outputs": [
    {
     "name": "stdout",
     "output_type": "stream",
     "text": [
      "Hong Kong: un journaliste chevronné arrêté pour \"sédition\"\n",
      "En Ile-de-France, Mélenchon très légèrement en tête, Macron s'impose à Paris\n",
      "Référendum au Mexique: Lopez Obrador restera président, faible participation\n",
      "Présidentielle: bataille sur le terrain entre Macron et Le Pen avant un duel incertain\n",
      "Comment le lectorat de FranceSoir comptait-il voter lors de l’élection présidentielle ? Réponse\n",
      "Résultats du premier tour: second round entre Macron et Le Pen\n",
      "L'armée israélienne à \"l'offensive\" en Cisjordanie, Jénine en état d'alerte\n",
      "Menacé par la famine, le Yémen redoute l'impact de la guerre en Ukraine\n",
      "Ukraine: plus de 1.200 corps au total découverts dans la région de Kiev, les bombardements continuent\n",
      "Référendum au Mexique: le président conforté, faible participation\n",
      "Présidentielle: Suspense sur fond de forte abstention au premier tour\n",
      "Ukraine: la position d'équilibriste de Washington de plus en plus difficile\n",
      "Radiés des listes électorales sans raison, des Français recourent aux tribunaux de proximité en urgence\n",
      "Décès de Michel Delebarre, ancien baron PS du Nord et pilier de la Mitterrandie\n",
      "\"On a ouvert une brèche\": à la veille de l'élection, les Gilets jaunes rappellent leur engagement\n",
      "Passe vaccinal : Emmanuel Macron annonce son possible retour \"à l’automne prochain\"\n",
      "Présidentielle: le vote du premier tour a commencé outre-mer\n",
      "Présidentielle : des professions de foi qui en disent long sur les candidats\n",
      "\"Il a été matraqué par les politiques\" Christophe Dettinger, le boxeur Gilet jaune se livre sans tabou\n",
      "L’obligation vaccinale échoue en Allemagne\n",
      "Plus riche que la reine: Akshata Murty, l'épouse du Chancelier de l'Echiquier sous les projecteurs\n",
      "Le contrôle citoyen, un nouvel instrument dans la vie démocratique de la cité\n",
      "Manifestations du samedi 9 avril à la veille du premier tour: \"Tout sauf Macron!\"\n",
      "Vaccins: une plainte pour crime d’empoisonnement déposée au Tribunal judiciaire de Paris\n",
      "Le Covid-19 est-il une \"arme biologique\"? Le Dr Richard Fleming appelle à la responsabilité pénale\n"
     ]
    }
   ],
   "source": [
    "politics = getSubjectSoir('politique')\n",
    "for x in politics:\n",
    "    print(x['title'])"
   ]
  },
  {
   "cell_type": "code",
   "execution_count": 37,
   "id": "e43d358a",
   "metadata": {},
   "outputs": [
    {
     "data": {
      "text/plain": [
       "[(7.281357246473492,\n",
       "  1,\n",
       "  ' plus de détails sur les différentes typologies darticles publiés sur francesoir en savoir plus  emmanuel macron interpellé sur les retraites dans le nord marine le pen dans lyonne pour parler pouvoir dachat le président candidat et sa rivale dextrême droite ont engagé lundi la bataille sur le terrain avant le duel incertain du second tour de la présidentielle en tentant dattirer des nouveaux électeurs de gauche'),\n",
       " (3.0667231387661027,\n",
       "  3,\n",
       "  '  il est depuis la mijournée en terres lepénistes à denain nord où lors dun long bain de foule sous un soleil printanier il a très vite été interpellé sur une de ses mesures phares le report à 65 ans de lâge de la retraite'),\n",
       " (3.218180475394953,\n",
       "  34,\n",
       "  ' selon lui il y a beaucoup délecteurs de jeanluc mélenchon qui ne veulent pas de la retraite à 65 ans qui ne veulent pas remettre la politique de la france entre les mains de mckinsey et dautres cabinets privés et qui je pense '),\n",
       " (2.9898695900931433,\n",
       "  40,\n",
       "  '  survie  le premier tour a consacré la relégation des deux partis de gouvernement de la ve république lr et ps qui réalisent le pire score de leur histoire valérie pécresse ayant récolté 478 des voix et anne hidalgo 175'),\n",
       " (3.6501838495199364,\n",
       "  44,\n",
       "  ' cest pourquoi jai besoin de votre aide durgence dici le 15 mai car il en va de la survie des républicains et audelà de la survie de la droite républicaine atelle lancé devant la presse')]"
      ]
     },
     "execution_count": 37,
     "metadata": {},
     "output_type": "execute_result"
    }
   ],
   "source": [
    "getSummary(getText(politics[3]['link']),5)"
   ]
  },
  {
   "cell_type": "markdown",
   "id": "60c9e1a0",
   "metadata": {},
   "source": [
    "## What else can we do?\n",
    "\n",
    "We summarized the text by assigning suitable weights to the sentences. But we could do the same with words of the text to figure out the *keywords* within the text. For that we must transpose our count matrix and apply the same PCA method:"
   ]
  },
  {
   "cell_type": "code",
   "execution_count": 38,
   "id": "997cfe08",
   "metadata": {},
   "outputs": [
    {
     "name": "stderr",
     "output_type": "stream",
     "text": [
      "[nltk_data] Downloading package stopwords to /home/kaygun/nltk_data...\n",
      "[nltk_data]   Package stopwords is already up-to-date!\n"
     ]
    },
    {
     "data": {
      "text/plain": [
       "True"
      ]
     },
     "execution_count": 38,
     "metadata": {},
     "output_type": "execute_result"
    }
   ],
   "source": [
    "import nltk\n",
    "nltk.download('stopwords')"
   ]
  },
  {
   "cell_type": "code",
   "execution_count": 39,
   "id": "5d7acbb3",
   "metadata": {
    "scrolled": false
   },
   "outputs": [],
   "source": [
    "swEN = stopwords.words('english')"
   ]
  },
  {
   "cell_type": "code",
   "execution_count": 40,
   "id": "4ce12ae3",
   "metadata": {},
   "outputs": [],
   "source": [
    "swTR = stopwords.words('turkish')"
   ]
  },
  {
   "cell_type": "code",
   "execution_count": 41,
   "id": "8fbd9a44",
   "metadata": {},
   "outputs": [],
   "source": [
    "def getKeywords(text,sw,k):\n",
    "    sentences = processText(text)\n",
    "    \n",
    "    vectorizer = CountVectorizer(stop_words=sw)\n",
    "    matrix = vectorizer.fit_transform(sentences)\n",
    "    words = vectorizer.get_feature_names_out()\n",
    "    \n",
    "    projection = PCA(n_components=1)\n",
    "    tmp = projection.fit_transform(matrix.transpose().toarray())\n",
    "    weights = tmp.transpose()[0]\n",
    "    \n",
    "    return sorted(zip(weights,words),key=lambda x: x[0], reverse=True)[:k]"
   ]
  },
  {
   "cell_type": "code",
   "execution_count": 42,
   "id": "f6f8e255",
   "metadata": {},
   "outputs": [
    {
     "data": {
      "text/plain": [
       "[(1.2734280552263362, 'james'),\n",
       " (1.0690187237763504, 'lakers'),\n",
       " (0.9806691346350297, 'season'),\n",
       " (0.978730132009738, 'covid'),\n",
       " (0.9709322422638954, 'bad'),\n",
       " (0.9679251455847712, 'even'),\n",
       " (0.9012254285294057, 'time'),\n",
       " (0.9011747875348824, 'much'),\n",
       " (0.8826875021958162, '39'),\n",
       " (0.8826875021958162, 'absences'),\n",
       " (0.8826875021958162, 'aches'),\n",
       " (0.8826875021958162, 'blame'),\n",
       " (0.8826875021958162, 'breaks'),\n",
       " (0.8826875021958162, 'career'),\n",
       " (0.8826875021958162, 'coach')]"
      ]
     },
     "execution_count": 42,
     "metadata": {},
     "output_type": "execute_result"
    }
   ],
   "source": [
    "getKeywords(getText(nba[0]['link']),swEN,15)"
   ]
  },
  {
   "cell_type": "code",
   "execution_count": 43,
   "id": "e9430bb6",
   "metadata": {},
   "outputs": [
    {
     "data": {
      "text/plain": [
       "[(4.451294526447823,\n",
       "  2,\n",
       "  ' as the confetti fell inside a largely empty arena inside the nba bubble the best player on the planet had made good on his promise to put the franchise back in the position where it belongs'),\n",
       " (2.880437883714765,\n",
       "  4,\n",
       "  ' but it turns out that the heat radiating from the afterglow of that victory may well have been the earliest sign of the meltdown to come'),\n",
       " (6.181456952610086,\n",
       "  9,\n",
       "  ' even though la have weathered their share of bad breaks this season  not least a slew of aches pains and covid absences that has forced coach frank vogel to deploy 24 different players and 39 starting lineups  much of the blame for the lakers wayward prospects should fall at the feet of james a postseason spectator for just the fourth time in his illustrious career')]"
      ]
     },
     "execution_count": 43,
     "metadata": {},
     "output_type": "execute_result"
    }
   ],
   "source": [
    "getSummary(getText(nba[0]['link']),3)"
   ]
  },
  {
   "cell_type": "code",
   "execution_count": 44,
   "id": "928225a6",
   "metadata": {},
   "outputs": [
    {
     "data": {
      "text/plain": [
       "[(1.3253935583177026, 'avrupa'),\n",
       " (1.3253935583177026, 'faaliyet'),\n",
       " (1.289109707466028, 'güvenliği'),\n",
       " (1.209012893051633, 'güvenlik'),\n",
       " (1.174402411465043, 'ab'),\n",
       " (1.0726593133599776, 'komisyonu'),\n",
       " (0.8175118703118657, 'hava'),\n",
       " (0.7503792537933898, 'uluslararası'),\n",
       " (0.6140256741017346, 'birliği'),\n",
       " (0.6140256741017346, 'güncelledi'),\n",
       " (0.6140256741017346, 'havayollarını'),\n",
       " (0.6140256741017346, 'içeren'),\n",
       " (0.6140256741017346, 'içinde'),\n",
       " (0.6140256741017346, 'karşılamadığı'),\n",
       " (0.6140256741017346, 'kısıtlamalarına'),\n",
       " (0.6140256741017346, 'listesini')]"
      ]
     },
     "execution_count": 44,
     "metadata": {},
     "output_type": "execute_result"
    }
   ],
   "source": [
    "getKeywords(getText(ekonomi[0]['atom:link']['@href']),swTR,16)"
   ]
  },
  {
   "cell_type": "code",
   "execution_count": 45,
   "id": "246b7ccc",
   "metadata": {},
   "outputs": [
    {
     "data": {
      "text/plain": [
       "[(3.882490371490566,\n",
       "  0,\n",
       "  'avrupa komisyonu uluslararası güvenlik standartlarını karşılamadığı için avrupa birliği içinde faaliyet yasağına veya faaliyet kısıtlamalarına tabi olan havayollarını içeren ab hava güvenliği listesini güncelledi'),\n",
       " (0.5320758414446637,\n",
       "  3,\n",
       "  ' ayrıca bu durumunun güvenlik endişelerine ve uluslararası havacılık güvenliği standartlarının ihlal edilmesine yol açtığı aktarıldı'),\n",
       " (2.4202767514657526,\n",
       "  5,\n",
       "  ' güvenliği siyasetle karıştırmıyoruz ab komisyonu ulaştırmadan sorumlu üyesi adina valean bu kararın rusyaya karşı başka bir yaptırım olmadığını açıkça belirtmek isterim karar sadece teknik ve güvenlik gerekçeleriyle alınmıştır')]"
      ]
     },
     "execution_count": 45,
     "metadata": {},
     "output_type": "execute_result"
    }
   ],
   "source": [
    "getSummary(getText(ekonomi[0]['atom:link']['@href']),3)"
   ]
  },
  {
   "cell_type": "code",
   "execution_count": null,
   "id": "d0abef8d",
   "metadata": {},
   "outputs": [],
   "source": []
  },
  {
   "cell_type": "code",
   "execution_count": null,
   "id": "e3114f36",
   "metadata": {},
   "outputs": [],
   "source": []
  }
 ],
 "metadata": {
  "kernelspec": {
   "display_name": "Python 3 (ipykernel)",
   "language": "python",
   "name": "python3"
  },
  "language_info": {
   "codemirror_mode": {
    "name": "ipython",
    "version": 3
   },
   "file_extension": ".py",
   "mimetype": "text/x-python",
   "name": "python",
   "nbconvert_exporter": "python",
   "pygments_lexer": "ipython3",
   "version": "3.10.4"
  }
 },
 "nbformat": 4,
 "nbformat_minor": 5
}
